{
  "cells": [
    {
      "cell_type": "markdown",
      "metadata": {
        "id": "ppUASLskmYwZ"
      },
      "source": [
        "# ICE - Video Games Online Store"
      ]
    },
    {
      "cell_type": "markdown",
      "metadata": {
        "id": "jJKkxNLSmYwZ"
      },
      "source": [
        "### Introduction"
      ]
    },
    {
      "cell_type": "markdown",
      "metadata": {
        "id": "y37SzCTLmYwa"
      },
      "source": [
        "Data ini terkait ulasan pengguna dan ahli game, genre, platform (misalnya Xbox atau PlayStation), dan data historis penjualan game tersedia dari sumber terbuka.\n",
        "\n",
        "Di depan Anda tersedia data dari tahun 2016. Mari bayangkan bahwa sekarang adalah bulan Desember tahun 2016 dan Anda sedang merencanakan kampanye untuk tahun 2017.\n"
      ]
    },
    {
      "cell_type": "markdown",
      "metadata": {
        "id": "RrynUWv3mYwa"
      },
      "source": [
        "### Goal\n",
        "\n",
        "Menemukan game yang paling potensial dan merencanakan kampanye iklan di tahun 2017"
      ]
    },
    {
      "cell_type": "markdown",
      "metadata": {
        "id": "j5YKokKqmYwa"
      },
      "source": [
        "### Stages\n",
        "\n",
        "**Objectives:** Mengidentifikasi pola-pola yang menentukan apakah suatu game dapat dikatakan berhasil atau tidak\n",
        "1. Data preparation\n",
        "2. Data analysis\n",
        "3. User profiling\n",
        "4. Hypotheses test\n",
        "\n",
        "\n",
        "Data ini diambil pada tahun 2016 dengan penjelasan sebagai berikut:\n",
        "- `Name` : Nama game\n",
        "- `Platform` - Platform game\n",
        "- `Year_of_Release` - Tahun rilis\n",
        "- `Genre` - Genre game\n",
        "- `NA_sales` - Penjualan di Amerika Utara dalam satuan juta USD\n",
        "- `EU_sales` - Penjualan di Eropa dalam satuan juta USD\n",
        "- `JP_sales` - Penjualan di Jepang dalam satuan juta USD\n",
        "- `Other_sales` - Penjualan di negara lainnya dalam satuan juta USD\n",
        "- `Critic_Score` - Skor ulasan dari kritikus, maksimal 100\n",
        "- `User_Score` - Skor ulasan dari pengguna, maksimal 10\n",
        "- `Rating` - ESRB"
      ]
    },
    {
      "cell_type": "markdown",
      "metadata": {
        "id": "-MTA3NUNmYwa"
      },
      "source": [
        "## Pengecekan Kualitas & Modifikasi Data"
      ]
    },
    {
      "cell_type": "markdown",
      "metadata": {
        "id": "lbjtr08xmYwb"
      },
      "source": [
        "### Pengecekan Kualitas Data"
      ]
    },
    {
      "cell_type": "code",
      "execution_count": null,
      "metadata": {
        "id": "km0J4JfgmYwb"
      },
      "outputs": [],
      "source": [
        "import pandas as pd\n",
        "import seaborn as sns\n",
        "import matplotlib.pyplot as plt\n",
        "import numpy as np\n",
        "import scipy.stats as st\n",
        "import warnings\n",
        "\n",
        "warnings.filterwarnings('ignore')"
      ]
    },
    {
      "cell_type": "code",
      "execution_count": null,
      "metadata": {
        "id": "l--BVCG4mYwc"
      },
      "outputs": [],
      "source": [
        "game = pd.read_csv('/datasets/games.csv')"
      ]
    },
    {
      "cell_type": "code",
      "execution_count": null,
      "metadata": {
        "id": "HDbBjZawmYwd",
        "outputId": "201ba920-3232-4116-cf2b-eb303baf2d09"
      },
      "outputs": [
        {
          "data": {
            "text/html": [
              "<div>\n",
              "<style scoped>\n",
              "    .dataframe tbody tr th:only-of-type {\n",
              "        vertical-align: middle;\n",
              "    }\n",
              "\n",
              "    .dataframe tbody tr th {\n",
              "        vertical-align: top;\n",
              "    }\n",
              "\n",
              "    .dataframe thead th {\n",
              "        text-align: right;\n",
              "    }\n",
              "</style>\n",
              "<table border=\"1\" class=\"dataframe\">\n",
              "  <thead>\n",
              "    <tr style=\"text-align: right;\">\n",
              "      <th></th>\n",
              "      <th>Name</th>\n",
              "      <th>Platform</th>\n",
              "      <th>Year_of_Release</th>\n",
              "      <th>Genre</th>\n",
              "      <th>NA_sales</th>\n",
              "      <th>EU_sales</th>\n",
              "      <th>JP_sales</th>\n",
              "      <th>Other_sales</th>\n",
              "      <th>Critic_Score</th>\n",
              "      <th>User_Score</th>\n",
              "      <th>Rating</th>\n",
              "    </tr>\n",
              "  </thead>\n",
              "  <tbody>\n",
              "    <tr>\n",
              "      <th>0</th>\n",
              "      <td>Wii Sports</td>\n",
              "      <td>Wii</td>\n",
              "      <td>2006.0</td>\n",
              "      <td>Sports</td>\n",
              "      <td>41.36</td>\n",
              "      <td>28.96</td>\n",
              "      <td>3.77</td>\n",
              "      <td>8.45</td>\n",
              "      <td>76.0</td>\n",
              "      <td>8</td>\n",
              "      <td>E</td>\n",
              "    </tr>\n",
              "    <tr>\n",
              "      <th>1</th>\n",
              "      <td>Super Mario Bros.</td>\n",
              "      <td>NES</td>\n",
              "      <td>1985.0</td>\n",
              "      <td>Platform</td>\n",
              "      <td>29.08</td>\n",
              "      <td>3.58</td>\n",
              "      <td>6.81</td>\n",
              "      <td>0.77</td>\n",
              "      <td>NaN</td>\n",
              "      <td>NaN</td>\n",
              "      <td>NaN</td>\n",
              "    </tr>\n",
              "    <tr>\n",
              "      <th>2</th>\n",
              "      <td>Mario Kart Wii</td>\n",
              "      <td>Wii</td>\n",
              "      <td>2008.0</td>\n",
              "      <td>Racing</td>\n",
              "      <td>15.68</td>\n",
              "      <td>12.76</td>\n",
              "      <td>3.79</td>\n",
              "      <td>3.29</td>\n",
              "      <td>82.0</td>\n",
              "      <td>8.3</td>\n",
              "      <td>E</td>\n",
              "    </tr>\n",
              "    <tr>\n",
              "      <th>3</th>\n",
              "      <td>Wii Sports Resort</td>\n",
              "      <td>Wii</td>\n",
              "      <td>2009.0</td>\n",
              "      <td>Sports</td>\n",
              "      <td>15.61</td>\n",
              "      <td>10.93</td>\n",
              "      <td>3.28</td>\n",
              "      <td>2.95</td>\n",
              "      <td>80.0</td>\n",
              "      <td>8</td>\n",
              "      <td>E</td>\n",
              "    </tr>\n",
              "    <tr>\n",
              "      <th>4</th>\n",
              "      <td>Pokemon Red/Pokemon Blue</td>\n",
              "      <td>GB</td>\n",
              "      <td>1996.0</td>\n",
              "      <td>Role-Playing</td>\n",
              "      <td>11.27</td>\n",
              "      <td>8.89</td>\n",
              "      <td>10.22</td>\n",
              "      <td>1.00</td>\n",
              "      <td>NaN</td>\n",
              "      <td>NaN</td>\n",
              "      <td>NaN</td>\n",
              "    </tr>\n",
              "  </tbody>\n",
              "</table>\n",
              "</div>"
            ],
            "text/plain": [
              "                       Name Platform  Year_of_Release         Genre  NA_sales  \\\n",
              "0                Wii Sports      Wii           2006.0        Sports     41.36   \n",
              "1         Super Mario Bros.      NES           1985.0      Platform     29.08   \n",
              "2            Mario Kart Wii      Wii           2008.0        Racing     15.68   \n",
              "3         Wii Sports Resort      Wii           2009.0        Sports     15.61   \n",
              "4  Pokemon Red/Pokemon Blue       GB           1996.0  Role-Playing     11.27   \n",
              "\n",
              "   EU_sales  JP_sales  Other_sales  Critic_Score User_Score Rating  \n",
              "0     28.96      3.77         8.45          76.0          8      E  \n",
              "1      3.58      6.81         0.77           NaN        NaN    NaN  \n",
              "2     12.76      3.79         3.29          82.0        8.3      E  \n",
              "3     10.93      3.28         2.95          80.0          8      E  \n",
              "4      8.89     10.22         1.00           NaN        NaN    NaN  "
            ]
          },
          "execution_count": 79,
          "metadata": {},
          "output_type": "execute_result"
        }
      ],
      "source": [
        "game.head()"
      ]
    },
    {
      "cell_type": "code",
      "execution_count": null,
      "metadata": {
        "id": "0jna-ajRmYwe",
        "outputId": "8f2bbd67-4d84-45f4-a882-631bdcdfcf16"
      },
      "outputs": [
        {
          "name": "stdout",
          "output_type": "stream",
          "text": [
            "<class 'pandas.core.frame.DataFrame'>\n",
            "RangeIndex: 16715 entries, 0 to 16714\n",
            "Data columns (total 11 columns):\n",
            " #   Column           Non-Null Count  Dtype  \n",
            "---  ------           --------------  -----  \n",
            " 0   Name             16713 non-null  object \n",
            " 1   Platform         16715 non-null  object \n",
            " 2   Year_of_Release  16446 non-null  float64\n",
            " 3   Genre            16713 non-null  object \n",
            " 4   NA_sales         16715 non-null  float64\n",
            " 5   EU_sales         16715 non-null  float64\n",
            " 6   JP_sales         16715 non-null  float64\n",
            " 7   Other_sales      16715 non-null  float64\n",
            " 8   Critic_Score     8137 non-null   float64\n",
            " 9   User_Score       10014 non-null  object \n",
            " 10  Rating           9949 non-null   object \n",
            "dtypes: float64(6), object(5)\n",
            "memory usage: 1.4+ MB\n"
          ]
        }
      ],
      "source": [
        "game.info()"
      ]
    },
    {
      "cell_type": "code",
      "execution_count": null,
      "metadata": {
        "id": "TX3-tAMimYwe",
        "outputId": "3897e155-7dc3-4e75-e1f7-9453e9e742b4"
      },
      "outputs": [
        {
          "data": {
            "text/plain": [
              "0"
            ]
          },
          "execution_count": 81,
          "metadata": {},
          "output_type": "execute_result"
        }
      ],
      "source": [
        "game.duplicated().sum()"
      ]
    },
    {
      "cell_type": "markdown",
      "metadata": {
        "id": "pGtGSHhRmYwe"
      },
      "source": [
        "**Findings**\n",
        "1. Nama kolom dimulai dari uppercase; akan diganti menjadi lowercase\n",
        "2. Terdapat 2 baris kosong pada kolom `Name`; akan dicek lebih lanjut\n",
        "3. kolom `Year_of_Release` bertipe float; tipe data ini tidak akan dirubah karena tidak memiliki tanggal dan bulan\n",
        "4. kolom `User_Score` bertipe object tetapi sesuai deskripsi seharusnya kolom ini adalah float atau int; akan dicek lebih lanjut\n",
        "5. Tidak ada data duplikat\n",
        "\n",
        "------------"
      ]
    },
    {
      "cell_type": "code",
      "execution_count": null,
      "metadata": {
        "id": "Osd8pWeAmYwf",
        "outputId": "7992b17e-5a29-4a5c-f638-cf4998dc7776"
      },
      "outputs": [
        {
          "data": {
            "text/html": [
              "<div>\n",
              "<style scoped>\n",
              "    .dataframe tbody tr th:only-of-type {\n",
              "        vertical-align: middle;\n",
              "    }\n",
              "\n",
              "    .dataframe tbody tr th {\n",
              "        vertical-align: top;\n",
              "    }\n",
              "\n",
              "    .dataframe thead th {\n",
              "        text-align: right;\n",
              "    }\n",
              "</style>\n",
              "<table border=\"1\" class=\"dataframe\">\n",
              "  <thead>\n",
              "    <tr style=\"text-align: right;\">\n",
              "      <th></th>\n",
              "      <th>Year_of_Release</th>\n",
              "      <th>NA_sales</th>\n",
              "      <th>EU_sales</th>\n",
              "      <th>JP_sales</th>\n",
              "      <th>Other_sales</th>\n",
              "      <th>Critic_Score</th>\n",
              "    </tr>\n",
              "  </thead>\n",
              "  <tbody>\n",
              "    <tr>\n",
              "      <th>count</th>\n",
              "      <td>16446.000000</td>\n",
              "      <td>16715.000000</td>\n",
              "      <td>16715.000000</td>\n",
              "      <td>16715.000000</td>\n",
              "      <td>16715.000000</td>\n",
              "      <td>8137.000000</td>\n",
              "    </tr>\n",
              "    <tr>\n",
              "      <th>mean</th>\n",
              "      <td>2006.484616</td>\n",
              "      <td>0.263377</td>\n",
              "      <td>0.145060</td>\n",
              "      <td>0.077617</td>\n",
              "      <td>0.047342</td>\n",
              "      <td>68.967679</td>\n",
              "    </tr>\n",
              "    <tr>\n",
              "      <th>std</th>\n",
              "      <td>5.877050</td>\n",
              "      <td>0.813604</td>\n",
              "      <td>0.503339</td>\n",
              "      <td>0.308853</td>\n",
              "      <td>0.186731</td>\n",
              "      <td>13.938165</td>\n",
              "    </tr>\n",
              "    <tr>\n",
              "      <th>min</th>\n",
              "      <td>1980.000000</td>\n",
              "      <td>0.000000</td>\n",
              "      <td>0.000000</td>\n",
              "      <td>0.000000</td>\n",
              "      <td>0.000000</td>\n",
              "      <td>13.000000</td>\n",
              "    </tr>\n",
              "    <tr>\n",
              "      <th>25%</th>\n",
              "      <td>2003.000000</td>\n",
              "      <td>0.000000</td>\n",
              "      <td>0.000000</td>\n",
              "      <td>0.000000</td>\n",
              "      <td>0.000000</td>\n",
              "      <td>60.000000</td>\n",
              "    </tr>\n",
              "    <tr>\n",
              "      <th>50%</th>\n",
              "      <td>2007.000000</td>\n",
              "      <td>0.080000</td>\n",
              "      <td>0.020000</td>\n",
              "      <td>0.000000</td>\n",
              "      <td>0.010000</td>\n",
              "      <td>71.000000</td>\n",
              "    </tr>\n",
              "    <tr>\n",
              "      <th>75%</th>\n",
              "      <td>2010.000000</td>\n",
              "      <td>0.240000</td>\n",
              "      <td>0.110000</td>\n",
              "      <td>0.040000</td>\n",
              "      <td>0.030000</td>\n",
              "      <td>79.000000</td>\n",
              "    </tr>\n",
              "    <tr>\n",
              "      <th>max</th>\n",
              "      <td>2016.000000</td>\n",
              "      <td>41.360000</td>\n",
              "      <td>28.960000</td>\n",
              "      <td>10.220000</td>\n",
              "      <td>10.570000</td>\n",
              "      <td>98.000000</td>\n",
              "    </tr>\n",
              "  </tbody>\n",
              "</table>\n",
              "</div>"
            ],
            "text/plain": [
              "       Year_of_Release      NA_sales      EU_sales      JP_sales  \\\n",
              "count     16446.000000  16715.000000  16715.000000  16715.000000   \n",
              "mean       2006.484616      0.263377      0.145060      0.077617   \n",
              "std           5.877050      0.813604      0.503339      0.308853   \n",
              "min        1980.000000      0.000000      0.000000      0.000000   \n",
              "25%        2003.000000      0.000000      0.000000      0.000000   \n",
              "50%        2007.000000      0.080000      0.020000      0.000000   \n",
              "75%        2010.000000      0.240000      0.110000      0.040000   \n",
              "max        2016.000000     41.360000     28.960000     10.220000   \n",
              "\n",
              "        Other_sales  Critic_Score  \n",
              "count  16715.000000   8137.000000  \n",
              "mean       0.047342     68.967679  \n",
              "std        0.186731     13.938165  \n",
              "min        0.000000     13.000000  \n",
              "25%        0.000000     60.000000  \n",
              "50%        0.010000     71.000000  \n",
              "75%        0.030000     79.000000  \n",
              "max       10.570000     98.000000  "
            ]
          },
          "execution_count": 82,
          "metadata": {},
          "output_type": "execute_result"
        }
      ],
      "source": [
        "game.describe()"
      ]
    },
    {
      "cell_type": "code",
      "execution_count": null,
      "metadata": {
        "id": "GTU03zU8mYwf"
      },
      "outputs": [],
      "source": [
        "# Mengubah semua nama kolom menjadi lowercase\n",
        "\n",
        "game.columns = map(str.lower, game.columns)\n",
        "game = game.rename(columns = {'year_of_release':'release_year'})"
      ]
    },
    {
      "cell_type": "code",
      "execution_count": null,
      "metadata": {
        "id": "RxJ9hmJJmYwf",
        "outputId": "51d3592f-dc5f-4aaf-d615-5aeab76a6005"
      },
      "outputs": [
        {
          "data": {
            "text/plain": [
              "Index(['name', 'platform', 'release_year', 'genre', 'na_sales', 'eu_sales',\n",
              "       'jp_sales', 'other_sales', 'critic_score', 'user_score', 'rating'],\n",
              "      dtype='object')"
            ]
          },
          "execution_count": 84,
          "metadata": {},
          "output_type": "execute_result"
        }
      ],
      "source": [
        "game.columns"
      ]
    },
    {
      "cell_type": "code",
      "execution_count": null,
      "metadata": {
        "id": "T80p6yPwmYwg",
        "outputId": "c8792fef-f142-4c78-9dc9-4800a0118b26"
      },
      "outputs": [
        {
          "data": {
            "text/html": [
              "<div>\n",
              "<style scoped>\n",
              "    .dataframe tbody tr th:only-of-type {\n",
              "        vertical-align: middle;\n",
              "    }\n",
              "\n",
              "    .dataframe tbody tr th {\n",
              "        vertical-align: top;\n",
              "    }\n",
              "\n",
              "    .dataframe thead th {\n",
              "        text-align: right;\n",
              "    }\n",
              "</style>\n",
              "<table border=\"1\" class=\"dataframe\">\n",
              "  <thead>\n",
              "    <tr style=\"text-align: right;\">\n",
              "      <th></th>\n",
              "      <th>name</th>\n",
              "      <th>platform</th>\n",
              "      <th>release_year</th>\n",
              "      <th>genre</th>\n",
              "      <th>na_sales</th>\n",
              "      <th>eu_sales</th>\n",
              "      <th>jp_sales</th>\n",
              "      <th>other_sales</th>\n",
              "      <th>critic_score</th>\n",
              "      <th>user_score</th>\n",
              "      <th>rating</th>\n",
              "    </tr>\n",
              "  </thead>\n",
              "  <tbody>\n",
              "    <tr>\n",
              "      <th>659</th>\n",
              "      <td>NaN</td>\n",
              "      <td>GEN</td>\n",
              "      <td>1993.0</td>\n",
              "      <td>NaN</td>\n",
              "      <td>1.78</td>\n",
              "      <td>0.53</td>\n",
              "      <td>0.00</td>\n",
              "      <td>0.08</td>\n",
              "      <td>NaN</td>\n",
              "      <td>NaN</td>\n",
              "      <td>NaN</td>\n",
              "    </tr>\n",
              "    <tr>\n",
              "      <th>14244</th>\n",
              "      <td>NaN</td>\n",
              "      <td>GEN</td>\n",
              "      <td>1993.0</td>\n",
              "      <td>NaN</td>\n",
              "      <td>0.00</td>\n",
              "      <td>0.00</td>\n",
              "      <td>0.03</td>\n",
              "      <td>0.00</td>\n",
              "      <td>NaN</td>\n",
              "      <td>NaN</td>\n",
              "      <td>NaN</td>\n",
              "    </tr>\n",
              "  </tbody>\n",
              "</table>\n",
              "</div>"
            ],
            "text/plain": [
              "      name platform  release_year genre  na_sales  eu_sales  jp_sales  \\\n",
              "659    NaN      GEN        1993.0   NaN      1.78      0.53      0.00   \n",
              "14244  NaN      GEN        1993.0   NaN      0.00      0.00      0.03   \n",
              "\n",
              "       other_sales  critic_score user_score rating  \n",
              "659           0.08           NaN        NaN    NaN  \n",
              "14244         0.00           NaN        NaN    NaN  "
            ]
          },
          "execution_count": 85,
          "metadata": {},
          "output_type": "execute_result"
        }
      ],
      "source": [
        "game.loc[game.name.isna()]"
      ]
    },
    {
      "cell_type": "markdown",
      "metadata": {
        "id": "UQ3HCb3wmYwg"
      },
      "source": [
        "Informasi pada baris ini terlalu sedikit (terlalu banyak missing value pada kolom); baris ini akan dihapus\n",
        "\n",
        "-------------"
      ]
    },
    {
      "cell_type": "code",
      "execution_count": null,
      "metadata": {
        "id": "MrS3DX5qmYwg"
      },
      "outputs": [],
      "source": [
        "game = game.loc[game.name.notnull()].reset_index(drop = True)"
      ]
    },
    {
      "cell_type": "code",
      "execution_count": null,
      "metadata": {
        "id": "3pgEUh8imYwg",
        "outputId": "c14ab2b2-6790-43c3-d722-3ab16ea62224"
      },
      "outputs": [
        {
          "name": "stdout",
          "output_type": "stream",
          "text": [
            "<class 'pandas.core.frame.DataFrame'>\n",
            "RangeIndex: 16713 entries, 0 to 16712\n",
            "Data columns (total 11 columns):\n",
            " #   Column        Non-Null Count  Dtype  \n",
            "---  ------        --------------  -----  \n",
            " 0   name          16713 non-null  object \n",
            " 1   platform      16713 non-null  object \n",
            " 2   release_year  16444 non-null  float64\n",
            " 3   genre         16713 non-null  object \n",
            " 4   na_sales      16713 non-null  float64\n",
            " 5   eu_sales      16713 non-null  float64\n",
            " 6   jp_sales      16713 non-null  float64\n",
            " 7   other_sales   16713 non-null  float64\n",
            " 8   critic_score  8137 non-null   float64\n",
            " 9   user_score    10014 non-null  object \n",
            " 10  rating        9949 non-null   object \n",
            "dtypes: float64(6), object(5)\n",
            "memory usage: 1.4+ MB\n"
          ]
        }
      ],
      "source": [
        "game.info()"
      ]
    },
    {
      "cell_type": "code",
      "execution_count": null,
      "metadata": {
        "id": "WwU8Tdg-mYwh",
        "outputId": "6612cec1-e3a5-4c2d-a5af-e0e8f1a43a52"
      },
      "outputs": [
        {
          "data": {
            "text/plain": [
              "tbd    2424\n",
              "7.8     324\n",
              "8       290\n",
              "8.2     282\n",
              "8.3     254\n",
              "       ... \n",
              "1.9       2\n",
              "0.3       2\n",
              "1         2\n",
              "0         1\n",
              "9.7       1\n",
              "Name: user_score, Length: 96, dtype: int64"
            ]
          },
          "execution_count": 88,
          "metadata": {},
          "output_type": "execute_result"
        }
      ],
      "source": [
        "game.user_score.value_counts()"
      ]
    },
    {
      "cell_type": "code",
      "execution_count": null,
      "metadata": {
        "id": "2jKUW99ZmYwh",
        "outputId": "ee0e231c-a5f8-4c6b-d385-6b91a96899b6"
      },
      "outputs": [
        {
          "data": {
            "text/html": [
              "<div>\n",
              "<style scoped>\n",
              "    .dataframe tbody tr th:only-of-type {\n",
              "        vertical-align: middle;\n",
              "    }\n",
              "\n",
              "    .dataframe tbody tr th {\n",
              "        vertical-align: top;\n",
              "    }\n",
              "\n",
              "    .dataframe thead th {\n",
              "        text-align: right;\n",
              "    }\n",
              "</style>\n",
              "<table border=\"1\" class=\"dataframe\">\n",
              "  <thead>\n",
              "    <tr style=\"text-align: right;\">\n",
              "      <th></th>\n",
              "      <th>name</th>\n",
              "      <th>platform</th>\n",
              "      <th>release_year</th>\n",
              "      <th>genre</th>\n",
              "      <th>na_sales</th>\n",
              "      <th>eu_sales</th>\n",
              "      <th>jp_sales</th>\n",
              "      <th>other_sales</th>\n",
              "      <th>critic_score</th>\n",
              "      <th>user_score</th>\n",
              "      <th>rating</th>\n",
              "    </tr>\n",
              "  </thead>\n",
              "  <tbody>\n",
              "    <tr>\n",
              "      <th>119</th>\n",
              "      <td>Zumba Fitness</td>\n",
              "      <td>Wii</td>\n",
              "      <td>2010.0</td>\n",
              "      <td>Sports</td>\n",
              "      <td>3.45</td>\n",
              "      <td>2.59</td>\n",
              "      <td>0.0</td>\n",
              "      <td>0.66</td>\n",
              "      <td>NaN</td>\n",
              "      <td>tbd</td>\n",
              "      <td>E</td>\n",
              "    </tr>\n",
              "    <tr>\n",
              "      <th>301</th>\n",
              "      <td>Namco Museum: 50th Anniversary</td>\n",
              "      <td>PS2</td>\n",
              "      <td>2005.0</td>\n",
              "      <td>Misc</td>\n",
              "      <td>2.08</td>\n",
              "      <td>1.35</td>\n",
              "      <td>0.0</td>\n",
              "      <td>0.54</td>\n",
              "      <td>61.0</td>\n",
              "      <td>tbd</td>\n",
              "      <td>E10+</td>\n",
              "    </tr>\n",
              "    <tr>\n",
              "      <th>520</th>\n",
              "      <td>Zumba Fitness 2</td>\n",
              "      <td>Wii</td>\n",
              "      <td>2011.0</td>\n",
              "      <td>Sports</td>\n",
              "      <td>1.51</td>\n",
              "      <td>1.03</td>\n",
              "      <td>0.0</td>\n",
              "      <td>0.27</td>\n",
              "      <td>NaN</td>\n",
              "      <td>tbd</td>\n",
              "      <td>T</td>\n",
              "    </tr>\n",
              "    <tr>\n",
              "      <th>645</th>\n",
              "      <td>uDraw Studio</td>\n",
              "      <td>Wii</td>\n",
              "      <td>2010.0</td>\n",
              "      <td>Misc</td>\n",
              "      <td>1.65</td>\n",
              "      <td>0.57</td>\n",
              "      <td>0.0</td>\n",
              "      <td>0.20</td>\n",
              "      <td>71.0</td>\n",
              "      <td>tbd</td>\n",
              "      <td>E</td>\n",
              "    </tr>\n",
              "    <tr>\n",
              "      <th>657</th>\n",
              "      <td>Frogger's Adventures: Temple of the Frog</td>\n",
              "      <td>GBA</td>\n",
              "      <td>NaN</td>\n",
              "      <td>Adventure</td>\n",
              "      <td>2.15</td>\n",
              "      <td>0.18</td>\n",
              "      <td>0.0</td>\n",
              "      <td>0.07</td>\n",
              "      <td>73.0</td>\n",
              "      <td>tbd</td>\n",
              "      <td>E</td>\n",
              "    </tr>\n",
              "  </tbody>\n",
              "</table>\n",
              "</div>"
            ],
            "text/plain": [
              "                                         name platform  release_year  \\\n",
              "119                             Zumba Fitness      Wii        2010.0   \n",
              "301            Namco Museum: 50th Anniversary      PS2        2005.0   \n",
              "520                           Zumba Fitness 2      Wii        2011.0   \n",
              "645                              uDraw Studio      Wii        2010.0   \n",
              "657  Frogger's Adventures: Temple of the Frog      GBA           NaN   \n",
              "\n",
              "         genre  na_sales  eu_sales  jp_sales  other_sales  critic_score  \\\n",
              "119     Sports      3.45      2.59       0.0         0.66           NaN   \n",
              "301       Misc      2.08      1.35       0.0         0.54          61.0   \n",
              "520     Sports      1.51      1.03       0.0         0.27           NaN   \n",
              "645       Misc      1.65      0.57       0.0         0.20          71.0   \n",
              "657  Adventure      2.15      0.18       0.0         0.07          73.0   \n",
              "\n",
              "    user_score rating  \n",
              "119        tbd      E  \n",
              "301        tbd   E10+  \n",
              "520        tbd      T  \n",
              "645        tbd      E  \n",
              "657        tbd      E  "
            ]
          },
          "execution_count": 89,
          "metadata": {},
          "output_type": "execute_result"
        }
      ],
      "source": [
        "game.loc[game.user_score == 'tbd'].head()"
      ]
    },
    {
      "cell_type": "markdown",
      "metadata": {
        "id": "wj0IxMlJmYwh"
      },
      "source": [
        "Baris yang berisi 'tbd' akan dibiarkan saja untuk sementara\n",
        "\n",
        "--------------------------"
      ]
    },
    {
      "cell_type": "code",
      "execution_count": null,
      "metadata": {
        "scrolled": true,
        "id": "KIgfeop6mYwi",
        "outputId": "1aab10ad-7533-41ff-9cb2-d58e37fa1f7e"
      },
      "outputs": [
        {
          "data": {
            "text/html": [
              "<div>\n",
              "<style scoped>\n",
              "    .dataframe tbody tr th:only-of-type {\n",
              "        vertical-align: middle;\n",
              "    }\n",
              "\n",
              "    .dataframe tbody tr th {\n",
              "        vertical-align: top;\n",
              "    }\n",
              "\n",
              "    .dataframe thead th {\n",
              "        text-align: right;\n",
              "    }\n",
              "</style>\n",
              "<table border=\"1\" class=\"dataframe\">\n",
              "  <thead>\n",
              "    <tr style=\"text-align: right;\">\n",
              "      <th></th>\n",
              "      <th>name</th>\n",
              "      <th>platform</th>\n",
              "      <th>release_year</th>\n",
              "      <th>genre</th>\n",
              "      <th>na_sales</th>\n",
              "      <th>eu_sales</th>\n",
              "      <th>jp_sales</th>\n",
              "      <th>other_sales</th>\n",
              "      <th>critic_score</th>\n",
              "      <th>user_score</th>\n",
              "      <th>rating</th>\n",
              "    </tr>\n",
              "  </thead>\n",
              "  <tbody>\n",
              "    <tr>\n",
              "      <th>0</th>\n",
              "      <td>Wii Sports</td>\n",
              "      <td>Wii</td>\n",
              "      <td>2006.0</td>\n",
              "      <td>Sports</td>\n",
              "      <td>41.36</td>\n",
              "      <td>28.96</td>\n",
              "      <td>3.77</td>\n",
              "      <td>8.45</td>\n",
              "      <td>76.0</td>\n",
              "      <td>8</td>\n",
              "      <td>E</td>\n",
              "    </tr>\n",
              "    <tr>\n",
              "      <th>1</th>\n",
              "      <td>Super Mario Bros.</td>\n",
              "      <td>NES</td>\n",
              "      <td>1985.0</td>\n",
              "      <td>Platform</td>\n",
              "      <td>29.08</td>\n",
              "      <td>3.58</td>\n",
              "      <td>6.81</td>\n",
              "      <td>0.77</td>\n",
              "      <td>NaN</td>\n",
              "      <td>NaN</td>\n",
              "      <td>NaN</td>\n",
              "    </tr>\n",
              "    <tr>\n",
              "      <th>2</th>\n",
              "      <td>Mario Kart Wii</td>\n",
              "      <td>Wii</td>\n",
              "      <td>2008.0</td>\n",
              "      <td>Racing</td>\n",
              "      <td>15.68</td>\n",
              "      <td>12.76</td>\n",
              "      <td>3.79</td>\n",
              "      <td>3.29</td>\n",
              "      <td>82.0</td>\n",
              "      <td>8.3</td>\n",
              "      <td>E</td>\n",
              "    </tr>\n",
              "    <tr>\n",
              "      <th>3</th>\n",
              "      <td>Wii Sports Resort</td>\n",
              "      <td>Wii</td>\n",
              "      <td>2009.0</td>\n",
              "      <td>Sports</td>\n",
              "      <td>15.61</td>\n",
              "      <td>10.93</td>\n",
              "      <td>3.28</td>\n",
              "      <td>2.95</td>\n",
              "      <td>80.0</td>\n",
              "      <td>8</td>\n",
              "      <td>E</td>\n",
              "    </tr>\n",
              "    <tr>\n",
              "      <th>4</th>\n",
              "      <td>Pokemon Red/Pokemon Blue</td>\n",
              "      <td>GB</td>\n",
              "      <td>1996.0</td>\n",
              "      <td>Role-Playing</td>\n",
              "      <td>11.27</td>\n",
              "      <td>8.89</td>\n",
              "      <td>10.22</td>\n",
              "      <td>1.00</td>\n",
              "      <td>NaN</td>\n",
              "      <td>NaN</td>\n",
              "      <td>NaN</td>\n",
              "    </tr>\n",
              "  </tbody>\n",
              "</table>\n",
              "</div>"
            ],
            "text/plain": [
              "                       name platform  release_year         genre  na_sales  \\\n",
              "0                Wii Sports      Wii        2006.0        Sports     41.36   \n",
              "1         Super Mario Bros.      NES        1985.0      Platform     29.08   \n",
              "2            Mario Kart Wii      Wii        2008.0        Racing     15.68   \n",
              "3         Wii Sports Resort      Wii        2009.0        Sports     15.61   \n",
              "4  Pokemon Red/Pokemon Blue       GB        1996.0  Role-Playing     11.27   \n",
              "\n",
              "   eu_sales  jp_sales  other_sales  critic_score user_score rating  \n",
              "0     28.96      3.77         8.45          76.0          8      E  \n",
              "1      3.58      6.81         0.77           NaN        NaN    NaN  \n",
              "2     12.76      3.79         3.29          82.0        8.3      E  \n",
              "3     10.93      3.28         2.95          80.0          8      E  \n",
              "4      8.89     10.22         1.00           NaN        NaN    NaN  "
            ]
          },
          "execution_count": 90,
          "metadata": {},
          "output_type": "execute_result"
        }
      ],
      "source": [
        "game.head()"
      ]
    },
    {
      "cell_type": "markdown",
      "metadata": {
        "id": "87mJwzjPmYwi"
      },
      "source": [
        "Terdapat kesalahan pada `Platform DS`, ada game yang rilis di tahun sebelum pembuatan konsol tersebut yaitu 2004"
      ]
    },
    {
      "cell_type": "code",
      "execution_count": null,
      "metadata": {
        "id": "6CubG4GFmYwi",
        "outputId": "7a8a8727-d2e0-43d0-ce2e-0a94c87ac072"
      },
      "outputs": [
        {
          "data": {
            "text/plain": [
              "1985.0"
            ]
          },
          "execution_count": 91,
          "metadata": {},
          "output_type": "execute_result"
        }
      ],
      "source": [
        "game.loc[game.platform == 'DS']['release_year'].min()"
      ]
    },
    {
      "cell_type": "code",
      "execution_count": null,
      "metadata": {
        "id": "zFe4zoSEmYwi",
        "outputId": "48a50459-d353-440a-c3a8-666b94884071"
      },
      "outputs": [
        {
          "data": {
            "text/html": [
              "<div>\n",
              "<style scoped>\n",
              "    .dataframe tbody tr th:only-of-type {\n",
              "        vertical-align: middle;\n",
              "    }\n",
              "\n",
              "    .dataframe tbody tr th {\n",
              "        vertical-align: top;\n",
              "    }\n",
              "\n",
              "    .dataframe thead th {\n",
              "        text-align: right;\n",
              "    }\n",
              "</style>\n",
              "<table border=\"1\" class=\"dataframe\">\n",
              "  <thead>\n",
              "    <tr style=\"text-align: right;\">\n",
              "      <th></th>\n",
              "      <th>name</th>\n",
              "      <th>platform</th>\n",
              "      <th>release_year</th>\n",
              "      <th>genre</th>\n",
              "      <th>na_sales</th>\n",
              "      <th>eu_sales</th>\n",
              "      <th>jp_sales</th>\n",
              "      <th>other_sales</th>\n",
              "      <th>critic_score</th>\n",
              "      <th>user_score</th>\n",
              "      <th>rating</th>\n",
              "    </tr>\n",
              "  </thead>\n",
              "  <tbody>\n",
              "    <tr>\n",
              "      <th>15955</th>\n",
              "      <td>Strongest Tokyo University Shogi DS</td>\n",
              "      <td>DS</td>\n",
              "      <td>1985.0</td>\n",
              "      <td>Action</td>\n",
              "      <td>0.0</td>\n",
              "      <td>0.0</td>\n",
              "      <td>0.02</td>\n",
              "      <td>0.0</td>\n",
              "      <td>NaN</td>\n",
              "      <td>NaN</td>\n",
              "      <td>NaN</td>\n",
              "    </tr>\n",
              "  </tbody>\n",
              "</table>\n",
              "</div>"
            ],
            "text/plain": [
              "                                      name platform  release_year   genre  \\\n",
              "15955  Strongest Tokyo University Shogi DS       DS        1985.0  Action   \n",
              "\n",
              "       na_sales  eu_sales  jp_sales  other_sales  critic_score user_score  \\\n",
              "15955       0.0       0.0      0.02          0.0           NaN        NaN   \n",
              "\n",
              "      rating  \n",
              "15955    NaN  "
            ]
          },
          "execution_count": 92,
          "metadata": {},
          "output_type": "execute_result"
        }
      ],
      "source": [
        "game.loc[(game.platform == 'DS') & (game.release_year < 2004)]"
      ]
    },
    {
      "cell_type": "markdown",
      "metadata": {
        "id": "lKLo2UZHmYwj"
      },
      "source": [
        "Dari pencarian di internet, game di atas dirilis pada tahun 2010, maka `release_year` pada game ini akan diganti menjadi 2010"
      ]
    },
    {
      "cell_type": "code",
      "execution_count": null,
      "metadata": {
        "id": "MppftPfHmYwj"
      },
      "outputs": [],
      "source": [
        "# Mengubah release year\n",
        "\n",
        "game.loc[(game.platform == 'DS') & (game.release_year == 1985), 'release_year'] = 2010"
      ]
    },
    {
      "cell_type": "code",
      "execution_count": null,
      "metadata": {
        "id": "Oi7zbNFHmYwj",
        "outputId": "ad0806f9-bee4-4803-83e5-bc75969cb5d8"
      },
      "outputs": [
        {
          "data": {
            "text/html": [
              "<div>\n",
              "<style scoped>\n",
              "    .dataframe tbody tr th:only-of-type {\n",
              "        vertical-align: middle;\n",
              "    }\n",
              "\n",
              "    .dataframe tbody tr th {\n",
              "        vertical-align: top;\n",
              "    }\n",
              "\n",
              "    .dataframe thead th {\n",
              "        text-align: right;\n",
              "    }\n",
              "</style>\n",
              "<table border=\"1\" class=\"dataframe\">\n",
              "  <thead>\n",
              "    <tr style=\"text-align: right;\">\n",
              "      <th></th>\n",
              "      <th>name</th>\n",
              "      <th>platform</th>\n",
              "      <th>release_year</th>\n",
              "      <th>genre</th>\n",
              "      <th>na_sales</th>\n",
              "      <th>eu_sales</th>\n",
              "      <th>jp_sales</th>\n",
              "      <th>other_sales</th>\n",
              "      <th>critic_score</th>\n",
              "      <th>user_score</th>\n",
              "      <th>rating</th>\n",
              "    </tr>\n",
              "  </thead>\n",
              "  <tbody>\n",
              "    <tr>\n",
              "      <th>15955</th>\n",
              "      <td>Strongest Tokyo University Shogi DS</td>\n",
              "      <td>DS</td>\n",
              "      <td>2010.0</td>\n",
              "      <td>Action</td>\n",
              "      <td>0.0</td>\n",
              "      <td>0.0</td>\n",
              "      <td>0.02</td>\n",
              "      <td>0.0</td>\n",
              "      <td>NaN</td>\n",
              "      <td>NaN</td>\n",
              "      <td>NaN</td>\n",
              "    </tr>\n",
              "  </tbody>\n",
              "</table>\n",
              "</div>"
            ],
            "text/plain": [
              "                                      name platform  release_year   genre  \\\n",
              "15955  Strongest Tokyo University Shogi DS       DS        2010.0  Action   \n",
              "\n",
              "       na_sales  eu_sales  jp_sales  other_sales  critic_score user_score  \\\n",
              "15955       0.0       0.0      0.02          0.0           NaN        NaN   \n",
              "\n",
              "      rating  \n",
              "15955    NaN  "
            ]
          },
          "execution_count": 94,
          "metadata": {},
          "output_type": "execute_result"
        }
      ],
      "source": [
        "game.loc[game.name == 'Strongest Tokyo University Shogi DS']"
      ]
    },
    {
      "cell_type": "markdown",
      "metadata": {
        "id": "FNMbsPLwmYwj"
      },
      "source": [
        "Tahun rilis telah diubah\n",
        "\n",
        "------------"
      ]
    },
    {
      "cell_type": "markdown",
      "metadata": {
        "id": "yN64HHAumYwj"
      },
      "source": [
        "### Modifikasi Data"
      ]
    },
    {
      "cell_type": "markdown",
      "metadata": {
        "id": "xXCYLSRnmYwj"
      },
      "source": [
        "**Mengisi missing value pada `release_year`**\n",
        "\n",
        "Value pada kolom ini akan diisi median dari platformnya karena semua pabrik platform tidak akan mengeluarkan game baru pada platform yang 1 generasi lebih tua dari platform terbaru. \n",
        "\n",
        "Jadi range tahun risil game adalah tanggal rilis platform sampai tanggal rilis platform generasi terbaru."
      ]
    },
    {
      "cell_type": "code",
      "execution_count": null,
      "metadata": {
        "id": "1gk4By6dmYwk"
      },
      "outputs": [],
      "source": [
        "# Mengisi missing value `release_year` dengan acuan platform\n",
        "\n",
        "grouped_values = game.groupby('platform')['release_year'].median().reset_index()\n",
        "size = len(grouped_values)\n",
        "for i in range(size):\n",
        "  group = grouped_values['platform'][i]\n",
        "  value = grouped_values['release_year'][i]\n",
        "  game.loc[(game['platform']==group) & (game['release_year'].isna()), 'release_year'] = value"
      ]
    },
    {
      "cell_type": "code",
      "execution_count": null,
      "metadata": {
        "id": "7w_VZrP1mYwk"
      },
      "outputs": [],
      "source": [
        "game['release_year'] = pd.to_datetime(game['release_year'], format = '%Y').dt.year"
      ]
    },
    {
      "cell_type": "code",
      "execution_count": null,
      "metadata": {
        "id": "FMF-jGIamYwk",
        "outputId": "70628018-4eb4-4936-c726-d00ce704f071"
      },
      "outputs": [
        {
          "name": "stdout",
          "output_type": "stream",
          "text": [
            "<class 'pandas.core.frame.DataFrame'>\n",
            "RangeIndex: 16713 entries, 0 to 16712\n",
            "Data columns (total 11 columns):\n",
            " #   Column        Non-Null Count  Dtype  \n",
            "---  ------        --------------  -----  \n",
            " 0   name          16713 non-null  object \n",
            " 1   platform      16713 non-null  object \n",
            " 2   release_year  16713 non-null  int64  \n",
            " 3   genre         16713 non-null  object \n",
            " 4   na_sales      16713 non-null  float64\n",
            " 5   eu_sales      16713 non-null  float64\n",
            " 6   jp_sales      16713 non-null  float64\n",
            " 7   other_sales   16713 non-null  float64\n",
            " 8   critic_score  8137 non-null   float64\n",
            " 9   user_score    10014 non-null  object \n",
            " 10  rating        9949 non-null   object \n",
            "dtypes: float64(5), int64(1), object(5)\n",
            "memory usage: 1.4+ MB\n"
          ]
        }
      ],
      "source": [
        "game.info()"
      ]
    },
    {
      "cell_type": "markdown",
      "metadata": {
        "id": "5fNGPMQ5mYwk"
      },
      "source": [
        "Kolom-kolom rating yang berisi missing value akan dibiarkan seperti itu saja agar tidak merusak kualitas dari rating tersebut karena terlalu banyak missing value yang harus diisi\n",
        "\n",
        "----------------"
      ]
    },
    {
      "cell_type": "code",
      "execution_count": null,
      "metadata": {
        "id": "mITz8XnLmYwk"
      },
      "outputs": [],
      "source": [
        "# Menjumlahkan total sale seluruh dunia\n",
        "\n",
        "game['total_sales'] = game['na_sales'] + game['eu_sales'] + game['jp_sales'] + game['other_sales']"
      ]
    },
    {
      "cell_type": "code",
      "execution_count": null,
      "metadata": {
        "scrolled": true,
        "id": "CVDyxRWEmYwl",
        "outputId": "e131c29b-d003-479a-cdfd-02fcce704f1b"
      },
      "outputs": [
        {
          "data": {
            "text/html": [
              "<div>\n",
              "<style scoped>\n",
              "    .dataframe tbody tr th:only-of-type {\n",
              "        vertical-align: middle;\n",
              "    }\n",
              "\n",
              "    .dataframe tbody tr th {\n",
              "        vertical-align: top;\n",
              "    }\n",
              "\n",
              "    .dataframe thead th {\n",
              "        text-align: right;\n",
              "    }\n",
              "</style>\n",
              "<table border=\"1\" class=\"dataframe\">\n",
              "  <thead>\n",
              "    <tr style=\"text-align: right;\">\n",
              "      <th></th>\n",
              "      <th>name</th>\n",
              "      <th>platform</th>\n",
              "      <th>release_year</th>\n",
              "      <th>genre</th>\n",
              "      <th>na_sales</th>\n",
              "      <th>eu_sales</th>\n",
              "      <th>jp_sales</th>\n",
              "      <th>other_sales</th>\n",
              "      <th>critic_score</th>\n",
              "      <th>user_score</th>\n",
              "      <th>rating</th>\n",
              "      <th>total_sales</th>\n",
              "    </tr>\n",
              "  </thead>\n",
              "  <tbody>\n",
              "    <tr>\n",
              "      <th>0</th>\n",
              "      <td>Wii Sports</td>\n",
              "      <td>Wii</td>\n",
              "      <td>2006</td>\n",
              "      <td>Sports</td>\n",
              "      <td>41.36</td>\n",
              "      <td>28.96</td>\n",
              "      <td>3.77</td>\n",
              "      <td>8.45</td>\n",
              "      <td>76.0</td>\n",
              "      <td>8</td>\n",
              "      <td>E</td>\n",
              "      <td>82.54</td>\n",
              "    </tr>\n",
              "    <tr>\n",
              "      <th>1</th>\n",
              "      <td>Super Mario Bros.</td>\n",
              "      <td>NES</td>\n",
              "      <td>1985</td>\n",
              "      <td>Platform</td>\n",
              "      <td>29.08</td>\n",
              "      <td>3.58</td>\n",
              "      <td>6.81</td>\n",
              "      <td>0.77</td>\n",
              "      <td>NaN</td>\n",
              "      <td>NaN</td>\n",
              "      <td>NaN</td>\n",
              "      <td>40.24</td>\n",
              "    </tr>\n",
              "    <tr>\n",
              "      <th>2</th>\n",
              "      <td>Mario Kart Wii</td>\n",
              "      <td>Wii</td>\n",
              "      <td>2008</td>\n",
              "      <td>Racing</td>\n",
              "      <td>15.68</td>\n",
              "      <td>12.76</td>\n",
              "      <td>3.79</td>\n",
              "      <td>3.29</td>\n",
              "      <td>82.0</td>\n",
              "      <td>8.3</td>\n",
              "      <td>E</td>\n",
              "      <td>35.52</td>\n",
              "    </tr>\n",
              "    <tr>\n",
              "      <th>3</th>\n",
              "      <td>Wii Sports Resort</td>\n",
              "      <td>Wii</td>\n",
              "      <td>2009</td>\n",
              "      <td>Sports</td>\n",
              "      <td>15.61</td>\n",
              "      <td>10.93</td>\n",
              "      <td>3.28</td>\n",
              "      <td>2.95</td>\n",
              "      <td>80.0</td>\n",
              "      <td>8</td>\n",
              "      <td>E</td>\n",
              "      <td>32.77</td>\n",
              "    </tr>\n",
              "    <tr>\n",
              "      <th>4</th>\n",
              "      <td>Pokemon Red/Pokemon Blue</td>\n",
              "      <td>GB</td>\n",
              "      <td>1996</td>\n",
              "      <td>Role-Playing</td>\n",
              "      <td>11.27</td>\n",
              "      <td>8.89</td>\n",
              "      <td>10.22</td>\n",
              "      <td>1.00</td>\n",
              "      <td>NaN</td>\n",
              "      <td>NaN</td>\n",
              "      <td>NaN</td>\n",
              "      <td>31.38</td>\n",
              "    </tr>\n",
              "  </tbody>\n",
              "</table>\n",
              "</div>"
            ],
            "text/plain": [
              "                       name platform  release_year         genre  na_sales  \\\n",
              "0                Wii Sports      Wii          2006        Sports     41.36   \n",
              "1         Super Mario Bros.      NES          1985      Platform     29.08   \n",
              "2            Mario Kart Wii      Wii          2008        Racing     15.68   \n",
              "3         Wii Sports Resort      Wii          2009        Sports     15.61   \n",
              "4  Pokemon Red/Pokemon Blue       GB          1996  Role-Playing     11.27   \n",
              "\n",
              "   eu_sales  jp_sales  other_sales  critic_score user_score rating  \\\n",
              "0     28.96      3.77         8.45          76.0          8      E   \n",
              "1      3.58      6.81         0.77           NaN        NaN    NaN   \n",
              "2     12.76      3.79         3.29          82.0        8.3      E   \n",
              "3     10.93      3.28         2.95          80.0          8      E   \n",
              "4      8.89     10.22         1.00           NaN        NaN    NaN   \n",
              "\n",
              "   total_sales  \n",
              "0        82.54  \n",
              "1        40.24  \n",
              "2        35.52  \n",
              "3        32.77  \n",
              "4        31.38  "
            ]
          },
          "execution_count": 99,
          "metadata": {},
          "output_type": "execute_result"
        }
      ],
      "source": [
        "game.head()"
      ]
    },
    {
      "cell_type": "code",
      "execution_count": null,
      "metadata": {
        "id": "Cwepks1nmYwl",
        "outputId": "a5433f98-e478-4fda-9fee-8fc9ef6fa53e"
      },
      "outputs": [
        {
          "data": {
            "text/plain": [
              "array(['8', nan, '8.3', '8.5', '6.6', '8.4', '8.6', '7.7', '6.3', '7.4',\n",
              "       '8.2', '9', '7.9', '8.1', '8.7', '7.1', '3.4', '5.3', '4.8', '3.2',\n",
              "       '8.9', '6.4', '7.8', '7.5', '2.6', '7.2', '9.2', '7', '7.3', '4.3',\n",
              "       '7.6', '5.7', '5', '9.1', '6.5', 'tbd', '8.8', '6.9', '9.4', '6.8',\n",
              "       '6.1', '6.7', '5.4', '4', '4.9', '4.5', '9.3', '6.2', '4.2', '6',\n",
              "       '3.7', '4.1', '5.8', '5.6', '5.5', '4.4', '4.6', '5.9', '3.9',\n",
              "       '3.1', '2.9', '5.2', '3.3', '4.7', '5.1', '3.5', '2.5', '1.9', '3',\n",
              "       '2.7', '2.2', '2', '9.5', '2.1', '3.6', '2.8', '1.8', '3.8', '0',\n",
              "       '1.6', '9.6', '2.4', '1.7', '1.1', '0.3', '1.5', '0.7', '1.2',\n",
              "       '2.3', '0.5', '1.3', '0.2', '0.6', '1.4', '0.9', '1', '9.7'],\n",
              "      dtype=object)"
            ]
          },
          "execution_count": 100,
          "metadata": {},
          "output_type": "execute_result"
        }
      ],
      "source": [
        "game.user_score.unique()"
      ]
    },
    {
      "cell_type": "code",
      "execution_count": null,
      "metadata": {
        "id": "oQxLs_MsmYwl",
        "outputId": "c38acb6e-beaf-4792-97f6-bde0c96ed034"
      },
      "outputs": [
        {
          "data": {
            "text/html": [
              "<div>\n",
              "<style scoped>\n",
              "    .dataframe tbody tr th:only-of-type {\n",
              "        vertical-align: middle;\n",
              "    }\n",
              "\n",
              "    .dataframe tbody tr th {\n",
              "        vertical-align: top;\n",
              "    }\n",
              "\n",
              "    .dataframe thead th {\n",
              "        text-align: right;\n",
              "    }\n",
              "</style>\n",
              "<table border=\"1\" class=\"dataframe\">\n",
              "  <thead>\n",
              "    <tr style=\"text-align: right;\">\n",
              "      <th></th>\n",
              "      <th>name</th>\n",
              "      <th>platform</th>\n",
              "      <th>release_year</th>\n",
              "      <th>genre</th>\n",
              "      <th>na_sales</th>\n",
              "      <th>eu_sales</th>\n",
              "      <th>jp_sales</th>\n",
              "      <th>other_sales</th>\n",
              "      <th>critic_score</th>\n",
              "      <th>user_score</th>\n",
              "      <th>rating</th>\n",
              "      <th>total_sales</th>\n",
              "    </tr>\n",
              "  </thead>\n",
              "  <tbody>\n",
              "    <tr>\n",
              "      <th>2834</th>\n",
              "      <td>My Little Pony: Pinkie Pie's Party</td>\n",
              "      <td>DS</td>\n",
              "      <td>2008</td>\n",
              "      <td>Adventure</td>\n",
              "      <td>0.66</td>\n",
              "      <td>0.0</td>\n",
              "      <td>0.0</td>\n",
              "      <td>0.06</td>\n",
              "      <td>NaN</td>\n",
              "      <td>0</td>\n",
              "      <td>E</td>\n",
              "      <td>0.72</td>\n",
              "    </tr>\n",
              "  </tbody>\n",
              "</table>\n",
              "</div>"
            ],
            "text/plain": [
              "                                    name platform  release_year      genre  \\\n",
              "2834  My Little Pony: Pinkie Pie's Party       DS          2008  Adventure   \n",
              "\n",
              "      na_sales  eu_sales  jp_sales  other_sales  critic_score user_score  \\\n",
              "2834      0.66       0.0       0.0         0.06           NaN          0   \n",
              "\n",
              "     rating  total_sales  \n",
              "2834      E         0.72  "
            ]
          },
          "execution_count": 101,
          "metadata": {},
          "output_type": "execute_result"
        }
      ],
      "source": [
        "game.loc[game.user_score == '0']"
      ]
    },
    {
      "cell_type": "code",
      "execution_count": null,
      "metadata": {
        "id": "1I5urCDUmYwl",
        "outputId": "5f4c66cd-f8a8-455f-f1a5-4a9b100091bd"
      },
      "outputs": [
        {
          "data": {
            "text/html": [
              "<div>\n",
              "<style scoped>\n",
              "    .dataframe tbody tr th:only-of-type {\n",
              "        vertical-align: middle;\n",
              "    }\n",
              "\n",
              "    .dataframe tbody tr th {\n",
              "        vertical-align: top;\n",
              "    }\n",
              "\n",
              "    .dataframe thead th {\n",
              "        text-align: right;\n",
              "    }\n",
              "</style>\n",
              "<table border=\"1\" class=\"dataframe\">\n",
              "  <thead>\n",
              "    <tr style=\"text-align: right;\">\n",
              "      <th></th>\n",
              "      <th>name</th>\n",
              "      <th>platform</th>\n",
              "      <th>release_year</th>\n",
              "      <th>genre</th>\n",
              "      <th>na_sales</th>\n",
              "      <th>eu_sales</th>\n",
              "      <th>jp_sales</th>\n",
              "      <th>other_sales</th>\n",
              "      <th>critic_score</th>\n",
              "      <th>user_score</th>\n",
              "      <th>rating</th>\n",
              "      <th>total_sales</th>\n",
              "    </tr>\n",
              "  </thead>\n",
              "  <tbody>\n",
              "    <tr>\n",
              "      <th>119</th>\n",
              "      <td>Zumba Fitness</td>\n",
              "      <td>Wii</td>\n",
              "      <td>2010</td>\n",
              "      <td>Sports</td>\n",
              "      <td>3.45</td>\n",
              "      <td>2.59</td>\n",
              "      <td>0.0</td>\n",
              "      <td>0.66</td>\n",
              "      <td>NaN</td>\n",
              "      <td>tbd</td>\n",
              "      <td>E</td>\n",
              "      <td>6.70</td>\n",
              "    </tr>\n",
              "    <tr>\n",
              "      <th>301</th>\n",
              "      <td>Namco Museum: 50th Anniversary</td>\n",
              "      <td>PS2</td>\n",
              "      <td>2005</td>\n",
              "      <td>Misc</td>\n",
              "      <td>2.08</td>\n",
              "      <td>1.35</td>\n",
              "      <td>0.0</td>\n",
              "      <td>0.54</td>\n",
              "      <td>61.0</td>\n",
              "      <td>tbd</td>\n",
              "      <td>E10+</td>\n",
              "      <td>3.97</td>\n",
              "    </tr>\n",
              "    <tr>\n",
              "      <th>520</th>\n",
              "      <td>Zumba Fitness 2</td>\n",
              "      <td>Wii</td>\n",
              "      <td>2011</td>\n",
              "      <td>Sports</td>\n",
              "      <td>1.51</td>\n",
              "      <td>1.03</td>\n",
              "      <td>0.0</td>\n",
              "      <td>0.27</td>\n",
              "      <td>NaN</td>\n",
              "      <td>tbd</td>\n",
              "      <td>T</td>\n",
              "      <td>2.81</td>\n",
              "    </tr>\n",
              "    <tr>\n",
              "      <th>645</th>\n",
              "      <td>uDraw Studio</td>\n",
              "      <td>Wii</td>\n",
              "      <td>2010</td>\n",
              "      <td>Misc</td>\n",
              "      <td>1.65</td>\n",
              "      <td>0.57</td>\n",
              "      <td>0.0</td>\n",
              "      <td>0.20</td>\n",
              "      <td>71.0</td>\n",
              "      <td>tbd</td>\n",
              "      <td>E</td>\n",
              "      <td>2.42</td>\n",
              "    </tr>\n",
              "    <tr>\n",
              "      <th>657</th>\n",
              "      <td>Frogger's Adventures: Temple of the Frog</td>\n",
              "      <td>GBA</td>\n",
              "      <td>2003</td>\n",
              "      <td>Adventure</td>\n",
              "      <td>2.15</td>\n",
              "      <td>0.18</td>\n",
              "      <td>0.0</td>\n",
              "      <td>0.07</td>\n",
              "      <td>73.0</td>\n",
              "      <td>tbd</td>\n",
              "      <td>E</td>\n",
              "      <td>2.40</td>\n",
              "    </tr>\n",
              "  </tbody>\n",
              "</table>\n",
              "</div>"
            ],
            "text/plain": [
              "                                         name platform  release_year  \\\n",
              "119                             Zumba Fitness      Wii          2010   \n",
              "301            Namco Museum: 50th Anniversary      PS2          2005   \n",
              "520                           Zumba Fitness 2      Wii          2011   \n",
              "645                              uDraw Studio      Wii          2010   \n",
              "657  Frogger's Adventures: Temple of the Frog      GBA          2003   \n",
              "\n",
              "         genre  na_sales  eu_sales  jp_sales  other_sales  critic_score  \\\n",
              "119     Sports      3.45      2.59       0.0         0.66           NaN   \n",
              "301       Misc      2.08      1.35       0.0         0.54          61.0   \n",
              "520     Sports      1.51      1.03       0.0         0.27           NaN   \n",
              "645       Misc      1.65      0.57       0.0         0.20          71.0   \n",
              "657  Adventure      2.15      0.18       0.0         0.07          73.0   \n",
              "\n",
              "    user_score rating  total_sales  \n",
              "119        tbd      E         6.70  \n",
              "301        tbd   E10+         3.97  \n",
              "520        tbd      T         2.81  \n",
              "645        tbd      E         2.42  \n",
              "657        tbd      E         2.40  "
            ]
          },
          "execution_count": 102,
          "metadata": {},
          "output_type": "execute_result"
        }
      ],
      "source": [
        "game.loc[game.user_score == 'tbd'].head()"
      ]
    },
    {
      "cell_type": "markdown",
      "metadata": {
        "id": "TI34MvZ0mYwm"
      },
      "source": [
        "**Findings**\n",
        "1. Terdapat value 0 pada 1 baris; value ini akan diganti dengan `np.nan`\n",
        "2. Score tbd bukan karena tahun rilis game yang masih baru; nilai tbd akan diganti dengan `np.nan`\n",
        "\n",
        "----------------------"
      ]
    },
    {
      "cell_type": "code",
      "execution_count": null,
      "metadata": {
        "id": "adEnGuR9mYwm"
      },
      "outputs": [],
      "source": [
        "game.loc[game.user_score == 'tbd', 'user_score'] = np.NaN\n",
        "game.reset_index(drop = True, inplace = True)\n",
        "game['user_score'] = game['user_score'].astype('float')"
      ]
    },
    {
      "cell_type": "code",
      "execution_count": null,
      "metadata": {
        "id": "8lVkq9eUmYwm",
        "outputId": "d9c6516a-1856-4217-9099-350a10477323"
      },
      "outputs": [
        {
          "name": "stdout",
          "output_type": "stream",
          "text": [
            "<class 'pandas.core.frame.DataFrame'>\n",
            "RangeIndex: 16713 entries, 0 to 16712\n",
            "Data columns (total 12 columns):\n",
            " #   Column        Non-Null Count  Dtype  \n",
            "---  ------        --------------  -----  \n",
            " 0   name          16713 non-null  object \n",
            " 1   platform      16713 non-null  object \n",
            " 2   release_year  16713 non-null  int64  \n",
            " 3   genre         16713 non-null  object \n",
            " 4   na_sales      16713 non-null  float64\n",
            " 5   eu_sales      16713 non-null  float64\n",
            " 6   jp_sales      16713 non-null  float64\n",
            " 7   other_sales   16713 non-null  float64\n",
            " 8   critic_score  8137 non-null   float64\n",
            " 9   user_score    7590 non-null   float64\n",
            " 10  rating        9949 non-null   object \n",
            " 11  total_sales   16713 non-null  float64\n",
            "dtypes: float64(7), int64(1), object(4)\n",
            "memory usage: 1.5+ MB\n"
          ]
        }
      ],
      "source": [
        "game.info()"
      ]
    },
    {
      "cell_type": "markdown",
      "metadata": {
        "id": "yejSDxTpmYwn"
      },
      "source": [
        "## Analisis Data"
      ]
    },
    {
      "cell_type": "markdown",
      "metadata": {
        "id": "thC_PxMHmYwn"
      },
      "source": [
        "### Analisis 1"
      ]
    },
    {
      "cell_type": "markdown",
      "metadata": {
        "id": "yHayZ-1lmYwn"
      },
      "source": [
        "**Meninjau banyaknya game yang dirilis pada tahun yang berbeda**"
      ]
    },
    {
      "cell_type": "code",
      "execution_count": null,
      "metadata": {
        "id": "Lrkh0VixmYwn"
      },
      "outputs": [],
      "source": [
        "grouped_year = game.groupby('release_year')['name'].count().reset_index()\n",
        "grouped_year.rename(columns={'name':'game_count'}, inplace=True)"
      ]
    },
    {
      "cell_type": "code",
      "execution_count": null,
      "metadata": {
        "id": "Px3LY8lwmYwn",
        "outputId": "56c87411-10c6-48d9-c4cf-3ae2e1cf57f1"
      },
      "outputs": [
        {
          "data": {
            "text/html": [
              "<div>\n",
              "<style scoped>\n",
              "    .dataframe tbody tr th:only-of-type {\n",
              "        vertical-align: middle;\n",
              "    }\n",
              "\n",
              "    .dataframe tbody tr th {\n",
              "        vertical-align: top;\n",
              "    }\n",
              "\n",
              "    .dataframe thead th {\n",
              "        text-align: right;\n",
              "    }\n",
              "</style>\n",
              "<table border=\"1\" class=\"dataframe\">\n",
              "  <thead>\n",
              "    <tr style=\"text-align: right;\">\n",
              "      <th></th>\n",
              "      <th>release_year</th>\n",
              "      <th>game_count</th>\n",
              "    </tr>\n",
              "  </thead>\n",
              "  <tbody>\n",
              "    <tr>\n",
              "      <th>0</th>\n",
              "      <td>1980</td>\n",
              "      <td>9</td>\n",
              "    </tr>\n",
              "    <tr>\n",
              "      <th>1</th>\n",
              "      <td>1981</td>\n",
              "      <td>46</td>\n",
              "    </tr>\n",
              "    <tr>\n",
              "      <th>2</th>\n",
              "      <td>1982</td>\n",
              "      <td>53</td>\n",
              "    </tr>\n",
              "    <tr>\n",
              "      <th>3</th>\n",
              "      <td>1983</td>\n",
              "      <td>17</td>\n",
              "    </tr>\n",
              "    <tr>\n",
              "      <th>4</th>\n",
              "      <td>1984</td>\n",
              "      <td>14</td>\n",
              "    </tr>\n",
              "  </tbody>\n",
              "</table>\n",
              "</div>"
            ],
            "text/plain": [
              "   release_year  game_count\n",
              "0          1980           9\n",
              "1          1981          46\n",
              "2          1982          53\n",
              "3          1983          17\n",
              "4          1984          14"
            ]
          },
          "execution_count": 106,
          "metadata": {},
          "output_type": "execute_result"
        }
      ],
      "source": [
        "grouped_year.head()"
      ]
    },
    {
      "cell_type": "code",
      "execution_count": null,
      "metadata": {
        "id": "q9hj44qumYwo",
        "outputId": "a17da022-4fe9-4692-f92c-04e25ac9763a"
      },
      "outputs": [
        {
          "data": {
            "image/png": "[encoded data removed]",
            "text/plain": [
              "<Figure size 1368x1080 with 1 Axes>"
            ]
          },
          "metadata": {
            "needs_background": "light"
          },
          "output_type": "display_data"
        }
      ],
      "source": [
        "# Distribusi tahun rilis semua game\n",
        "\n",
        "plt.figure(figsize=(19, 15))\n",
        "splot = sns.barplot(data=grouped_year, x='release_year', y='game_count')\n",
        "\n",
        "for g in splot.patches:\n",
        "    splot.annotate(format(g.get_height(), '.1f'),\n",
        "                   (g.get_x() + g.get_width() / 2., g.get_height()),\n",
        "                   ha = 'center', va = 'center',\n",
        "                   xytext = (0, 20), rotation=45,\n",
        "                   textcoords = 'offset points')\n",
        "\n",
        "plt.xticks(rotation = 90)\n",
        "plt.show()"
      ]
    },
    {
      "cell_type": "markdown",
      "metadata": {
        "id": "3_OG233VmYwo"
      },
      "source": [
        "**Finding**\n",
        "\n",
        "- Data perlahan naik dan memuncak di range tahun 2005 - 2010 lalu kemudian menurun\n",
        "- Puncak banyaknya game yang dirilis adalah pada tahun 2009 dengan total 1476 game\n",
        "\n",
        "-------"
      ]
    },
    {
      "cell_type": "markdown",
      "metadata": {
        "id": "xSjOTeaUmYwo"
      },
      "source": [
        "### Analisis 2"
      ]
    },
    {
      "cell_type": "markdown",
      "metadata": {
        "id": "zkf4rxitmYwp"
      },
      "source": [
        "**Melihat bagaimana penjualan bervariasi dari satu platform ke platform lainnya. Lalu pilih platform dengan total penjualan terbesar dan dibuatkan distribusinya berdasarkan data per tahun. Lalu mencari platform yang dulunya populer tetapi sekarang tidak memiliki penjualan apa pun.**\n",
        "\n",
        "**Berapa lama umumnya waktu yang dibutuhkan platform baru untuk muncul dan platform lama untuk memudar popularitasnya?**"
      ]
    },
    {
      "cell_type": "code",
      "execution_count": null,
      "metadata": {
        "id": "t1StUxw9mYwp",
        "outputId": "513fb305-af0b-4f33-b164-7fc8da00da87"
      },
      "outputs": [
        {
          "data": {
            "text/html": [
              "<div>\n",
              "<style scoped>\n",
              "    .dataframe tbody tr th:only-of-type {\n",
              "        vertical-align: middle;\n",
              "    }\n",
              "\n",
              "    .dataframe tbody tr th {\n",
              "        vertical-align: top;\n",
              "    }\n",
              "\n",
              "    .dataframe thead th {\n",
              "        text-align: right;\n",
              "    }\n",
              "</style>\n",
              "<table border=\"1\" class=\"dataframe\">\n",
              "  <thead>\n",
              "    <tr style=\"text-align: right;\">\n",
              "      <th></th>\n",
              "      <th>platform</th>\n",
              "      <th>total_sales</th>\n",
              "    </tr>\n",
              "  </thead>\n",
              "  <tbody>\n",
              "    <tr>\n",
              "      <th>16</th>\n",
              "      <td>PS2</td>\n",
              "      <td>1255.77</td>\n",
              "    </tr>\n",
              "    <tr>\n",
              "      <th>28</th>\n",
              "      <td>X360</td>\n",
              "      <td>971.42</td>\n",
              "    </tr>\n",
              "    <tr>\n",
              "      <th>17</th>\n",
              "      <td>PS3</td>\n",
              "      <td>939.65</td>\n",
              "    </tr>\n",
              "    <tr>\n",
              "      <th>26</th>\n",
              "      <td>Wii</td>\n",
              "      <td>907.51</td>\n",
              "    </tr>\n",
              "    <tr>\n",
              "      <th>4</th>\n",
              "      <td>DS</td>\n",
              "      <td>806.12</td>\n",
              "    </tr>\n",
              "  </tbody>\n",
              "</table>\n",
              "</div>"
            ],
            "text/plain": [
              "   platform  total_sales\n",
              "16      PS2      1255.77\n",
              "28     X360       971.42\n",
              "17      PS3       939.65\n",
              "26      Wii       907.51\n",
              "4        DS       806.12"
            ]
          },
          "execution_count": 108,
          "metadata": {},
          "output_type": "execute_result"
        }
      ],
      "source": [
        "# Mengelompokkan data berdasarkan platform\n",
        "\n",
        "platform_grouped = game.groupby(['platform'])['total_sales'].sum().reset_index().sort_values(by = 'total_sales', ascending = False)\n",
        "platform_grouped.head()"
      ]
    },
    {
      "cell_type": "code",
      "execution_count": null,
      "metadata": {
        "id": "yrAifbgjmYwp"
      },
      "outputs": [],
      "source": [
        "ps2 = game[game['platform'] == 'PS2'].groupby('release_year')['total_sales'].sum().reset_index()"
      ]
    },
    {
      "cell_type": "code",
      "execution_count": null,
      "metadata": {
        "id": "c78gAEPXmYwp",
        "outputId": "bc09c99e-ed74-4fa8-d8e3-5c6d61e6fbfc"
      },
      "outputs": [
        {
          "data": {
            "text/html": [
              "<div>\n",
              "<style scoped>\n",
              "    .dataframe tbody tr th:only-of-type {\n",
              "        vertical-align: middle;\n",
              "    }\n",
              "\n",
              "    .dataframe tbody tr th {\n",
              "        vertical-align: top;\n",
              "    }\n",
              "\n",
              "    .dataframe thead th {\n",
              "        text-align: right;\n",
              "    }\n",
              "</style>\n",
              "<table border=\"1\" class=\"dataframe\">\n",
              "  <thead>\n",
              "    <tr style=\"text-align: right;\">\n",
              "      <th></th>\n",
              "      <th>release_year</th>\n",
              "      <th>total_sales</th>\n",
              "    </tr>\n",
              "  </thead>\n",
              "  <tbody>\n",
              "    <tr>\n",
              "      <th>0</th>\n",
              "      <td>2000</td>\n",
              "      <td>39.17</td>\n",
              "    </tr>\n",
              "    <tr>\n",
              "      <th>1</th>\n",
              "      <td>2001</td>\n",
              "      <td>166.43</td>\n",
              "    </tr>\n",
              "    <tr>\n",
              "      <th>2</th>\n",
              "      <td>2002</td>\n",
              "      <td>205.38</td>\n",
              "    </tr>\n",
              "    <tr>\n",
              "      <th>3</th>\n",
              "      <td>2003</td>\n",
              "      <td>184.31</td>\n",
              "    </tr>\n",
              "    <tr>\n",
              "      <th>4</th>\n",
              "      <td>2004</td>\n",
              "      <td>211.81</td>\n",
              "    </tr>\n",
              "  </tbody>\n",
              "</table>\n",
              "</div>"
            ],
            "text/plain": [
              "   release_year  total_sales\n",
              "0          2000        39.17\n",
              "1          2001       166.43\n",
              "2          2002       205.38\n",
              "3          2003       184.31\n",
              "4          2004       211.81"
            ]
          },
          "execution_count": 110,
          "metadata": {},
          "output_type": "execute_result"
        }
      ],
      "source": [
        "ps2.head()"
      ]
    },
    {
      "cell_type": "code",
      "execution_count": null,
      "metadata": {
        "id": "JCK2FDdamYwp",
        "outputId": "76efebd1-8116-4015-b247-675591e74928"
      },
      "outputs": [
        {
          "data": {
            "image/png": "[encoded data removed]",
            "text/plain": [
              "<Figure size 1080x864 with 1 Axes>"
            ]
          },
          "metadata": {
            "needs_background": "light"
          },
          "output_type": "display_data"
        }
      ],
      "source": [
        "# Melihat distribusi data per tahun untuk platform dengan total penjualan terbesar\n",
        "\n",
        "plt.figure(figsize=(15, 12))\n",
        "splot = sns.barplot(data = ps2, x = 'release_year', y = 'total_sales')\n",
        "\n",
        "for g in splot.patches:\n",
        "    splot.annotate(format(g.get_height(), '.1f'),\n",
        "                   (g.get_x() + g.get_width() / 2., g.get_height()),\n",
        "                   ha = 'center', va = 'center',\n",
        "                   xytext = (0, 20), rotation=0,\n",
        "                   textcoords = 'offset points')\n",
        "\n",
        "plt.title('Total Penjualan Platform PS2 per tahun (dalam USD)')\n",
        "plt.xticks(rotation = 45)\n",
        "plt.show()"
      ]
    },
    {
      "cell_type": "markdown",
      "metadata": {
        "id": "BNG1vsBjmYwq"
      },
      "source": [
        "**Finding**\n",
        "- Penjualan berawal dari tahun 2000 dan berakhir pada 2011\n",
        "- Penjualan memuncak di sektiar tahun 2001-2004 lalu perlahan menurun, awal 5 tahun dari masa konsol tersebut\n",
        "\n",
        "----------"
      ]
    },
    {
      "cell_type": "markdown",
      "metadata": {
        "id": "lQPftNVGmYwq"
      },
      "source": [
        "**Mencari platform populer yang tidak merilis game lagi pada tahun 2016 (sudah tidak populer)**"
      ]
    },
    {
      "cell_type": "code",
      "execution_count": null,
      "metadata": {
        "id": "b2tstrX_mYwr",
        "outputId": "3c235c6f-fbe3-4f10-f941-3d45cb83f2a1"
      },
      "outputs": [
        {
          "data": {
            "text/plain": [
              "16     PS2\n",
              "28    X360\n",
              "17     PS3\n",
              "26     Wii\n",
              "4       DS\n",
              "15      PS\n",
              "6      GBA\n",
              "18     PS4\n",
              "19     PSP\n",
              "13      PC\n",
              "2      3DS\n",
              "29      XB\n",
              "5       GB\n",
              "11     NES\n",
              "10     N64\n",
              "23    SNES\n",
              "7       GC\n",
              "30    XOne\n",
              "0     2600\n",
              "27    WiiU\n",
              "20     PSV\n",
              "Name: platform, dtype: object"
            ]
          },
          "execution_count": 112,
          "metadata": {},
          "output_type": "execute_result"
        }
      ],
      "source": [
        "# Platform popular yang akan diambil adalah yang memiliki penjualan di atas percentile 30 nya\n",
        "\n",
        "percentile = np.quantile(platform_grouped.total_sales, 0.30)\n",
        "p30 = platform_grouped.loc[platform_grouped.total_sales > percentile, 'platform']\n",
        "p30"
      ]
    },
    {
      "cell_type": "code",
      "execution_count": null,
      "metadata": {
        "id": "CVx90NiXmYwr"
      },
      "outputs": [],
      "source": [
        "# Mencari platform yang popular\n",
        "\n",
        "popular = game.loc[game.platform.isin(p30)]"
      ]
    },
    {
      "cell_type": "code",
      "execution_count": null,
      "metadata": {
        "id": "_7KDORMdmYwr",
        "outputId": "2563080a-a5e0-43dd-8475-e3b7dc0be353"
      },
      "outputs": [
        {
          "data": {
            "text/html": [
              "<div>\n",
              "<style scoped>\n",
              "    .dataframe tbody tr th:only-of-type {\n",
              "        vertical-align: middle;\n",
              "    }\n",
              "\n",
              "    .dataframe tbody tr th {\n",
              "        vertical-align: top;\n",
              "    }\n",
              "\n",
              "    .dataframe thead th {\n",
              "        text-align: right;\n",
              "    }\n",
              "</style>\n",
              "<table border=\"1\" class=\"dataframe\">\n",
              "  <thead>\n",
              "    <tr style=\"text-align: right;\">\n",
              "      <th>release_year</th>\n",
              "      <th>platform</th>\n",
              "      <th>1980</th>\n",
              "      <th>1981</th>\n",
              "      <th>1982</th>\n",
              "      <th>1983</th>\n",
              "      <th>1984</th>\n",
              "      <th>1985</th>\n",
              "      <th>1986</th>\n",
              "      <th>1987</th>\n",
              "      <th>1988</th>\n",
              "      <th>...</th>\n",
              "      <th>2007</th>\n",
              "      <th>2008</th>\n",
              "      <th>2009</th>\n",
              "      <th>2010</th>\n",
              "      <th>2011</th>\n",
              "      <th>2012</th>\n",
              "      <th>2013</th>\n",
              "      <th>2014</th>\n",
              "      <th>2015</th>\n",
              "      <th>2016</th>\n",
              "    </tr>\n",
              "  </thead>\n",
              "  <tbody>\n",
              "    <tr>\n",
              "      <th>0</th>\n",
              "      <td>2600</td>\n",
              "      <td>11.38</td>\n",
              "      <td>35.68</td>\n",
              "      <td>39.38</td>\n",
              "      <td>5.84</td>\n",
              "      <td>0.27</td>\n",
              "      <td>0.45</td>\n",
              "      <td>0.67</td>\n",
              "      <td>1.94</td>\n",
              "      <td>0.74</td>\n",
              "      <td>...</td>\n",
              "      <td>0.00</td>\n",
              "      <td>0.00</td>\n",
              "      <td>0.00</td>\n",
              "      <td>0.00</td>\n",
              "      <td>0.00</td>\n",
              "      <td>0.00</td>\n",
              "      <td>0.00</td>\n",
              "      <td>0.00</td>\n",
              "      <td>0.00</td>\n",
              "      <td>0.00</td>\n",
              "    </tr>\n",
              "    <tr>\n",
              "      <th>1</th>\n",
              "      <td>3DS</td>\n",
              "      <td>0.00</td>\n",
              "      <td>0.00</td>\n",
              "      <td>0.00</td>\n",
              "      <td>0.00</td>\n",
              "      <td>0.00</td>\n",
              "      <td>0.00</td>\n",
              "      <td>0.00</td>\n",
              "      <td>0.00</td>\n",
              "      <td>0.00</td>\n",
              "      <td>...</td>\n",
              "      <td>0.00</td>\n",
              "      <td>0.00</td>\n",
              "      <td>0.00</td>\n",
              "      <td>0.00</td>\n",
              "      <td>63.20</td>\n",
              "      <td>51.36</td>\n",
              "      <td>57.76</td>\n",
              "      <td>43.76</td>\n",
              "      <td>27.78</td>\n",
              "      <td>15.14</td>\n",
              "    </tr>\n",
              "    <tr>\n",
              "      <th>2</th>\n",
              "      <td>DS</td>\n",
              "      <td>0.00</td>\n",
              "      <td>0.00</td>\n",
              "      <td>0.00</td>\n",
              "      <td>0.00</td>\n",
              "      <td>0.00</td>\n",
              "      <td>0.00</td>\n",
              "      <td>0.00</td>\n",
              "      <td>0.00</td>\n",
              "      <td>0.00</td>\n",
              "      <td>...</td>\n",
              "      <td>146.94</td>\n",
              "      <td>148.65</td>\n",
              "      <td>119.54</td>\n",
              "      <td>85.04</td>\n",
              "      <td>26.18</td>\n",
              "      <td>11.01</td>\n",
              "      <td>1.54</td>\n",
              "      <td>0.00</td>\n",
              "      <td>0.00</td>\n",
              "      <td>0.00</td>\n",
              "    </tr>\n",
              "    <tr>\n",
              "      <th>3</th>\n",
              "      <td>GB</td>\n",
              "      <td>0.00</td>\n",
              "      <td>0.00</td>\n",
              "      <td>0.00</td>\n",
              "      <td>0.00</td>\n",
              "      <td>0.00</td>\n",
              "      <td>0.00</td>\n",
              "      <td>0.00</td>\n",
              "      <td>0.00</td>\n",
              "      <td>1.43</td>\n",
              "      <td>...</td>\n",
              "      <td>0.00</td>\n",
              "      <td>0.00</td>\n",
              "      <td>0.00</td>\n",
              "      <td>0.00</td>\n",
              "      <td>0.00</td>\n",
              "      <td>0.00</td>\n",
              "      <td>0.00</td>\n",
              "      <td>0.00</td>\n",
              "      <td>0.00</td>\n",
              "      <td>0.00</td>\n",
              "    </tr>\n",
              "    <tr>\n",
              "      <th>4</th>\n",
              "      <td>GBA</td>\n",
              "      <td>0.00</td>\n",
              "      <td>0.00</td>\n",
              "      <td>0.00</td>\n",
              "      <td>0.00</td>\n",
              "      <td>0.00</td>\n",
              "      <td>0.00</td>\n",
              "      <td>0.00</td>\n",
              "      <td>0.00</td>\n",
              "      <td>0.00</td>\n",
              "      <td>...</td>\n",
              "      <td>3.40</td>\n",
              "      <td>0.00</td>\n",
              "      <td>0.00</td>\n",
              "      <td>0.00</td>\n",
              "      <td>0.00</td>\n",
              "      <td>0.00</td>\n",
              "      <td>0.00</td>\n",
              "      <td>0.00</td>\n",
              "      <td>0.00</td>\n",
              "      <td>0.00</td>\n",
              "    </tr>\n",
              "  </tbody>\n",
              "</table>\n",
              "<p>5 rows × 38 columns</p>\n",
              "</div>"
            ],
            "text/plain": [
              "release_year platform   1980   1981   1982  1983  1984  1985  1986  1987  \\\n",
              "0                2600  11.38  35.68  39.38  5.84  0.27  0.45  0.67  1.94   \n",
              "1                 3DS   0.00   0.00   0.00  0.00  0.00  0.00  0.00  0.00   \n",
              "2                  DS   0.00   0.00   0.00  0.00  0.00  0.00  0.00  0.00   \n",
              "3                  GB   0.00   0.00   0.00  0.00  0.00  0.00  0.00  0.00   \n",
              "4                 GBA   0.00   0.00   0.00  0.00  0.00  0.00  0.00  0.00   \n",
              "\n",
              "release_year  1988  ...    2007    2008    2009   2010   2011   2012   2013  \\\n",
              "0             0.74  ...    0.00    0.00    0.00   0.00   0.00   0.00   0.00   \n",
              "1             0.00  ...    0.00    0.00    0.00   0.00  63.20  51.36  57.76   \n",
              "2             0.00  ...  146.94  148.65  119.54  85.04  26.18  11.01   1.54   \n",
              "3             1.43  ...    0.00    0.00    0.00   0.00   0.00   0.00   0.00   \n",
              "4             0.00  ...    3.40    0.00    0.00   0.00   0.00   0.00   0.00   \n",
              "\n",
              "release_year   2014   2015   2016  \n",
              "0              0.00   0.00   0.00  \n",
              "1             43.76  27.78  15.14  \n",
              "2              0.00   0.00   0.00  \n",
              "3              0.00   0.00   0.00  \n",
              "4              0.00   0.00   0.00  \n",
              "\n",
              "[5 rows x 38 columns]"
            ]
          },
          "execution_count": 114,
          "metadata": {},
          "output_type": "execute_result"
        }
      ],
      "source": [
        "# Mencari platform yang tidak lagi popular\n",
        "\n",
        "pivot_popular = pd.pivot_table(popular, columns='release_year', index='platform', values='total_sales', aggfunc='sum').reset_index().fillna(0)\n",
        "pivot_popular.head()"
      ]
    },
    {
      "cell_type": "code",
      "execution_count": null,
      "metadata": {
        "id": "W9a-rSzdmYws",
        "outputId": "4bb70217-d18e-4403-b578-3004f15d2b41"
      },
      "outputs": [
        {
          "data": {
            "text/plain": [
              "['2600',\n",
              " 'DS',\n",
              " 'GB',\n",
              " 'GBA',\n",
              " 'GC',\n",
              " 'N64',\n",
              " 'NES',\n",
              " 'PS',\n",
              " 'PS2',\n",
              " 'PSP',\n",
              " 'SNES',\n",
              " 'XB']"
            ]
          },
          "execution_count": 115,
          "metadata": {},
          "output_type": "execute_result"
        }
      ],
      "source": [
        "# Platform yang tidak popular lagi\n",
        "\n",
        "notpopular = list(pivot_popular.loc[pivot_popular[2016] == 0, 'platform'])\n",
        "notpopular"
      ]
    },
    {
      "cell_type": "code",
      "execution_count": null,
      "metadata": {
        "id": "9kMqPbM_mYws"
      },
      "outputs": [],
      "source": [
        "# Memfilter platform yang sudah tidak popular lagi\n",
        "\n",
        "game_notpopular = game.loc[(game.platform).isin(notpopular)]"
      ]
    },
    {
      "cell_type": "code",
      "execution_count": null,
      "metadata": {
        "id": "x3rP1bUYmYws",
        "outputId": "2a2fb1db-f6c1-4f01-d672-f164f3438764"
      },
      "outputs": [
        {
          "data": {
            "text/html": [
              "<div>\n",
              "<style scoped>\n",
              "    .dataframe tbody tr th:only-of-type {\n",
              "        vertical-align: middle;\n",
              "    }\n",
              "\n",
              "    .dataframe tbody tr th {\n",
              "        vertical-align: top;\n",
              "    }\n",
              "\n",
              "    .dataframe thead th {\n",
              "        text-align: right;\n",
              "    }\n",
              "</style>\n",
              "<table border=\"1\" class=\"dataframe\">\n",
              "  <thead>\n",
              "    <tr style=\"text-align: right;\">\n",
              "      <th></th>\n",
              "      <th>name</th>\n",
              "      <th>platform</th>\n",
              "      <th>release_year</th>\n",
              "      <th>genre</th>\n",
              "      <th>na_sales</th>\n",
              "      <th>eu_sales</th>\n",
              "      <th>jp_sales</th>\n",
              "      <th>other_sales</th>\n",
              "      <th>critic_score</th>\n",
              "      <th>user_score</th>\n",
              "      <th>rating</th>\n",
              "      <th>total_sales</th>\n",
              "    </tr>\n",
              "  </thead>\n",
              "  <tbody>\n",
              "    <tr>\n",
              "      <th>1</th>\n",
              "      <td>Super Mario Bros.</td>\n",
              "      <td>NES</td>\n",
              "      <td>1985</td>\n",
              "      <td>Platform</td>\n",
              "      <td>29.08</td>\n",
              "      <td>3.58</td>\n",
              "      <td>6.81</td>\n",
              "      <td>0.77</td>\n",
              "      <td>NaN</td>\n",
              "      <td>NaN</td>\n",
              "      <td>NaN</td>\n",
              "      <td>40.24</td>\n",
              "    </tr>\n",
              "    <tr>\n",
              "      <th>4</th>\n",
              "      <td>Pokemon Red/Pokemon Blue</td>\n",
              "      <td>GB</td>\n",
              "      <td>1996</td>\n",
              "      <td>Role-Playing</td>\n",
              "      <td>11.27</td>\n",
              "      <td>8.89</td>\n",
              "      <td>10.22</td>\n",
              "      <td>1.00</td>\n",
              "      <td>NaN</td>\n",
              "      <td>NaN</td>\n",
              "      <td>NaN</td>\n",
              "      <td>31.38</td>\n",
              "    </tr>\n",
              "    <tr>\n",
              "      <th>5</th>\n",
              "      <td>Tetris</td>\n",
              "      <td>GB</td>\n",
              "      <td>1989</td>\n",
              "      <td>Puzzle</td>\n",
              "      <td>23.20</td>\n",
              "      <td>2.26</td>\n",
              "      <td>4.22</td>\n",
              "      <td>0.58</td>\n",
              "      <td>NaN</td>\n",
              "      <td>NaN</td>\n",
              "      <td>NaN</td>\n",
              "      <td>30.26</td>\n",
              "    </tr>\n",
              "    <tr>\n",
              "      <th>6</th>\n",
              "      <td>New Super Mario Bros.</td>\n",
              "      <td>DS</td>\n",
              "      <td>2006</td>\n",
              "      <td>Platform</td>\n",
              "      <td>11.28</td>\n",
              "      <td>9.14</td>\n",
              "      <td>6.50</td>\n",
              "      <td>2.88</td>\n",
              "      <td>89.0</td>\n",
              "      <td>8.5</td>\n",
              "      <td>E</td>\n",
              "      <td>29.80</td>\n",
              "    </tr>\n",
              "    <tr>\n",
              "      <th>9</th>\n",
              "      <td>Duck Hunt</td>\n",
              "      <td>NES</td>\n",
              "      <td>1984</td>\n",
              "      <td>Shooter</td>\n",
              "      <td>26.93</td>\n",
              "      <td>0.63</td>\n",
              "      <td>0.28</td>\n",
              "      <td>0.47</td>\n",
              "      <td>NaN</td>\n",
              "      <td>NaN</td>\n",
              "      <td>NaN</td>\n",
              "      <td>28.31</td>\n",
              "    </tr>\n",
              "  </tbody>\n",
              "</table>\n",
              "</div>"
            ],
            "text/plain": [
              "                       name platform  release_year         genre  na_sales  \\\n",
              "1         Super Mario Bros.      NES          1985      Platform     29.08   \n",
              "4  Pokemon Red/Pokemon Blue       GB          1996  Role-Playing     11.27   \n",
              "5                    Tetris       GB          1989        Puzzle     23.20   \n",
              "6     New Super Mario Bros.       DS          2006      Platform     11.28   \n",
              "9                 Duck Hunt      NES          1984       Shooter     26.93   \n",
              "\n",
              "   eu_sales  jp_sales  other_sales  critic_score  user_score rating  \\\n",
              "1      3.58      6.81         0.77           NaN         NaN    NaN   \n",
              "4      8.89     10.22         1.00           NaN         NaN    NaN   \n",
              "5      2.26      4.22         0.58           NaN         NaN    NaN   \n",
              "6      9.14      6.50         2.88          89.0         8.5      E   \n",
              "9      0.63      0.28         0.47           NaN         NaN    NaN   \n",
              "\n",
              "   total_sales  \n",
              "1        40.24  \n",
              "4        31.38  \n",
              "5        30.26  \n",
              "6        29.80  \n",
              "9        28.31  "
            ]
          },
          "execution_count": 117,
          "metadata": {},
          "output_type": "execute_result"
        }
      ],
      "source": [
        "game_notpopular.head()"
      ]
    },
    {
      "cell_type": "code",
      "execution_count": null,
      "metadata": {
        "id": "B5VB5QypmYws"
      },
      "outputs": [],
      "source": [
        "# Buat pivot table untuk platform yang popular lagi\n",
        "\n",
        "pivot_notpupular = pd.pivot_table(game_notpopular, columns='platform', index='release_year', values='total_sales', aggfunc='sum').reset_index().fillna(0)"
      ]
    },
    {
      "cell_type": "code",
      "execution_count": null,
      "metadata": {
        "id": "AmFtnRTPmYwt",
        "outputId": "5ea6e93e-0a93-4c09-c064-10f673473e16"
      },
      "outputs": [
        {
          "data": {
            "text/html": [
              "<div>\n",
              "<style scoped>\n",
              "    .dataframe tbody tr th:only-of-type {\n",
              "        vertical-align: middle;\n",
              "    }\n",
              "\n",
              "    .dataframe tbody tr th {\n",
              "        vertical-align: top;\n",
              "    }\n",
              "\n",
              "    .dataframe thead th {\n",
              "        text-align: right;\n",
              "    }\n",
              "</style>\n",
              "<table border=\"1\" class=\"dataframe\">\n",
              "  <thead>\n",
              "    <tr style=\"text-align: right;\">\n",
              "      <th>platform</th>\n",
              "      <th>release_year</th>\n",
              "      <th>2600</th>\n",
              "      <th>DS</th>\n",
              "      <th>GB</th>\n",
              "      <th>GBA</th>\n",
              "      <th>GC</th>\n",
              "      <th>N64</th>\n",
              "      <th>NES</th>\n",
              "      <th>PS</th>\n",
              "      <th>PS2</th>\n",
              "      <th>PSP</th>\n",
              "      <th>SNES</th>\n",
              "      <th>XB</th>\n",
              "    </tr>\n",
              "  </thead>\n",
              "  <tbody>\n",
              "    <tr>\n",
              "      <th>0</th>\n",
              "      <td>1980</td>\n",
              "      <td>11.38</td>\n",
              "      <td>0.0</td>\n",
              "      <td>0.0</td>\n",
              "      <td>0.0</td>\n",
              "      <td>0.0</td>\n",
              "      <td>0.0</td>\n",
              "      <td>0.00</td>\n",
              "      <td>0.0</td>\n",
              "      <td>0.0</td>\n",
              "      <td>0.0</td>\n",
              "      <td>0.0</td>\n",
              "      <td>0.0</td>\n",
              "    </tr>\n",
              "    <tr>\n",
              "      <th>1</th>\n",
              "      <td>1981</td>\n",
              "      <td>35.68</td>\n",
              "      <td>0.0</td>\n",
              "      <td>0.0</td>\n",
              "      <td>0.0</td>\n",
              "      <td>0.0</td>\n",
              "      <td>0.0</td>\n",
              "      <td>0.00</td>\n",
              "      <td>0.0</td>\n",
              "      <td>0.0</td>\n",
              "      <td>0.0</td>\n",
              "      <td>0.0</td>\n",
              "      <td>0.0</td>\n",
              "    </tr>\n",
              "    <tr>\n",
              "      <th>2</th>\n",
              "      <td>1982</td>\n",
              "      <td>39.38</td>\n",
              "      <td>0.0</td>\n",
              "      <td>0.0</td>\n",
              "      <td>0.0</td>\n",
              "      <td>0.0</td>\n",
              "      <td>0.0</td>\n",
              "      <td>0.00</td>\n",
              "      <td>0.0</td>\n",
              "      <td>0.0</td>\n",
              "      <td>0.0</td>\n",
              "      <td>0.0</td>\n",
              "      <td>0.0</td>\n",
              "    </tr>\n",
              "    <tr>\n",
              "      <th>3</th>\n",
              "      <td>1983</td>\n",
              "      <td>5.84</td>\n",
              "      <td>0.0</td>\n",
              "      <td>0.0</td>\n",
              "      <td>0.0</td>\n",
              "      <td>0.0</td>\n",
              "      <td>0.0</td>\n",
              "      <td>10.96</td>\n",
              "      <td>0.0</td>\n",
              "      <td>0.0</td>\n",
              "      <td>0.0</td>\n",
              "      <td>0.0</td>\n",
              "      <td>0.0</td>\n",
              "    </tr>\n",
              "    <tr>\n",
              "      <th>4</th>\n",
              "      <td>1984</td>\n",
              "      <td>0.27</td>\n",
              "      <td>0.0</td>\n",
              "      <td>0.0</td>\n",
              "      <td>0.0</td>\n",
              "      <td>0.0</td>\n",
              "      <td>0.0</td>\n",
              "      <td>50.08</td>\n",
              "      <td>0.0</td>\n",
              "      <td>0.0</td>\n",
              "      <td>0.0</td>\n",
              "      <td>0.0</td>\n",
              "      <td>0.0</td>\n",
              "    </tr>\n",
              "  </tbody>\n",
              "</table>\n",
              "</div>"
            ],
            "text/plain": [
              "platform  release_year   2600   DS   GB  GBA   GC  N64    NES   PS  PS2  PSP  \\\n",
              "0                 1980  11.38  0.0  0.0  0.0  0.0  0.0   0.00  0.0  0.0  0.0   \n",
              "1                 1981  35.68  0.0  0.0  0.0  0.0  0.0   0.00  0.0  0.0  0.0   \n",
              "2                 1982  39.38  0.0  0.0  0.0  0.0  0.0   0.00  0.0  0.0  0.0   \n",
              "3                 1983   5.84  0.0  0.0  0.0  0.0  0.0  10.96  0.0  0.0  0.0   \n",
              "4                 1984   0.27  0.0  0.0  0.0  0.0  0.0  50.08  0.0  0.0  0.0   \n",
              "\n",
              "platform  SNES   XB  \n",
              "0          0.0  0.0  \n",
              "1          0.0  0.0  \n",
              "2          0.0  0.0  \n",
              "3          0.0  0.0  \n",
              "4          0.0  0.0  "
            ]
          },
          "execution_count": 119,
          "metadata": {},
          "output_type": "execute_result"
        }
      ],
      "source": [
        "pivot_notpupular.head()"
      ]
    },
    {
      "cell_type": "code",
      "execution_count": null,
      "metadata": {
        "id": "HFOVKye_mYwt",
        "outputId": "8f3da535-1849-4e2f-95f9-ba432f3d8fe9"
      },
      "outputs": [
        {
          "data": {
            "image/png": "[encoded data removed]",
            "text/plain": [
              "<Figure size 1440x1440 with 12 Axes>"
            ]
          },
          "metadata": {
            "needs_background": "light"
          },
          "output_type": "display_data"
        }
      ],
      "source": [
        "# Melihat distribusi penjualan per tahun dari platform yang sudah tidak popular\n",
        "\n",
        "plt.figure(figsize=(20, 20))\n",
        "i = 1\n",
        "for platform in notpopular:\n",
        "    jml_thn = pivot_notpupular.loc[pivot_notpupular[platform] > 0]['release_year']\n",
        "    plt.subplot(4, 3, i)\n",
        "    year = pivot_notpupular[pivot_notpupular[platform] > 0]\n",
        "    sns.barplot(data=pivot_notpupular, x=year['release_year'], y=platform)\n",
        "    plt.xlabel(f'release year platform {platform} selama {len(jml_thn)}')\n",
        "    \n",
        "    i = i + 1\n",
        "    \n",
        "plt.show()"
      ]
    },
    {
      "cell_type": "markdown",
      "metadata": {
        "id": "W3nbt8XumYwu"
      },
      "source": [
        "**Finding**\n",
        "- Umur rata-rata konsol/platform adalah 10 tahun\n",
        "- Umumnya platform mengalami puncak penjualan di awal sampai pertengahan rilis (0-5 tahun) lalu perlahan menurun\n",
        "\n",
        "**Insight**\n",
        "- Ketika ingin menjual game ada baiknya melihat umur dari platform tersebut\n",
        "\n",
        "**Recomendation**\n",
        "- Waktu paling ideal untuk menjual game dari platform yang bersangkutan adalah ketika umur platform tersebut berada di bawah 5 tahun\n",
        "\n",
        "-----------"
      ]
    },
    {
      "cell_type": "markdown",
      "metadata": {
        "id": "zWb2b-WamYwu"
      },
      "source": [
        "### Analisis 3"
      ]
    },
    {
      "cell_type": "markdown",
      "metadata": {
        "id": "-YOliOXYmYwu"
      },
      "source": [
        "**Menentukan periode waktu pengambilan data**\n",
        "\n",
        "Data akan diiris dengan parameter `release_year` = 2013. Hal ini dilakukan untuk menjadi acuan pada tahun 2017"
      ]
    },
    {
      "cell_type": "code",
      "execution_count": null,
      "metadata": {
        "id": "9wIDMk5bmYwu"
      },
      "outputs": [],
      "source": [
        "game_new = game[game['release_year'] >= 2013].reset_index(drop = True)"
      ]
    },
    {
      "cell_type": "markdown",
      "metadata": {
        "id": "ppuLRGe5mYwu"
      },
      "source": [
        "**Platform mana saja yang memiliki penjualan terbanyak? Platform mana saja yang tumbuh atau menyusut? Pilih beberapa platform yang berpotensi menghasilkan keuntungan**"
      ]
    },
    {
      "cell_type": "code",
      "execution_count": null,
      "metadata": {
        "id": "4mTJwtUkmYwu"
      },
      "outputs": [],
      "source": [
        "# Pivot table untuk melihat penjualan per platform dari tahun ke tahun\n",
        "\n",
        "platform_new = pd.pivot_table(data = game_new, index = 'release_year', columns = 'platform', values = 'total_sales', aggfunc = 'sum', margins = True).reset_index().fillna(0)"
      ]
    },
    {
      "cell_type": "code",
      "execution_count": null,
      "metadata": {
        "scrolled": true,
        "id": "oGqzcmUvmYwv",
        "outputId": "81a2683d-cd49-4b3e-ef57-7232ac596bf5"
      },
      "outputs": [
        {
          "data": {
            "text/html": [
              "<div>\n",
              "<style scoped>\n",
              "    .dataframe tbody tr th:only-of-type {\n",
              "        vertical-align: middle;\n",
              "    }\n",
              "\n",
              "    .dataframe tbody tr th {\n",
              "        vertical-align: top;\n",
              "    }\n",
              "\n",
              "    .dataframe thead th {\n",
              "        text-align: right;\n",
              "    }\n",
              "</style>\n",
              "<table border=\"1\" class=\"dataframe\">\n",
              "  <thead>\n",
              "    <tr style=\"text-align: right;\">\n",
              "      <th>platform</th>\n",
              "      <th>release_year</th>\n",
              "      <th>3DS</th>\n",
              "      <th>DS</th>\n",
              "      <th>PC</th>\n",
              "      <th>PS3</th>\n",
              "      <th>PS4</th>\n",
              "      <th>PSP</th>\n",
              "      <th>PSV</th>\n",
              "      <th>Wii</th>\n",
              "      <th>WiiU</th>\n",
              "      <th>X360</th>\n",
              "      <th>XOne</th>\n",
              "      <th>All</th>\n",
              "    </tr>\n",
              "  </thead>\n",
              "  <tbody>\n",
              "    <tr>\n",
              "      <th>0</th>\n",
              "      <td>2013</td>\n",
              "      <td>57.76</td>\n",
              "      <td>1.54</td>\n",
              "      <td>12.38</td>\n",
              "      <td>113.25</td>\n",
              "      <td>25.99</td>\n",
              "      <td>3.14</td>\n",
              "      <td>10.59</td>\n",
              "      <td>8.59</td>\n",
              "      <td>21.65</td>\n",
              "      <td>88.58</td>\n",
              "      <td>18.96</td>\n",
              "      <td>362.43</td>\n",
              "    </tr>\n",
              "    <tr>\n",
              "      <th>1</th>\n",
              "      <td>2014</td>\n",
              "      <td>43.76</td>\n",
              "      <td>0.00</td>\n",
              "      <td>13.28</td>\n",
              "      <td>47.76</td>\n",
              "      <td>100.00</td>\n",
              "      <td>0.24</td>\n",
              "      <td>12.16</td>\n",
              "      <td>3.75</td>\n",
              "      <td>22.03</td>\n",
              "      <td>34.74</td>\n",
              "      <td>54.07</td>\n",
              "      <td>331.79</td>\n",
              "    </tr>\n",
              "    <tr>\n",
              "      <th>2</th>\n",
              "      <td>2015</td>\n",
              "      <td>27.78</td>\n",
              "      <td>0.00</td>\n",
              "      <td>8.52</td>\n",
              "      <td>16.82</td>\n",
              "      <td>118.90</td>\n",
              "      <td>0.12</td>\n",
              "      <td>6.25</td>\n",
              "      <td>1.14</td>\n",
              "      <td>16.35</td>\n",
              "      <td>11.96</td>\n",
              "      <td>60.14</td>\n",
              "      <td>267.98</td>\n",
              "    </tr>\n",
              "    <tr>\n",
              "      <th>3</th>\n",
              "      <td>2016</td>\n",
              "      <td>15.14</td>\n",
              "      <td>0.00</td>\n",
              "      <td>5.25</td>\n",
              "      <td>3.60</td>\n",
              "      <td>69.25</td>\n",
              "      <td>0.00</td>\n",
              "      <td>4.25</td>\n",
              "      <td>0.18</td>\n",
              "      <td>4.60</td>\n",
              "      <td>1.52</td>\n",
              "      <td>26.15</td>\n",
              "      <td>129.94</td>\n",
              "    </tr>\n",
              "    <tr>\n",
              "      <th>4</th>\n",
              "      <td>All</td>\n",
              "      <td>144.44</td>\n",
              "      <td>1.54</td>\n",
              "      <td>39.43</td>\n",
              "      <td>181.43</td>\n",
              "      <td>314.14</td>\n",
              "      <td>3.50</td>\n",
              "      <td>33.25</td>\n",
              "      <td>13.66</td>\n",
              "      <td>64.63</td>\n",
              "      <td>136.80</td>\n",
              "      <td>159.32</td>\n",
              "      <td>1092.14</td>\n",
              "    </tr>\n",
              "  </tbody>\n",
              "</table>\n",
              "</div>"
            ],
            "text/plain": [
              "platform release_year     3DS    DS     PC     PS3     PS4   PSP    PSV  \\\n",
              "0                2013   57.76  1.54  12.38  113.25   25.99  3.14  10.59   \n",
              "1                2014   43.76  0.00  13.28   47.76  100.00  0.24  12.16   \n",
              "2                2015   27.78  0.00   8.52   16.82  118.90  0.12   6.25   \n",
              "3                2016   15.14  0.00   5.25    3.60   69.25  0.00   4.25   \n",
              "4                 All  144.44  1.54  39.43  181.43  314.14  3.50  33.25   \n",
              "\n",
              "platform    Wii   WiiU    X360    XOne      All  \n",
              "0          8.59  21.65   88.58   18.96   362.43  \n",
              "1          3.75  22.03   34.74   54.07   331.79  \n",
              "2          1.14  16.35   11.96   60.14   267.98  \n",
              "3          0.18   4.60    1.52   26.15   129.94  \n",
              "4         13.66  64.63  136.80  159.32  1092.14  "
            ]
          },
          "execution_count": 154,
          "metadata": {},
          "output_type": "execute_result"
        }
      ],
      "source": [
        "platform_new"
      ]
    },
    {
      "cell_type": "code",
      "execution_count": null,
      "metadata": {
        "id": "S3bIgR_LmYwv"
      },
      "outputs": [],
      "source": [
        "platform_new.columns = platform_new.columns.astype(str)"
      ]
    },
    {
      "cell_type": "code",
      "execution_count": null,
      "metadata": {
        "id": "bcWgwGXgmYwv",
        "outputId": "27790923-dedc-40e2-f081-56e7c74d4ecf"
      },
      "outputs": [
        {
          "data": {
            "image/png": "[encoded data removed]",
            "text/plain": [
              "<Figure size 1440x1440 with 11 Axes>"
            ]
          },
          "metadata": {
            "needs_background": "light"
          },
          "output_type": "display_data"
        }
      ],
      "source": [
        "plt.figure(figsize=(20, 20))\n",
        "i = 1\n",
        "for platform in platform_new:\n",
        "  if platform != 'All' and platform != 'release_year':\n",
        "    plt.subplot(4, 4, i)\n",
        "    sns.barplot(data=platform_new.iloc[0:4], x=\"release_year\", y=platform)\n",
        "    plt.xlabel(f'Total sales {platform} dari 2013-2016')\n",
        "    \n",
        "    i = i + 1\n",
        "plt.show()"
      ]
    },
    {
      "cell_type": "code",
      "execution_count": null,
      "metadata": {
        "id": "hNtlPI0HmYww",
        "outputId": "9c242c48-8d6e-4949-a834-f370956443ed"
      },
      "outputs": [
        {
          "name": "stdout",
          "output_type": "stream",
          "text": [
            "Awal penjualan PS4 di tahun 2013\n",
            "\n",
            "Awal penjualan XOne di tahun 2013\n"
          ]
        }
      ],
      "source": [
        "print(f'Awal penjualan PS4 di tahun {game.loc[game.platform == \"PS4\"][\"release_year\"].min()}')\n",
        "print()\n",
        "print(f'Awal penjualan XOne di tahun {game.loc[game.platform == \"XOne\"][\"release_year\"].min()}')"
      ]
    },
    {
      "cell_type": "markdown",
      "metadata": {
        "id": "hPf14MCcmYww"
      },
      "source": [
        "**Findings:**\n",
        "- PS4 memiliki penjualan terbanyak selama 3 tahun\n",
        "- DS memiliki penjualan paling sedikit. Mulai tahun 2014 tidak melakukan penjualan apapun\n",
        "- **Semua** platform mengalami penurunan pada tahun 2016\n",
        "- Hanya ada 2 platform yang mencapai puncak penjualan pada tahun 2015, yaitu `PS4` dan `XOne`\n",
        "\n",
        "**Insight:**\n",
        "- PS4 dan XOne mencapai puncak penjualan di tahun ke-2 platform, sesuai dengan **findings** analisis sebelumnya\n",
        "\n",
        "**Recomendation:**\n",
        "\n",
        "- Game keluaran PS4 dan XOne berpotensi menghasilkan keuntungan"
      ]
    },
    {
      "cell_type": "code",
      "execution_count": null,
      "metadata": {
        "id": "iP_Y9nAYmYww"
      },
      "outputs": [],
      "source": [
        "del game"
      ]
    },
    {
      "cell_type": "markdown",
      "metadata": {
        "id": "DkWtQylumYww"
      },
      "source": [
        "### Analisis 4"
      ]
    },
    {
      "cell_type": "markdown",
      "metadata": {
        "id": "7O-1NGXXmYww"
      },
      "source": [
        "Buatlah sebuah boxplot untuk penjualan global semua game yang dikelompokkan berdasarkan platform. Apakah perbedaan penjualannya signifikan? Bagaimana dengan penjualan rata-rata pada berbagai platform? Deskripsikan penemuan Anda"
      ]
    },
    {
      "cell_type": "code",
      "execution_count": null,
      "metadata": {
        "id": "kTsFmi3lmYwx"
      },
      "outputs": [],
      "source": [
        "platform_new = pd.pivot_table(data = game_new, index = 'platform', values = 'total_sales', aggfunc = 'mean').reset_index().sort_values(by = 'total_sales', ascending = False)"
      ]
    },
    {
      "cell_type": "code",
      "execution_count": null,
      "metadata": {
        "id": "nm6_CDNvmYwx",
        "outputId": "eae49522-a997-40d2-dae6-47d4d08a2827"
      },
      "outputs": [
        {
          "data": {
            "text/html": [
              "<div>\n",
              "<style scoped>\n",
              "    .dataframe tbody tr th:only-of-type {\n",
              "        vertical-align: middle;\n",
              "    }\n",
              "\n",
              "    .dataframe tbody tr th {\n",
              "        vertical-align: top;\n",
              "    }\n",
              "\n",
              "    .dataframe thead th {\n",
              "        text-align: right;\n",
              "    }\n",
              "</style>\n",
              "<table border=\"1\" class=\"dataframe\">\n",
              "  <thead>\n",
              "    <tr style=\"text-align: right;\">\n",
              "      <th></th>\n",
              "      <th>platform</th>\n",
              "      <th>total_sales</th>\n",
              "    </tr>\n",
              "  </thead>\n",
              "  <tbody>\n",
              "    <tr>\n",
              "      <th>4</th>\n",
              "      <td>PS4</td>\n",
              "      <td>0.801378</td>\n",
              "    </tr>\n",
              "    <tr>\n",
              "      <th>9</th>\n",
              "      <td>X360</td>\n",
              "      <td>0.735484</td>\n",
              "    </tr>\n",
              "    <tr>\n",
              "      <th>10</th>\n",
              "      <td>XOne</td>\n",
              "      <td>0.645020</td>\n",
              "    </tr>\n",
              "    <tr>\n",
              "      <th>7</th>\n",
              "      <td>Wii</td>\n",
              "      <td>0.593913</td>\n",
              "    </tr>\n",
              "    <tr>\n",
              "      <th>8</th>\n",
              "      <td>WiiU</td>\n",
              "      <td>0.562000</td>\n",
              "    </tr>\n",
              "    <tr>\n",
              "      <th>3</th>\n",
              "      <td>PS3</td>\n",
              "      <td>0.525884</td>\n",
              "    </tr>\n",
              "    <tr>\n",
              "      <th>0</th>\n",
              "      <td>3DS</td>\n",
              "      <td>0.464437</td>\n",
              "    </tr>\n",
              "    <tr>\n",
              "      <th>2</th>\n",
              "      <td>PC</td>\n",
              "      <td>0.208624</td>\n",
              "    </tr>\n",
              "    <tr>\n",
              "      <th>1</th>\n",
              "      <td>DS</td>\n",
              "      <td>0.192500</td>\n",
              "    </tr>\n",
              "    <tr>\n",
              "      <th>6</th>\n",
              "      <td>PSV</td>\n",
              "      <td>0.092618</td>\n",
              "    </tr>\n",
              "    <tr>\n",
              "      <th>5</th>\n",
              "      <td>PSP</td>\n",
              "      <td>0.052239</td>\n",
              "    </tr>\n",
              "  </tbody>\n",
              "</table>\n",
              "</div>"
            ],
            "text/plain": [
              "   platform  total_sales\n",
              "4       PS4     0.801378\n",
              "9      X360     0.735484\n",
              "10     XOne     0.645020\n",
              "7       Wii     0.593913\n",
              "8      WiiU     0.562000\n",
              "3       PS3     0.525884\n",
              "0       3DS     0.464437\n",
              "2        PC     0.208624\n",
              "1        DS     0.192500\n",
              "6       PSV     0.092618\n",
              "5       PSP     0.052239"
            ]
          },
          "execution_count": 49,
          "metadata": {},
          "output_type": "execute_result"
        }
      ],
      "source": [
        "platform_new"
      ]
    },
    {
      "cell_type": "code",
      "execution_count": null,
      "metadata": {
        "id": "DAO0uoHpmYwx",
        "outputId": "2a0bc06c-4894-4bc8-c74f-2f65033ebac7"
      },
      "outputs": [
        {
          "data": {
            "image/png": "[encoded data removed]",
            "text/plain": [
              "<Figure size 864x648 with 1 Axes>"
            ]
          },
          "metadata": {
            "needs_background": "light"
          },
          "output_type": "display_data"
        }
      ],
      "source": [
        "plt.figure(figsize=(12, 9))\n",
        "sns.boxplot(data=game_new, x='total_sales', y='platform')\n",
        "plt.show()"
      ]
    },
    {
      "cell_type": "markdown",
      "metadata": {
        "id": "QmWQlhosmYwx"
      },
      "source": [
        "**Findings:**\n",
        "- Rata-rata penjualan global setiap platform bervariasi\n",
        "- PS3 memiliki rata-rata penjualan terbesar\n",
        "- PSP memiliki rata-rata penjualan terkecil\n",
        "\n",
        "**Insight**\n",
        "\n",
        "Terdapat outlier yang terjauh dari outlier lainnya. Ada satu pada PS3, X360, PS4, dan 3DS. Outlier ini dapat dikatakan game yang **booming** karena memiliki penjualan yang cukup besar\n",
        "\n",
        "**Recomendation**\n",
        "\n",
        "Menjual game yang **booming** adalah langkah yang tepat"
      ]
    },
    {
      "cell_type": "markdown",
      "metadata": {
        "id": "P8IWFKGymYwy"
      },
      "source": [
        "### Analisis 5"
      ]
    },
    {
      "cell_type": "markdown",
      "metadata": {
        "id": "XjKH8zaNmYwy"
      },
      "source": [
        "Lihatlah bagaimana ulasan pengguna dan para profesional memengaruhi penjualan pada salah satu platform populer. Buatlah sebuah scatter plot dan hitung korelasi antara ulasan dan penjualan. Tarik kesimpulannya."
      ]
    },
    {
      "cell_type": "code",
      "execution_count": null,
      "metadata": {
        "id": "0oj4gC-3mYwy"
      },
      "outputs": [],
      "source": [
        "# PS4 sebagai salah satu platform yang populer\n",
        "\n",
        "ps4 = game_new.loc[game_new.platform == 'PS4'][['name', 'platform', 'critic_score', 'user_score', 'total_sales']]"
      ]
    },
    {
      "cell_type": "code",
      "execution_count": null,
      "metadata": {
        "id": "EHhncgZRmYwy",
        "outputId": "a60dec13-4162-4ea6-b012-21550ebabaf2"
      },
      "outputs": [
        {
          "data": {
            "text/html": [
              "<div>\n",
              "<style scoped>\n",
              "    .dataframe tbody tr th:only-of-type {\n",
              "        vertical-align: middle;\n",
              "    }\n",
              "\n",
              "    .dataframe tbody tr th {\n",
              "        vertical-align: top;\n",
              "    }\n",
              "\n",
              "    .dataframe thead th {\n",
              "        text-align: right;\n",
              "    }\n",
              "</style>\n",
              "<table border=\"1\" class=\"dataframe\">\n",
              "  <thead>\n",
              "    <tr style=\"text-align: right;\">\n",
              "      <th></th>\n",
              "      <th>name</th>\n",
              "      <th>platform</th>\n",
              "      <th>critic_score</th>\n",
              "      <th>user_score</th>\n",
              "      <th>total_sales</th>\n",
              "    </tr>\n",
              "  </thead>\n",
              "  <tbody>\n",
              "    <tr>\n",
              "      <th>2</th>\n",
              "      <td>Call of Duty: Black Ops 3</td>\n",
              "      <td>PS4</td>\n",
              "      <td>NaN</td>\n",
              "      <td>NaN</td>\n",
              "      <td>14.63</td>\n",
              "    </tr>\n",
              "    <tr>\n",
              "      <th>4</th>\n",
              "      <td>Grand Theft Auto V</td>\n",
              "      <td>PS4</td>\n",
              "      <td>97.0</td>\n",
              "      <td>8.3</td>\n",
              "      <td>12.62</td>\n",
              "    </tr>\n",
              "    <tr>\n",
              "      <th>9</th>\n",
              "      <td>FIFA 16</td>\n",
              "      <td>PS4</td>\n",
              "      <td>82.0</td>\n",
              "      <td>4.3</td>\n",
              "      <td>8.58</td>\n",
              "    </tr>\n",
              "    <tr>\n",
              "      <th>10</th>\n",
              "      <td>Star Wars Battlefront (2015)</td>\n",
              "      <td>PS4</td>\n",
              "      <td>NaN</td>\n",
              "      <td>NaN</td>\n",
              "      <td>7.98</td>\n",
              "    </tr>\n",
              "    <tr>\n",
              "      <th>11</th>\n",
              "      <td>Call of Duty: Advanced Warfare</td>\n",
              "      <td>PS4</td>\n",
              "      <td>83.0</td>\n",
              "      <td>5.7</td>\n",
              "      <td>7.66</td>\n",
              "    </tr>\n",
              "  </tbody>\n",
              "</table>\n",
              "</div>"
            ],
            "text/plain": [
              "                              name platform  critic_score  user_score  \\\n",
              "2        Call of Duty: Black Ops 3      PS4           NaN         NaN   \n",
              "4               Grand Theft Auto V      PS4          97.0         8.3   \n",
              "9                          FIFA 16      PS4          82.0         4.3   \n",
              "10    Star Wars Battlefront (2015)      PS4           NaN         NaN   \n",
              "11  Call of Duty: Advanced Warfare      PS4          83.0         5.7   \n",
              "\n",
              "    total_sales  \n",
              "2         14.63  \n",
              "4         12.62  \n",
              "9          8.58  \n",
              "10         7.98  \n",
              "11         7.66  "
            ]
          },
          "execution_count": 52,
          "metadata": {},
          "output_type": "execute_result"
        }
      ],
      "source": [
        "ps4.head()"
      ]
    },
    {
      "cell_type": "code",
      "execution_count": null,
      "metadata": {
        "id": "0xGIdL9VmYwy",
        "outputId": "0eb4b1e7-1670-467c-b301-a77d6b9668b3"
      },
      "outputs": [
        {
          "data": {
            "text/plain": [
              "<AxesSubplot:>"
            ]
          },
          "execution_count": 53,
          "metadata": {},
          "output_type": "execute_result"
        },
        {
          "data": {
            "image/png": "[encoded data removed]",
            "text/plain": [
              "<Figure size 432x288 with 2 Axes>"
            ]
          },
          "metadata": {
            "needs_background": "light"
          },
          "output_type": "display_data"
        }
      ],
      "source": [
        "sns.heatmap(ps4.corr(), annot=True)"
      ]
    },
    {
      "cell_type": "markdown",
      "metadata": {
        "id": "H8WT3mwimYwz"
      },
      "source": [
        "**Findings:**\n",
        "- Terdapat relasi positif sedang (0.41) antara `total_sales` dan `critic_score`\n",
        "- Relasi antara `user_score` dan `total_sales` hanya 0.03"
      ]
    },
    {
      "cell_type": "code",
      "execution_count": null,
      "metadata": {
        "id": "9MZd-SmMmYwz",
        "outputId": "9e2c142c-b46a-439e-f12c-7ddba2a16e58"
      },
      "outputs": [
        {
          "data": {
            "image/png": "[encoded data removed]",
            "text/plain": [
              "<Figure size 432x288 with 1 Axes>"
            ]
          },
          "metadata": {
            "needs_background": "light"
          },
          "output_type": "display_data"
        }
      ],
      "source": [
        "plt.scatter(x = ps4['critic_score'], y = ps4['total_sales']);\n",
        "plt.xlabel(\"Critic Score\");\n",
        "plt.ylabel(\"Total Sales\");\n",
        "plt.show()"
      ]
    },
    {
      "cell_type": "markdown",
      "metadata": {
        "id": "9BODhA9MmYwz"
      },
      "source": [
        "**Finding**\n",
        "\n",
        "Dengan bagusnya kritik profesional maka akan memungkinkan game banyak terjual"
      ]
    },
    {
      "cell_type": "code",
      "execution_count": null,
      "metadata": {
        "id": "w3hP7OGNmYwz",
        "outputId": "8499c60f-320f-4b8d-a18f-763a2041fd69"
      },
      "outputs": [
        {
          "data": {
            "image/png": "[encoded data removed]",
            "text/plain": [
              "<Figure size 432x288 with 1 Axes>"
            ]
          },
          "metadata": {
            "needs_background": "light"
          },
          "output_type": "display_data"
        }
      ],
      "source": [
        "plt.scatter(x = ps4['user_score'], y = ps4['total_sales']);\n",
        "plt.xlabel(\"User Score\");\n",
        "plt.ylabel(\"Total Sales\");\n",
        "plt.show()"
      ]
    },
    {
      "cell_type": "markdown",
      "metadata": {
        "id": "8Dt2OI0KmYw0"
      },
      "source": [
        "**Finding**\n",
        "\n",
        "Plot terlihat random, tidak ada info yang dapat diambil\n",
        "\n",
        "-----------------"
      ]
    },
    {
      "cell_type": "markdown",
      "metadata": {
        "id": "RJEJiRkvmYw0"
      },
      "source": [
        "### Analisis 6"
      ]
    },
    {
      "cell_type": "markdown",
      "metadata": {
        "id": "0Al8QmxAmYw0"
      },
      "source": [
        "**Dengan mengingat kesimpulan Anda sebelumnya, bandingkan penjualan game yang sama pada platform lain**"
      ]
    },
    {
      "cell_type": "code",
      "execution_count": null,
      "metadata": {
        "id": "1RNT3DV-mYw0",
        "outputId": "a26c1505-d286-4eda-faca-359d40f0fe86"
      },
      "outputs": [
        {
          "data": {
            "text/html": [
              "<div>\n",
              "<style scoped>\n",
              "    .dataframe tbody tr th:only-of-type {\n",
              "        vertical-align: middle;\n",
              "    }\n",
              "\n",
              "    .dataframe tbody tr th {\n",
              "        vertical-align: top;\n",
              "    }\n",
              "\n",
              "    .dataframe thead th {\n",
              "        text-align: right;\n",
              "    }\n",
              "</style>\n",
              "<table border=\"1\" class=\"dataframe\">\n",
              "  <thead>\n",
              "    <tr style=\"text-align: right;\">\n",
              "      <th></th>\n",
              "      <th>name</th>\n",
              "      <th>platform</th>\n",
              "      <th>critic_score</th>\n",
              "      <th>user_score</th>\n",
              "      <th>total_sales</th>\n",
              "    </tr>\n",
              "  </thead>\n",
              "  <tbody>\n",
              "    <tr>\n",
              "      <th>4</th>\n",
              "      <td>Grand Theft Auto V</td>\n",
              "      <td>PS4</td>\n",
              "      <td>97.0</td>\n",
              "      <td>8.3</td>\n",
              "      <td>12.62</td>\n",
              "    </tr>\n",
              "    <tr>\n",
              "      <th>23</th>\n",
              "      <td>Uncharted 4: A Thief's End</td>\n",
              "      <td>PS4</td>\n",
              "      <td>93.0</td>\n",
              "      <td>7.9</td>\n",
              "      <td>5.39</td>\n",
              "    </tr>\n",
              "    <tr>\n",
              "      <th>59</th>\n",
              "      <td>Metal Gear Solid V: The Phantom Pain</td>\n",
              "      <td>PS4</td>\n",
              "      <td>93.0</td>\n",
              "      <td>8.2</td>\n",
              "      <td>3.42</td>\n",
              "    </tr>\n",
              "    <tr>\n",
              "      <th>88</th>\n",
              "      <td>Bloodborne</td>\n",
              "      <td>PS4</td>\n",
              "      <td>92.0</td>\n",
              "      <td>8.6</td>\n",
              "      <td>2.48</td>\n",
              "    </tr>\n",
              "    <tr>\n",
              "      <th>44</th>\n",
              "      <td>The Witcher 3: Wild Hunt</td>\n",
              "      <td>PS4</td>\n",
              "      <td>92.0</td>\n",
              "      <td>9.2</td>\n",
              "      <td>3.97</td>\n",
              "    </tr>\n",
              "  </tbody>\n",
              "</table>\n",
              "</div>"
            ],
            "text/plain": [
              "                                    name platform  critic_score  user_score  \\\n",
              "4                     Grand Theft Auto V      PS4          97.0         8.3   \n",
              "23            Uncharted 4: A Thief's End      PS4          93.0         7.9   \n",
              "59  Metal Gear Solid V: The Phantom Pain      PS4          93.0         8.2   \n",
              "88                            Bloodborne      PS4          92.0         8.6   \n",
              "44              The Witcher 3: Wild Hunt      PS4          92.0         9.2   \n",
              "\n",
              "    total_sales  \n",
              "4         12.62  \n",
              "23         5.39  \n",
              "59         3.42  \n",
              "88         2.48  \n",
              "44         3.97  "
            ]
          },
          "execution_count": 56,
          "metadata": {},
          "output_type": "execute_result"
        }
      ],
      "source": [
        "# Melihat game dengan critic_score tertinggi pada platform PS4 dan membandingkannya dengan platform lain\n",
        "\n",
        "ps4.sort_values(by = 'critic_score', ascending = False).head()"
      ]
    },
    {
      "cell_type": "code",
      "execution_count": null,
      "metadata": {
        "scrolled": true,
        "id": "AUNzqJY6mYw0",
        "outputId": "22acdca2-a7a8-4c66-96fe-8e415ace5997"
      },
      "outputs": [
        {
          "data": {
            "text/html": [
              "<div>\n",
              "<style scoped>\n",
              "    .dataframe tbody tr th:only-of-type {\n",
              "        vertical-align: middle;\n",
              "    }\n",
              "\n",
              "    .dataframe tbody tr th {\n",
              "        vertical-align: top;\n",
              "    }\n",
              "\n",
              "    .dataframe thead th {\n",
              "        text-align: right;\n",
              "    }\n",
              "</style>\n",
              "<table border=\"1\" class=\"dataframe\">\n",
              "  <thead>\n",
              "    <tr style=\"text-align: right;\">\n",
              "      <th></th>\n",
              "      <th>name</th>\n",
              "      <th>platform</th>\n",
              "      <th>release_year</th>\n",
              "      <th>genre</th>\n",
              "      <th>na_sales</th>\n",
              "      <th>eu_sales</th>\n",
              "      <th>jp_sales</th>\n",
              "      <th>other_sales</th>\n",
              "      <th>critic_score</th>\n",
              "      <th>user_score</th>\n",
              "      <th>rating</th>\n",
              "      <th>total_sales</th>\n",
              "    </tr>\n",
              "  </thead>\n",
              "  <tbody>\n",
              "    <tr>\n",
              "      <th>0</th>\n",
              "      <td>Grand Theft Auto V</td>\n",
              "      <td>PS3</td>\n",
              "      <td>2013</td>\n",
              "      <td>Action</td>\n",
              "      <td>7.02</td>\n",
              "      <td>9.09</td>\n",
              "      <td>0.98</td>\n",
              "      <td>3.96</td>\n",
              "      <td>97.0</td>\n",
              "      <td>8.2</td>\n",
              "      <td>M</td>\n",
              "      <td>21.05</td>\n",
              "    </tr>\n",
              "    <tr>\n",
              "      <th>1</th>\n",
              "      <td>Grand Theft Auto V</td>\n",
              "      <td>X360</td>\n",
              "      <td>2013</td>\n",
              "      <td>Action</td>\n",
              "      <td>9.66</td>\n",
              "      <td>5.14</td>\n",
              "      <td>0.06</td>\n",
              "      <td>1.41</td>\n",
              "      <td>97.0</td>\n",
              "      <td>8.1</td>\n",
              "      <td>M</td>\n",
              "      <td>16.27</td>\n",
              "    </tr>\n",
              "    <tr>\n",
              "      <th>22</th>\n",
              "      <td>Grand Theft Auto V</td>\n",
              "      <td>XOne</td>\n",
              "      <td>2014</td>\n",
              "      <td>Action</td>\n",
              "      <td>2.81</td>\n",
              "      <td>2.19</td>\n",
              "      <td>0.00</td>\n",
              "      <td>0.47</td>\n",
              "      <td>97.0</td>\n",
              "      <td>7.9</td>\n",
              "      <td>M</td>\n",
              "      <td>5.47</td>\n",
              "    </tr>\n",
              "    <tr>\n",
              "      <th>229</th>\n",
              "      <td>Grand Theft Auto V</td>\n",
              "      <td>PC</td>\n",
              "      <td>2015</td>\n",
              "      <td>Action</td>\n",
              "      <td>0.39</td>\n",
              "      <td>0.69</td>\n",
              "      <td>0.00</td>\n",
              "      <td>0.09</td>\n",
              "      <td>96.0</td>\n",
              "      <td>7.9</td>\n",
              "      <td>M</td>\n",
              "      <td>1.17</td>\n",
              "    </tr>\n",
              "  </tbody>\n",
              "</table>\n",
              "</div>"
            ],
            "text/plain": [
              "                   name platform  release_year   genre  na_sales  eu_sales  \\\n",
              "0    Grand Theft Auto V      PS3          2013  Action      7.02      9.09   \n",
              "1    Grand Theft Auto V     X360          2013  Action      9.66      5.14   \n",
              "22   Grand Theft Auto V     XOne          2014  Action      2.81      2.19   \n",
              "229  Grand Theft Auto V       PC          2015  Action      0.39      0.69   \n",
              "\n",
              "     jp_sales  other_sales  critic_score  user_score rating  total_sales  \n",
              "0        0.98         3.96          97.0         8.2      M        21.05  \n",
              "1        0.06         1.41          97.0         8.1      M        16.27  \n",
              "22       0.00         0.47          97.0         7.9      M         5.47  \n",
              "229      0.00         0.09          96.0         7.9      M         1.17  "
            ]
          },
          "execution_count": 57,
          "metadata": {},
          "output_type": "execute_result"
        }
      ],
      "source": [
        "game_new.loc[(game_new.name == 'Grand Theft Auto V') & (game_new.platform != 'PS4')]"
      ]
    },
    {
      "cell_type": "markdown",
      "metadata": {
        "id": "zKQkjzR7mYw1"
      },
      "source": [
        "**Terdapat total 5 platform pada game Grand Theft Auto V**"
      ]
    },
    {
      "cell_type": "code",
      "execution_count": null,
      "metadata": {
        "id": "M0A0UrFqmYw1",
        "outputId": "0640b3c2-a5bd-43cd-ae95-e34818614747"
      },
      "outputs": [
        {
          "data": {
            "text/html": [
              "<div>\n",
              "<style scoped>\n",
              "    .dataframe tbody tr th:only-of-type {\n",
              "        vertical-align: middle;\n",
              "    }\n",
              "\n",
              "    .dataframe tbody tr th {\n",
              "        vertical-align: top;\n",
              "    }\n",
              "\n",
              "    .dataframe thead th {\n",
              "        text-align: right;\n",
              "    }\n",
              "</style>\n",
              "<table border=\"1\" class=\"dataframe\">\n",
              "  <thead>\n",
              "    <tr style=\"text-align: right;\">\n",
              "      <th></th>\n",
              "      <th>name</th>\n",
              "      <th>platform</th>\n",
              "      <th>release_year</th>\n",
              "      <th>genre</th>\n",
              "      <th>na_sales</th>\n",
              "      <th>eu_sales</th>\n",
              "      <th>jp_sales</th>\n",
              "      <th>other_sales</th>\n",
              "      <th>critic_score</th>\n",
              "      <th>user_score</th>\n",
              "      <th>rating</th>\n",
              "      <th>total_sales</th>\n",
              "    </tr>\n",
              "  </thead>\n",
              "  <tbody>\n",
              "    <tr>\n",
              "      <th>0</th>\n",
              "      <td>Grand Theft Auto V</td>\n",
              "      <td>PS3</td>\n",
              "      <td>2013</td>\n",
              "      <td>Action</td>\n",
              "      <td>7.02</td>\n",
              "      <td>9.09</td>\n",
              "      <td>0.98</td>\n",
              "      <td>3.96</td>\n",
              "      <td>97.0</td>\n",
              "      <td>8.2</td>\n",
              "      <td>M</td>\n",
              "      <td>21.05</td>\n",
              "    </tr>\n",
              "    <tr>\n",
              "      <th>7</th>\n",
              "      <td>Call of Duty: Ghosts</td>\n",
              "      <td>PS3</td>\n",
              "      <td>2013</td>\n",
              "      <td>Shooter</td>\n",
              "      <td>4.10</td>\n",
              "      <td>3.63</td>\n",
              "      <td>0.38</td>\n",
              "      <td>1.25</td>\n",
              "      <td>71.0</td>\n",
              "      <td>2.6</td>\n",
              "      <td>M</td>\n",
              "      <td>9.36</td>\n",
              "    </tr>\n",
              "    <tr>\n",
              "      <th>18</th>\n",
              "      <td>FIFA 14</td>\n",
              "      <td>PS3</td>\n",
              "      <td>2013</td>\n",
              "      <td>Sports</td>\n",
              "      <td>0.78</td>\n",
              "      <td>4.24</td>\n",
              "      <td>0.07</td>\n",
              "      <td>1.37</td>\n",
              "      <td>86.0</td>\n",
              "      <td>4.3</td>\n",
              "      <td>E</td>\n",
              "      <td>6.46</td>\n",
              "    </tr>\n",
              "  </tbody>\n",
              "</table>\n",
              "</div>"
            ],
            "text/plain": [
              "                    name platform  release_year    genre  na_sales  eu_sales  \\\n",
              "0     Grand Theft Auto V      PS3          2013   Action      7.02      9.09   \n",
              "7   Call of Duty: Ghosts      PS3          2013  Shooter      4.10      3.63   \n",
              "18               FIFA 14      PS3          2013   Sports      0.78      4.24   \n",
              "\n",
              "    jp_sales  other_sales  critic_score  user_score rating  total_sales  \n",
              "0       0.98         3.96          97.0         8.2      M        21.05  \n",
              "7       0.38         1.25          71.0         2.6      M         9.36  \n",
              "18      0.07         1.37          86.0         4.3      E         6.46  "
            ]
          },
          "execution_count": 58,
          "metadata": {},
          "output_type": "execute_result"
        }
      ],
      "source": [
        "# Melihat top 3 penjualan pada platform PS3\n",
        "\n",
        "game_new[game_new['platform']== 'PS3'].sort_values(by = 'total_sales', ascending = False).iloc[0:3]"
      ]
    },
    {
      "cell_type": "code",
      "execution_count": null,
      "metadata": {
        "id": "IW7RSpADmYw1",
        "outputId": "450df081-6d57-4314-bef9-31c01134b2d7"
      },
      "outputs": [
        {
          "data": {
            "text/html": [
              "<div>\n",
              "<style scoped>\n",
              "    .dataframe tbody tr th:only-of-type {\n",
              "        vertical-align: middle;\n",
              "    }\n",
              "\n",
              "    .dataframe tbody tr th {\n",
              "        vertical-align: top;\n",
              "    }\n",
              "\n",
              "    .dataframe thead th {\n",
              "        text-align: right;\n",
              "    }\n",
              "</style>\n",
              "<table border=\"1\" class=\"dataframe\">\n",
              "  <thead>\n",
              "    <tr style=\"text-align: right;\">\n",
              "      <th></th>\n",
              "      <th>name</th>\n",
              "      <th>platform</th>\n",
              "      <th>release_year</th>\n",
              "      <th>genre</th>\n",
              "      <th>na_sales</th>\n",
              "      <th>eu_sales</th>\n",
              "      <th>jp_sales</th>\n",
              "      <th>other_sales</th>\n",
              "      <th>critic_score</th>\n",
              "      <th>user_score</th>\n",
              "      <th>rating</th>\n",
              "      <th>total_sales</th>\n",
              "    </tr>\n",
              "  </thead>\n",
              "  <tbody>\n",
              "    <tr>\n",
              "      <th>1</th>\n",
              "      <td>Grand Theft Auto V</td>\n",
              "      <td>X360</td>\n",
              "      <td>2013</td>\n",
              "      <td>Action</td>\n",
              "      <td>9.66</td>\n",
              "      <td>5.14</td>\n",
              "      <td>0.06</td>\n",
              "      <td>1.41</td>\n",
              "      <td>97.0</td>\n",
              "      <td>8.1</td>\n",
              "      <td>M</td>\n",
              "      <td>16.27</td>\n",
              "    </tr>\n",
              "    <tr>\n",
              "      <th>6</th>\n",
              "      <td>Call of Duty: Ghosts</td>\n",
              "      <td>X360</td>\n",
              "      <td>2013</td>\n",
              "      <td>Shooter</td>\n",
              "      <td>6.73</td>\n",
              "      <td>2.56</td>\n",
              "      <td>0.04</td>\n",
              "      <td>0.91</td>\n",
              "      <td>73.0</td>\n",
              "      <td>2.6</td>\n",
              "      <td>M</td>\n",
              "      <td>10.24</td>\n",
              "    </tr>\n",
              "    <tr>\n",
              "      <th>8</th>\n",
              "      <td>Minecraft</td>\n",
              "      <td>X360</td>\n",
              "      <td>2013</td>\n",
              "      <td>Misc</td>\n",
              "      <td>5.70</td>\n",
              "      <td>2.65</td>\n",
              "      <td>0.02</td>\n",
              "      <td>0.81</td>\n",
              "      <td>NaN</td>\n",
              "      <td>NaN</td>\n",
              "      <td>NaN</td>\n",
              "      <td>9.18</td>\n",
              "    </tr>\n",
              "  </tbody>\n",
              "</table>\n",
              "</div>"
            ],
            "text/plain": [
              "                   name platform  release_year    genre  na_sales  eu_sales  \\\n",
              "1    Grand Theft Auto V     X360          2013   Action      9.66      5.14   \n",
              "6  Call of Duty: Ghosts     X360          2013  Shooter      6.73      2.56   \n",
              "8             Minecraft     X360          2013     Misc      5.70      2.65   \n",
              "\n",
              "   jp_sales  other_sales  critic_score  user_score rating  total_sales  \n",
              "1      0.06         1.41          97.0         8.1      M        16.27  \n",
              "6      0.04         0.91          73.0         2.6      M        10.24  \n",
              "8      0.02         0.81           NaN         NaN    NaN         9.18  "
            ]
          },
          "execution_count": 59,
          "metadata": {},
          "output_type": "execute_result"
        }
      ],
      "source": [
        "# Melihat top 3 penjualan pada platform X360\n",
        "\n",
        "game_new[game_new['platform']== 'X360'].sort_values(by = 'total_sales', ascending = False).iloc[0:3]"
      ]
    },
    {
      "cell_type": "code",
      "execution_count": null,
      "metadata": {
        "id": "HuYVGPscmYw1",
        "outputId": "133f12d5-03b3-4a1f-8fd7-01136d353d29"
      },
      "outputs": [
        {
          "data": {
            "text/html": [
              "<div>\n",
              "<style scoped>\n",
              "    .dataframe tbody tr th:only-of-type {\n",
              "        vertical-align: middle;\n",
              "    }\n",
              "\n",
              "    .dataframe tbody tr th {\n",
              "        vertical-align: top;\n",
              "    }\n",
              "\n",
              "    .dataframe thead th {\n",
              "        text-align: right;\n",
              "    }\n",
              "</style>\n",
              "<table border=\"1\" class=\"dataframe\">\n",
              "  <thead>\n",
              "    <tr style=\"text-align: right;\">\n",
              "      <th></th>\n",
              "      <th>name</th>\n",
              "      <th>platform</th>\n",
              "      <th>release_year</th>\n",
              "      <th>genre</th>\n",
              "      <th>na_sales</th>\n",
              "      <th>eu_sales</th>\n",
              "      <th>jp_sales</th>\n",
              "      <th>other_sales</th>\n",
              "      <th>critic_score</th>\n",
              "      <th>user_score</th>\n",
              "      <th>rating</th>\n",
              "      <th>total_sales</th>\n",
              "    </tr>\n",
              "  </thead>\n",
              "  <tbody>\n",
              "    <tr>\n",
              "      <th>14</th>\n",
              "      <td>Call of Duty: Black Ops 3</td>\n",
              "      <td>XOne</td>\n",
              "      <td>2015</td>\n",
              "      <td>Shooter</td>\n",
              "      <td>4.59</td>\n",
              "      <td>2.11</td>\n",
              "      <td>0.01</td>\n",
              "      <td>0.68</td>\n",
              "      <td>NaN</td>\n",
              "      <td>NaN</td>\n",
              "      <td>NaN</td>\n",
              "      <td>7.39</td>\n",
              "    </tr>\n",
              "    <tr>\n",
              "      <th>22</th>\n",
              "      <td>Grand Theft Auto V</td>\n",
              "      <td>XOne</td>\n",
              "      <td>2014</td>\n",
              "      <td>Action</td>\n",
              "      <td>2.81</td>\n",
              "      <td>2.19</td>\n",
              "      <td>0.00</td>\n",
              "      <td>0.47</td>\n",
              "      <td>97.0</td>\n",
              "      <td>7.9</td>\n",
              "      <td>M</td>\n",
              "      <td>5.47</td>\n",
              "    </tr>\n",
              "    <tr>\n",
              "      <th>24</th>\n",
              "      <td>Call of Duty: Advanced Warfare</td>\n",
              "      <td>XOne</td>\n",
              "      <td>2014</td>\n",
              "      <td>Shooter</td>\n",
              "      <td>3.22</td>\n",
              "      <td>1.55</td>\n",
              "      <td>0.01</td>\n",
              "      <td>0.48</td>\n",
              "      <td>81.0</td>\n",
              "      <td>5.4</td>\n",
              "      <td>M</td>\n",
              "      <td>5.26</td>\n",
              "    </tr>\n",
              "  </tbody>\n",
              "</table>\n",
              "</div>"
            ],
            "text/plain": [
              "                              name platform  release_year    genre  na_sales  \\\n",
              "14       Call of Duty: Black Ops 3     XOne          2015  Shooter      4.59   \n",
              "22              Grand Theft Auto V     XOne          2014   Action      2.81   \n",
              "24  Call of Duty: Advanced Warfare     XOne          2014  Shooter      3.22   \n",
              "\n",
              "    eu_sales  jp_sales  other_sales  critic_score  user_score rating  \\\n",
              "14      2.11      0.01         0.68           NaN         NaN    NaN   \n",
              "22      2.19      0.00         0.47          97.0         7.9      M   \n",
              "24      1.55      0.01         0.48          81.0         5.4      M   \n",
              "\n",
              "    total_sales  \n",
              "14         7.39  \n",
              "22         5.47  \n",
              "24         5.26  "
            ]
          },
          "execution_count": 60,
          "metadata": {},
          "output_type": "execute_result"
        }
      ],
      "source": [
        "# Melihat top 3 penjualan pada platform XOne\n",
        "\n",
        "game_new[game_new['platform']== 'XOne'].sort_values(by = 'total_sales', ascending = False).iloc[0:3]"
      ]
    },
    {
      "cell_type": "code",
      "execution_count": null,
      "metadata": {
        "id": "5J5CBBHomYw1",
        "outputId": "9055d205-db57-49e3-862d-ead08daa8ac8"
      },
      "outputs": [
        {
          "data": {
            "text/html": [
              "<div>\n",
              "<style scoped>\n",
              "    .dataframe tbody tr th:only-of-type {\n",
              "        vertical-align: middle;\n",
              "    }\n",
              "\n",
              "    .dataframe tbody tr th {\n",
              "        vertical-align: top;\n",
              "    }\n",
              "\n",
              "    .dataframe thead th {\n",
              "        text-align: right;\n",
              "    }\n",
              "</style>\n",
              "<table border=\"1\" class=\"dataframe\">\n",
              "  <thead>\n",
              "    <tr style=\"text-align: right;\">\n",
              "      <th></th>\n",
              "      <th>name</th>\n",
              "      <th>platform</th>\n",
              "      <th>release_year</th>\n",
              "      <th>genre</th>\n",
              "      <th>na_sales</th>\n",
              "      <th>eu_sales</th>\n",
              "      <th>jp_sales</th>\n",
              "      <th>other_sales</th>\n",
              "      <th>critic_score</th>\n",
              "      <th>user_score</th>\n",
              "      <th>rating</th>\n",
              "      <th>total_sales</th>\n",
              "    </tr>\n",
              "  </thead>\n",
              "  <tbody>\n",
              "    <tr>\n",
              "      <th>73</th>\n",
              "      <td>The Sims 4</td>\n",
              "      <td>PC</td>\n",
              "      <td>2014</td>\n",
              "      <td>Simulation</td>\n",
              "      <td>1.00</td>\n",
              "      <td>1.82</td>\n",
              "      <td>0.0</td>\n",
              "      <td>0.23</td>\n",
              "      <td>70.0</td>\n",
              "      <td>3.9</td>\n",
              "      <td>T</td>\n",
              "      <td>3.05</td>\n",
              "    </tr>\n",
              "    <tr>\n",
              "      <th>157</th>\n",
              "      <td>StarCraft II: Heart of the Swarm</td>\n",
              "      <td>PC</td>\n",
              "      <td>2013</td>\n",
              "      <td>Strategy</td>\n",
              "      <td>0.83</td>\n",
              "      <td>0.66</td>\n",
              "      <td>0.0</td>\n",
              "      <td>0.18</td>\n",
              "      <td>86.0</td>\n",
              "      <td>7.9</td>\n",
              "      <td>T</td>\n",
              "      <td>1.67</td>\n",
              "    </tr>\n",
              "    <tr>\n",
              "      <th>184</th>\n",
              "      <td>SimCity (2013)</td>\n",
              "      <td>PC</td>\n",
              "      <td>2013</td>\n",
              "      <td>Simulation</td>\n",
              "      <td>0.48</td>\n",
              "      <td>0.77</td>\n",
              "      <td>0.0</td>\n",
              "      <td>0.17</td>\n",
              "      <td>64.0</td>\n",
              "      <td>2.2</td>\n",
              "      <td>E10+</td>\n",
              "      <td>1.42</td>\n",
              "    </tr>\n",
              "  </tbody>\n",
              "</table>\n",
              "</div>"
            ],
            "text/plain": [
              "                                 name platform  release_year       genre  \\\n",
              "73                         The Sims 4       PC          2014  Simulation   \n",
              "157  StarCraft II: Heart of the Swarm       PC          2013    Strategy   \n",
              "184                    SimCity (2013)       PC          2013  Simulation   \n",
              "\n",
              "     na_sales  eu_sales  jp_sales  other_sales  critic_score  user_score  \\\n",
              "73       1.00      1.82       0.0         0.23          70.0         3.9   \n",
              "157      0.83      0.66       0.0         0.18          86.0         7.9   \n",
              "184      0.48      0.77       0.0         0.17          64.0         2.2   \n",
              "\n",
              "    rating  total_sales  \n",
              "73       T         3.05  \n",
              "157      T         1.67  \n",
              "184   E10+         1.42  "
            ]
          },
          "execution_count": 61,
          "metadata": {},
          "output_type": "execute_result"
        }
      ],
      "source": [
        "# Melihat top 3 penjualan pada platform PC\n",
        "\n",
        "game_new[game_new['platform']== 'PC'].sort_values(by = 'total_sales', ascending = False).iloc[0:3]"
      ]
    },
    {
      "cell_type": "markdown",
      "metadata": {
        "id": "pCfRJ2aRmYw2"
      },
      "source": [
        "**Finding**\n",
        "- Grand Theft Auto Masuk ke dalam **Top 3** penjualan terbanyak di setiap platformnya kecuali di platform PC"
      ]
    },
    {
      "cell_type": "markdown",
      "metadata": {
        "id": "77vxAjiamYw2"
      },
      "source": [
        "### Analisis 7"
      ]
    },
    {
      "cell_type": "markdown",
      "metadata": {
        "id": "UEzd3YDvmYw2"
      },
      "source": [
        "Amati distribusi umum game berdasarkan genre. Apa yang bisa kita simpulkan terkait genre yang paling menguntungkan? Dapatkah Anda melakukan generalisasi terkait genre dengan penjualan yang tinggi dan rendah?"
      ]
    },
    {
      "cell_type": "code",
      "execution_count": null,
      "metadata": {
        "id": "IGaY2w42mYw2"
      },
      "outputs": [],
      "source": [
        "genres = game_new['genre'].value_counts().reset_index()"
      ]
    },
    {
      "cell_type": "code",
      "execution_count": null,
      "metadata": {
        "id": "PSS4queymYw3",
        "outputId": "05c4da14-e55c-4fa8-9273-d45a1d7fcd23"
      },
      "outputs": [
        {
          "data": {
            "text/plain": [
              "0           Action\n",
              "1     Role-Playing\n",
              "2        Adventure\n",
              "3           Sports\n",
              "4          Shooter\n",
              "5             Misc\n",
              "6           Racing\n",
              "7         Fighting\n",
              "8         Platform\n",
              "9       Simulation\n",
              "10        Strategy\n",
              "11          Puzzle\n",
              "Name: index, dtype: object"
            ]
          },
          "execution_count": 63,
          "metadata": {},
          "output_type": "execute_result"
        }
      ],
      "source": [
        "genres['index']"
      ]
    },
    {
      "cell_type": "code",
      "execution_count": null,
      "metadata": {
        "scrolled": true,
        "id": "93rO79eAmYw3",
        "outputId": "f30e5211-d148-4604-a07a-4c8e5768ca3b"
      },
      "outputs": [
        {
          "data": {
            "image/png": "[encoded data removed]",
            "text/plain": [
              "<Figure size 1440x1440 with 12 Axes>"
            ]
          },
          "metadata": {
            "needs_background": "light"
          },
          "output_type": "display_data"
        }
      ],
      "source": [
        "plt.figure(figsize=(20, 20))\n",
        "i = 1\n",
        "for genre in genres['index']:\n",
        "    plt.subplot(4, 3, i)\n",
        "    plt.title(f'Distribusi penjualan genre {genre}')\n",
        "    sns.distplot(game_new.loc[game_new.genre == genre]['total_sales']);\n",
        "    i = i + 1\n",
        "plt.show()"
      ]
    },
    {
      "cell_type": "code",
      "execution_count": null,
      "metadata": {
        "id": "KC2jjujxmYw3",
        "outputId": "7924bf50-63fb-4b79-cdb6-5bc6f1bab6a9"
      },
      "outputs": [
        {
          "data": {
            "text/plain": [
              "genre\n",
              "Shooter         1.239628\n",
              "Sports          0.700791\n",
              "Platform        0.576081\n",
              "Role-Playing    0.497211\n",
              "Racing          0.464884\n",
              "Fighting        0.441375\n",
              "Action          0.420169\n",
              "Misc            0.405290\n",
              "Simulation      0.347656\n",
              "Puzzle          0.186471\n",
              "Strategy        0.180000\n",
              "Adventure       0.096463\n",
              "Name: total_sales, dtype: float64"
            ]
          },
          "execution_count": 65,
          "metadata": {},
          "output_type": "execute_result"
        }
      ],
      "source": [
        "game_new.groupby('genre')['total_sales'].mean().sort_values(ascending = False)"
      ]
    },
    {
      "cell_type": "code",
      "execution_count": null,
      "metadata": {
        "scrolled": true,
        "id": "Hv66thpWmYw4",
        "outputId": "4611b40a-6463-43fa-a8fd-8eba1dbee36a"
      },
      "outputs": [
        {
          "data": {
            "image/png": "[encoded data removed]",
            "text/plain": [
              "<Figure size 864x864 with 1 Axes>"
            ]
          },
          "metadata": {
            "needs_background": "light"
          },
          "output_type": "display_data"
        }
      ],
      "source": [
        "plt.figure(figsize=(12, 12))\n",
        "sns.boxplot(data=game_new, x='total_sales', y='genre')\n",
        "plt.show()"
      ]
    },
    {
      "cell_type": "markdown",
      "metadata": {
        "id": "i_3LGV1DmYw4"
      },
      "source": [
        "**Findings:**\n",
        "\n",
        "Dari tabel distribusi dan boxplot di atas dapat dilihat bahwa genre `Shooter` memiliki rata-rata yang paling besar dan juga memiliki range Q1 sampai Q4 yang lebih panjang daripada genre yang lainnya. Genre `Puzzle`, `Adventure` dan `Strategy` adalah merupakan genre yang paling tidak menguntungkan.\n",
        "\n",
        "**Recomendation**\n",
        "- Jangan menjual game dengan genre `Puzzle`, `Adventure` dan `Strategy`\n",
        "- Disarankan untuk menjual game dengan genre `Action` atau `Shooter`"
      ]
    },
    {
      "cell_type": "markdown",
      "metadata": {
        "id": "Yyr6pz3ymYw4"
      },
      "source": [
        "## User Profiling"
      ]
    },
    {
      "cell_type": "markdown",
      "metadata": {
        "id": "PgvHGgKMmYw4"
      },
      "source": [
        "Untuk setiap wilayah (NA, EU, JP), tentukan:\n",
        "- 5 platform teratas. Jelaskan variasi pangsa pasar dari satu wilayah ke wilayah lainnya.\n",
        "- 5 genre teratas. Jelaskan perbedaannya.\n",
        "- Apakah rating ESRB memengaruhi penjualan di masing-masing wilayah?"
      ]
    },
    {
      "cell_type": "markdown",
      "metadata": {
        "id": "wi4FtP0xmYw4"
      },
      "source": [
        "### Lima platform teratas masing-masing region"
      ]
    },
    {
      "cell_type": "code",
      "execution_count": null,
      "metadata": {
        "id": "bcGzDRhkmYw5"
      },
      "outputs": [],
      "source": [
        "# Top 5 platform na_region\n",
        "\n",
        "na_platform = pd.pivot_table(data = game_new, index = 'platform', values = 'na_sales', aggfunc = 'sum').sort_values(by = 'na_sales', ascending = False).head()"
      ]
    },
    {
      "cell_type": "code",
      "execution_count": null,
      "metadata": {
        "id": "Q2jiNGQcmYw5",
        "outputId": "34bf5866-532c-4b00-8d1a-0acdec0b2a81"
      },
      "outputs": [
        {
          "data": {
            "text/html": [
              "<div>\n",
              "<style scoped>\n",
              "    .dataframe tbody tr th:only-of-type {\n",
              "        vertical-align: middle;\n",
              "    }\n",
              "\n",
              "    .dataframe tbody tr th {\n",
              "        vertical-align: top;\n",
              "    }\n",
              "\n",
              "    .dataframe thead th {\n",
              "        text-align: right;\n",
              "    }\n",
              "</style>\n",
              "<table border=\"1\" class=\"dataframe\">\n",
              "  <thead>\n",
              "    <tr style=\"text-align: right;\">\n",
              "      <th></th>\n",
              "      <th>na_sales</th>\n",
              "    </tr>\n",
              "    <tr>\n",
              "      <th>platform</th>\n",
              "      <th></th>\n",
              "    </tr>\n",
              "  </thead>\n",
              "  <tbody>\n",
              "    <tr>\n",
              "      <th>PS4</th>\n",
              "      <td>108.74</td>\n",
              "    </tr>\n",
              "    <tr>\n",
              "      <th>XOne</th>\n",
              "      <td>93.12</td>\n",
              "    </tr>\n",
              "    <tr>\n",
              "      <th>X360</th>\n",
              "      <td>81.66</td>\n",
              "    </tr>\n",
              "    <tr>\n",
              "      <th>PS3</th>\n",
              "      <td>63.50</td>\n",
              "    </tr>\n",
              "    <tr>\n",
              "      <th>3DS</th>\n",
              "      <td>39.04</td>\n",
              "    </tr>\n",
              "  </tbody>\n",
              "</table>\n",
              "</div>"
            ],
            "text/plain": [
              "          na_sales\n",
              "platform          \n",
              "PS4         108.74\n",
              "XOne         93.12\n",
              "X360         81.66\n",
              "PS3          63.50\n",
              "3DS          39.04"
            ]
          },
          "execution_count": 68,
          "metadata": {},
          "output_type": "execute_result"
        }
      ],
      "source": [
        "na_platform"
      ]
    },
    {
      "cell_type": "code",
      "execution_count": null,
      "metadata": {
        "id": "70jfhwKkmYw5"
      },
      "outputs": [],
      "source": [
        "# Top 5 platform eu_region\n",
        "\n",
        "eu_platform = pd.pivot_table(data = game_new, index = 'platform', values = 'eu_sales', aggfunc = 'sum').sort_values(by = 'eu_sales', ascending = False).head()"
      ]
    },
    {
      "cell_type": "code",
      "execution_count": null,
      "metadata": {
        "id": "K9U5F-zdmYw5",
        "outputId": "29c625ae-9c34-448f-f82e-6ea99ec8ca59"
      },
      "outputs": [
        {
          "data": {
            "text/html": [
              "<div>\n",
              "<style scoped>\n",
              "    .dataframe tbody tr th:only-of-type {\n",
              "        vertical-align: middle;\n",
              "    }\n",
              "\n",
              "    .dataframe tbody tr th {\n",
              "        vertical-align: top;\n",
              "    }\n",
              "\n",
              "    .dataframe thead th {\n",
              "        text-align: right;\n",
              "    }\n",
              "</style>\n",
              "<table border=\"1\" class=\"dataframe\">\n",
              "  <thead>\n",
              "    <tr style=\"text-align: right;\">\n",
              "      <th></th>\n",
              "      <th>eu_sales</th>\n",
              "    </tr>\n",
              "    <tr>\n",
              "      <th>platform</th>\n",
              "      <th></th>\n",
              "    </tr>\n",
              "  </thead>\n",
              "  <tbody>\n",
              "    <tr>\n",
              "      <th>PS4</th>\n",
              "      <td>141.09</td>\n",
              "    </tr>\n",
              "    <tr>\n",
              "      <th>PS3</th>\n",
              "      <td>67.81</td>\n",
              "    </tr>\n",
              "    <tr>\n",
              "      <th>XOne</th>\n",
              "      <td>51.59</td>\n",
              "    </tr>\n",
              "    <tr>\n",
              "      <th>X360</th>\n",
              "      <td>42.52</td>\n",
              "    </tr>\n",
              "    <tr>\n",
              "      <th>3DS</th>\n",
              "      <td>31.17</td>\n",
              "    </tr>\n",
              "  </tbody>\n",
              "</table>\n",
              "</div>"
            ],
            "text/plain": [
              "          eu_sales\n",
              "platform          \n",
              "PS4         141.09\n",
              "PS3          67.81\n",
              "XOne         51.59\n",
              "X360         42.52\n",
              "3DS          31.17"
            ]
          },
          "execution_count": 70,
          "metadata": {},
          "output_type": "execute_result"
        }
      ],
      "source": [
        "eu_platform"
      ]
    },
    {
      "cell_type": "code",
      "execution_count": null,
      "metadata": {
        "id": "NOvqEkHvmYw5"
      },
      "outputs": [],
      "source": [
        "# Top 5 platform jp_region\n",
        "\n",
        "jp_platform = pd.pivot_table(data = game_new, index = 'platform', values = 'jp_sales', aggfunc = 'sum').sort_values(by = 'jp_sales', ascending = False).head()"
      ]
    },
    {
      "cell_type": "code",
      "execution_count": null,
      "metadata": {
        "id": "dTsdPmg-mYw6",
        "outputId": "0152c020-ec1d-4ee2-c85b-ecaba6ada38d"
      },
      "outputs": [
        {
          "data": {
            "text/html": [
              "<div>\n",
              "<style scoped>\n",
              "    .dataframe tbody tr th:only-of-type {\n",
              "        vertical-align: middle;\n",
              "    }\n",
              "\n",
              "    .dataframe tbody tr th {\n",
              "        vertical-align: top;\n",
              "    }\n",
              "\n",
              "    .dataframe thead th {\n",
              "        text-align: right;\n",
              "    }\n",
              "</style>\n",
              "<table border=\"1\" class=\"dataframe\">\n",
              "  <thead>\n",
              "    <tr style=\"text-align: right;\">\n",
              "      <th></th>\n",
              "      <th>jp_sales</th>\n",
              "    </tr>\n",
              "    <tr>\n",
              "      <th>platform</th>\n",
              "      <th></th>\n",
              "    </tr>\n",
              "  </thead>\n",
              "  <tbody>\n",
              "    <tr>\n",
              "      <th>3DS</th>\n",
              "      <td>67.86</td>\n",
              "    </tr>\n",
              "    <tr>\n",
              "      <th>PS3</th>\n",
              "      <td>23.35</td>\n",
              "    </tr>\n",
              "    <tr>\n",
              "      <th>PSV</th>\n",
              "      <td>18.66</td>\n",
              "    </tr>\n",
              "    <tr>\n",
              "      <th>PS4</th>\n",
              "      <td>15.96</td>\n",
              "    </tr>\n",
              "    <tr>\n",
              "      <th>WiiU</th>\n",
              "      <td>10.88</td>\n",
              "    </tr>\n",
              "  </tbody>\n",
              "</table>\n",
              "</div>"
            ],
            "text/plain": [
              "          jp_sales\n",
              "platform          \n",
              "3DS          67.86\n",
              "PS3          23.35\n",
              "PSV          18.66\n",
              "PS4          15.96\n",
              "WiiU         10.88"
            ]
          },
          "execution_count": 72,
          "metadata": {},
          "output_type": "execute_result"
        }
      ],
      "source": [
        "jp_platform"
      ]
    },
    {
      "cell_type": "markdown",
      "metadata": {
        "id": "kW3ooBnjmYw6"
      },
      "source": [
        "**Findings:**\n",
        "- Region NA dan EU memiliki varian platform yang sama\n",
        "- Region JP berbeda dengan kedua region lainnya dengan 3DS, PS3, PSV, PS4, dan WiiU sebagai Top 5 platform. Region ini memiliki 3 kesamaan dengan region lainnya yaitu pada PS3, PS4, dan 3DS"
      ]
    },
    {
      "cell_type": "markdown",
      "metadata": {
        "id": "tkOn9EyimYw7"
      },
      "source": [
        "### Lima genre teratas masing-masing region"
      ]
    },
    {
      "cell_type": "code",
      "execution_count": null,
      "metadata": {
        "id": "jnGsNx-tmYw7"
      },
      "outputs": [],
      "source": [
        "# Top 5 genre na_region\n",
        "\n",
        "na_genre = pd.pivot_table(data = game_new, index = 'genre', values = 'na_sales', aggfunc = 'sum').sort_values(by = 'na_sales', ascending = False).head()"
      ]
    },
    {
      "cell_type": "code",
      "execution_count": null,
      "metadata": {
        "id": "iD5jHqComYw7",
        "outputId": "622f5f12-da82-4761-98eb-960a6441085e"
      },
      "outputs": [
        {
          "data": {
            "text/html": [
              "<div>\n",
              "<style scoped>\n",
              "    .dataframe tbody tr th:only-of-type {\n",
              "        vertical-align: middle;\n",
              "    }\n",
              "\n",
              "    .dataframe tbody tr th {\n",
              "        vertical-align: top;\n",
              "    }\n",
              "\n",
              "    .dataframe thead th {\n",
              "        text-align: right;\n",
              "    }\n",
              "</style>\n",
              "<table border=\"1\" class=\"dataframe\">\n",
              "  <thead>\n",
              "    <tr style=\"text-align: right;\">\n",
              "      <th></th>\n",
              "      <th>na_sales</th>\n",
              "    </tr>\n",
              "    <tr>\n",
              "      <th>genre</th>\n",
              "      <th></th>\n",
              "    </tr>\n",
              "  </thead>\n",
              "  <tbody>\n",
              "    <tr>\n",
              "      <th>Action</th>\n",
              "      <td>126.23</td>\n",
              "    </tr>\n",
              "    <tr>\n",
              "      <th>Misc</th>\n",
              "      <td>27.49</td>\n",
              "    </tr>\n",
              "    <tr>\n",
              "      <th>Role-Playing</th>\n",
              "      <td>46.51</td>\n",
              "    </tr>\n",
              "    <tr>\n",
              "      <th>Shooter</th>\n",
              "      <td>109.78</td>\n",
              "    </tr>\n",
              "    <tr>\n",
              "      <th>Sports</th>\n",
              "      <td>65.27</td>\n",
              "    </tr>\n",
              "  </tbody>\n",
              "</table>\n",
              "</div>"
            ],
            "text/plain": [
              "              na_sales\n",
              "genre                 \n",
              "Action          126.23\n",
              "Misc             27.49\n",
              "Role-Playing     46.51\n",
              "Shooter         109.78\n",
              "Sports           65.27"
            ]
          },
          "execution_count": 74,
          "metadata": {},
          "output_type": "execute_result"
        }
      ],
      "source": [
        "na_genre.sort_values(by = 'genre')"
      ]
    },
    {
      "cell_type": "code",
      "execution_count": null,
      "metadata": {
        "id": "TfpMXy8gmYw7"
      },
      "outputs": [],
      "source": [
        "# Top 5 genre eu_region\n",
        "\n",
        "eu_genre = pd.pivot_table(data = game_new, index = 'genre', values = 'eu_sales', aggfunc = 'sum').sort_values(by = 'eu_sales', ascending = False).head()"
      ]
    },
    {
      "cell_type": "code",
      "execution_count": null,
      "metadata": {
        "id": "0HJDiIxImYw8",
        "outputId": "4eca5be7-4efb-4e7c-ba23-9c73186dbf8d"
      },
      "outputs": [
        {
          "data": {
            "text/html": [
              "<div>\n",
              "<style scoped>\n",
              "    .dataframe tbody tr th:only-of-type {\n",
              "        vertical-align: middle;\n",
              "    }\n",
              "\n",
              "    .dataframe tbody tr th {\n",
              "        vertical-align: top;\n",
              "    }\n",
              "\n",
              "    .dataframe thead th {\n",
              "        text-align: right;\n",
              "    }\n",
              "</style>\n",
              "<table border=\"1\" class=\"dataframe\">\n",
              "  <thead>\n",
              "    <tr style=\"text-align: right;\">\n",
              "      <th></th>\n",
              "      <th>eu_sales</th>\n",
              "    </tr>\n",
              "    <tr>\n",
              "      <th>genre</th>\n",
              "      <th></th>\n",
              "    </tr>\n",
              "  </thead>\n",
              "  <tbody>\n",
              "    <tr>\n",
              "      <th>Action</th>\n",
              "      <td>118.32</td>\n",
              "    </tr>\n",
              "    <tr>\n",
              "      <th>Racing</th>\n",
              "      <td>20.19</td>\n",
              "    </tr>\n",
              "    <tr>\n",
              "      <th>Role-Playing</th>\n",
              "      <td>37.02</td>\n",
              "    </tr>\n",
              "    <tr>\n",
              "      <th>Shooter</th>\n",
              "      <td>87.88</td>\n",
              "    </tr>\n",
              "    <tr>\n",
              "      <th>Sports</th>\n",
              "      <td>60.52</td>\n",
              "    </tr>\n",
              "  </tbody>\n",
              "</table>\n",
              "</div>"
            ],
            "text/plain": [
              "              eu_sales\n",
              "genre                 \n",
              "Action          118.32\n",
              "Racing           20.19\n",
              "Role-Playing     37.02\n",
              "Shooter          87.88\n",
              "Sports           60.52"
            ]
          },
          "execution_count": 76,
          "metadata": {},
          "output_type": "execute_result"
        }
      ],
      "source": [
        "eu_genre.sort_values(by = 'genre')"
      ]
    },
    {
      "cell_type": "code",
      "execution_count": null,
      "metadata": {
        "id": "rES-eVommYw8"
      },
      "outputs": [],
      "source": [
        "# Top 5 genre jp_region\n",
        "\n",
        "jp_genre = pd.pivot_table(data = game_new, index = 'genre', values = 'jp_sales', aggfunc = 'sum').sort_values(by = 'jp_sales', ascending = False).head()"
      ]
    },
    {
      "cell_type": "code",
      "execution_count": null,
      "metadata": {
        "id": "dt5FxPoCmYw8",
        "outputId": "346f7822-ba0c-4df2-f088-3586a05dec06"
      },
      "outputs": [
        {
          "data": {
            "text/html": [
              "<div>\n",
              "<style scoped>\n",
              "    .dataframe tbody tr th:only-of-type {\n",
              "        vertical-align: middle;\n",
              "    }\n",
              "\n",
              "    .dataframe tbody tr th {\n",
              "        vertical-align: top;\n",
              "    }\n",
              "\n",
              "    .dataframe thead th {\n",
              "        text-align: right;\n",
              "    }\n",
              "</style>\n",
              "<table border=\"1\" class=\"dataframe\">\n",
              "  <thead>\n",
              "    <tr style=\"text-align: right;\">\n",
              "      <th></th>\n",
              "      <th>jp_sales</th>\n",
              "    </tr>\n",
              "    <tr>\n",
              "      <th>genre</th>\n",
              "      <th></th>\n",
              "    </tr>\n",
              "  </thead>\n",
              "  <tbody>\n",
              "    <tr>\n",
              "      <th>Action</th>\n",
              "      <td>40.49</td>\n",
              "    </tr>\n",
              "    <tr>\n",
              "      <th>Fighting</th>\n",
              "      <td>7.65</td>\n",
              "    </tr>\n",
              "    <tr>\n",
              "      <th>Misc</th>\n",
              "      <td>9.20</td>\n",
              "    </tr>\n",
              "    <tr>\n",
              "      <th>Role-Playing</th>\n",
              "      <td>51.14</td>\n",
              "    </tr>\n",
              "    <tr>\n",
              "      <th>Shooter</th>\n",
              "      <td>6.61</td>\n",
              "    </tr>\n",
              "  </tbody>\n",
              "</table>\n",
              "</div>"
            ],
            "text/plain": [
              "              jp_sales\n",
              "genre                 \n",
              "Action           40.49\n",
              "Fighting          7.65\n",
              "Misc              9.20\n",
              "Role-Playing     51.14\n",
              "Shooter           6.61"
            ]
          },
          "execution_count": 78,
          "metadata": {},
          "output_type": "execute_result"
        }
      ],
      "source": [
        "jp_genre.sort_values(by = 'genre')"
      ]
    },
    {
      "cell_type": "markdown",
      "metadata": {
        "id": "nYxxQihRmYw8"
      },
      "source": [
        "**Findings:**\n",
        "\n",
        "Action\n",
        "Misc\n",
        "Role-Playing\n",
        "Shooter\n",
        "Sports\n",
        "Racing\t\n",
        "Fighting\n",
        "\n",
        "\n",
        "\n",
        "- Genre `Action` berapa di posisi paling atas pada semua region\n",
        "- genre `Action`, `Role-Playing` dan `Shooter` berapa pada Top 5 genre di semua region\n",
        "- Terdapat 7 genre berbeda dari total 3 region tersebut\n",
        "  - Action\n",
        "  - Misc\n",
        "  - Role-Playing\n",
        "  - Shooter\n",
        "  - Sports\n",
        "  - Racing\t\n",
        "  - Fighting"
      ]
    },
    {
      "cell_type": "markdown",
      "metadata": {
        "id": "-fVneAOHmYw8"
      },
      "source": [
        "### Apakah rating ESRB memengaruhi penjualan di masing-masing wilayah?"
      ]
    },
    {
      "cell_type": "code",
      "execution_count": null,
      "metadata": {
        "id": "agn10cSPmYw9"
      },
      "outputs": [],
      "source": [
        "game_new['rating'] = game_new['rating'].astype('category').cat.codes"
      ]
    },
    {
      "cell_type": "code",
      "execution_count": null,
      "metadata": {
        "id": "QJKZMrZMmYw9",
        "outputId": "e475f9e8-427a-4887-eaf8-145d8bb1d5ae"
      },
      "outputs": [
        {
          "data": {
            "image/png": "[encoded data removed]",
            "text/plain": [
              "<Figure size 432x288 with 2 Axes>"
            ]
          },
          "metadata": {
            "needs_background": "light"
          },
          "output_type": "display_data"
        }
      ],
      "source": [
        "na_region = game_new[['na_sales', 'rating']]\n",
        "sns.heatmap(na_region.corr(), annot=True);"
      ]
    },
    {
      "cell_type": "markdown",
      "metadata": {
        "id": "PtwLUhczmYw9"
      },
      "source": [
        "**Finding**\n",
        "\n",
        "Tidak ada korelasi kuat antara rating dengan penjualan di region NA"
      ]
    },
    {
      "cell_type": "code",
      "execution_count": null,
      "metadata": {
        "id": "Hpj4PPFVmYw9",
        "outputId": "1162b844-9610-4b5f-af07-b2e081a7f545"
      },
      "outputs": [
        {
          "data": {
            "image/png": "[encoded data removed]",
            "text/plain": [
              "<Figure size 432x288 with 2 Axes>"
            ]
          },
          "metadata": {
            "needs_background": "light"
          },
          "output_type": "display_data"
        }
      ],
      "source": [
        "eu_region = game_new[['eu_sales', 'rating']]\n",
        "sns.heatmap(eu_region.corr(), annot=True);"
      ]
    },
    {
      "cell_type": "markdown",
      "metadata": {
        "id": "WZTyDuMemYw9"
      },
      "source": [
        "**Finding**\n",
        "\n",
        "Tidak ada korelasi kuat antara rating dengan penjualan di region EU"
      ]
    },
    {
      "cell_type": "code",
      "execution_count": null,
      "metadata": {
        "id": "HsGFkuVhmYw9",
        "outputId": "4a15535b-7746-4373-f874-f9ea3504516f"
      },
      "outputs": [
        {
          "data": {
            "image/png": "[encoded data removed]",
            "text/plain": [
              "<Figure size 432x288 with 2 Axes>"
            ]
          },
          "metadata": {
            "needs_background": "light"
          },
          "output_type": "display_data"
        }
      ],
      "source": [
        "jp_region = game_new[['jp_sales', 'rating']]\n",
        "sns.heatmap(jp_region.corr(), annot=True);"
      ]
    },
    {
      "cell_type": "markdown",
      "metadata": {
        "id": "6H6l_c9ZmYw-"
      },
      "source": [
        "**Finding**\n",
        "\n",
        "Tidak ada korelasi kuat antara rating dengan penjualan di region JP"
      ]
    },
    {
      "cell_type": "markdown",
      "metadata": {
        "id": "To3BoEqzmYw-"
      },
      "source": [
        "**Recomendation:**\n",
        "- Menjual game dari konsol PS3, PS4, atau 3DS karena konsol ini berada pada top 5 platform disemua region\n",
        "- Menjual game dengan genre Action, Role-Playing atau Shooter karena genre ini berada pada top 5 genre disemua region\n",
        "- Rating ESRB tidak berpengaruh penjualan disemua region jadi tidak ada masalah dengan menjual game dengan rating apapun"
      ]
    },
    {
      "cell_type": "markdown",
      "metadata": {
        "id": "-pLwm2XrmYw-"
      },
      "source": [
        "## Uji Hipotesis"
      ]
    },
    {
      "cell_type": "markdown",
      "metadata": {
        "id": "iZprr_etmYw-"
      },
      "source": [
        "Rata-rata rating pengguna platform Xbox One dan PC adalah sama\n",
        "\n",
        "Rata-rata rating pengguna genre Action dan Sports berbeda\n",
        "\n",
        "Nilai alpha yang ditentukan adalah 0.05. Nilai ini dirasa cukup untuk pengujian hipotesis ini karena jika nilainya lebih tinggi maka *confidence level* akan berkurang"
      ]
    },
    {
      "cell_type": "markdown",
      "metadata": {
        "id": "9xTruHTmmYw-"
      },
      "source": [
        "### Hipotesis 1"
      ]
    },
    {
      "cell_type": "markdown",
      "metadata": {
        "id": "V0EZW47RmYw-"
      },
      "source": [
        "H0: Rata-rata rating pengguna platform Xbox One dan PC adalah **SAMA**\n",
        "\n",
        "H1 : Rata-rata rating pengguna platform Xbox One dan PC **TIDAK SAMA**"
      ]
    },
    {
      "cell_type": "code",
      "execution_count": null,
      "metadata": {
        "id": "gIOCG4t7mYw-"
      },
      "outputs": [],
      "source": [
        "xone_rating = game_new.loc[game_new.platform == 'XOne']['user_score']\n",
        "xone_rating = xone_rating.dropna().reset_index(drop = True)"
      ]
    },
    {
      "cell_type": "code",
      "execution_count": null,
      "metadata": {
        "id": "ZABQUyfDmYw-",
        "outputId": "fb065246-d094-49ab-87e5-1ad9dc3346e9"
      },
      "outputs": [
        {
          "data": {
            "text/plain": [
              "182"
            ]
          },
          "execution_count": 84,
          "metadata": {},
          "output_type": "execute_result"
        }
      ],
      "source": [
        "len(xone_rating)"
      ]
    },
    {
      "cell_type": "markdown",
      "metadata": {
        "id": "sXtE2W9tmYw_"
      },
      "source": [
        "Panjang dari dua data berbeda, `xone_rating` memiliki panjang 182, lebih panjang dari `pc_rating`\n",
        "\n",
        "Akan diambil sample secara acak sebanyak 155 (panjang data `pc_rating`) pada data `xone_rating`"
      ]
    },
    {
      "cell_type": "code",
      "execution_count": null,
      "metadata": {
        "id": "IMHXnF2mmYw_"
      },
      "outputs": [],
      "source": [
        "xone_rating = xone_rating.sample(n=155)"
      ]
    },
    {
      "cell_type": "code",
      "execution_count": null,
      "metadata": {
        "id": "L6BV8f0fmYw_",
        "outputId": "0bc7ca29-ee9d-4750-8059-a282cbc0a5b8"
      },
      "outputs": [
        {
          "data": {
            "text/plain": [
              "155"
            ]
          },
          "execution_count": 86,
          "metadata": {},
          "output_type": "execute_result"
        }
      ],
      "source": [
        "len(xone_rating)"
      ]
    },
    {
      "cell_type": "code",
      "execution_count": null,
      "metadata": {
        "id": "hbP-Yan7mYw_"
      },
      "outputs": [],
      "source": [
        "pc_rating = game_new.loc[game_new.platform == 'PC']['user_score']\n",
        "pc_rating = pc_rating.dropna().reset_index(drop = True)"
      ]
    },
    {
      "cell_type": "code",
      "execution_count": null,
      "metadata": {
        "id": "f_w-2gfVmYw_",
        "outputId": "57145b4c-ba2e-4a69-c192-cef4d727f840"
      },
      "outputs": [
        {
          "data": {
            "text/plain": [
              "155"
            ]
          },
          "execution_count": 88,
          "metadata": {},
          "output_type": "execute_result"
        }
      ],
      "source": [
        "len(pc_rating)"
      ]
    },
    {
      "cell_type": "code",
      "execution_count": null,
      "metadata": {
        "id": "wzDbrzcLmYw_",
        "outputId": "4518e6db-e561-475c-acc9-df36bb096f70"
      },
      "outputs": [
        {
          "name": "stdout",
          "output_type": "stream",
          "text": [
            "variance xone_rating: 1.932951508844953\n",
            "\n",
            "variance pc_rating: 3.016306347554631\n"
          ]
        }
      ],
      "source": [
        "print(f'variance xone_rating: {np.var(xone_rating)}')\n",
        "print()\n",
        "print(f'variance pc_rating: {np.var(pc_rating)}')"
      ]
    },
    {
      "cell_type": "code",
      "execution_count": null,
      "metadata": {
        "id": "t1yXic_hmYxA",
        "outputId": "0ed1166f-4470-45df-d48f-52736c8782e0"
      },
      "outputs": [
        {
          "name": "stdout",
          "output_type": "stream",
          "text": [
            "variance setara\n"
          ]
        }
      ],
      "source": [
        "# Cek kesetaraan variance\n",
        "\n",
        "equal_variance = np.var(pc_rating)/np.var(xone_rating)\n",
        "\n",
        "if equal_variance < 4:\n",
        "    print('variance setara')\n",
        "else:\n",
        "    print('variance tidak setara')"
      ]
    },
    {
      "cell_type": "code",
      "execution_count": null,
      "metadata": {
        "id": "_mzPmpgUmYxA",
        "outputId": "e3c4572a-5eb8-478f-b567-fba95a1b9090"
      },
      "outputs": [
        {
          "name": "stdout",
          "output_type": "stream",
          "text": [
            "0.11934254949523605\n",
            "\n",
            "H0 diterima\n"
          ]
        }
      ],
      "source": [
        "alpha = 0.05\n",
        "result = st.ttest_ind(xone_rating, pc_rating, equal_var = True)\n",
        "\n",
        "print(result.pvalue)\n",
        "print()\n",
        "if result.pvalue < alpha:\n",
        "    print('H0 ditolak')\n",
        "else:\n",
        "    print('H0 diterima')"
      ]
    },
    {
      "cell_type": "markdown",
      "metadata": {
        "id": "RpzEp95DmYxA"
      },
      "source": [
        "**HASILNYA:** Rata-rata rating pengguna platform Xbox One dan PC adalah **SAMA**"
      ]
    },
    {
      "cell_type": "markdown",
      "metadata": {
        "id": "gO8QzWHimYxA"
      },
      "source": [
        "### Hipotesis 2"
      ]
    },
    {
      "cell_type": "markdown",
      "metadata": {
        "id": "m2CdKjszmYxA"
      },
      "source": [
        "H0: Rata-rata rating pengguna genre Action dan Sports adalah **SAMA**\n",
        "\n",
        "H1 : Rata-rata rating pengguna genre Action dan Sports **TIDAK SAMA**"
      ]
    },
    {
      "cell_type": "code",
      "execution_count": null,
      "metadata": {
        "id": "PXafb6IUmYxB"
      },
      "outputs": [],
      "source": [
        "action_rating = game_new.loc[game_new.genre == 'Action']['user_score']\n",
        "action_rating = action_rating.dropna().reset_index(drop = True)"
      ]
    },
    {
      "cell_type": "code",
      "execution_count": null,
      "metadata": {
        "id": "_tVQV05AmYxB",
        "outputId": "b74d85b5-05af-4381-db04-47acf4894570"
      },
      "outputs": [
        {
          "data": {
            "text/plain": [
              "390"
            ]
          },
          "execution_count": 93,
          "metadata": {},
          "output_type": "execute_result"
        }
      ],
      "source": [
        "len(action_rating)"
      ]
    },
    {
      "cell_type": "markdown",
      "metadata": {
        "id": "3yCEdxhMmYxB"
      },
      "source": [
        "Panjang dari dua data berbeda, `action_rating` memiliki panjang 390, lebih panjang dari `sports_rating`\n",
        "\n",
        "Akan diambil sample secara acak sebanyak 160 (panjang data `sports_rating`) pada data `action_rating`"
      ]
    },
    {
      "cell_type": "code",
      "execution_count": null,
      "metadata": {
        "id": "Mh_ig1-imYxB"
      },
      "outputs": [],
      "source": [
        "action_rating = action_rating.sample(n = 160)"
      ]
    },
    {
      "cell_type": "code",
      "execution_count": null,
      "metadata": {
        "id": "lMnrBqyomYxB",
        "outputId": "981541cc-6319-4a31-9013-e0e192273009"
      },
      "outputs": [
        {
          "data": {
            "text/plain": [
              "160"
            ]
          },
          "execution_count": 95,
          "metadata": {},
          "output_type": "execute_result"
        }
      ],
      "source": [
        "len(action_rating)"
      ]
    },
    {
      "cell_type": "code",
      "execution_count": null,
      "metadata": {
        "id": "2uCVDXbImYxB"
      },
      "outputs": [],
      "source": [
        "sports_rating = game_new.loc[game_new.genre == 'Sports']['user_score']\n",
        "sports_rating = sports_rating.dropna().reset_index(drop = True)"
      ]
    },
    {
      "cell_type": "code",
      "execution_count": null,
      "metadata": {
        "id": "XFsCVCoWmYxB",
        "outputId": "4112425b-209c-4083-8ba3-798cb138b604"
      },
      "outputs": [
        {
          "data": {
            "text/plain": [
              "160"
            ]
          },
          "execution_count": 97,
          "metadata": {},
          "output_type": "execute_result"
        }
      ],
      "source": [
        "len(sports_rating)"
      ]
    },
    {
      "cell_type": "code",
      "execution_count": null,
      "metadata": {
        "id": "xuKj1zDRmYxC",
        "outputId": "4ac3658b-0366-480f-f7fb-4751fdb61f1d"
      },
      "outputs": [
        {
          "name": "stdout",
          "output_type": "stream",
          "text": [
            "variance action_rating: 1.6379808593749998\n",
            "\n",
            "variance sports_rating: 3.160733984375\n"
          ]
        }
      ],
      "source": [
        "print(f'variance action_rating: {np.var(action_rating)}')\n",
        "print()\n",
        "print(f'variance sports_rating: {np.var(sports_rating)}')"
      ]
    },
    {
      "cell_type": "code",
      "execution_count": null,
      "metadata": {
        "id": "CjBTartwmYxC",
        "outputId": "56f0a7d6-d331-4086-e49e-7fad6651351a"
      },
      "outputs": [
        {
          "name": "stdout",
          "output_type": "stream",
          "text": [
            "variance setara\n"
          ]
        }
      ],
      "source": [
        "# Cek kesetaraan variance\n",
        "\n",
        "equal_variance = np.var(sports_rating)/np.var(action_rating)\n",
        "\n",
        "if equal_variance < 4:\n",
        "    print('variance setara')\n",
        "else:\n",
        "    print('variance tidak setara')"
      ]
    },
    {
      "cell_type": "code",
      "execution_count": null,
      "metadata": {
        "id": "EtGEIKBZmYxC",
        "outputId": "e8744a47-806b-4305-fd2f-2b6ef902bf03"
      },
      "outputs": [
        {
          "name": "stdout",
          "output_type": "stream",
          "text": [
            "2.274857180086628e-18\n",
            "\n",
            "H0 ditolak\n"
          ]
        }
      ],
      "source": [
        "alpha = 0.05\n",
        "result = st.ttest_ind(action_rating, sports_rating, equal_var = True)\n",
        "\n",
        "print(result.pvalue)\n",
        "print()\n",
        "if result.pvalue < alpha:\n",
        "    print('H0 ditolak')\n",
        "else:\n",
        "    print('H0 diterima')"
      ]
    },
    {
      "cell_type": "markdown",
      "metadata": {
        "id": "WzvV8Z5rmYxC"
      },
      "source": [
        "**HASILNYA:** Rata-rata rating pengguna genre Action dan Sports **TIDAK SAMA**"
      ]
    },
    {
      "cell_type": "markdown",
      "metadata": {
        "id": "gu9Dv19XmYxC"
      },
      "source": [
        "## Kesimpulan"
      ]
    },
    {
      "cell_type": "markdown",
      "metadata": {
        "id": "rAcXHIETmYxC"
      },
      "source": [
        "### Pengecekan Kualitasn & Modifikasi Data\n",
        "- Nama kolom dimulai dari uppercase; akan diganti menjadi lowercase\n",
        "- Terdapat 2 baris kosong pada kolom `Name`; akan dicek lebih lanjut\n",
        "- kolom `Year_of_Release` bertipe float; tipe data ini tidak akan dirubah karena tidak memiliki tanggal dan bulan\n",
        "- kolom `User_Score` bertipe object tetapi sesuai deskripsi seharusnya kolom ini adalah float atau int; akan dicek lebih lanjut\n",
        "- Tidak ada data duplikat\n",
        "- Mengisi missing value pada kolom `release_year`\n",
        "- Terdapat value 0 pada 1 baris; value ini akan diganti dengan np.nan\n",
        "- Score tbd bukan karena tahun rilis game yang masih baru; nilai tbd akan diganti dengan np.nan\n",
        "\n",
        "\n",
        "### Analisis Data\n",
        "#### Analisis 1\n",
        "- Data perlahan naik dan memuncak di range tahun 2005 - 2010 lalu kemudian menurun\n",
        "\n",
        "#### Analisis 2\n",
        "- Penjualan berawal dari tahun 2000 dan berakhir pada 2011\n",
        "- Penjualan memuncak di sektiar tahun 2001-2004 lalu perlahan menurun, awal 5 tahun dari masa konsol tersebut\n",
        "- Umur rata-rata konsol/platform adalah 10 tahun\n",
        "- Umumnya platform mengalami puncak penjualan di awal sampai pertengahan rilis (0-5 tahun) lalu perlahan menurun\n",
        "- Ketika ingin menjual game ada baiknya melihat umur dari platform tersebut\n",
        "##### Rekomendasi\n",
        "- Waktu paling ideal untuk menjual game dari platform yang bersangkutan adalah ketika umur platform tersebut berada di bawah 5 tahun\n",
        "\n",
        "#### Analisis 3\n",
        "- PS4 memiliki penjualan terbanyak selama 3 tahun\n",
        "- DS memiliki penjualan paling sedikit. Mulai tahun 2014 tidak melakukan penjualan apapun\n",
        "- **Semua** platform mengalami penurunan pada tahun 2016\n",
        "- Hanya ada 2 platform yang mencapai puncak penjualan pada tahun 2015, yaitu `PS4` dan `XOne`\n",
        "- PS4 dan XOne mencapai puncak penjualan di tahun ke-2 platform, sesuai dengan **findings** analisis sebelumnya\n",
        "##### Rekomendasi\n",
        "- Game keluaran PS4 dan XOne berpotensi menghasilkan keuntungan\n",
        "\n",
        "#### Analisis 4\n",
        "- Rata-rata penjualan global setiap platform bervariasi\n",
        "- PS3 memiliki rata-rata penjualan terbesar\n",
        "- PSP memiliki rata-rata penjualan terkecil\n",
        "\n",
        "Terdapat outlier yang terjauh dari outlier lainnya. Ada satu pada PS3, X360, PS4, dan 3DS. Outlier ini dapat dikatakan game yang **booming** karena memiliki penjualan yang cukup besar\n",
        "##### Rekomendasi\n",
        "- Menjual game yang **booming** adalah langkah yang tepat\n",
        "\n",
        "#### Analisis 5\n",
        "- Terdapat relasi positif sedang (0.41) antara `total_sales` dan `critic_score`\n",
        "- Relasi antara `user_score` dan `total_sales` hanya 0.03\n",
        "- Dengan bagusnya kritik profesional maka akan memungkinkan game banyak terjual\n",
        "\n",
        "#### Analisis 6\n",
        "- Grand Theft Auto Masuk ke dalam **Top 3** penjualan terbanyak di setiap platformnya kecuali di platform PC\n",
        "\n",
        "#### Analisis 7\n",
        "Dari tabel distribusi dan boxplot di atas dapat dilihat bahwa genre `Shooter` memiliki rata-rata yang paling besar dan juga memiliki range Q1 sampai Q4 yang lebih panjang daripada genre yang lainnya. Genre `Puzzle`, `Adventure` dan `Strategy` adalah merupakan genre yang paling tidak menguntungkan\n",
        "##### Rekomendasi\n",
        "- Jangan menjual game dengan genre `Puzzle`, `Adventure` dan `Strategy`\n",
        "- Disarankan untuk menjual game dengan genre `Action` atau `Shooter`\n",
        "\n",
        "\n",
        "### User Profiling\n",
        "#### Lima platform teratas masing-masing region\n",
        "- Region NA dan EU memiliki varian platform yang sama\n",
        "- Region JP berbeda dengan kedua region lainnya dengan 3DS, PS3, PSV, PS4, dan WiiU sebagai Top 5 platform. Region ini memiliki 3 kesamaan dengan region lainnya yaitu pada PS3, PS4, dan 3DS\n",
        "\n",
        "#### Lima genre teratas masing-masing region\n",
        "- Genre `Action` berapa di posisi paling atas pada semua region\n",
        "- genre `Action`, `Role-Playing` dan `Shooter` berapa pada Top 5 genre di semua region\n",
        "- Terdapat 7 genre berbeda dari total 3 region tersebut\n",
        "  - Action\n",
        "  - Misc\n",
        "  - Role-Playing\n",
        "  - Shooter\n",
        "  - Sports\n",
        "  - Racing\t\n",
        "  - Fighting\n",
        "\n",
        "#### Apakah rating ESRB memengaruhi penjualan di masing-masing wilayah?\n",
        "- Tidak ada korelasi kuat antara rating dengan penjualan di region NA, EU, maupun JP\n",
        "\n",
        "##### Rekomendasi\n",
        "- Menjual game dari konsol PS3, PS4, atau 3DS karena konsol ini berada pada top 5 platform disemua region\n",
        "- Menjual game dengan genre Action, Role-Playing atau Shooter karena genre ini berada pada top 5 genre disemua region\n",
        "- Rating ESRB tidak berpengaruh penjualan disemua region jadi tidak ada masalah dengan menjual game dengan rating apapun\n",
        "\n",
        "### Uji Hipotesis\n",
        "#### Hipotesis 1\n",
        "H0: Rata-rata rating pengguna platform Xbox One dan PC adalah **SAMA**\n",
        "\n",
        "H1 : Rata-rata rating pengguna platform Xbox One dan PC **TIDAK SAMA**\n",
        "\n",
        "Dengan *p-value* = 0.14012658403611647, maka hasilnya adalah: **Rata-rata rating pengguna platform Xbox One dan PC adalah SAMA**\n",
        "\n",
        "#### Hipotesis 2\n",
        "H0: Rata-rata rating pengguna genre Action dan Sports adalah **SAMA**\n",
        "\n",
        "H1 : Rata-rata rating pengguna genre Action dan Sports **TIDAK SAMA**\n",
        "\n",
        "Dengan *p-value* = 6.299033466650836e-17, maka hasilnya adalah: **Rata-rata rating pengguna genre Action dan Sports TIDAK SAMA**"
      ]
    },
    {
      "cell_type": "code",
      "execution_count": null,
      "metadata": {
        "id": "h7phM0BdmYxG"
      },
      "outputs": [],
      "source": []
    }
  ],
  "metadata": {
    "kernelspec": {
      "display_name": "Python 3 (ipykernel)",
      "language": "python",
      "name": "python3"
    },
    "language_info": {
      "codemirror_mode": {
        "name": "ipython",
        "version": 3
      },
      "file_extension": ".py",
      "mimetype": "text/x-python",
      "name": "python",
      "nbconvert_exporter": "python",
      "pygments_lexer": "ipython3",
      "version": "3.9.5"
    },
    "toc": {
      "base_numbering": 1,
      "nav_menu": {},
      "number_sections": true,
      "sideBar": true,
      "skip_h1_title": true,
      "title_cell": "Table of Contents",
      "title_sidebar": "Contents",
      "toc_cell": false,
      "toc_position": {},
      "toc_section_display": true,
      "toc_window_display": false
    },
    "colab": {
      "provenance": []
    }
  },
  "nbformat": 4,
  "nbformat_minor": 0
}