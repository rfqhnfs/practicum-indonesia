{
  "cells": [
    {
      "cell_type": "markdown",
      "metadata": {
        "id": "WSkNRCiehilz"
      },
      "source": [
        "# Operator Telekomunikasi Megaline\n",
        "\n",
        "Analisis awal untuk paket-paket prabayar tersebut berdasarkan sampel klien yang berukuran relatif kecil. Data terdiri dari:\n",
        "\n",
        "- Siapa mereka, \n",
        "- Dari mana mereka, \n",
        "- Jenis paket apa yang mereka gunakan, \n",
        "- Jumlah panggilan dan pesan yang mereka kirim di tahun 2018\n",
        "\n",
        "Data terdiri dari 5 csv file:\n",
        "- megaline_calls.csv\n",
        "- megaline_internet.csv\n",
        "- megaline_messages.csv Unduh dataset\n",
        "- megaline_plans.csv\n",
        "- megaline_users.csv\n",
        "\n",
        "**Objective:**\n",
        "- **Menganalisis perilaku klien dan menentukan paket prabayar mana yang mendatangkan lebih banyak pendapatan**\n",
        "\n",
        "**Step:**\n",
        "- Pengecekan Kualitas Data\n",
        "- Modifikasi Data\n",
        "- Analisis Data; Mendeskripsikan perilaku konsumen\n",
        "- Uji Hipotesis\n",
        "  - Rata-rata pendapatan dari pengguna paket telepon Ultimate dan Surf berbeda\n",
        "  - Rata-rata pendapatan dari pengguna di wilayah NY-NJ berbeda dengan pendapatan pengguna dari wilayah lain"
      ]
    },
    {
      "cell_type": "markdown",
      "metadata": {
        "id": "c9IZcituhil0"
      },
      "source": [
        "## Import data & libraries"
      ]
    },
    {
      "cell_type": "code",
      "execution_count": null,
      "metadata": {
        "id": "SNdOZR32hil1"
      },
      "outputs": [],
      "source": [
        "import pandas as pd\n",
        "import matplotlib.pyplot as plt\n",
        "import seaborn as sns\n",
        "import numpy as np\n",
        "import scipy.stats as st\n",
        "import warnings\n",
        "\n",
        "warnings.filterwarnings('ignore')"
      ]
    },
    {
      "cell_type": "code",
      "execution_count": null,
      "metadata": {
        "id": "RVEAa14Ohil2"
      },
      "outputs": [],
      "source": [
        "call = pd.read_csv('/datasets/megaline_calls.csv')\n",
        "internet = pd.read_csv('/datasets/megaline_internet.csv')\n",
        "message = pd.read_csv('/datasets/megaline_messages.csv')\n",
        "plan = pd.read_csv('/datasets/megaline_plans.csv')\n",
        "user = pd.read_csv('/datasets/megaline_users.csv')"
      ]
    },
    {
      "cell_type": "markdown",
      "metadata": {
        "id": "n82Ej8mRhil3"
      },
      "source": [
        "## Pengecekan Kualitas Data"
      ]
    },
    {
      "cell_type": "markdown",
      "metadata": {
        "id": "e3Jt_4p1hil4"
      },
      "source": [
        "### Data `call`"
      ]
    },
    {
      "cell_type": "code",
      "execution_count": null,
      "metadata": {
        "id": "zwPGMKEOhil4",
        "outputId": "f1806b06-bb1d-4e41-898e-a7ad1ea83342"
      },
      "outputs": [
        {
          "name": "stdout",
          "output_type": "stream",
          "text": [
            "<class 'pandas.core.frame.DataFrame'>\n",
            "RangeIndex: 137735 entries, 0 to 137734\n",
            "Data columns (total 4 columns):\n",
            " #   Column     Non-Null Count   Dtype  \n",
            "---  ------     --------------   -----  \n",
            " 0   id         137735 non-null  object \n",
            " 1   user_id    137735 non-null  int64  \n",
            " 2   call_date  137735 non-null  object \n",
            " 3   duration   137735 non-null  float64\n",
            "dtypes: float64(1), int64(1), object(2)\n",
            "memory usage: 4.2+ MB\n"
          ]
        }
      ],
      "source": [
        "call.info()"
      ]
    },
    {
      "cell_type": "markdown",
      "metadata": {
        "id": "m214SflRhil5"
      },
      "source": [
        "- `id` — ID sesi web unik\n",
        "- `call_date` — tanggal panggilan\n",
        "- `duration` — durasi panggilan (dalam menit)\n",
        "- `user_id` — ID pengguna yang melakukan panggilan"
      ]
    },
    {
      "cell_type": "markdown",
      "metadata": {
        "id": "NFjMVfRQhil6"
      },
      "source": [
        "------\n",
        "\n",
        "- Tidak ada missing value\n",
        "- Tipe data pada kolom `call_date` akan dirubah menjadi datetime\n",
        "\n",
        "-----"
      ]
    },
    {
      "cell_type": "code",
      "execution_count": null,
      "metadata": {
        "id": "lb-57V9ehil6"
      },
      "outputs": [],
      "source": [
        "# Mengubah tipe data kolom call_date menjadi datetime\n",
        "\n",
        "call['call_date'] = pd.to_datetime(call['call_date'], format = '%Y-%m-%d')"
      ]
    },
    {
      "cell_type": "code",
      "execution_count": null,
      "metadata": {
        "id": "WXE2wB95hil6",
        "outputId": "8def5b3a-31e5-4bc4-cf42-d09c1cc1018b"
      },
      "outputs": [
        {
          "data": {
            "text/html": [
              "<div>\n",
              "<style scoped>\n",
              "    .dataframe tbody tr th:only-of-type {\n",
              "        vertical-align: middle;\n",
              "    }\n",
              "\n",
              "    .dataframe tbody tr th {\n",
              "        vertical-align: top;\n",
              "    }\n",
              "\n",
              "    .dataframe thead th {\n",
              "        text-align: right;\n",
              "    }\n",
              "</style>\n",
              "<table border=\"1\" class=\"dataframe\">\n",
              "  <thead>\n",
              "    <tr style=\"text-align: right;\">\n",
              "      <th></th>\n",
              "      <th>user_id</th>\n",
              "      <th>duration</th>\n",
              "    </tr>\n",
              "  </thead>\n",
              "  <tbody>\n",
              "    <tr>\n",
              "      <th>count</th>\n",
              "      <td>137735.000000</td>\n",
              "      <td>137735.000000</td>\n",
              "    </tr>\n",
              "    <tr>\n",
              "      <th>mean</th>\n",
              "      <td>1247.658046</td>\n",
              "      <td>6.745927</td>\n",
              "    </tr>\n",
              "    <tr>\n",
              "      <th>std</th>\n",
              "      <td>139.416268</td>\n",
              "      <td>5.839241</td>\n",
              "    </tr>\n",
              "    <tr>\n",
              "      <th>min</th>\n",
              "      <td>1000.000000</td>\n",
              "      <td>0.000000</td>\n",
              "    </tr>\n",
              "    <tr>\n",
              "      <th>25%</th>\n",
              "      <td>1128.000000</td>\n",
              "      <td>1.290000</td>\n",
              "    </tr>\n",
              "    <tr>\n",
              "      <th>50%</th>\n",
              "      <td>1247.000000</td>\n",
              "      <td>5.980000</td>\n",
              "    </tr>\n",
              "    <tr>\n",
              "      <th>75%</th>\n",
              "      <td>1365.000000</td>\n",
              "      <td>10.690000</td>\n",
              "    </tr>\n",
              "    <tr>\n",
              "      <th>max</th>\n",
              "      <td>1499.000000</td>\n",
              "      <td>37.600000</td>\n",
              "    </tr>\n",
              "  </tbody>\n",
              "</table>\n",
              "</div>"
            ],
            "text/plain": [
              "             user_id       duration\n",
              "count  137735.000000  137735.000000\n",
              "mean     1247.658046       6.745927\n",
              "std       139.416268       5.839241\n",
              "min      1000.000000       0.000000\n",
              "25%      1128.000000       1.290000\n",
              "50%      1247.000000       5.980000\n",
              "75%      1365.000000      10.690000\n",
              "max      1499.000000      37.600000"
            ]
          },
          "execution_count": 5,
          "metadata": {},
          "output_type": "execute_result"
        }
      ],
      "source": [
        "call.describe()"
      ]
    },
    {
      "cell_type": "code",
      "execution_count": null,
      "metadata": {
        "id": "EVHxS3aQhil6",
        "outputId": "a7f7c77c-703a-44a3-ead9-21b802f9e884"
      },
      "outputs": [
        {
          "data": {
            "text/plain": [
              "0"
            ]
          },
          "execution_count": 6,
          "metadata": {},
          "output_type": "execute_result"
        }
      ],
      "source": [
        "call.duplicated().sum()"
      ]
    },
    {
      "cell_type": "markdown",
      "metadata": {
        "id": "pQ7_HHJRhil7"
      },
      "source": [
        "------------------\n",
        "\n",
        "Durasi minimal call adalah 0.0\n",
        "\n",
        "Nilai 0.0 pada kolom ini akan dihapus karena tidak mengurangi kuota telfon dan data 0.0 ini akan mempengaruhi median dan distribusi data\n",
        "\n",
        "-----"
      ]
    },
    {
      "cell_type": "code",
      "execution_count": null,
      "metadata": {
        "id": "itARuFY-hil7"
      },
      "outputs": [],
      "source": [
        "# drop duration == 0\n",
        "\n",
        "call = call[call['duration'] > 0]"
      ]
    },
    {
      "cell_type": "code",
      "execution_count": null,
      "metadata": {
        "id": "Ag-C9klPhil7",
        "outputId": "f0e79800-3736-4256-d604-f32aee77ab72"
      },
      "outputs": [
        {
          "data": {
            "text/html": [
              "<div>\n",
              "<style scoped>\n",
              "    .dataframe tbody tr th:only-of-type {\n",
              "        vertical-align: middle;\n",
              "    }\n",
              "\n",
              "    .dataframe tbody tr th {\n",
              "        vertical-align: top;\n",
              "    }\n",
              "\n",
              "    .dataframe thead th {\n",
              "        text-align: right;\n",
              "    }\n",
              "</style>\n",
              "<table border=\"1\" class=\"dataframe\">\n",
              "  <thead>\n",
              "    <tr style=\"text-align: right;\">\n",
              "      <th></th>\n",
              "      <th>id</th>\n",
              "      <th>user_id</th>\n",
              "      <th>call_date</th>\n",
              "      <th>duration</th>\n",
              "    </tr>\n",
              "  </thead>\n",
              "  <tbody>\n",
              "    <tr>\n",
              "      <th>0</th>\n",
              "      <td>1000_93</td>\n",
              "      <td>1000</td>\n",
              "      <td>2018-12-27</td>\n",
              "      <td>8.52</td>\n",
              "    </tr>\n",
              "    <tr>\n",
              "      <th>1</th>\n",
              "      <td>1000_145</td>\n",
              "      <td>1000</td>\n",
              "      <td>2018-12-27</td>\n",
              "      <td>13.66</td>\n",
              "    </tr>\n",
              "    <tr>\n",
              "      <th>2</th>\n",
              "      <td>1000_247</td>\n",
              "      <td>1000</td>\n",
              "      <td>2018-12-27</td>\n",
              "      <td>14.48</td>\n",
              "    </tr>\n",
              "    <tr>\n",
              "      <th>3</th>\n",
              "      <td>1000_309</td>\n",
              "      <td>1000</td>\n",
              "      <td>2018-12-28</td>\n",
              "      <td>5.76</td>\n",
              "    </tr>\n",
              "    <tr>\n",
              "      <th>4</th>\n",
              "      <td>1000_380</td>\n",
              "      <td>1000</td>\n",
              "      <td>2018-12-30</td>\n",
              "      <td>4.22</td>\n",
              "    </tr>\n",
              "  </tbody>\n",
              "</table>\n",
              "</div>"
            ],
            "text/plain": [
              "         id  user_id  call_date  duration\n",
              "0   1000_93     1000 2018-12-27      8.52\n",
              "1  1000_145     1000 2018-12-27     13.66\n",
              "2  1000_247     1000 2018-12-27     14.48\n",
              "3  1000_309     1000 2018-12-28      5.76\n",
              "4  1000_380     1000 2018-12-30      4.22"
            ]
          },
          "execution_count": 8,
          "metadata": {},
          "output_type": "execute_result"
        }
      ],
      "source": [
        "call.head()"
      ]
    },
    {
      "cell_type": "markdown",
      "metadata": {
        "id": "XldYMDThhil8"
      },
      "source": [
        "### Data `internet`"
      ]
    },
    {
      "cell_type": "code",
      "execution_count": null,
      "metadata": {
        "id": "YOIe-jrXhil8",
        "outputId": "712d1e21-b861-4897-8ae6-1fb4c04c132a"
      },
      "outputs": [
        {
          "name": "stdout",
          "output_type": "stream",
          "text": [
            "<class 'pandas.core.frame.DataFrame'>\n",
            "RangeIndex: 104825 entries, 0 to 104824\n",
            "Data columns (total 4 columns):\n",
            " #   Column        Non-Null Count   Dtype  \n",
            "---  ------        --------------   -----  \n",
            " 0   id            104825 non-null  object \n",
            " 1   user_id       104825 non-null  int64  \n",
            " 2   session_date  104825 non-null  object \n",
            " 3   mb_used       104825 non-null  float64\n",
            "dtypes: float64(1), int64(1), object(2)\n",
            "memory usage: 3.2+ MB\n"
          ]
        }
      ],
      "source": [
        "internet.info()"
      ]
    },
    {
      "cell_type": "markdown",
      "metadata": {
        "id": "wK3x6F6mhil9"
      },
      "source": [
        "- `id` — ID sesi web unik\n",
        "- `mb_used` — volume data yang dihabiskan selama sesi (dalam megabita)\n",
        "- `session_date` — tanggal sesi web\n",
        "- `user_id` — ID pengguna"
      ]
    },
    {
      "cell_type": "markdown",
      "metadata": {
        "id": "Bsc0W82Lhil9"
      },
      "source": [
        "------\n",
        "\n",
        "- Tidak ada missing value\n",
        "- Tipe data pada kolom `session_date` akan dirubah menjadi datetime\n",
        "\n",
        "-----"
      ]
    },
    {
      "cell_type": "code",
      "execution_count": null,
      "metadata": {
        "id": "ZOlB6Z_ehil-"
      },
      "outputs": [],
      "source": [
        "# Mengubah tipe data kolom session_date menjadi datetime\n",
        "\n",
        "internet['session_date'] = pd.to_datetime(internet['session_date'], format = '%Y-%m-%d')"
      ]
    },
    {
      "cell_type": "code",
      "execution_count": null,
      "metadata": {
        "id": "6OmbpOSFhil-",
        "outputId": "3cd07343-fd04-4a97-a0ca-25e37d53dece"
      },
      "outputs": [
        {
          "data": {
            "text/html": [
              "<div>\n",
              "<style scoped>\n",
              "    .dataframe tbody tr th:only-of-type {\n",
              "        vertical-align: middle;\n",
              "    }\n",
              "\n",
              "    .dataframe tbody tr th {\n",
              "        vertical-align: top;\n",
              "    }\n",
              "\n",
              "    .dataframe thead th {\n",
              "        text-align: right;\n",
              "    }\n",
              "</style>\n",
              "<table border=\"1\" class=\"dataframe\">\n",
              "  <thead>\n",
              "    <tr style=\"text-align: right;\">\n",
              "      <th></th>\n",
              "      <th>user_id</th>\n",
              "      <th>mb_used</th>\n",
              "    </tr>\n",
              "  </thead>\n",
              "  <tbody>\n",
              "    <tr>\n",
              "      <th>count</th>\n",
              "      <td>104825.000000</td>\n",
              "      <td>104825.000000</td>\n",
              "    </tr>\n",
              "    <tr>\n",
              "      <th>mean</th>\n",
              "      <td>1242.496361</td>\n",
              "      <td>366.713701</td>\n",
              "    </tr>\n",
              "    <tr>\n",
              "      <th>std</th>\n",
              "      <td>142.053913</td>\n",
              "      <td>277.170542</td>\n",
              "    </tr>\n",
              "    <tr>\n",
              "      <th>min</th>\n",
              "      <td>1000.000000</td>\n",
              "      <td>0.000000</td>\n",
              "    </tr>\n",
              "    <tr>\n",
              "      <th>25%</th>\n",
              "      <td>1122.000000</td>\n",
              "      <td>136.080000</td>\n",
              "    </tr>\n",
              "    <tr>\n",
              "      <th>50%</th>\n",
              "      <td>1236.000000</td>\n",
              "      <td>343.980000</td>\n",
              "    </tr>\n",
              "    <tr>\n",
              "      <th>75%</th>\n",
              "      <td>1367.000000</td>\n",
              "      <td>554.610000</td>\n",
              "    </tr>\n",
              "    <tr>\n",
              "      <th>max</th>\n",
              "      <td>1499.000000</td>\n",
              "      <td>1693.470000</td>\n",
              "    </tr>\n",
              "  </tbody>\n",
              "</table>\n",
              "</div>"
            ],
            "text/plain": [
              "             user_id        mb_used\n",
              "count  104825.000000  104825.000000\n",
              "mean     1242.496361     366.713701\n",
              "std       142.053913     277.170542\n",
              "min      1000.000000       0.000000\n",
              "25%      1122.000000     136.080000\n",
              "50%      1236.000000     343.980000\n",
              "75%      1367.000000     554.610000\n",
              "max      1499.000000    1693.470000"
            ]
          },
          "execution_count": 11,
          "metadata": {},
          "output_type": "execute_result"
        }
      ],
      "source": [
        "internet.describe()"
      ]
    },
    {
      "cell_type": "code",
      "execution_count": null,
      "metadata": {
        "id": "1THAPyRihil_",
        "outputId": "129de3ae-85d0-402d-fafd-4b9f463140b3"
      },
      "outputs": [
        {
          "data": {
            "text/plain": [
              "0"
            ]
          },
          "execution_count": 12,
          "metadata": {},
          "output_type": "execute_result"
        }
      ],
      "source": [
        "internet.duplicated().sum()"
      ]
    },
    {
      "cell_type": "markdown",
      "metadata": {
        "id": "T0BkwMAphil_"
      },
      "source": [
        "------------------\n",
        "\n",
        "Mb data used minimal adalah 0.0\n",
        "\n",
        "Nilai 0.0 pada kolom ini akan dihapus karena tidak mengurangi kuota internet dan data 0.0 ini akan mempengaruhi median dan distribusi data\n",
        "\n",
        "-----"
      ]
    },
    {
      "cell_type": "code",
      "execution_count": null,
      "metadata": {
        "id": "J7jz1SHDhil_"
      },
      "outputs": [],
      "source": [
        "# drop session == 0\n",
        "\n",
        "internet = internet[internet['mb_used'] > 0]"
      ]
    },
    {
      "cell_type": "code",
      "execution_count": null,
      "metadata": {
        "id": "SV7R4olBhimA",
        "outputId": "4c6cc1e8-013a-4997-f450-78a041e10ca7"
      },
      "outputs": [
        {
          "data": {
            "text/html": [
              "<div>\n",
              "<style scoped>\n",
              "    .dataframe tbody tr th:only-of-type {\n",
              "        vertical-align: middle;\n",
              "    }\n",
              "\n",
              "    .dataframe tbody tr th {\n",
              "        vertical-align: top;\n",
              "    }\n",
              "\n",
              "    .dataframe thead th {\n",
              "        text-align: right;\n",
              "    }\n",
              "</style>\n",
              "<table border=\"1\" class=\"dataframe\">\n",
              "  <thead>\n",
              "    <tr style=\"text-align: right;\">\n",
              "      <th></th>\n",
              "      <th>id</th>\n",
              "      <th>user_id</th>\n",
              "      <th>session_date</th>\n",
              "      <th>mb_used</th>\n",
              "    </tr>\n",
              "  </thead>\n",
              "  <tbody>\n",
              "    <tr>\n",
              "      <th>0</th>\n",
              "      <td>1000_13</td>\n",
              "      <td>1000</td>\n",
              "      <td>2018-12-29</td>\n",
              "      <td>89.86</td>\n",
              "    </tr>\n",
              "    <tr>\n",
              "      <th>2</th>\n",
              "      <td>1000_379</td>\n",
              "      <td>1000</td>\n",
              "      <td>2018-12-28</td>\n",
              "      <td>660.40</td>\n",
              "    </tr>\n",
              "    <tr>\n",
              "      <th>3</th>\n",
              "      <td>1000_413</td>\n",
              "      <td>1000</td>\n",
              "      <td>2018-12-26</td>\n",
              "      <td>270.99</td>\n",
              "    </tr>\n",
              "    <tr>\n",
              "      <th>4</th>\n",
              "      <td>1000_442</td>\n",
              "      <td>1000</td>\n",
              "      <td>2018-12-27</td>\n",
              "      <td>880.22</td>\n",
              "    </tr>\n",
              "    <tr>\n",
              "      <th>5</th>\n",
              "      <td>1001_0</td>\n",
              "      <td>1001</td>\n",
              "      <td>2018-08-24</td>\n",
              "      <td>284.68</td>\n",
              "    </tr>\n",
              "  </tbody>\n",
              "</table>\n",
              "</div>"
            ],
            "text/plain": [
              "         id  user_id session_date  mb_used\n",
              "0   1000_13     1000   2018-12-29    89.86\n",
              "2  1000_379     1000   2018-12-28   660.40\n",
              "3  1000_413     1000   2018-12-26   270.99\n",
              "4  1000_442     1000   2018-12-27   880.22\n",
              "5    1001_0     1001   2018-08-24   284.68"
            ]
          },
          "execution_count": 14,
          "metadata": {},
          "output_type": "execute_result"
        }
      ],
      "source": [
        "internet.head()"
      ]
    },
    {
      "cell_type": "markdown",
      "metadata": {
        "id": "KAfE5gUWhimA"
      },
      "source": [
        "### Data `message`"
      ]
    },
    {
      "cell_type": "code",
      "execution_count": null,
      "metadata": {
        "id": "7xodP-UzhimA",
        "outputId": "d17729ab-3e79-4e47-cd9f-1772102425fa"
      },
      "outputs": [
        {
          "name": "stdout",
          "output_type": "stream",
          "text": [
            "<class 'pandas.core.frame.DataFrame'>\n",
            "RangeIndex: 76051 entries, 0 to 76050\n",
            "Data columns (total 3 columns):\n",
            " #   Column        Non-Null Count  Dtype \n",
            "---  ------        --------------  ----- \n",
            " 0   id            76051 non-null  object\n",
            " 1   user_id       76051 non-null  int64 \n",
            " 2   message_date  76051 non-null  object\n",
            "dtypes: int64(1), object(2)\n",
            "memory usage: 1.7+ MB\n"
          ]
        }
      ],
      "source": [
        "message.info()"
      ]
    },
    {
      "cell_type": "markdown",
      "metadata": {
        "id": "g_4q6gEahimB"
      },
      "source": [
        "- `id` — ID SMS unik\n",
        "- `message_date` — tanggal SMS dikirim\n",
        "- `user_id` — ID pengguna yang mengirim SMS"
      ]
    },
    {
      "cell_type": "markdown",
      "metadata": {
        "id": "KTVV0z7uhimB"
      },
      "source": [
        "------\n",
        "\n",
        "- Tidak ada missing value\n",
        "- Tipe data pada kolom `message_date` akan dirubah menjadi datetime\n",
        "\n",
        "-----"
      ]
    },
    {
      "cell_type": "code",
      "execution_count": null,
      "metadata": {
        "id": "7pnZRbbqhimB"
      },
      "outputs": [],
      "source": [
        "# Mengubah tipe data kolom message_date menjadi datetime\n",
        "\n",
        "message['message_date'] = pd.to_datetime(message['message_date'], format = '%Y-%m-%d')"
      ]
    },
    {
      "cell_type": "code",
      "execution_count": null,
      "metadata": {
        "id": "S2qDH4JQhimC",
        "outputId": "6b9e8f99-b980-4be1-a26a-49969f0835ef"
      },
      "outputs": [
        {
          "data": {
            "text/plain": [
              "0"
            ]
          },
          "execution_count": 17,
          "metadata": {},
          "output_type": "execute_result"
        }
      ],
      "source": [
        "message.duplicated().sum()"
      ]
    },
    {
      "cell_type": "code",
      "execution_count": null,
      "metadata": {
        "id": "aOGV2fJDhimC",
        "outputId": "a2fe4205-9b61-4b34-d0fe-44b5d10a2e50"
      },
      "outputs": [
        {
          "data": {
            "text/html": [
              "<div>\n",
              "<style scoped>\n",
              "    .dataframe tbody tr th:only-of-type {\n",
              "        vertical-align: middle;\n",
              "    }\n",
              "\n",
              "    .dataframe tbody tr th {\n",
              "        vertical-align: top;\n",
              "    }\n",
              "\n",
              "    .dataframe thead th {\n",
              "        text-align: right;\n",
              "    }\n",
              "</style>\n",
              "<table border=\"1\" class=\"dataframe\">\n",
              "  <thead>\n",
              "    <tr style=\"text-align: right;\">\n",
              "      <th></th>\n",
              "      <th>id</th>\n",
              "      <th>user_id</th>\n",
              "      <th>message_date</th>\n",
              "    </tr>\n",
              "  </thead>\n",
              "  <tbody>\n",
              "    <tr>\n",
              "      <th>0</th>\n",
              "      <td>1000_125</td>\n",
              "      <td>1000</td>\n",
              "      <td>2018-12-27</td>\n",
              "    </tr>\n",
              "    <tr>\n",
              "      <th>1</th>\n",
              "      <td>1000_160</td>\n",
              "      <td>1000</td>\n",
              "      <td>2018-12-31</td>\n",
              "    </tr>\n",
              "    <tr>\n",
              "      <th>2</th>\n",
              "      <td>1000_223</td>\n",
              "      <td>1000</td>\n",
              "      <td>2018-12-31</td>\n",
              "    </tr>\n",
              "    <tr>\n",
              "      <th>3</th>\n",
              "      <td>1000_251</td>\n",
              "      <td>1000</td>\n",
              "      <td>2018-12-27</td>\n",
              "    </tr>\n",
              "    <tr>\n",
              "      <th>4</th>\n",
              "      <td>1000_255</td>\n",
              "      <td>1000</td>\n",
              "      <td>2018-12-26</td>\n",
              "    </tr>\n",
              "  </tbody>\n",
              "</table>\n",
              "</div>"
            ],
            "text/plain": [
              "         id  user_id message_date\n",
              "0  1000_125     1000   2018-12-27\n",
              "1  1000_160     1000   2018-12-31\n",
              "2  1000_223     1000   2018-12-31\n",
              "3  1000_251     1000   2018-12-27\n",
              "4  1000_255     1000   2018-12-26"
            ]
          },
          "execution_count": 18,
          "metadata": {},
          "output_type": "execute_result"
        }
      ],
      "source": [
        "message.head()"
      ]
    },
    {
      "cell_type": "markdown",
      "metadata": {
        "id": "NfXqoHCahimD"
      },
      "source": [
        "### Data `plan`"
      ]
    },
    {
      "cell_type": "code",
      "execution_count": null,
      "metadata": {
        "id": "xAS2S4yfhimD",
        "outputId": "58955e55-d609-4e5f-f6b7-8869db3e5da7"
      },
      "outputs": [
        {
          "name": "stdout",
          "output_type": "stream",
          "text": [
            "<class 'pandas.core.frame.DataFrame'>\n",
            "RangeIndex: 2 entries, 0 to 1\n",
            "Data columns (total 8 columns):\n",
            " #   Column                 Non-Null Count  Dtype  \n",
            "---  ------                 --------------  -----  \n",
            " 0   messages_included      2 non-null      int64  \n",
            " 1   mb_per_month_included  2 non-null      int64  \n",
            " 2   minutes_included       2 non-null      int64  \n",
            " 3   usd_monthly_pay        2 non-null      int64  \n",
            " 4   usd_per_gb             2 non-null      int64  \n",
            " 5   usd_per_message        2 non-null      float64\n",
            " 6   usd_per_minute         2 non-null      float64\n",
            " 7   plan_name              2 non-null      object \n",
            "dtypes: float64(2), int64(5), object(1)\n",
            "memory usage: 256.0+ bytes\n"
          ]
        }
      ],
      "source": [
        "plan.info()"
      ]
    },
    {
      "cell_type": "markdown",
      "metadata": {
        "id": "JGpMF1nShimD"
      },
      "source": [
        "- `plan_name` — nama paket telepon\n",
        "- `usd_monthly_fee` — biaya bulanan dalam dolar AS\n",
        "- `minutes_included` — alokasi menit panggilan bulanan\n",
        "- `messages_included` — alokasi SMS bulanan\n",
        "- `mb_per_month_included` — alokasi volume data bulanan (dalam megabita)\n",
        "- `usd_per_minute` — harga per menit jika telah melebihi batas alokasi paket (misalnya, jika paket memiliki alokasi 100 menit, maka penggunaan mulai dari menit ke-101 akan dikenakan biaya)\n",
        "- `usd_per_message` — harga per SMS jika telah melebihi batas alokasi paket\n",
        "- `usd_per_gb` — harga per ekstra gigabita data jika telah melebihi batas alokasi paket (1 GB = 1024 megabita)"
      ]
    },
    {
      "cell_type": "markdown",
      "metadata": {
        "id": "Sbi1lHgGhimE"
      },
      "source": [
        "----------\n",
        "\n",
        "Tidak ada missing value dan semua tipe data sudah sesuai\n",
        "\n",
        "-----------"
      ]
    },
    {
      "cell_type": "code",
      "execution_count": null,
      "metadata": {
        "id": "mEIU4emShimE",
        "outputId": "3e148095-1da8-41f2-dd2b-8314aa9249bd"
      },
      "outputs": [
        {
          "data": {
            "text/html": [
              "<div>\n",
              "<style scoped>\n",
              "    .dataframe tbody tr th:only-of-type {\n",
              "        vertical-align: middle;\n",
              "    }\n",
              "\n",
              "    .dataframe tbody tr th {\n",
              "        vertical-align: top;\n",
              "    }\n",
              "\n",
              "    .dataframe thead th {\n",
              "        text-align: right;\n",
              "    }\n",
              "</style>\n",
              "<table border=\"1\" class=\"dataframe\">\n",
              "  <thead>\n",
              "    <tr style=\"text-align: right;\">\n",
              "      <th></th>\n",
              "      <th>messages_included</th>\n",
              "      <th>mb_per_month_included</th>\n",
              "      <th>minutes_included</th>\n",
              "      <th>usd_monthly_pay</th>\n",
              "      <th>usd_per_gb</th>\n",
              "      <th>usd_per_message</th>\n",
              "      <th>usd_per_minute</th>\n",
              "      <th>plan_name</th>\n",
              "    </tr>\n",
              "  </thead>\n",
              "  <tbody>\n",
              "    <tr>\n",
              "      <th>0</th>\n",
              "      <td>50</td>\n",
              "      <td>15360</td>\n",
              "      <td>500</td>\n",
              "      <td>20</td>\n",
              "      <td>10</td>\n",
              "      <td>0.03</td>\n",
              "      <td>0.03</td>\n",
              "      <td>surf</td>\n",
              "    </tr>\n",
              "    <tr>\n",
              "      <th>1</th>\n",
              "      <td>1000</td>\n",
              "      <td>30720</td>\n",
              "      <td>3000</td>\n",
              "      <td>70</td>\n",
              "      <td>7</td>\n",
              "      <td>0.01</td>\n",
              "      <td>0.01</td>\n",
              "      <td>ultimate</td>\n",
              "    </tr>\n",
              "  </tbody>\n",
              "</table>\n",
              "</div>"
            ],
            "text/plain": [
              "   messages_included  mb_per_month_included  minutes_included  \\\n",
              "0                 50                  15360               500   \n",
              "1               1000                  30720              3000   \n",
              "\n",
              "   usd_monthly_pay  usd_per_gb  usd_per_message  usd_per_minute plan_name  \n",
              "0               20          10             0.03            0.03      surf  \n",
              "1               70           7             0.01            0.01  ultimate  "
            ]
          },
          "execution_count": 20,
          "metadata": {},
          "output_type": "execute_result"
        }
      ],
      "source": [
        "plan"
      ]
    },
    {
      "cell_type": "markdown",
      "metadata": {
        "id": "Fo9rLBzShimF"
      },
      "source": [
        "### Data `user`"
      ]
    },
    {
      "cell_type": "code",
      "execution_count": null,
      "metadata": {
        "id": "o07SJ6y6himF",
        "outputId": "f32bc624-cc76-40b9-b0ea-656d5bec44a6"
      },
      "outputs": [
        {
          "name": "stdout",
          "output_type": "stream",
          "text": [
            "<class 'pandas.core.frame.DataFrame'>\n",
            "RangeIndex: 500 entries, 0 to 499\n",
            "Data columns (total 8 columns):\n",
            " #   Column      Non-Null Count  Dtype \n",
            "---  ------      --------------  ----- \n",
            " 0   user_id     500 non-null    int64 \n",
            " 1   first_name  500 non-null    object\n",
            " 2   last_name   500 non-null    object\n",
            " 3   age         500 non-null    int64 \n",
            " 4   city        500 non-null    object\n",
            " 5   reg_date    500 non-null    object\n",
            " 6   plan        500 non-null    object\n",
            " 7   churn_date  34 non-null     object\n",
            "dtypes: int64(2), object(6)\n",
            "memory usage: 31.4+ KB\n"
          ]
        }
      ],
      "source": [
        "user.info()"
      ]
    },
    {
      "cell_type": "markdown",
      "metadata": {
        "id": "ocO7lrrPhimF"
      },
      "source": [
        "- `user_id` — ID pengguna\n",
        "- `first_name` — nama depan pengguna\n",
        "- `last_name` — nama belakang pengguna\n",
        "- `age` — usia pengguna (tahun)\n",
        "- `reg_date` — tanggal mulai berlangganan (yyyy-mm-dd)\n",
        "- `churn_date` — tanggal pengguna berhenti menggunakan layanan (jika nilainya hilang atau tidak ada, berarti paket layanan sedang digunakan saat data ini dibuat)\n",
        "- `city` — kota tempat tinggal pengguna\n",
        "- `plan` — nama paket telepon"
      ]
    },
    {
      "cell_type": "markdown",
      "metadata": {
        "id": "m1VE5l-thimF"
      },
      "source": [
        "-----------\n",
        "\n",
        "- Terdapat missing value pada `churn_date`. Ini terjadi karena pelanggan masih menjalankan paketnya ketika data di collect\n",
        "- Tipe data kolom `reg_date` akan dirubah menjadi datetime\n",
        "\n",
        "---------"
      ]
    },
    {
      "cell_type": "code",
      "execution_count": null,
      "metadata": {
        "id": "unqeU1HVhimG",
        "outputId": "7db249e1-52d0-4de7-af2b-84e9124e5e85"
      },
      "outputs": [
        {
          "data": {
            "text/plain": [
              "0"
            ]
          },
          "execution_count": 22,
          "metadata": {},
          "output_type": "execute_result"
        }
      ],
      "source": [
        "user.duplicated().sum()"
      ]
    },
    {
      "cell_type": "code",
      "execution_count": null,
      "metadata": {
        "id": "ldsCf7mdhimG"
      },
      "outputs": [],
      "source": [
        "# Mengubah tipe data kolom reg_date & churn_date menjadi datetime\n",
        "\n",
        "user['reg_date'] = pd.to_datetime(user['reg_date'], format = '%Y-%m-%d')\n",
        "user['churn_date'] = pd.to_datetime(user['churn_date'], format = '%Y-%m-%d')"
      ]
    },
    {
      "cell_type": "code",
      "execution_count": null,
      "metadata": {
        "id": "mtNZ-PlghimG",
        "outputId": "8ad0b842-1cc7-43f8-bdbf-9af0c9f1ecd5"
      },
      "outputs": [
        {
          "data": {
            "text/html": [
              "<div>\n",
              "<style scoped>\n",
              "    .dataframe tbody tr th:only-of-type {\n",
              "        vertical-align: middle;\n",
              "    }\n",
              "\n",
              "    .dataframe tbody tr th {\n",
              "        vertical-align: top;\n",
              "    }\n",
              "\n",
              "    .dataframe thead th {\n",
              "        text-align: right;\n",
              "    }\n",
              "</style>\n",
              "<table border=\"1\" class=\"dataframe\">\n",
              "  <thead>\n",
              "    <tr style=\"text-align: right;\">\n",
              "      <th></th>\n",
              "      <th>user_id</th>\n",
              "      <th>first_name</th>\n",
              "      <th>last_name</th>\n",
              "      <th>age</th>\n",
              "      <th>city</th>\n",
              "      <th>reg_date</th>\n",
              "      <th>plan</th>\n",
              "      <th>churn_date</th>\n",
              "    </tr>\n",
              "  </thead>\n",
              "  <tbody>\n",
              "    <tr>\n",
              "      <th>0</th>\n",
              "      <td>1000</td>\n",
              "      <td>Anamaria</td>\n",
              "      <td>Bauer</td>\n",
              "      <td>45</td>\n",
              "      <td>Atlanta-Sandy Springs-Roswell, GA MSA</td>\n",
              "      <td>2018-12-24</td>\n",
              "      <td>ultimate</td>\n",
              "      <td>NaT</td>\n",
              "    </tr>\n",
              "    <tr>\n",
              "      <th>1</th>\n",
              "      <td>1001</td>\n",
              "      <td>Mickey</td>\n",
              "      <td>Wilkerson</td>\n",
              "      <td>28</td>\n",
              "      <td>Seattle-Tacoma-Bellevue, WA MSA</td>\n",
              "      <td>2018-08-13</td>\n",
              "      <td>surf</td>\n",
              "      <td>NaT</td>\n",
              "    </tr>\n",
              "    <tr>\n",
              "      <th>2</th>\n",
              "      <td>1002</td>\n",
              "      <td>Carlee</td>\n",
              "      <td>Hoffman</td>\n",
              "      <td>36</td>\n",
              "      <td>Las Vegas-Henderson-Paradise, NV MSA</td>\n",
              "      <td>2018-10-21</td>\n",
              "      <td>surf</td>\n",
              "      <td>NaT</td>\n",
              "    </tr>\n",
              "    <tr>\n",
              "      <th>3</th>\n",
              "      <td>1003</td>\n",
              "      <td>Reynaldo</td>\n",
              "      <td>Jenkins</td>\n",
              "      <td>52</td>\n",
              "      <td>Tulsa, OK MSA</td>\n",
              "      <td>2018-01-28</td>\n",
              "      <td>surf</td>\n",
              "      <td>NaT</td>\n",
              "    </tr>\n",
              "    <tr>\n",
              "      <th>4</th>\n",
              "      <td>1004</td>\n",
              "      <td>Leonila</td>\n",
              "      <td>Thompson</td>\n",
              "      <td>40</td>\n",
              "      <td>Seattle-Tacoma-Bellevue, WA MSA</td>\n",
              "      <td>2018-05-23</td>\n",
              "      <td>surf</td>\n",
              "      <td>NaT</td>\n",
              "    </tr>\n",
              "  </tbody>\n",
              "</table>\n",
              "</div>"
            ],
            "text/plain": [
              "   user_id first_name  last_name  age                                   city  \\\n",
              "0     1000   Anamaria      Bauer   45  Atlanta-Sandy Springs-Roswell, GA MSA   \n",
              "1     1001     Mickey  Wilkerson   28        Seattle-Tacoma-Bellevue, WA MSA   \n",
              "2     1002     Carlee    Hoffman   36   Las Vegas-Henderson-Paradise, NV MSA   \n",
              "3     1003   Reynaldo    Jenkins   52                          Tulsa, OK MSA   \n",
              "4     1004    Leonila   Thompson   40        Seattle-Tacoma-Bellevue, WA MSA   \n",
              "\n",
              "    reg_date      plan churn_date  \n",
              "0 2018-12-24  ultimate        NaT  \n",
              "1 2018-08-13      surf        NaT  \n",
              "2 2018-10-21      surf        NaT  \n",
              "3 2018-01-28      surf        NaT  \n",
              "4 2018-05-23      surf        NaT  "
            ]
          },
          "execution_count": 24,
          "metadata": {},
          "output_type": "execute_result"
        }
      ],
      "source": [
        "user.head()"
      ]
    },
    {
      "cell_type": "markdown",
      "metadata": {
        "id": "GAyJ1zDuhimH"
      },
      "source": [
        "## Modifikasi Data"
      ]
    },
    {
      "cell_type": "markdown",
      "metadata": {
        "id": "s_Unn1srhimH"
      },
      "source": [
        "- Mencari jumlah `call` dan total menit `call` per bulan untuk setiap user\n",
        "- Mencari total `message` per bulan untuk setiap user\n",
        "- Mencari total `mb_used` per bulan untuk setiap user\n",
        "- Mencari pendapatan bulanan untuk setiap user\n",
        "\n",
        "-------"
      ]
    },
    {
      "cell_type": "markdown",
      "metadata": {
        "id": "A3wReg_ThimH"
      },
      "source": [
        "Setelah dilakukan modifikasi data lebih lanjut, terdapat value yang masih terisi ketika user sudah tidak berlangganan paket. Misalnya:\n",
        "- `churn_date` user adalah bulan 9\n",
        "- `reg_date` user adalah bulan 4\n",
        "\n",
        "Tetapi pada bulan 10 sampai bulan 12 masih terdapat value yang berisi jumlah durasi call yang dilakukan user yang mana hal ini merupakan kesalahan karena user telah berhenti berlangganan pada bulan 9\n",
        "\n",
        "**Maka semua value yang bukan null setelah `churn_date` akan di assign dengan `np.nan`**"
      ]
    },
    {
      "cell_type": "code",
      "execution_count": null,
      "metadata": {
        "id": "yp3kyYNwhimH"
      },
      "outputs": [],
      "source": [
        "def value_cleansing (dataframe):\n",
        "  '''\n",
        "    I.S: dataframe count (eg: minute_count, internet_count) masih berisi value yang keliru seperti yang sudah dijelaskan pada awal bab Modifikasi Data\n",
        "    F.S: return dataframe dengan value yang sudah diperbaiki\n",
        "\n",
        "    Parameters:\n",
        "    -----------\n",
        "        dataframe:\n",
        "            Dataframe count (eg: minute_count, internet_count)\n",
        "    '''\n",
        "\n",
        "  for i in dataframe.index:\n",
        "    reg = dataframe.iloc[i]['reg_date'].month\n",
        "    if pd.isnull(dataframe.iloc[i]['churn_date']) == False:\n",
        "      stop = dataframe.iloc[i]['churn_date'].month\n",
        "    elif pd.isnull(dataframe.iloc[i]['churn_date']) == True:\n",
        "      stop = 12\n",
        "\n",
        "    for j in range(reg, stop+1):\n",
        "      if pd.isnull(dataframe.iloc[i][j]) == True:\n",
        "        dataframe.iloc[i, j] = 0\n",
        "\n",
        "    if stop+1 < 12:\n",
        "      for k in range(stop+1, 13):\n",
        "        dataframe.iloc[i,k] = np.nan\n",
        "\n",
        "  return dataframe"
      ]
    },
    {
      "cell_type": "markdown",
      "metadata": {
        "id": "j2cPK5bzhimI"
      },
      "source": [
        "### Mencari jumlah `call` dan total menit `call` per bulan untuk setiap user"
      ]
    },
    {
      "cell_type": "code",
      "execution_count": null,
      "metadata": {
        "id": "nGh8M0Y6himI",
        "outputId": "45f27e69-bdfa-4993-e5e4-477026728bdd"
      },
      "outputs": [
        {
          "data": {
            "text/html": [
              "<div>\n",
              "<style scoped>\n",
              "    .dataframe tbody tr th:only-of-type {\n",
              "        vertical-align: middle;\n",
              "    }\n",
              "\n",
              "    .dataframe tbody tr th {\n",
              "        vertical-align: top;\n",
              "    }\n",
              "\n",
              "    .dataframe thead th {\n",
              "        text-align: right;\n",
              "    }\n",
              "</style>\n",
              "<table border=\"1\" class=\"dataframe\">\n",
              "  <thead>\n",
              "    <tr style=\"text-align: right;\">\n",
              "      <th></th>\n",
              "      <th>id</th>\n",
              "      <th>user_id</th>\n",
              "      <th>call_date</th>\n",
              "      <th>duration</th>\n",
              "    </tr>\n",
              "  </thead>\n",
              "  <tbody>\n",
              "    <tr>\n",
              "      <th>0</th>\n",
              "      <td>1000_93</td>\n",
              "      <td>1000</td>\n",
              "      <td>2018-12-27</td>\n",
              "      <td>8.52</td>\n",
              "    </tr>\n",
              "    <tr>\n",
              "      <th>1</th>\n",
              "      <td>1000_145</td>\n",
              "      <td>1000</td>\n",
              "      <td>2018-12-27</td>\n",
              "      <td>13.66</td>\n",
              "    </tr>\n",
              "    <tr>\n",
              "      <th>2</th>\n",
              "      <td>1000_247</td>\n",
              "      <td>1000</td>\n",
              "      <td>2018-12-27</td>\n",
              "      <td>14.48</td>\n",
              "    </tr>\n",
              "    <tr>\n",
              "      <th>3</th>\n",
              "      <td>1000_309</td>\n",
              "      <td>1000</td>\n",
              "      <td>2018-12-28</td>\n",
              "      <td>5.76</td>\n",
              "    </tr>\n",
              "    <tr>\n",
              "      <th>4</th>\n",
              "      <td>1000_380</td>\n",
              "      <td>1000</td>\n",
              "      <td>2018-12-30</td>\n",
              "      <td>4.22</td>\n",
              "    </tr>\n",
              "  </tbody>\n",
              "</table>\n",
              "</div>"
            ],
            "text/plain": [
              "         id  user_id  call_date  duration\n",
              "0   1000_93     1000 2018-12-27      8.52\n",
              "1  1000_145     1000 2018-12-27     13.66\n",
              "2  1000_247     1000 2018-12-27     14.48\n",
              "3  1000_309     1000 2018-12-28      5.76\n",
              "4  1000_380     1000 2018-12-30      4.22"
            ]
          },
          "execution_count": 26,
          "metadata": {},
          "output_type": "execute_result"
        }
      ],
      "source": [
        "call.head()"
      ]
    },
    {
      "cell_type": "code",
      "execution_count": null,
      "metadata": {
        "id": "me6WFFqZhimI"
      },
      "outputs": [],
      "source": [
        "# Mencari jumlah call per bulan untuk setiap user\n",
        "\n",
        "call_count = pd.DataFrame(data=user['user_id'])\n",
        "\n",
        "for i in range(1, 13): #loop dimulai dari bulan 1 sampai 12\n",
        "    temp = call[call['call_date'].dt.month == i]\n",
        "    temp = temp.groupby('user_id')['duration'].count().reset_index()\n",
        "    temp = temp.rename(columns={'duration': f'{i}'})\n",
        "    call_count = call_count.merge(temp, on= 'user_id', how= 'left')\n",
        "\n",
        "\n",
        "call_count = call_count.merge(user[['user_id', 'plan', 'reg_date', 'churn_date']], on= 'user_id', how= 'left')"
      ]
    },
    {
      "cell_type": "code",
      "execution_count": null,
      "metadata": {
        "id": "L5XfybnqhimJ",
        "outputId": "74523346-e98e-4b88-eeb6-dba3bd658534"
      },
      "outputs": [
        {
          "data": {
            "text/html": [
              "<div>\n",
              "<style scoped>\n",
              "    .dataframe tbody tr th:only-of-type {\n",
              "        vertical-align: middle;\n",
              "    }\n",
              "\n",
              "    .dataframe tbody tr th {\n",
              "        vertical-align: top;\n",
              "    }\n",
              "\n",
              "    .dataframe thead th {\n",
              "        text-align: right;\n",
              "    }\n",
              "</style>\n",
              "<table border=\"1\" class=\"dataframe\">\n",
              "  <thead>\n",
              "    <tr style=\"text-align: right;\">\n",
              "      <th></th>\n",
              "      <th>user_id</th>\n",
              "      <th>1</th>\n",
              "      <th>2</th>\n",
              "      <th>3</th>\n",
              "      <th>4</th>\n",
              "      <th>5</th>\n",
              "      <th>6</th>\n",
              "      <th>7</th>\n",
              "      <th>8</th>\n",
              "      <th>9</th>\n",
              "      <th>10</th>\n",
              "      <th>11</th>\n",
              "      <th>12</th>\n",
              "      <th>plan</th>\n",
              "      <th>reg_date</th>\n",
              "      <th>churn_date</th>\n",
              "    </tr>\n",
              "  </thead>\n",
              "  <tbody>\n",
              "    <tr>\n",
              "      <th>0</th>\n",
              "      <td>1000</td>\n",
              "      <td>NaN</td>\n",
              "      <td>NaN</td>\n",
              "      <td>NaN</td>\n",
              "      <td>NaN</td>\n",
              "      <td>NaN</td>\n",
              "      <td>NaN</td>\n",
              "      <td>NaN</td>\n",
              "      <td>NaN</td>\n",
              "      <td>NaN</td>\n",
              "      <td>NaN</td>\n",
              "      <td>NaN</td>\n",
              "      <td>16.0</td>\n",
              "      <td>ultimate</td>\n",
              "      <td>2018-12-24</td>\n",
              "      <td>NaT</td>\n",
              "    </tr>\n",
              "    <tr>\n",
              "      <th>1</th>\n",
              "      <td>1001</td>\n",
              "      <td>NaN</td>\n",
              "      <td>NaN</td>\n",
              "      <td>NaN</td>\n",
              "      <td>NaN</td>\n",
              "      <td>NaN</td>\n",
              "      <td>NaN</td>\n",
              "      <td>NaN</td>\n",
              "      <td>22.0</td>\n",
              "      <td>38.0</td>\n",
              "      <td>47.0</td>\n",
              "      <td>49.0</td>\n",
              "      <td>46.0</td>\n",
              "      <td>surf</td>\n",
              "      <td>2018-08-13</td>\n",
              "      <td>NaT</td>\n",
              "    </tr>\n",
              "    <tr>\n",
              "      <th>2</th>\n",
              "      <td>1002</td>\n",
              "      <td>NaN</td>\n",
              "      <td>NaN</td>\n",
              "      <td>NaN</td>\n",
              "      <td>NaN</td>\n",
              "      <td>NaN</td>\n",
              "      <td>NaN</td>\n",
              "      <td>NaN</td>\n",
              "      <td>NaN</td>\n",
              "      <td>NaN</td>\n",
              "      <td>8.0</td>\n",
              "      <td>48.0</td>\n",
              "      <td>38.0</td>\n",
              "      <td>surf</td>\n",
              "      <td>2018-10-21</td>\n",
              "      <td>NaT</td>\n",
              "    </tr>\n",
              "    <tr>\n",
              "      <th>3</th>\n",
              "      <td>1003</td>\n",
              "      <td>NaN</td>\n",
              "      <td>NaN</td>\n",
              "      <td>NaN</td>\n",
              "      <td>NaN</td>\n",
              "      <td>NaN</td>\n",
              "      <td>NaN</td>\n",
              "      <td>NaN</td>\n",
              "      <td>NaN</td>\n",
              "      <td>NaN</td>\n",
              "      <td>NaN</td>\n",
              "      <td>NaN</td>\n",
              "      <td>118.0</td>\n",
              "      <td>surf</td>\n",
              "      <td>2018-01-28</td>\n",
              "      <td>NaT</td>\n",
              "    </tr>\n",
              "    <tr>\n",
              "      <th>4</th>\n",
              "      <td>1004</td>\n",
              "      <td>NaN</td>\n",
              "      <td>NaN</td>\n",
              "      <td>NaN</td>\n",
              "      <td>NaN</td>\n",
              "      <td>19.0</td>\n",
              "      <td>33.0</td>\n",
              "      <td>45.0</td>\n",
              "      <td>42.0</td>\n",
              "      <td>32.0</td>\n",
              "      <td>47.0</td>\n",
              "      <td>45.0</td>\n",
              "      <td>43.0</td>\n",
              "      <td>surf</td>\n",
              "      <td>2018-05-23</td>\n",
              "      <td>NaT</td>\n",
              "    </tr>\n",
              "    <tr>\n",
              "      <th>5</th>\n",
              "      <td>1005</td>\n",
              "      <td>NaN</td>\n",
              "      <td>NaN</td>\n",
              "      <td>NaN</td>\n",
              "      <td>NaN</td>\n",
              "      <td>NaN</td>\n",
              "      <td>NaN</td>\n",
              "      <td>NaN</td>\n",
              "      <td>NaN</td>\n",
              "      <td>NaN</td>\n",
              "      <td>NaN</td>\n",
              "      <td>NaN</td>\n",
              "      <td>50.0</td>\n",
              "      <td>surf</td>\n",
              "      <td>2018-11-29</td>\n",
              "      <td>NaT</td>\n",
              "    </tr>\n",
              "    <tr>\n",
              "      <th>6</th>\n",
              "      <td>1006</td>\n",
              "      <td>NaN</td>\n",
              "      <td>NaN</td>\n",
              "      <td>NaN</td>\n",
              "      <td>NaN</td>\n",
              "      <td>NaN</td>\n",
              "      <td>NaN</td>\n",
              "      <td>NaN</td>\n",
              "      <td>NaN</td>\n",
              "      <td>NaN</td>\n",
              "      <td>NaN</td>\n",
              "      <td>2.0</td>\n",
              "      <td>7.0</td>\n",
              "      <td>ultimate</td>\n",
              "      <td>2018-11-27</td>\n",
              "      <td>2018-12-18</td>\n",
              "    </tr>\n",
              "    <tr>\n",
              "      <th>7</th>\n",
              "      <td>1007</td>\n",
              "      <td>NaN</td>\n",
              "      <td>NaN</td>\n",
              "      <td>NaN</td>\n",
              "      <td>NaN</td>\n",
              "      <td>NaN</td>\n",
              "      <td>NaN</td>\n",
              "      <td>NaN</td>\n",
              "      <td>56.0</td>\n",
              "      <td>49.0</td>\n",
              "      <td>70.0</td>\n",
              "      <td>61.0</td>\n",
              "      <td>71.0</td>\n",
              "      <td>surf</td>\n",
              "      <td>2018-07-11</td>\n",
              "      <td>NaT</td>\n",
              "    </tr>\n",
              "    <tr>\n",
              "      <th>8</th>\n",
              "      <td>1008</td>\n",
              "      <td>NaN</td>\n",
              "      <td>NaN</td>\n",
              "      <td>NaN</td>\n",
              "      <td>NaN</td>\n",
              "      <td>NaN</td>\n",
              "      <td>NaN</td>\n",
              "      <td>NaN</td>\n",
              "      <td>NaN</td>\n",
              "      <td>NaN</td>\n",
              "      <td>54.0</td>\n",
              "      <td>50.0</td>\n",
              "      <td>65.0</td>\n",
              "      <td>ultimate</td>\n",
              "      <td>2018-08-03</td>\n",
              "      <td>NaT</td>\n",
              "    </tr>\n",
              "    <tr>\n",
              "      <th>9</th>\n",
              "      <td>1009</td>\n",
              "      <td>NaN</td>\n",
              "      <td>NaN</td>\n",
              "      <td>NaN</td>\n",
              "      <td>NaN</td>\n",
              "      <td>61.0</td>\n",
              "      <td>94.0</td>\n",
              "      <td>103.0</td>\n",
              "      <td>88.0</td>\n",
              "      <td>92.0</td>\n",
              "      <td>93.0</td>\n",
              "      <td>80.0</td>\n",
              "      <td>87.0</td>\n",
              "      <td>surf</td>\n",
              "      <td>2018-04-22</td>\n",
              "      <td>NaT</td>\n",
              "    </tr>\n",
              "  </tbody>\n",
              "</table>\n",
              "</div>"
            ],
            "text/plain": [
              "   user_id   1   2   3   4     5     6      7     8     9    10    11     12  \\\n",
              "0     1000 NaN NaN NaN NaN   NaN   NaN    NaN   NaN   NaN   NaN   NaN   16.0   \n",
              "1     1001 NaN NaN NaN NaN   NaN   NaN    NaN  22.0  38.0  47.0  49.0   46.0   \n",
              "2     1002 NaN NaN NaN NaN   NaN   NaN    NaN   NaN   NaN   8.0  48.0   38.0   \n",
              "3     1003 NaN NaN NaN NaN   NaN   NaN    NaN   NaN   NaN   NaN   NaN  118.0   \n",
              "4     1004 NaN NaN NaN NaN  19.0  33.0   45.0  42.0  32.0  47.0  45.0   43.0   \n",
              "5     1005 NaN NaN NaN NaN   NaN   NaN    NaN   NaN   NaN   NaN   NaN   50.0   \n",
              "6     1006 NaN NaN NaN NaN   NaN   NaN    NaN   NaN   NaN   NaN   2.0    7.0   \n",
              "7     1007 NaN NaN NaN NaN   NaN   NaN    NaN  56.0  49.0  70.0  61.0   71.0   \n",
              "8     1008 NaN NaN NaN NaN   NaN   NaN    NaN   NaN   NaN  54.0  50.0   65.0   \n",
              "9     1009 NaN NaN NaN NaN  61.0  94.0  103.0  88.0  92.0  93.0  80.0   87.0   \n",
              "\n",
              "       plan   reg_date churn_date  \n",
              "0  ultimate 2018-12-24        NaT  \n",
              "1      surf 2018-08-13        NaT  \n",
              "2      surf 2018-10-21        NaT  \n",
              "3      surf 2018-01-28        NaT  \n",
              "4      surf 2018-05-23        NaT  \n",
              "5      surf 2018-11-29        NaT  \n",
              "6  ultimate 2018-11-27 2018-12-18  \n",
              "7      surf 2018-07-11        NaT  \n",
              "8  ultimate 2018-08-03        NaT  \n",
              "9      surf 2018-04-22        NaT  "
            ]
          },
          "execution_count": 28,
          "metadata": {},
          "output_type": "execute_result"
        }
      ],
      "source": [
        "call_count.head(10)"
      ]
    },
    {
      "cell_type": "code",
      "execution_count": null,
      "metadata": {
        "id": "Yq5PHVNXhimJ"
      },
      "outputs": [],
      "source": [
        "# Atasi value yang bermasalah\n",
        "\n",
        "call_count = value_cleansing(call_count)"
      ]
    },
    {
      "cell_type": "code",
      "execution_count": null,
      "metadata": {
        "id": "ZOeIh5YBhimJ",
        "outputId": "a9e498c0-ea30-4d08-be87-cf2840633f33"
      },
      "outputs": [
        {
          "data": {
            "text/html": [
              "<div>\n",
              "<style scoped>\n",
              "    .dataframe tbody tr th:only-of-type {\n",
              "        vertical-align: middle;\n",
              "    }\n",
              "\n",
              "    .dataframe tbody tr th {\n",
              "        vertical-align: top;\n",
              "    }\n",
              "\n",
              "    .dataframe thead th {\n",
              "        text-align: right;\n",
              "    }\n",
              "</style>\n",
              "<table border=\"1\" class=\"dataframe\">\n",
              "  <thead>\n",
              "    <tr style=\"text-align: right;\">\n",
              "      <th></th>\n",
              "      <th>user_id</th>\n",
              "      <th>1</th>\n",
              "      <th>2</th>\n",
              "      <th>3</th>\n",
              "      <th>4</th>\n",
              "      <th>5</th>\n",
              "      <th>6</th>\n",
              "      <th>7</th>\n",
              "      <th>8</th>\n",
              "      <th>9</th>\n",
              "      <th>10</th>\n",
              "      <th>11</th>\n",
              "      <th>12</th>\n",
              "      <th>plan</th>\n",
              "      <th>reg_date</th>\n",
              "      <th>churn_date</th>\n",
              "    </tr>\n",
              "  </thead>\n",
              "  <tbody>\n",
              "    <tr>\n",
              "      <th>0</th>\n",
              "      <td>1000</td>\n",
              "      <td>NaN</td>\n",
              "      <td>NaN</td>\n",
              "      <td>NaN</td>\n",
              "      <td>NaN</td>\n",
              "      <td>NaN</td>\n",
              "      <td>NaN</td>\n",
              "      <td>NaN</td>\n",
              "      <td>NaN</td>\n",
              "      <td>NaN</td>\n",
              "      <td>NaN</td>\n",
              "      <td>NaN</td>\n",
              "      <td>16.0</td>\n",
              "      <td>ultimate</td>\n",
              "      <td>2018-12-24</td>\n",
              "      <td>NaT</td>\n",
              "    </tr>\n",
              "    <tr>\n",
              "      <th>1</th>\n",
              "      <td>1001</td>\n",
              "      <td>NaN</td>\n",
              "      <td>NaN</td>\n",
              "      <td>NaN</td>\n",
              "      <td>NaN</td>\n",
              "      <td>NaN</td>\n",
              "      <td>NaN</td>\n",
              "      <td>NaN</td>\n",
              "      <td>22.0</td>\n",
              "      <td>38.0</td>\n",
              "      <td>47.0</td>\n",
              "      <td>49.0</td>\n",
              "      <td>46.0</td>\n",
              "      <td>surf</td>\n",
              "      <td>2018-08-13</td>\n",
              "      <td>NaT</td>\n",
              "    </tr>\n",
              "    <tr>\n",
              "      <th>2</th>\n",
              "      <td>1002</td>\n",
              "      <td>NaN</td>\n",
              "      <td>NaN</td>\n",
              "      <td>NaN</td>\n",
              "      <td>NaN</td>\n",
              "      <td>NaN</td>\n",
              "      <td>NaN</td>\n",
              "      <td>NaN</td>\n",
              "      <td>NaN</td>\n",
              "      <td>NaN</td>\n",
              "      <td>8.0</td>\n",
              "      <td>48.0</td>\n",
              "      <td>38.0</td>\n",
              "      <td>surf</td>\n",
              "      <td>2018-10-21</td>\n",
              "      <td>NaT</td>\n",
              "    </tr>\n",
              "    <tr>\n",
              "      <th>3</th>\n",
              "      <td>1003</td>\n",
              "      <td>0.0</td>\n",
              "      <td>0.0</td>\n",
              "      <td>0.0</td>\n",
              "      <td>0.0</td>\n",
              "      <td>0.0</td>\n",
              "      <td>0.0</td>\n",
              "      <td>0.0</td>\n",
              "      <td>0.0</td>\n",
              "      <td>0.0</td>\n",
              "      <td>0.0</td>\n",
              "      <td>0.0</td>\n",
              "      <td>118.0</td>\n",
              "      <td>surf</td>\n",
              "      <td>2018-01-28</td>\n",
              "      <td>NaT</td>\n",
              "    </tr>\n",
              "    <tr>\n",
              "      <th>4</th>\n",
              "      <td>1004</td>\n",
              "      <td>NaN</td>\n",
              "      <td>NaN</td>\n",
              "      <td>NaN</td>\n",
              "      <td>NaN</td>\n",
              "      <td>19.0</td>\n",
              "      <td>33.0</td>\n",
              "      <td>45.0</td>\n",
              "      <td>42.0</td>\n",
              "      <td>32.0</td>\n",
              "      <td>47.0</td>\n",
              "      <td>45.0</td>\n",
              "      <td>43.0</td>\n",
              "      <td>surf</td>\n",
              "      <td>2018-05-23</td>\n",
              "      <td>NaT</td>\n",
              "    </tr>\n",
              "    <tr>\n",
              "      <th>5</th>\n",
              "      <td>1005</td>\n",
              "      <td>NaN</td>\n",
              "      <td>NaN</td>\n",
              "      <td>NaN</td>\n",
              "      <td>NaN</td>\n",
              "      <td>NaN</td>\n",
              "      <td>NaN</td>\n",
              "      <td>NaN</td>\n",
              "      <td>NaN</td>\n",
              "      <td>NaN</td>\n",
              "      <td>NaN</td>\n",
              "      <td>0.0</td>\n",
              "      <td>50.0</td>\n",
              "      <td>surf</td>\n",
              "      <td>2018-11-29</td>\n",
              "      <td>NaT</td>\n",
              "    </tr>\n",
              "    <tr>\n",
              "      <th>6</th>\n",
              "      <td>1006</td>\n",
              "      <td>NaN</td>\n",
              "      <td>NaN</td>\n",
              "      <td>NaN</td>\n",
              "      <td>NaN</td>\n",
              "      <td>NaN</td>\n",
              "      <td>NaN</td>\n",
              "      <td>NaN</td>\n",
              "      <td>NaN</td>\n",
              "      <td>NaN</td>\n",
              "      <td>NaN</td>\n",
              "      <td>2.0</td>\n",
              "      <td>7.0</td>\n",
              "      <td>ultimate</td>\n",
              "      <td>2018-11-27</td>\n",
              "      <td>2018-12-18</td>\n",
              "    </tr>\n",
              "    <tr>\n",
              "      <th>7</th>\n",
              "      <td>1007</td>\n",
              "      <td>NaN</td>\n",
              "      <td>NaN</td>\n",
              "      <td>NaN</td>\n",
              "      <td>NaN</td>\n",
              "      <td>NaN</td>\n",
              "      <td>NaN</td>\n",
              "      <td>0.0</td>\n",
              "      <td>56.0</td>\n",
              "      <td>49.0</td>\n",
              "      <td>70.0</td>\n",
              "      <td>61.0</td>\n",
              "      <td>71.0</td>\n",
              "      <td>surf</td>\n",
              "      <td>2018-07-11</td>\n",
              "      <td>NaT</td>\n",
              "    </tr>\n",
              "    <tr>\n",
              "      <th>8</th>\n",
              "      <td>1008</td>\n",
              "      <td>NaN</td>\n",
              "      <td>NaN</td>\n",
              "      <td>NaN</td>\n",
              "      <td>NaN</td>\n",
              "      <td>NaN</td>\n",
              "      <td>NaN</td>\n",
              "      <td>NaN</td>\n",
              "      <td>0.0</td>\n",
              "      <td>0.0</td>\n",
              "      <td>54.0</td>\n",
              "      <td>50.0</td>\n",
              "      <td>65.0</td>\n",
              "      <td>ultimate</td>\n",
              "      <td>2018-08-03</td>\n",
              "      <td>NaT</td>\n",
              "    </tr>\n",
              "    <tr>\n",
              "      <th>9</th>\n",
              "      <td>1009</td>\n",
              "      <td>NaN</td>\n",
              "      <td>NaN</td>\n",
              "      <td>NaN</td>\n",
              "      <td>0.0</td>\n",
              "      <td>61.0</td>\n",
              "      <td>94.0</td>\n",
              "      <td>103.0</td>\n",
              "      <td>88.0</td>\n",
              "      <td>92.0</td>\n",
              "      <td>93.0</td>\n",
              "      <td>80.0</td>\n",
              "      <td>87.0</td>\n",
              "      <td>surf</td>\n",
              "      <td>2018-04-22</td>\n",
              "      <td>NaT</td>\n",
              "    </tr>\n",
              "  </tbody>\n",
              "</table>\n",
              "</div>"
            ],
            "text/plain": [
              "   user_id    1    2    3    4     5     6      7     8     9    10    11  \\\n",
              "0     1000  NaN  NaN  NaN  NaN   NaN   NaN    NaN   NaN   NaN   NaN   NaN   \n",
              "1     1001  NaN  NaN  NaN  NaN   NaN   NaN    NaN  22.0  38.0  47.0  49.0   \n",
              "2     1002  NaN  NaN  NaN  NaN   NaN   NaN    NaN   NaN   NaN   8.0  48.0   \n",
              "3     1003  0.0  0.0  0.0  0.0   0.0   0.0    0.0   0.0   0.0   0.0   0.0   \n",
              "4     1004  NaN  NaN  NaN  NaN  19.0  33.0   45.0  42.0  32.0  47.0  45.0   \n",
              "5     1005  NaN  NaN  NaN  NaN   NaN   NaN    NaN   NaN   NaN   NaN   0.0   \n",
              "6     1006  NaN  NaN  NaN  NaN   NaN   NaN    NaN   NaN   NaN   NaN   2.0   \n",
              "7     1007  NaN  NaN  NaN  NaN   NaN   NaN    0.0  56.0  49.0  70.0  61.0   \n",
              "8     1008  NaN  NaN  NaN  NaN   NaN   NaN    NaN   0.0   0.0  54.0  50.0   \n",
              "9     1009  NaN  NaN  NaN  0.0  61.0  94.0  103.0  88.0  92.0  93.0  80.0   \n",
              "\n",
              "      12      plan   reg_date churn_date  \n",
              "0   16.0  ultimate 2018-12-24        NaT  \n",
              "1   46.0      surf 2018-08-13        NaT  \n",
              "2   38.0      surf 2018-10-21        NaT  \n",
              "3  118.0      surf 2018-01-28        NaT  \n",
              "4   43.0      surf 2018-05-23        NaT  \n",
              "5   50.0      surf 2018-11-29        NaT  \n",
              "6    7.0  ultimate 2018-11-27 2018-12-18  \n",
              "7   71.0      surf 2018-07-11        NaT  \n",
              "8   65.0  ultimate 2018-08-03        NaT  \n",
              "9   87.0      surf 2018-04-22        NaT  "
            ]
          },
          "execution_count": 30,
          "metadata": {},
          "output_type": "execute_result"
        }
      ],
      "source": [
        "call_count.head(10)"
      ]
    },
    {
      "cell_type": "code",
      "execution_count": null,
      "metadata": {
        "id": "Tk4zTSYhhimK"
      },
      "outputs": [],
      "source": [
        "# Mencari total minute per bulan untuk setiap user\n",
        "\n",
        "minute_count = pd.DataFrame(data=user['user_id'])\n",
        "\n",
        "for i in range(1, 13): #loop dimulai dari bulan 1 sampai 12\n",
        "    temp = call[call['call_date'].dt.month == i]\n",
        "    temp = temp.groupby('user_id')['duration'].sum().reset_index()\n",
        "    temp = temp.rename(columns={'duration': f'{i}'})\n",
        "    minute_count = minute_count.merge(temp, on= 'user_id', how= 'left')\n",
        "\n",
        "minute_count = minute_count.merge(user[['user_id', 'plan','reg_date', 'churn_date']], on= 'user_id', how= 'left')"
      ]
    },
    {
      "cell_type": "code",
      "execution_count": null,
      "metadata": {
        "id": "BKQ3zcifhimK"
      },
      "outputs": [],
      "source": [
        "minute_count = value_cleansing(minute_count)"
      ]
    },
    {
      "cell_type": "code",
      "execution_count": null,
      "metadata": {
        "id": "R4TWKD1OhimK",
        "outputId": "7f7f104d-029e-45df-a644-a3f29f2db687"
      },
      "outputs": [
        {
          "data": {
            "text/html": [
              "<div>\n",
              "<style scoped>\n",
              "    .dataframe tbody tr th:only-of-type {\n",
              "        vertical-align: middle;\n",
              "    }\n",
              "\n",
              "    .dataframe tbody tr th {\n",
              "        vertical-align: top;\n",
              "    }\n",
              "\n",
              "    .dataframe thead th {\n",
              "        text-align: right;\n",
              "    }\n",
              "</style>\n",
              "<table border=\"1\" class=\"dataframe\">\n",
              "  <thead>\n",
              "    <tr style=\"text-align: right;\">\n",
              "      <th></th>\n",
              "      <th>user_id</th>\n",
              "      <th>1</th>\n",
              "      <th>2</th>\n",
              "      <th>3</th>\n",
              "      <th>4</th>\n",
              "      <th>5</th>\n",
              "      <th>6</th>\n",
              "      <th>7</th>\n",
              "      <th>8</th>\n",
              "      <th>9</th>\n",
              "      <th>10</th>\n",
              "      <th>11</th>\n",
              "      <th>12</th>\n",
              "      <th>plan</th>\n",
              "      <th>reg_date</th>\n",
              "      <th>churn_date</th>\n",
              "    </tr>\n",
              "  </thead>\n",
              "  <tbody>\n",
              "    <tr>\n",
              "      <th>0</th>\n",
              "      <td>1000</td>\n",
              "      <td>NaN</td>\n",
              "      <td>NaN</td>\n",
              "      <td>NaN</td>\n",
              "      <td>NaN</td>\n",
              "      <td>NaN</td>\n",
              "      <td>NaN</td>\n",
              "      <td>NaN</td>\n",
              "      <td>NaN</td>\n",
              "      <td>NaN</td>\n",
              "      <td>NaN</td>\n",
              "      <td>NaN</td>\n",
              "      <td>116.83</td>\n",
              "      <td>ultimate</td>\n",
              "      <td>2018-12-24</td>\n",
              "      <td>NaT</td>\n",
              "    </tr>\n",
              "    <tr>\n",
              "      <th>1</th>\n",
              "      <td>1001</td>\n",
              "      <td>NaN</td>\n",
              "      <td>NaN</td>\n",
              "      <td>NaN</td>\n",
              "      <td>NaN</td>\n",
              "      <td>NaN</td>\n",
              "      <td>NaN</td>\n",
              "      <td>NaN</td>\n",
              "      <td>171.14</td>\n",
              "      <td>297.69</td>\n",
              "      <td>374.11</td>\n",
              "      <td>404.59</td>\n",
              "      <td>392.93</td>\n",
              "      <td>surf</td>\n",
              "      <td>2018-08-13</td>\n",
              "      <td>NaT</td>\n",
              "    </tr>\n",
              "    <tr>\n",
              "      <th>2</th>\n",
              "      <td>1002</td>\n",
              "      <td>NaN</td>\n",
              "      <td>NaN</td>\n",
              "      <td>NaN</td>\n",
              "      <td>NaN</td>\n",
              "      <td>NaN</td>\n",
              "      <td>NaN</td>\n",
              "      <td>NaN</td>\n",
              "      <td>NaN</td>\n",
              "      <td>NaN</td>\n",
              "      <td>54.13</td>\n",
              "      <td>359.76</td>\n",
              "      <td>363.24</td>\n",
              "      <td>surf</td>\n",
              "      <td>2018-10-21</td>\n",
              "      <td>NaT</td>\n",
              "    </tr>\n",
              "    <tr>\n",
              "      <th>3</th>\n",
              "      <td>1003</td>\n",
              "      <td>0.0</td>\n",
              "      <td>0.0</td>\n",
              "      <td>0.0</td>\n",
              "      <td>0.0</td>\n",
              "      <td>0.00</td>\n",
              "      <td>0.00</td>\n",
              "      <td>0.00</td>\n",
              "      <td>0.00</td>\n",
              "      <td>0.00</td>\n",
              "      <td>0.00</td>\n",
              "      <td>0.00</td>\n",
              "      <td>1041.00</td>\n",
              "      <td>surf</td>\n",
              "      <td>2018-01-28</td>\n",
              "      <td>NaT</td>\n",
              "    </tr>\n",
              "    <tr>\n",
              "      <th>4</th>\n",
              "      <td>1004</td>\n",
              "      <td>NaN</td>\n",
              "      <td>NaN</td>\n",
              "      <td>NaN</td>\n",
              "      <td>NaN</td>\n",
              "      <td>181.58</td>\n",
              "      <td>261.32</td>\n",
              "      <td>358.45</td>\n",
              "      <td>334.86</td>\n",
              "      <td>284.60</td>\n",
              "      <td>341.63</td>\n",
              "      <td>452.98</td>\n",
              "      <td>403.53</td>\n",
              "      <td>surf</td>\n",
              "      <td>2018-05-23</td>\n",
              "      <td>NaT</td>\n",
              "    </tr>\n",
              "    <tr>\n",
              "      <th>5</th>\n",
              "      <td>1005</td>\n",
              "      <td>NaN</td>\n",
              "      <td>NaN</td>\n",
              "      <td>NaN</td>\n",
              "      <td>NaN</td>\n",
              "      <td>NaN</td>\n",
              "      <td>NaN</td>\n",
              "      <td>NaN</td>\n",
              "      <td>NaN</td>\n",
              "      <td>NaN</td>\n",
              "      <td>NaN</td>\n",
              "      <td>0.00</td>\n",
              "      <td>470.22</td>\n",
              "      <td>surf</td>\n",
              "      <td>2018-11-29</td>\n",
              "      <td>NaT</td>\n",
              "    </tr>\n",
              "    <tr>\n",
              "      <th>6</th>\n",
              "      <td>1006</td>\n",
              "      <td>NaN</td>\n",
              "      <td>NaN</td>\n",
              "      <td>NaN</td>\n",
              "      <td>NaN</td>\n",
              "      <td>NaN</td>\n",
              "      <td>NaN</td>\n",
              "      <td>NaN</td>\n",
              "      <td>NaN</td>\n",
              "      <td>NaN</td>\n",
              "      <td>NaN</td>\n",
              "      <td>9.32</td>\n",
              "      <td>54.79</td>\n",
              "      <td>ultimate</td>\n",
              "      <td>2018-11-27</td>\n",
              "      <td>2018-12-18</td>\n",
              "    </tr>\n",
              "    <tr>\n",
              "      <th>7</th>\n",
              "      <td>1007</td>\n",
              "      <td>NaN</td>\n",
              "      <td>NaN</td>\n",
              "      <td>NaN</td>\n",
              "      <td>NaN</td>\n",
              "      <td>NaN</td>\n",
              "      <td>NaN</td>\n",
              "      <td>0.00</td>\n",
              "      <td>427.95</td>\n",
              "      <td>375.83</td>\n",
              "      <td>610.65</td>\n",
              "      <td>490.29</td>\n",
              "      <td>579.43</td>\n",
              "      <td>surf</td>\n",
              "      <td>2018-07-11</td>\n",
              "      <td>NaT</td>\n",
              "    </tr>\n",
              "    <tr>\n",
              "      <th>8</th>\n",
              "      <td>1008</td>\n",
              "      <td>NaN</td>\n",
              "      <td>NaN</td>\n",
              "      <td>NaN</td>\n",
              "      <td>NaN</td>\n",
              "      <td>NaN</td>\n",
              "      <td>NaN</td>\n",
              "      <td>NaN</td>\n",
              "      <td>0.00</td>\n",
              "      <td>0.00</td>\n",
              "      <td>450.21</td>\n",
              "      <td>422.81</td>\n",
              "      <td>600.29</td>\n",
              "      <td>ultimate</td>\n",
              "      <td>2018-08-03</td>\n",
              "      <td>NaT</td>\n",
              "    </tr>\n",
              "    <tr>\n",
              "      <th>9</th>\n",
              "      <td>1009</td>\n",
              "      <td>NaN</td>\n",
              "      <td>NaN</td>\n",
              "      <td>NaN</td>\n",
              "      <td>0.0</td>\n",
              "      <td>498.93</td>\n",
              "      <td>775.52</td>\n",
              "      <td>826.74</td>\n",
              "      <td>680.39</td>\n",
              "      <td>730.47</td>\n",
              "      <td>696.35</td>\n",
              "      <td>668.57</td>\n",
              "      <td>712.71</td>\n",
              "      <td>surf</td>\n",
              "      <td>2018-04-22</td>\n",
              "      <td>NaT</td>\n",
              "    </tr>\n",
              "  </tbody>\n",
              "</table>\n",
              "</div>"
            ],
            "text/plain": [
              "   user_id    1    2    3    4       5       6       7       8       9  \\\n",
              "0     1000  NaN  NaN  NaN  NaN     NaN     NaN     NaN     NaN     NaN   \n",
              "1     1001  NaN  NaN  NaN  NaN     NaN     NaN     NaN  171.14  297.69   \n",
              "2     1002  NaN  NaN  NaN  NaN     NaN     NaN     NaN     NaN     NaN   \n",
              "3     1003  0.0  0.0  0.0  0.0    0.00    0.00    0.00    0.00    0.00   \n",
              "4     1004  NaN  NaN  NaN  NaN  181.58  261.32  358.45  334.86  284.60   \n",
              "5     1005  NaN  NaN  NaN  NaN     NaN     NaN     NaN     NaN     NaN   \n",
              "6     1006  NaN  NaN  NaN  NaN     NaN     NaN     NaN     NaN     NaN   \n",
              "7     1007  NaN  NaN  NaN  NaN     NaN     NaN    0.00  427.95  375.83   \n",
              "8     1008  NaN  NaN  NaN  NaN     NaN     NaN     NaN    0.00    0.00   \n",
              "9     1009  NaN  NaN  NaN  0.0  498.93  775.52  826.74  680.39  730.47   \n",
              "\n",
              "       10      11       12      plan   reg_date churn_date  \n",
              "0     NaN     NaN   116.83  ultimate 2018-12-24        NaT  \n",
              "1  374.11  404.59   392.93      surf 2018-08-13        NaT  \n",
              "2   54.13  359.76   363.24      surf 2018-10-21        NaT  \n",
              "3    0.00    0.00  1041.00      surf 2018-01-28        NaT  \n",
              "4  341.63  452.98   403.53      surf 2018-05-23        NaT  \n",
              "5     NaN    0.00   470.22      surf 2018-11-29        NaT  \n",
              "6     NaN    9.32    54.79  ultimate 2018-11-27 2018-12-18  \n",
              "7  610.65  490.29   579.43      surf 2018-07-11        NaT  \n",
              "8  450.21  422.81   600.29  ultimate 2018-08-03        NaT  \n",
              "9  696.35  668.57   712.71      surf 2018-04-22        NaT  "
            ]
          },
          "execution_count": 33,
          "metadata": {},
          "output_type": "execute_result"
        }
      ],
      "source": [
        "minute_count.head(10)"
      ]
    },
    {
      "cell_type": "markdown",
      "metadata": {
        "id": "qfHxhGJihimL"
      },
      "source": [
        "### Mencari total `message` per bulan untuk setiap user"
      ]
    },
    {
      "cell_type": "code",
      "execution_count": null,
      "metadata": {
        "id": "pITJfDpkhimL",
        "outputId": "465cec7c-70a2-450a-d02c-7615a380fbec"
      },
      "outputs": [
        {
          "data": {
            "text/html": [
              "<div>\n",
              "<style scoped>\n",
              "    .dataframe tbody tr th:only-of-type {\n",
              "        vertical-align: middle;\n",
              "    }\n",
              "\n",
              "    .dataframe tbody tr th {\n",
              "        vertical-align: top;\n",
              "    }\n",
              "\n",
              "    .dataframe thead th {\n",
              "        text-align: right;\n",
              "    }\n",
              "</style>\n",
              "<table border=\"1\" class=\"dataframe\">\n",
              "  <thead>\n",
              "    <tr style=\"text-align: right;\">\n",
              "      <th></th>\n",
              "      <th>id</th>\n",
              "      <th>user_id</th>\n",
              "      <th>message_date</th>\n",
              "    </tr>\n",
              "  </thead>\n",
              "  <tbody>\n",
              "    <tr>\n",
              "      <th>0</th>\n",
              "      <td>1000_125</td>\n",
              "      <td>1000</td>\n",
              "      <td>2018-12-27</td>\n",
              "    </tr>\n",
              "    <tr>\n",
              "      <th>1</th>\n",
              "      <td>1000_160</td>\n",
              "      <td>1000</td>\n",
              "      <td>2018-12-31</td>\n",
              "    </tr>\n",
              "    <tr>\n",
              "      <th>2</th>\n",
              "      <td>1000_223</td>\n",
              "      <td>1000</td>\n",
              "      <td>2018-12-31</td>\n",
              "    </tr>\n",
              "    <tr>\n",
              "      <th>3</th>\n",
              "      <td>1000_251</td>\n",
              "      <td>1000</td>\n",
              "      <td>2018-12-27</td>\n",
              "    </tr>\n",
              "    <tr>\n",
              "      <th>4</th>\n",
              "      <td>1000_255</td>\n",
              "      <td>1000</td>\n",
              "      <td>2018-12-26</td>\n",
              "    </tr>\n",
              "  </tbody>\n",
              "</table>\n",
              "</div>"
            ],
            "text/plain": [
              "         id  user_id message_date\n",
              "0  1000_125     1000   2018-12-27\n",
              "1  1000_160     1000   2018-12-31\n",
              "2  1000_223     1000   2018-12-31\n",
              "3  1000_251     1000   2018-12-27\n",
              "4  1000_255     1000   2018-12-26"
            ]
          },
          "execution_count": 34,
          "metadata": {},
          "output_type": "execute_result"
        }
      ],
      "source": [
        "message.head()"
      ]
    },
    {
      "cell_type": "code",
      "execution_count": null,
      "metadata": {
        "id": "QmJrUA3UhimM"
      },
      "outputs": [],
      "source": [
        "# Mencari jumlah message per bulan untuk setiap user\n",
        "\n",
        "message_count = pd.DataFrame(data=user['user_id'])\n",
        "\n",
        "for i in range(1, 13): #loop dimulai dari bulan 1 sampai 12\n",
        "    temp = message[message['message_date'].dt.month == i]\n",
        "    temp = temp.groupby('user_id')['id'].count().reset_index()\n",
        "    temp = temp.rename(columns={'id': f'{i}'})\n",
        "    message_count = message_count.merge(temp, on= 'user_id', how= 'left')\n",
        "\n",
        "message_count = message_count.merge(user[['user_id', 'plan','reg_date', 'churn_date']], on= 'user_id', how= 'left')"
      ]
    },
    {
      "cell_type": "code",
      "execution_count": null,
      "metadata": {
        "id": "eMQxiNq7himM",
        "outputId": "405ea851-0ea6-4fa9-f8b6-e92a2b813096"
      },
      "outputs": [
        {
          "data": {
            "text/html": [
              "<div>\n",
              "<style scoped>\n",
              "    .dataframe tbody tr th:only-of-type {\n",
              "        vertical-align: middle;\n",
              "    }\n",
              "\n",
              "    .dataframe tbody tr th {\n",
              "        vertical-align: top;\n",
              "    }\n",
              "\n",
              "    .dataframe thead th {\n",
              "        text-align: right;\n",
              "    }\n",
              "</style>\n",
              "<table border=\"1\" class=\"dataframe\">\n",
              "  <thead>\n",
              "    <tr style=\"text-align: right;\">\n",
              "      <th></th>\n",
              "      <th>user_id</th>\n",
              "      <th>1</th>\n",
              "      <th>2</th>\n",
              "      <th>3</th>\n",
              "      <th>4</th>\n",
              "      <th>5</th>\n",
              "      <th>6</th>\n",
              "      <th>7</th>\n",
              "      <th>8</th>\n",
              "      <th>9</th>\n",
              "      <th>10</th>\n",
              "      <th>11</th>\n",
              "      <th>12</th>\n",
              "      <th>plan</th>\n",
              "      <th>reg_date</th>\n",
              "      <th>churn_date</th>\n",
              "    </tr>\n",
              "  </thead>\n",
              "  <tbody>\n",
              "    <tr>\n",
              "      <th>0</th>\n",
              "      <td>1000</td>\n",
              "      <td>NaN</td>\n",
              "      <td>NaN</td>\n",
              "      <td>NaN</td>\n",
              "      <td>NaN</td>\n",
              "      <td>NaN</td>\n",
              "      <td>NaN</td>\n",
              "      <td>NaN</td>\n",
              "      <td>NaN</td>\n",
              "      <td>NaN</td>\n",
              "      <td>NaN</td>\n",
              "      <td>NaN</td>\n",
              "      <td>11.0</td>\n",
              "      <td>ultimate</td>\n",
              "      <td>2018-12-24</td>\n",
              "      <td>NaT</td>\n",
              "    </tr>\n",
              "    <tr>\n",
              "      <th>1</th>\n",
              "      <td>1001</td>\n",
              "      <td>NaN</td>\n",
              "      <td>NaN</td>\n",
              "      <td>NaN</td>\n",
              "      <td>NaN</td>\n",
              "      <td>NaN</td>\n",
              "      <td>NaN</td>\n",
              "      <td>NaN</td>\n",
              "      <td>30.0</td>\n",
              "      <td>44.0</td>\n",
              "      <td>53.0</td>\n",
              "      <td>36.0</td>\n",
              "      <td>44.0</td>\n",
              "      <td>surf</td>\n",
              "      <td>2018-08-13</td>\n",
              "      <td>NaT</td>\n",
              "    </tr>\n",
              "    <tr>\n",
              "      <th>2</th>\n",
              "      <td>1002</td>\n",
              "      <td>NaN</td>\n",
              "      <td>NaN</td>\n",
              "      <td>NaN</td>\n",
              "      <td>NaN</td>\n",
              "      <td>NaN</td>\n",
              "      <td>NaN</td>\n",
              "      <td>NaN</td>\n",
              "      <td>NaN</td>\n",
              "      <td>NaN</td>\n",
              "      <td>15.0</td>\n",
              "      <td>32.0</td>\n",
              "      <td>41.0</td>\n",
              "      <td>surf</td>\n",
              "      <td>2018-10-21</td>\n",
              "      <td>NaT</td>\n",
              "    </tr>\n",
              "    <tr>\n",
              "      <th>3</th>\n",
              "      <td>1003</td>\n",
              "      <td>NaN</td>\n",
              "      <td>NaN</td>\n",
              "      <td>NaN</td>\n",
              "      <td>NaN</td>\n",
              "      <td>NaN</td>\n",
              "      <td>NaN</td>\n",
              "      <td>NaN</td>\n",
              "      <td>NaN</td>\n",
              "      <td>NaN</td>\n",
              "      <td>NaN</td>\n",
              "      <td>NaN</td>\n",
              "      <td>50.0</td>\n",
              "      <td>surf</td>\n",
              "      <td>2018-01-28</td>\n",
              "      <td>NaT</td>\n",
              "    </tr>\n",
              "    <tr>\n",
              "      <th>4</th>\n",
              "      <td>1004</td>\n",
              "      <td>NaN</td>\n",
              "      <td>NaN</td>\n",
              "      <td>NaN</td>\n",
              "      <td>NaN</td>\n",
              "      <td>7.0</td>\n",
              "      <td>18.0</td>\n",
              "      <td>26.0</td>\n",
              "      <td>25.0</td>\n",
              "      <td>21.0</td>\n",
              "      <td>24.0</td>\n",
              "      <td>25.0</td>\n",
              "      <td>31.0</td>\n",
              "      <td>surf</td>\n",
              "      <td>2018-05-23</td>\n",
              "      <td>NaT</td>\n",
              "    </tr>\n",
              "    <tr>\n",
              "      <th>5</th>\n",
              "      <td>1005</td>\n",
              "      <td>NaN</td>\n",
              "      <td>NaN</td>\n",
              "      <td>NaN</td>\n",
              "      <td>NaN</td>\n",
              "      <td>NaN</td>\n",
              "      <td>NaN</td>\n",
              "      <td>NaN</td>\n",
              "      <td>NaN</td>\n",
              "      <td>NaN</td>\n",
              "      <td>NaN</td>\n",
              "      <td>NaN</td>\n",
              "      <td>11.0</td>\n",
              "      <td>surf</td>\n",
              "      <td>2018-11-29</td>\n",
              "      <td>NaT</td>\n",
              "    </tr>\n",
              "    <tr>\n",
              "      <th>6</th>\n",
              "      <td>1006</td>\n",
              "      <td>NaN</td>\n",
              "      <td>NaN</td>\n",
              "      <td>NaN</td>\n",
              "      <td>NaN</td>\n",
              "      <td>NaN</td>\n",
              "      <td>NaN</td>\n",
              "      <td>NaN</td>\n",
              "      <td>NaN</td>\n",
              "      <td>NaN</td>\n",
              "      <td>NaN</td>\n",
              "      <td>15.0</td>\n",
              "      <td>139.0</td>\n",
              "      <td>ultimate</td>\n",
              "      <td>2018-11-27</td>\n",
              "      <td>2018-12-18</td>\n",
              "    </tr>\n",
              "    <tr>\n",
              "      <th>7</th>\n",
              "      <td>1007</td>\n",
              "      <td>NaN</td>\n",
              "      <td>NaN</td>\n",
              "      <td>NaN</td>\n",
              "      <td>NaN</td>\n",
              "      <td>NaN</td>\n",
              "      <td>NaN</td>\n",
              "      <td>NaN</td>\n",
              "      <td>51.0</td>\n",
              "      <td>47.0</td>\n",
              "      <td>59.0</td>\n",
              "      <td>48.0</td>\n",
              "      <td>50.0</td>\n",
              "      <td>surf</td>\n",
              "      <td>2018-07-11</td>\n",
              "      <td>NaT</td>\n",
              "    </tr>\n",
              "    <tr>\n",
              "      <th>8</th>\n",
              "      <td>1008</td>\n",
              "      <td>NaN</td>\n",
              "      <td>NaN</td>\n",
              "      <td>NaN</td>\n",
              "      <td>NaN</td>\n",
              "      <td>NaN</td>\n",
              "      <td>NaN</td>\n",
              "      <td>NaN</td>\n",
              "      <td>NaN</td>\n",
              "      <td>NaN</td>\n",
              "      <td>21.0</td>\n",
              "      <td>37.0</td>\n",
              "      <td>26.0</td>\n",
              "      <td>ultimate</td>\n",
              "      <td>2018-08-03</td>\n",
              "      <td>NaT</td>\n",
              "    </tr>\n",
              "    <tr>\n",
              "      <th>9</th>\n",
              "      <td>1009</td>\n",
              "      <td>NaN</td>\n",
              "      <td>NaN</td>\n",
              "      <td>NaN</td>\n",
              "      <td>NaN</td>\n",
              "      <td>NaN</td>\n",
              "      <td>NaN</td>\n",
              "      <td>NaN</td>\n",
              "      <td>NaN</td>\n",
              "      <td>NaN</td>\n",
              "      <td>NaN</td>\n",
              "      <td>NaN</td>\n",
              "      <td>NaN</td>\n",
              "      <td>surf</td>\n",
              "      <td>2018-04-22</td>\n",
              "      <td>NaT</td>\n",
              "    </tr>\n",
              "  </tbody>\n",
              "</table>\n",
              "</div>"
            ],
            "text/plain": [
              "   user_id   1   2   3   4    5     6     7     8     9    10    11     12  \\\n",
              "0     1000 NaN NaN NaN NaN  NaN   NaN   NaN   NaN   NaN   NaN   NaN   11.0   \n",
              "1     1001 NaN NaN NaN NaN  NaN   NaN   NaN  30.0  44.0  53.0  36.0   44.0   \n",
              "2     1002 NaN NaN NaN NaN  NaN   NaN   NaN   NaN   NaN  15.0  32.0   41.0   \n",
              "3     1003 NaN NaN NaN NaN  NaN   NaN   NaN   NaN   NaN   NaN   NaN   50.0   \n",
              "4     1004 NaN NaN NaN NaN  7.0  18.0  26.0  25.0  21.0  24.0  25.0   31.0   \n",
              "5     1005 NaN NaN NaN NaN  NaN   NaN   NaN   NaN   NaN   NaN   NaN   11.0   \n",
              "6     1006 NaN NaN NaN NaN  NaN   NaN   NaN   NaN   NaN   NaN  15.0  139.0   \n",
              "7     1007 NaN NaN NaN NaN  NaN   NaN   NaN  51.0  47.0  59.0  48.0   50.0   \n",
              "8     1008 NaN NaN NaN NaN  NaN   NaN   NaN   NaN   NaN  21.0  37.0   26.0   \n",
              "9     1009 NaN NaN NaN NaN  NaN   NaN   NaN   NaN   NaN   NaN   NaN    NaN   \n",
              "\n",
              "       plan   reg_date churn_date  \n",
              "0  ultimate 2018-12-24        NaT  \n",
              "1      surf 2018-08-13        NaT  \n",
              "2      surf 2018-10-21        NaT  \n",
              "3      surf 2018-01-28        NaT  \n",
              "4      surf 2018-05-23        NaT  \n",
              "5      surf 2018-11-29        NaT  \n",
              "6  ultimate 2018-11-27 2018-12-18  \n",
              "7      surf 2018-07-11        NaT  \n",
              "8  ultimate 2018-08-03        NaT  \n",
              "9      surf 2018-04-22        NaT  "
            ]
          },
          "execution_count": 36,
          "metadata": {},
          "output_type": "execute_result"
        }
      ],
      "source": [
        "message_count.head(10)"
      ]
    },
    {
      "cell_type": "code",
      "execution_count": null,
      "metadata": {
        "id": "b-SSaGdPhimN"
      },
      "outputs": [],
      "source": [
        "message_count = value_cleansing(message_count)"
      ]
    },
    {
      "cell_type": "code",
      "execution_count": null,
      "metadata": {
        "id": "gTIotCgGhimN",
        "outputId": "6e5f078f-e7f1-4994-adf5-fb6eae82dd90"
      },
      "outputs": [
        {
          "data": {
            "text/html": [
              "<div>\n",
              "<style scoped>\n",
              "    .dataframe tbody tr th:only-of-type {\n",
              "        vertical-align: middle;\n",
              "    }\n",
              "\n",
              "    .dataframe tbody tr th {\n",
              "        vertical-align: top;\n",
              "    }\n",
              "\n",
              "    .dataframe thead th {\n",
              "        text-align: right;\n",
              "    }\n",
              "</style>\n",
              "<table border=\"1\" class=\"dataframe\">\n",
              "  <thead>\n",
              "    <tr style=\"text-align: right;\">\n",
              "      <th></th>\n",
              "      <th>user_id</th>\n",
              "      <th>1</th>\n",
              "      <th>2</th>\n",
              "      <th>3</th>\n",
              "      <th>4</th>\n",
              "      <th>5</th>\n",
              "      <th>6</th>\n",
              "      <th>7</th>\n",
              "      <th>8</th>\n",
              "      <th>9</th>\n",
              "      <th>10</th>\n",
              "      <th>11</th>\n",
              "      <th>12</th>\n",
              "      <th>plan</th>\n",
              "      <th>reg_date</th>\n",
              "      <th>churn_date</th>\n",
              "    </tr>\n",
              "  </thead>\n",
              "  <tbody>\n",
              "    <tr>\n",
              "      <th>0</th>\n",
              "      <td>1000</td>\n",
              "      <td>NaN</td>\n",
              "      <td>NaN</td>\n",
              "      <td>NaN</td>\n",
              "      <td>NaN</td>\n",
              "      <td>NaN</td>\n",
              "      <td>NaN</td>\n",
              "      <td>NaN</td>\n",
              "      <td>NaN</td>\n",
              "      <td>NaN</td>\n",
              "      <td>NaN</td>\n",
              "      <td>NaN</td>\n",
              "      <td>11.0</td>\n",
              "      <td>ultimate</td>\n",
              "      <td>2018-12-24</td>\n",
              "      <td>NaT</td>\n",
              "    </tr>\n",
              "    <tr>\n",
              "      <th>1</th>\n",
              "      <td>1001</td>\n",
              "      <td>NaN</td>\n",
              "      <td>NaN</td>\n",
              "      <td>NaN</td>\n",
              "      <td>NaN</td>\n",
              "      <td>NaN</td>\n",
              "      <td>NaN</td>\n",
              "      <td>NaN</td>\n",
              "      <td>30.0</td>\n",
              "      <td>44.0</td>\n",
              "      <td>53.0</td>\n",
              "      <td>36.0</td>\n",
              "      <td>44.0</td>\n",
              "      <td>surf</td>\n",
              "      <td>2018-08-13</td>\n",
              "      <td>NaT</td>\n",
              "    </tr>\n",
              "    <tr>\n",
              "      <th>2</th>\n",
              "      <td>1002</td>\n",
              "      <td>NaN</td>\n",
              "      <td>NaN</td>\n",
              "      <td>NaN</td>\n",
              "      <td>NaN</td>\n",
              "      <td>NaN</td>\n",
              "      <td>NaN</td>\n",
              "      <td>NaN</td>\n",
              "      <td>NaN</td>\n",
              "      <td>NaN</td>\n",
              "      <td>15.0</td>\n",
              "      <td>32.0</td>\n",
              "      <td>41.0</td>\n",
              "      <td>surf</td>\n",
              "      <td>2018-10-21</td>\n",
              "      <td>NaT</td>\n",
              "    </tr>\n",
              "    <tr>\n",
              "      <th>3</th>\n",
              "      <td>1003</td>\n",
              "      <td>0.0</td>\n",
              "      <td>0.0</td>\n",
              "      <td>0.0</td>\n",
              "      <td>0.0</td>\n",
              "      <td>0.0</td>\n",
              "      <td>0.0</td>\n",
              "      <td>0.0</td>\n",
              "      <td>0.0</td>\n",
              "      <td>0.0</td>\n",
              "      <td>0.0</td>\n",
              "      <td>0.0</td>\n",
              "      <td>50.0</td>\n",
              "      <td>surf</td>\n",
              "      <td>2018-01-28</td>\n",
              "      <td>NaT</td>\n",
              "    </tr>\n",
              "    <tr>\n",
              "      <th>4</th>\n",
              "      <td>1004</td>\n",
              "      <td>NaN</td>\n",
              "      <td>NaN</td>\n",
              "      <td>NaN</td>\n",
              "      <td>NaN</td>\n",
              "      <td>7.0</td>\n",
              "      <td>18.0</td>\n",
              "      <td>26.0</td>\n",
              "      <td>25.0</td>\n",
              "      <td>21.0</td>\n",
              "      <td>24.0</td>\n",
              "      <td>25.0</td>\n",
              "      <td>31.0</td>\n",
              "      <td>surf</td>\n",
              "      <td>2018-05-23</td>\n",
              "      <td>NaT</td>\n",
              "    </tr>\n",
              "    <tr>\n",
              "      <th>5</th>\n",
              "      <td>1005</td>\n",
              "      <td>NaN</td>\n",
              "      <td>NaN</td>\n",
              "      <td>NaN</td>\n",
              "      <td>NaN</td>\n",
              "      <td>NaN</td>\n",
              "      <td>NaN</td>\n",
              "      <td>NaN</td>\n",
              "      <td>NaN</td>\n",
              "      <td>NaN</td>\n",
              "      <td>NaN</td>\n",
              "      <td>0.0</td>\n",
              "      <td>11.0</td>\n",
              "      <td>surf</td>\n",
              "      <td>2018-11-29</td>\n",
              "      <td>NaT</td>\n",
              "    </tr>\n",
              "    <tr>\n",
              "      <th>6</th>\n",
              "      <td>1006</td>\n",
              "      <td>NaN</td>\n",
              "      <td>NaN</td>\n",
              "      <td>NaN</td>\n",
              "      <td>NaN</td>\n",
              "      <td>NaN</td>\n",
              "      <td>NaN</td>\n",
              "      <td>NaN</td>\n",
              "      <td>NaN</td>\n",
              "      <td>NaN</td>\n",
              "      <td>NaN</td>\n",
              "      <td>15.0</td>\n",
              "      <td>139.0</td>\n",
              "      <td>ultimate</td>\n",
              "      <td>2018-11-27</td>\n",
              "      <td>2018-12-18</td>\n",
              "    </tr>\n",
              "    <tr>\n",
              "      <th>7</th>\n",
              "      <td>1007</td>\n",
              "      <td>NaN</td>\n",
              "      <td>NaN</td>\n",
              "      <td>NaN</td>\n",
              "      <td>NaN</td>\n",
              "      <td>NaN</td>\n",
              "      <td>NaN</td>\n",
              "      <td>0.0</td>\n",
              "      <td>51.0</td>\n",
              "      <td>47.0</td>\n",
              "      <td>59.0</td>\n",
              "      <td>48.0</td>\n",
              "      <td>50.0</td>\n",
              "      <td>surf</td>\n",
              "      <td>2018-07-11</td>\n",
              "      <td>NaT</td>\n",
              "    </tr>\n",
              "    <tr>\n",
              "      <th>8</th>\n",
              "      <td>1008</td>\n",
              "      <td>NaN</td>\n",
              "      <td>NaN</td>\n",
              "      <td>NaN</td>\n",
              "      <td>NaN</td>\n",
              "      <td>NaN</td>\n",
              "      <td>NaN</td>\n",
              "      <td>NaN</td>\n",
              "      <td>0.0</td>\n",
              "      <td>0.0</td>\n",
              "      <td>21.0</td>\n",
              "      <td>37.0</td>\n",
              "      <td>26.0</td>\n",
              "      <td>ultimate</td>\n",
              "      <td>2018-08-03</td>\n",
              "      <td>NaT</td>\n",
              "    </tr>\n",
              "    <tr>\n",
              "      <th>9</th>\n",
              "      <td>1009</td>\n",
              "      <td>NaN</td>\n",
              "      <td>NaN</td>\n",
              "      <td>NaN</td>\n",
              "      <td>0.0</td>\n",
              "      <td>0.0</td>\n",
              "      <td>0.0</td>\n",
              "      <td>0.0</td>\n",
              "      <td>0.0</td>\n",
              "      <td>0.0</td>\n",
              "      <td>0.0</td>\n",
              "      <td>0.0</td>\n",
              "      <td>0.0</td>\n",
              "      <td>surf</td>\n",
              "      <td>2018-04-22</td>\n",
              "      <td>NaT</td>\n",
              "    </tr>\n",
              "  </tbody>\n",
              "</table>\n",
              "</div>"
            ],
            "text/plain": [
              "   user_id    1    2    3    4    5     6     7     8     9    10    11  \\\n",
              "0     1000  NaN  NaN  NaN  NaN  NaN   NaN   NaN   NaN   NaN   NaN   NaN   \n",
              "1     1001  NaN  NaN  NaN  NaN  NaN   NaN   NaN  30.0  44.0  53.0  36.0   \n",
              "2     1002  NaN  NaN  NaN  NaN  NaN   NaN   NaN   NaN   NaN  15.0  32.0   \n",
              "3     1003  0.0  0.0  0.0  0.0  0.0   0.0   0.0   0.0   0.0   0.0   0.0   \n",
              "4     1004  NaN  NaN  NaN  NaN  7.0  18.0  26.0  25.0  21.0  24.0  25.0   \n",
              "5     1005  NaN  NaN  NaN  NaN  NaN   NaN   NaN   NaN   NaN   NaN   0.0   \n",
              "6     1006  NaN  NaN  NaN  NaN  NaN   NaN   NaN   NaN   NaN   NaN  15.0   \n",
              "7     1007  NaN  NaN  NaN  NaN  NaN   NaN   0.0  51.0  47.0  59.0  48.0   \n",
              "8     1008  NaN  NaN  NaN  NaN  NaN   NaN   NaN   0.0   0.0  21.0  37.0   \n",
              "9     1009  NaN  NaN  NaN  0.0  0.0   0.0   0.0   0.0   0.0   0.0   0.0   \n",
              "\n",
              "      12      plan   reg_date churn_date  \n",
              "0   11.0  ultimate 2018-12-24        NaT  \n",
              "1   44.0      surf 2018-08-13        NaT  \n",
              "2   41.0      surf 2018-10-21        NaT  \n",
              "3   50.0      surf 2018-01-28        NaT  \n",
              "4   31.0      surf 2018-05-23        NaT  \n",
              "5   11.0      surf 2018-11-29        NaT  \n",
              "6  139.0  ultimate 2018-11-27 2018-12-18  \n",
              "7   50.0      surf 2018-07-11        NaT  \n",
              "8   26.0  ultimate 2018-08-03        NaT  \n",
              "9    0.0      surf 2018-04-22        NaT  "
            ]
          },
          "execution_count": 38,
          "metadata": {},
          "output_type": "execute_result"
        }
      ],
      "source": [
        "message_count.head(10)"
      ]
    },
    {
      "cell_type": "code",
      "execution_count": null,
      "metadata": {
        "id": "-o62WoYEhimN"
      },
      "outputs": [],
      "source": []
    },
    {
      "cell_type": "markdown",
      "metadata": {
        "id": "aaLfRK7OhimO"
      },
      "source": [
        "### Mencari total `mb_used` per bulan untuk setiap user"
      ]
    },
    {
      "cell_type": "code",
      "execution_count": null,
      "metadata": {
        "id": "YGyH4ElkhimO",
        "outputId": "ca585e4a-d97b-4096-ac70-d4da33d56878"
      },
      "outputs": [
        {
          "data": {
            "text/html": [
              "<div>\n",
              "<style scoped>\n",
              "    .dataframe tbody tr th:only-of-type {\n",
              "        vertical-align: middle;\n",
              "    }\n",
              "\n",
              "    .dataframe tbody tr th {\n",
              "        vertical-align: top;\n",
              "    }\n",
              "\n",
              "    .dataframe thead th {\n",
              "        text-align: right;\n",
              "    }\n",
              "</style>\n",
              "<table border=\"1\" class=\"dataframe\">\n",
              "  <thead>\n",
              "    <tr style=\"text-align: right;\">\n",
              "      <th></th>\n",
              "      <th>id</th>\n",
              "      <th>user_id</th>\n",
              "      <th>session_date</th>\n",
              "      <th>mb_used</th>\n",
              "    </tr>\n",
              "  </thead>\n",
              "  <tbody>\n",
              "    <tr>\n",
              "      <th>0</th>\n",
              "      <td>1000_13</td>\n",
              "      <td>1000</td>\n",
              "      <td>2018-12-29</td>\n",
              "      <td>89.86</td>\n",
              "    </tr>\n",
              "    <tr>\n",
              "      <th>2</th>\n",
              "      <td>1000_379</td>\n",
              "      <td>1000</td>\n",
              "      <td>2018-12-28</td>\n",
              "      <td>660.40</td>\n",
              "    </tr>\n",
              "    <tr>\n",
              "      <th>3</th>\n",
              "      <td>1000_413</td>\n",
              "      <td>1000</td>\n",
              "      <td>2018-12-26</td>\n",
              "      <td>270.99</td>\n",
              "    </tr>\n",
              "    <tr>\n",
              "      <th>4</th>\n",
              "      <td>1000_442</td>\n",
              "      <td>1000</td>\n",
              "      <td>2018-12-27</td>\n",
              "      <td>880.22</td>\n",
              "    </tr>\n",
              "    <tr>\n",
              "      <th>5</th>\n",
              "      <td>1001_0</td>\n",
              "      <td>1001</td>\n",
              "      <td>2018-08-24</td>\n",
              "      <td>284.68</td>\n",
              "    </tr>\n",
              "  </tbody>\n",
              "</table>\n",
              "</div>"
            ],
            "text/plain": [
              "         id  user_id session_date  mb_used\n",
              "0   1000_13     1000   2018-12-29    89.86\n",
              "2  1000_379     1000   2018-12-28   660.40\n",
              "3  1000_413     1000   2018-12-26   270.99\n",
              "4  1000_442     1000   2018-12-27   880.22\n",
              "5    1001_0     1001   2018-08-24   284.68"
            ]
          },
          "execution_count": 39,
          "metadata": {},
          "output_type": "execute_result"
        }
      ],
      "source": [
        "internet.head()"
      ]
    },
    {
      "cell_type": "code",
      "execution_count": null,
      "metadata": {
        "id": "um_otlw_himO"
      },
      "outputs": [],
      "source": [
        "# Mencari jumlah mb_used per bulan untuk setiap user\n",
        "\n",
        "internet_count = pd.DataFrame(data=user['user_id'])\n",
        "\n",
        "for i in range(1, 13): #loop dimulai dari bulan 1 sampai 12\n",
        "    temp = internet[internet['session_date'].dt.month == i]\n",
        "    temp = temp.groupby('user_id')['mb_used'].sum().reset_index()\n",
        "    temp = temp.rename(columns={'mb_used': f'{i}'})\n",
        "    internet_count = internet_count.merge(temp, on= 'user_id', how= 'left')\n",
        "\n",
        "internet_count = internet_count.merge(user[['user_id', 'plan', 'reg_date', 'churn_date']], on= 'user_id', how= 'left')\n",
        "internet_count[internet_count.columns[1:13]] = internet_count[internet_count.columns[1:13]] / 1024  # Konversi mb menjadi gb"
      ]
    },
    {
      "cell_type": "code",
      "execution_count": null,
      "metadata": {
        "id": "lK0w_nmbhimO",
        "outputId": "bffdc874-5cb1-4a5d-b063-41efaa3406ac"
      },
      "outputs": [
        {
          "data": {
            "text/html": [
              "<div>\n",
              "<style scoped>\n",
              "    .dataframe tbody tr th:only-of-type {\n",
              "        vertical-align: middle;\n",
              "    }\n",
              "\n",
              "    .dataframe tbody tr th {\n",
              "        vertical-align: top;\n",
              "    }\n",
              "\n",
              "    .dataframe thead th {\n",
              "        text-align: right;\n",
              "    }\n",
              "</style>\n",
              "<table border=\"1\" class=\"dataframe\">\n",
              "  <thead>\n",
              "    <tr style=\"text-align: right;\">\n",
              "      <th></th>\n",
              "      <th>user_id</th>\n",
              "      <th>1</th>\n",
              "      <th>2</th>\n",
              "      <th>3</th>\n",
              "      <th>4</th>\n",
              "      <th>5</th>\n",
              "      <th>6</th>\n",
              "      <th>7</th>\n",
              "      <th>8</th>\n",
              "      <th>9</th>\n",
              "      <th>10</th>\n",
              "      <th>11</th>\n",
              "      <th>12</th>\n",
              "      <th>plan</th>\n",
              "      <th>reg_date</th>\n",
              "      <th>churn_date</th>\n",
              "    </tr>\n",
              "  </thead>\n",
              "  <tbody>\n",
              "    <tr>\n",
              "      <th>0</th>\n",
              "      <td>1000</td>\n",
              "      <td>NaN</td>\n",
              "      <td>NaN</td>\n",
              "      <td>NaN</td>\n",
              "      <td>NaN</td>\n",
              "      <td>NaN</td>\n",
              "      <td>NaN</td>\n",
              "      <td>NaN</td>\n",
              "      <td>NaN</td>\n",
              "      <td>NaN</td>\n",
              "      <td>NaN</td>\n",
              "      <td>NaN</td>\n",
              "      <td>1.856904</td>\n",
              "      <td>ultimate</td>\n",
              "      <td>2018-12-24</td>\n",
              "      <td>NaT</td>\n",
              "    </tr>\n",
              "    <tr>\n",
              "      <th>1</th>\n",
              "      <td>1001</td>\n",
              "      <td>NaN</td>\n",
              "      <td>NaN</td>\n",
              "      <td>NaN</td>\n",
              "      <td>NaN</td>\n",
              "      <td>NaN</td>\n",
              "      <td>NaN</td>\n",
              "      <td>NaN</td>\n",
              "      <td>6.756982</td>\n",
              "      <td>13.002754</td>\n",
              "      <td>21.807119</td>\n",
              "      <td>18.070605</td>\n",
              "      <td>18.915215</td>\n",
              "      <td>surf</td>\n",
              "      <td>2018-08-13</td>\n",
              "      <td>NaT</td>\n",
              "    </tr>\n",
              "    <tr>\n",
              "      <th>2</th>\n",
              "      <td>1002</td>\n",
              "      <td>NaN</td>\n",
              "      <td>NaN</td>\n",
              "      <td>NaN</td>\n",
              "      <td>NaN</td>\n",
              "      <td>NaN</td>\n",
              "      <td>NaN</td>\n",
              "      <td>NaN</td>\n",
              "      <td>NaN</td>\n",
              "      <td>NaN</td>\n",
              "      <td>6.398447</td>\n",
              "      <td>18.891680</td>\n",
              "      <td>14.058828</td>\n",
              "      <td>surf</td>\n",
              "      <td>2018-10-21</td>\n",
              "      <td>NaT</td>\n",
              "    </tr>\n",
              "    <tr>\n",
              "      <th>3</th>\n",
              "      <td>1003</td>\n",
              "      <td>NaN</td>\n",
              "      <td>NaN</td>\n",
              "      <td>NaN</td>\n",
              "      <td>NaN</td>\n",
              "      <td>NaN</td>\n",
              "      <td>NaN</td>\n",
              "      <td>NaN</td>\n",
              "      <td>NaN</td>\n",
              "      <td>NaN</td>\n",
              "      <td>NaN</td>\n",
              "      <td>NaN</td>\n",
              "      <td>26.410293</td>\n",
              "      <td>surf</td>\n",
              "      <td>2018-01-28</td>\n",
              "      <td>NaT</td>\n",
              "    </tr>\n",
              "    <tr>\n",
              "      <th>4</th>\n",
              "      <td>1004</td>\n",
              "      <td>NaN</td>\n",
              "      <td>NaN</td>\n",
              "      <td>NaN</td>\n",
              "      <td>NaN</td>\n",
              "      <td>6.393760</td>\n",
              "      <td>20.188301</td>\n",
              "      <td>23.942012</td>\n",
              "      <td>27.325918</td>\n",
              "      <td>18.410859</td>\n",
              "      <td>14.200811</td>\n",
              "      <td>21.338652</td>\n",
              "      <td>20.887979</td>\n",
              "      <td>surf</td>\n",
              "      <td>2018-05-23</td>\n",
              "      <td>NaT</td>\n",
              "    </tr>\n",
              "    <tr>\n",
              "      <th>5</th>\n",
              "      <td>1005</td>\n",
              "      <td>NaN</td>\n",
              "      <td>NaN</td>\n",
              "      <td>NaN</td>\n",
              "      <td>NaN</td>\n",
              "      <td>NaN</td>\n",
              "      <td>NaN</td>\n",
              "      <td>NaN</td>\n",
              "      <td>NaN</td>\n",
              "      <td>NaN</td>\n",
              "      <td>NaN</td>\n",
              "      <td>NaN</td>\n",
              "      <td>16.738447</td>\n",
              "      <td>surf</td>\n",
              "      <td>2018-11-29</td>\n",
              "      <td>NaT</td>\n",
              "    </tr>\n",
              "    <tr>\n",
              "      <th>6</th>\n",
              "      <td>1006</td>\n",
              "      <td>NaN</td>\n",
              "      <td>NaN</td>\n",
              "      <td>NaN</td>\n",
              "      <td>NaN</td>\n",
              "      <td>NaN</td>\n",
              "      <td>NaN</td>\n",
              "      <td>NaN</td>\n",
              "      <td>NaN</td>\n",
              "      <td>NaN</td>\n",
              "      <td>NaN</td>\n",
              "      <td>2.019893</td>\n",
              "      <td>31.366035</td>\n",
              "      <td>ultimate</td>\n",
              "      <td>2018-11-27</td>\n",
              "      <td>2018-12-18</td>\n",
              "    </tr>\n",
              "    <tr>\n",
              "      <th>7</th>\n",
              "      <td>1007</td>\n",
              "      <td>NaN</td>\n",
              "      <td>NaN</td>\n",
              "      <td>NaN</td>\n",
              "      <td>NaN</td>\n",
              "      <td>NaN</td>\n",
              "      <td>NaN</td>\n",
              "      <td>NaN</td>\n",
              "      <td>23.867070</td>\n",
              "      <td>27.464795</td>\n",
              "      <td>36.997686</td>\n",
              "      <td>23.763672</td>\n",
              "      <td>28.387969</td>\n",
              "      <td>surf</td>\n",
              "      <td>2018-07-11</td>\n",
              "      <td>NaT</td>\n",
              "    </tr>\n",
              "    <tr>\n",
              "      <th>8</th>\n",
              "      <td>1008</td>\n",
              "      <td>NaN</td>\n",
              "      <td>NaN</td>\n",
              "      <td>NaN</td>\n",
              "      <td>NaN</td>\n",
              "      <td>NaN</td>\n",
              "      <td>NaN</td>\n",
              "      <td>NaN</td>\n",
              "      <td>NaN</td>\n",
              "      <td>NaN</td>\n",
              "      <td>16.706045</td>\n",
              "      <td>23.121797</td>\n",
              "      <td>14.345049</td>\n",
              "      <td>ultimate</td>\n",
              "      <td>2018-08-03</td>\n",
              "      <td>NaT</td>\n",
              "    </tr>\n",
              "    <tr>\n",
              "      <th>9</th>\n",
              "      <td>1009</td>\n",
              "      <td>NaN</td>\n",
              "      <td>NaN</td>\n",
              "      <td>NaN</td>\n",
              "      <td>NaN</td>\n",
              "      <td>19.911523</td>\n",
              "      <td>18.404199</td>\n",
              "      <td>29.708643</td>\n",
              "      <td>23.981953</td>\n",
              "      <td>20.471094</td>\n",
              "      <td>22.133633</td>\n",
              "      <td>24.876396</td>\n",
              "      <td>23.361914</td>\n",
              "      <td>surf</td>\n",
              "      <td>2018-04-22</td>\n",
              "      <td>NaT</td>\n",
              "    </tr>\n",
              "  </tbody>\n",
              "</table>\n",
              "</div>"
            ],
            "text/plain": [
              "   user_id   1   2   3   4          5          6          7          8  \\\n",
              "0     1000 NaN NaN NaN NaN        NaN        NaN        NaN        NaN   \n",
              "1     1001 NaN NaN NaN NaN        NaN        NaN        NaN   6.756982   \n",
              "2     1002 NaN NaN NaN NaN        NaN        NaN        NaN        NaN   \n",
              "3     1003 NaN NaN NaN NaN        NaN        NaN        NaN        NaN   \n",
              "4     1004 NaN NaN NaN NaN   6.393760  20.188301  23.942012  27.325918   \n",
              "5     1005 NaN NaN NaN NaN        NaN        NaN        NaN        NaN   \n",
              "6     1006 NaN NaN NaN NaN        NaN        NaN        NaN        NaN   \n",
              "7     1007 NaN NaN NaN NaN        NaN        NaN        NaN  23.867070   \n",
              "8     1008 NaN NaN NaN NaN        NaN        NaN        NaN        NaN   \n",
              "9     1009 NaN NaN NaN NaN  19.911523  18.404199  29.708643  23.981953   \n",
              "\n",
              "           9         10         11         12      plan   reg_date churn_date  \n",
              "0        NaN        NaN        NaN   1.856904  ultimate 2018-12-24        NaT  \n",
              "1  13.002754  21.807119  18.070605  18.915215      surf 2018-08-13        NaT  \n",
              "2        NaN   6.398447  18.891680  14.058828      surf 2018-10-21        NaT  \n",
              "3        NaN        NaN        NaN  26.410293      surf 2018-01-28        NaT  \n",
              "4  18.410859  14.200811  21.338652  20.887979      surf 2018-05-23        NaT  \n",
              "5        NaN        NaN        NaN  16.738447      surf 2018-11-29        NaT  \n",
              "6        NaN        NaN   2.019893  31.366035  ultimate 2018-11-27 2018-12-18  \n",
              "7  27.464795  36.997686  23.763672  28.387969      surf 2018-07-11        NaT  \n",
              "8        NaN  16.706045  23.121797  14.345049  ultimate 2018-08-03        NaT  \n",
              "9  20.471094  22.133633  24.876396  23.361914      surf 2018-04-22        NaT  "
            ]
          },
          "execution_count": 41,
          "metadata": {},
          "output_type": "execute_result"
        }
      ],
      "source": [
        "internet_count.head(10)"
      ]
    },
    {
      "cell_type": "code",
      "execution_count": null,
      "metadata": {
        "id": "8BzssyzohimP"
      },
      "outputs": [],
      "source": [
        "internet_count = value_cleansing(internet_count)"
      ]
    },
    {
      "cell_type": "code",
      "execution_count": null,
      "metadata": {
        "id": "htW9DL15himP",
        "outputId": "2afc4427-5c72-44a0-c9fb-8aab0c29f0f8"
      },
      "outputs": [
        {
          "data": {
            "text/html": [
              "<div>\n",
              "<style scoped>\n",
              "    .dataframe tbody tr th:only-of-type {\n",
              "        vertical-align: middle;\n",
              "    }\n",
              "\n",
              "    .dataframe tbody tr th {\n",
              "        vertical-align: top;\n",
              "    }\n",
              "\n",
              "    .dataframe thead th {\n",
              "        text-align: right;\n",
              "    }\n",
              "</style>\n",
              "<table border=\"1\" class=\"dataframe\">\n",
              "  <thead>\n",
              "    <tr style=\"text-align: right;\">\n",
              "      <th></th>\n",
              "      <th>user_id</th>\n",
              "      <th>1</th>\n",
              "      <th>2</th>\n",
              "      <th>3</th>\n",
              "      <th>4</th>\n",
              "      <th>5</th>\n",
              "      <th>6</th>\n",
              "      <th>7</th>\n",
              "      <th>8</th>\n",
              "      <th>9</th>\n",
              "      <th>10</th>\n",
              "      <th>11</th>\n",
              "      <th>12</th>\n",
              "      <th>plan</th>\n",
              "      <th>reg_date</th>\n",
              "      <th>churn_date</th>\n",
              "    </tr>\n",
              "  </thead>\n",
              "  <tbody>\n",
              "    <tr>\n",
              "      <th>0</th>\n",
              "      <td>1000</td>\n",
              "      <td>NaN</td>\n",
              "      <td>NaN</td>\n",
              "      <td>NaN</td>\n",
              "      <td>NaN</td>\n",
              "      <td>NaN</td>\n",
              "      <td>NaN</td>\n",
              "      <td>NaN</td>\n",
              "      <td>NaN</td>\n",
              "      <td>NaN</td>\n",
              "      <td>NaN</td>\n",
              "      <td>NaN</td>\n",
              "      <td>1.856904</td>\n",
              "      <td>ultimate</td>\n",
              "      <td>2018-12-24</td>\n",
              "      <td>NaT</td>\n",
              "    </tr>\n",
              "    <tr>\n",
              "      <th>1</th>\n",
              "      <td>1001</td>\n",
              "      <td>NaN</td>\n",
              "      <td>NaN</td>\n",
              "      <td>NaN</td>\n",
              "      <td>NaN</td>\n",
              "      <td>NaN</td>\n",
              "      <td>NaN</td>\n",
              "      <td>NaN</td>\n",
              "      <td>6.756982</td>\n",
              "      <td>13.002754</td>\n",
              "      <td>21.807119</td>\n",
              "      <td>18.070605</td>\n",
              "      <td>18.915215</td>\n",
              "      <td>surf</td>\n",
              "      <td>2018-08-13</td>\n",
              "      <td>NaT</td>\n",
              "    </tr>\n",
              "    <tr>\n",
              "      <th>2</th>\n",
              "      <td>1002</td>\n",
              "      <td>NaN</td>\n",
              "      <td>NaN</td>\n",
              "      <td>NaN</td>\n",
              "      <td>NaN</td>\n",
              "      <td>NaN</td>\n",
              "      <td>NaN</td>\n",
              "      <td>NaN</td>\n",
              "      <td>NaN</td>\n",
              "      <td>NaN</td>\n",
              "      <td>6.398447</td>\n",
              "      <td>18.891680</td>\n",
              "      <td>14.058828</td>\n",
              "      <td>surf</td>\n",
              "      <td>2018-10-21</td>\n",
              "      <td>NaT</td>\n",
              "    </tr>\n",
              "    <tr>\n",
              "      <th>3</th>\n",
              "      <td>1003</td>\n",
              "      <td>0.0</td>\n",
              "      <td>0.0</td>\n",
              "      <td>0.0</td>\n",
              "      <td>0.0</td>\n",
              "      <td>0.000000</td>\n",
              "      <td>0.000000</td>\n",
              "      <td>0.000000</td>\n",
              "      <td>0.000000</td>\n",
              "      <td>0.000000</td>\n",
              "      <td>0.000000</td>\n",
              "      <td>0.000000</td>\n",
              "      <td>26.410293</td>\n",
              "      <td>surf</td>\n",
              "      <td>2018-01-28</td>\n",
              "      <td>NaT</td>\n",
              "    </tr>\n",
              "    <tr>\n",
              "      <th>4</th>\n",
              "      <td>1004</td>\n",
              "      <td>NaN</td>\n",
              "      <td>NaN</td>\n",
              "      <td>NaN</td>\n",
              "      <td>NaN</td>\n",
              "      <td>6.393760</td>\n",
              "      <td>20.188301</td>\n",
              "      <td>23.942012</td>\n",
              "      <td>27.325918</td>\n",
              "      <td>18.410859</td>\n",
              "      <td>14.200811</td>\n",
              "      <td>21.338652</td>\n",
              "      <td>20.887979</td>\n",
              "      <td>surf</td>\n",
              "      <td>2018-05-23</td>\n",
              "      <td>NaT</td>\n",
              "    </tr>\n",
              "    <tr>\n",
              "      <th>5</th>\n",
              "      <td>1005</td>\n",
              "      <td>NaN</td>\n",
              "      <td>NaN</td>\n",
              "      <td>NaN</td>\n",
              "      <td>NaN</td>\n",
              "      <td>NaN</td>\n",
              "      <td>NaN</td>\n",
              "      <td>NaN</td>\n",
              "      <td>NaN</td>\n",
              "      <td>NaN</td>\n",
              "      <td>NaN</td>\n",
              "      <td>0.000000</td>\n",
              "      <td>16.738447</td>\n",
              "      <td>surf</td>\n",
              "      <td>2018-11-29</td>\n",
              "      <td>NaT</td>\n",
              "    </tr>\n",
              "    <tr>\n",
              "      <th>6</th>\n",
              "      <td>1006</td>\n",
              "      <td>NaN</td>\n",
              "      <td>NaN</td>\n",
              "      <td>NaN</td>\n",
              "      <td>NaN</td>\n",
              "      <td>NaN</td>\n",
              "      <td>NaN</td>\n",
              "      <td>NaN</td>\n",
              "      <td>NaN</td>\n",
              "      <td>NaN</td>\n",
              "      <td>NaN</td>\n",
              "      <td>2.019893</td>\n",
              "      <td>31.366035</td>\n",
              "      <td>ultimate</td>\n",
              "      <td>2018-11-27</td>\n",
              "      <td>2018-12-18</td>\n",
              "    </tr>\n",
              "    <tr>\n",
              "      <th>7</th>\n",
              "      <td>1007</td>\n",
              "      <td>NaN</td>\n",
              "      <td>NaN</td>\n",
              "      <td>NaN</td>\n",
              "      <td>NaN</td>\n",
              "      <td>NaN</td>\n",
              "      <td>NaN</td>\n",
              "      <td>0.000000</td>\n",
              "      <td>23.867070</td>\n",
              "      <td>27.464795</td>\n",
              "      <td>36.997686</td>\n",
              "      <td>23.763672</td>\n",
              "      <td>28.387969</td>\n",
              "      <td>surf</td>\n",
              "      <td>2018-07-11</td>\n",
              "      <td>NaT</td>\n",
              "    </tr>\n",
              "    <tr>\n",
              "      <th>8</th>\n",
              "      <td>1008</td>\n",
              "      <td>NaN</td>\n",
              "      <td>NaN</td>\n",
              "      <td>NaN</td>\n",
              "      <td>NaN</td>\n",
              "      <td>NaN</td>\n",
              "      <td>NaN</td>\n",
              "      <td>NaN</td>\n",
              "      <td>0.000000</td>\n",
              "      <td>0.000000</td>\n",
              "      <td>16.706045</td>\n",
              "      <td>23.121797</td>\n",
              "      <td>14.345049</td>\n",
              "      <td>ultimate</td>\n",
              "      <td>2018-08-03</td>\n",
              "      <td>NaT</td>\n",
              "    </tr>\n",
              "    <tr>\n",
              "      <th>9</th>\n",
              "      <td>1009</td>\n",
              "      <td>NaN</td>\n",
              "      <td>NaN</td>\n",
              "      <td>NaN</td>\n",
              "      <td>0.0</td>\n",
              "      <td>19.911523</td>\n",
              "      <td>18.404199</td>\n",
              "      <td>29.708643</td>\n",
              "      <td>23.981953</td>\n",
              "      <td>20.471094</td>\n",
              "      <td>22.133633</td>\n",
              "      <td>24.876396</td>\n",
              "      <td>23.361914</td>\n",
              "      <td>surf</td>\n",
              "      <td>2018-04-22</td>\n",
              "      <td>NaT</td>\n",
              "    </tr>\n",
              "  </tbody>\n",
              "</table>\n",
              "</div>"
            ],
            "text/plain": [
              "   user_id    1    2    3    4          5          6          7          8  \\\n",
              "0     1000  NaN  NaN  NaN  NaN        NaN        NaN        NaN        NaN   \n",
              "1     1001  NaN  NaN  NaN  NaN        NaN        NaN        NaN   6.756982   \n",
              "2     1002  NaN  NaN  NaN  NaN        NaN        NaN        NaN        NaN   \n",
              "3     1003  0.0  0.0  0.0  0.0   0.000000   0.000000   0.000000   0.000000   \n",
              "4     1004  NaN  NaN  NaN  NaN   6.393760  20.188301  23.942012  27.325918   \n",
              "5     1005  NaN  NaN  NaN  NaN        NaN        NaN        NaN        NaN   \n",
              "6     1006  NaN  NaN  NaN  NaN        NaN        NaN        NaN        NaN   \n",
              "7     1007  NaN  NaN  NaN  NaN        NaN        NaN   0.000000  23.867070   \n",
              "8     1008  NaN  NaN  NaN  NaN        NaN        NaN        NaN   0.000000   \n",
              "9     1009  NaN  NaN  NaN  0.0  19.911523  18.404199  29.708643  23.981953   \n",
              "\n",
              "           9         10         11         12      plan   reg_date churn_date  \n",
              "0        NaN        NaN        NaN   1.856904  ultimate 2018-12-24        NaT  \n",
              "1  13.002754  21.807119  18.070605  18.915215      surf 2018-08-13        NaT  \n",
              "2        NaN   6.398447  18.891680  14.058828      surf 2018-10-21        NaT  \n",
              "3   0.000000   0.000000   0.000000  26.410293      surf 2018-01-28        NaT  \n",
              "4  18.410859  14.200811  21.338652  20.887979      surf 2018-05-23        NaT  \n",
              "5        NaN        NaN   0.000000  16.738447      surf 2018-11-29        NaT  \n",
              "6        NaN        NaN   2.019893  31.366035  ultimate 2018-11-27 2018-12-18  \n",
              "7  27.464795  36.997686  23.763672  28.387969      surf 2018-07-11        NaT  \n",
              "8   0.000000  16.706045  23.121797  14.345049  ultimate 2018-08-03        NaT  \n",
              "9  20.471094  22.133633  24.876396  23.361914      surf 2018-04-22        NaT  "
            ]
          },
          "execution_count": 43,
          "metadata": {},
          "output_type": "execute_result"
        }
      ],
      "source": [
        "internet_count.head(10)"
      ]
    },
    {
      "cell_type": "code",
      "execution_count": null,
      "metadata": {
        "id": "e8d_bJMfhimP"
      },
      "outputs": [],
      "source": [
        "# Menghapus variable yang tidak dipakai lagi\n",
        "\n",
        "del call, message, internet, plan, temp"
      ]
    },
    {
      "cell_type": "markdown",
      "metadata": {
        "id": "AbKxkFKEhimQ"
      },
      "source": [
        "### Mencari revenue bulanan untuk setiap user"
      ]
    },
    {
      "cell_type": "code",
      "execution_count": null,
      "metadata": {
        "id": "yISeEGBrhimQ"
      },
      "outputs": [],
      "source": [
        "# Membuat dict berisi peraturan paket\n",
        "\n",
        "jenis_paket = {\n",
        "    'surf' : 20,     # satuan dolar\n",
        "    'ultimate' : 70  # satuan dolar\n",
        "}\n",
        "base_cost = {\n",
        "    'surf' : {'minute': 500, 'message': 50, 'gb': 15},\n",
        "    'ultimate' : {'minute': 3000, 'message': 1000, 'gb': 30}\n",
        "}\n",
        "\n",
        "additional_cost = {\n",
        "    'surf' : {'minute': 0.03, 'message': 0.03, 'gb': 10},    # satuan dolar\n",
        "    'ultimate' : {'minute': 0.01, 'message': 0.01, 'gb': 7}  # satuan dolar\n",
        "}"
      ]
    },
    {
      "cell_type": "code",
      "execution_count": null,
      "metadata": {
        "id": "gPSx24EQhimQ"
      },
      "outputs": [],
      "source": [
        "# Membuat fungsi untuk menghitung berapa additional cost\n",
        "\n",
        "def add_cost(dataframe, base_cost = base_cost, additional_cost = additional_cost, kind = '', np_ceil = ''):\n",
        "  '''\n",
        "    I.S: input dataframe count (eg: minute_count, internet_count)\n",
        "    F.S: dataframe baru yang berisi additional cost jika penggunaan user melebihi kuota yang telah ditetapkan untuk masing-masing paket\n",
        "         Jika tidak melebihi kuota maka valuenya di set menjadi 0\n",
        "\n",
        "    Parameters:\n",
        "    -----------\n",
        "        dataframe:\n",
        "            Dataframe count (eg: minute_count, internet_count)\n",
        "        base_cost:\n",
        "            dictionary base_cost\n",
        "        additional_cost:\n",
        "            dictionary additional_cost\n",
        "        kind:\n",
        "            'minute' atau 'message' atau 'gb'\n",
        "        np_ceil:\n",
        "            'yes' jika value dataframe harus dilakukan pembulatkan keatas\n",
        "    '''\n",
        "  df = pd.DataFrame(data = dataframe)\n",
        "  if np_ceil == 'yes':\n",
        "    df[df.columns[1:13]] = dataframe[dataframe.columns[1:13]].apply(np.ceil)\n",
        "  \n",
        "  df_surf = pd.DataFrame()\n",
        "  df_ultimate = pd.DataFrame()\n",
        "  df_all = pd.DataFrame()\n",
        "\n",
        "  df_surf = df[df['plan'] == 'surf']\n",
        "  df_ultimate = df[df['plan'] == 'ultimate']\n",
        "  list_table = [df_surf, df_ultimate]\n",
        "\n",
        "  for i in list_table:\n",
        "    i[i.columns[1:13]] = i[i.columns[1:13]] - base_cost[i.iloc[0]['plan']][kind]\n",
        "    for j in i[i.columns[1:13]]:\n",
        "      i.loc[i[j]< 0, j] = 0\n",
        "      i.loc[i[j] > 0, j] = i[j] * additional_cost[i.iloc[0]['plan']][kind]\n",
        "\n",
        "  df_all = df_surf.append(df_ultimate, ignore_index = True)\n",
        "  df_all.sort_values(by = 'user_id', inplace = True)\n",
        "  df_all.reset_index(drop = True, inplace = True)\n",
        "  \n",
        "  return df_all"
      ]
    },
    {
      "cell_type": "markdown",
      "metadata": {
        "id": "gxL5ud3YhimR"
      },
      "source": [
        "#### Mencari additional cost dari paket call"
      ]
    },
    {
      "cell_type": "markdown",
      "metadata": {
        "id": "Y31l_IzVhimR"
      },
      "source": [
        "I.S:\n",
        "- Dataframe minute_count berisi jumlah menit yang dihabiskan setiap bulannya. Value tersebut akan dikurangi dengan base cost yang sudah tertera untuk masing-masing paket\n",
        "- Apabila hasilnya <= 0 maka nilai tersebut akan diganti dengan 0 karena nilai <= 0 mengindikasikan bahwa tidak ada additional cost\n",
        "- Jika hasilnya > 0 maka nilai tersebut akan dikalikan dengan additional cost yang sudah tertera untuk masing-masing paket\n",
        "\n",
        "F.S:\n",
        "- Dua dataframe baru yang berasal dari dataframe awal minute_count\n",
        "- Dua dataframe baru ini berisi jumlah additional cost setiap bulannya untuk setiap user pada masing-masing paket"
      ]
    },
    {
      "cell_type": "code",
      "execution_count": null,
      "metadata": {
        "id": "dYBtOQGihimR"
      },
      "outputs": [],
      "source": [
        "# Apply fungsi\n",
        "\n",
        "add_minute = add_cost(minute_count, kind = 'minute', np_ceil = 'yes')"
      ]
    },
    {
      "cell_type": "code",
      "execution_count": null,
      "metadata": {
        "id": "MOuRVMA2himS",
        "outputId": "6246dad4-8397-437d-fcbf-ab03155d44e3"
      },
      "outputs": [
        {
          "data": {
            "text/html": [
              "<div>\n",
              "<style scoped>\n",
              "    .dataframe tbody tr th:only-of-type {\n",
              "        vertical-align: middle;\n",
              "    }\n",
              "\n",
              "    .dataframe tbody tr th {\n",
              "        vertical-align: top;\n",
              "    }\n",
              "\n",
              "    .dataframe thead th {\n",
              "        text-align: right;\n",
              "    }\n",
              "</style>\n",
              "<table border=\"1\" class=\"dataframe\">\n",
              "  <thead>\n",
              "    <tr style=\"text-align: right;\">\n",
              "      <th></th>\n",
              "      <th>user_id</th>\n",
              "      <th>1</th>\n",
              "      <th>2</th>\n",
              "      <th>3</th>\n",
              "      <th>4</th>\n",
              "      <th>5</th>\n",
              "      <th>6</th>\n",
              "      <th>7</th>\n",
              "      <th>8</th>\n",
              "      <th>9</th>\n",
              "      <th>10</th>\n",
              "      <th>11</th>\n",
              "      <th>12</th>\n",
              "      <th>plan</th>\n",
              "      <th>reg_date</th>\n",
              "      <th>churn_date</th>\n",
              "    </tr>\n",
              "  </thead>\n",
              "  <tbody>\n",
              "    <tr>\n",
              "      <th>0</th>\n",
              "      <td>1000</td>\n",
              "      <td>NaN</td>\n",
              "      <td>NaN</td>\n",
              "      <td>NaN</td>\n",
              "      <td>NaN</td>\n",
              "      <td>NaN</td>\n",
              "      <td>NaN</td>\n",
              "      <td>NaN</td>\n",
              "      <td>NaN</td>\n",
              "      <td>NaN</td>\n",
              "      <td>NaN</td>\n",
              "      <td>NaN</td>\n",
              "      <td>0.00</td>\n",
              "      <td>ultimate</td>\n",
              "      <td>2018-12-24</td>\n",
              "      <td>NaT</td>\n",
              "    </tr>\n",
              "    <tr>\n",
              "      <th>1</th>\n",
              "      <td>1001</td>\n",
              "      <td>NaN</td>\n",
              "      <td>NaN</td>\n",
              "      <td>NaN</td>\n",
              "      <td>NaN</td>\n",
              "      <td>NaN</td>\n",
              "      <td>NaN</td>\n",
              "      <td>NaN</td>\n",
              "      <td>0.00</td>\n",
              "      <td>0.00</td>\n",
              "      <td>0.00</td>\n",
              "      <td>0.00</td>\n",
              "      <td>0.00</td>\n",
              "      <td>surf</td>\n",
              "      <td>2018-08-13</td>\n",
              "      <td>NaT</td>\n",
              "    </tr>\n",
              "    <tr>\n",
              "      <th>2</th>\n",
              "      <td>1002</td>\n",
              "      <td>NaN</td>\n",
              "      <td>NaN</td>\n",
              "      <td>NaN</td>\n",
              "      <td>NaN</td>\n",
              "      <td>NaN</td>\n",
              "      <td>NaN</td>\n",
              "      <td>NaN</td>\n",
              "      <td>NaN</td>\n",
              "      <td>NaN</td>\n",
              "      <td>0.00</td>\n",
              "      <td>0.00</td>\n",
              "      <td>0.00</td>\n",
              "      <td>surf</td>\n",
              "      <td>2018-10-21</td>\n",
              "      <td>NaT</td>\n",
              "    </tr>\n",
              "    <tr>\n",
              "      <th>3</th>\n",
              "      <td>1003</td>\n",
              "      <td>0.0</td>\n",
              "      <td>0.0</td>\n",
              "      <td>0.0</td>\n",
              "      <td>0.0</td>\n",
              "      <td>0.0</td>\n",
              "      <td>0.00</td>\n",
              "      <td>0.00</td>\n",
              "      <td>0.00</td>\n",
              "      <td>0.00</td>\n",
              "      <td>0.00</td>\n",
              "      <td>0.00</td>\n",
              "      <td>16.23</td>\n",
              "      <td>surf</td>\n",
              "      <td>2018-01-28</td>\n",
              "      <td>NaT</td>\n",
              "    </tr>\n",
              "    <tr>\n",
              "      <th>4</th>\n",
              "      <td>1004</td>\n",
              "      <td>NaN</td>\n",
              "      <td>NaN</td>\n",
              "      <td>NaN</td>\n",
              "      <td>NaN</td>\n",
              "      <td>0.0</td>\n",
              "      <td>0.00</td>\n",
              "      <td>0.00</td>\n",
              "      <td>0.00</td>\n",
              "      <td>0.00</td>\n",
              "      <td>0.00</td>\n",
              "      <td>0.00</td>\n",
              "      <td>0.00</td>\n",
              "      <td>surf</td>\n",
              "      <td>2018-05-23</td>\n",
              "      <td>NaT</td>\n",
              "    </tr>\n",
              "    <tr>\n",
              "      <th>5</th>\n",
              "      <td>1005</td>\n",
              "      <td>NaN</td>\n",
              "      <td>NaN</td>\n",
              "      <td>NaN</td>\n",
              "      <td>NaN</td>\n",
              "      <td>NaN</td>\n",
              "      <td>NaN</td>\n",
              "      <td>NaN</td>\n",
              "      <td>NaN</td>\n",
              "      <td>NaN</td>\n",
              "      <td>NaN</td>\n",
              "      <td>0.00</td>\n",
              "      <td>0.00</td>\n",
              "      <td>surf</td>\n",
              "      <td>2018-11-29</td>\n",
              "      <td>NaT</td>\n",
              "    </tr>\n",
              "    <tr>\n",
              "      <th>6</th>\n",
              "      <td>1006</td>\n",
              "      <td>NaN</td>\n",
              "      <td>NaN</td>\n",
              "      <td>NaN</td>\n",
              "      <td>NaN</td>\n",
              "      <td>NaN</td>\n",
              "      <td>NaN</td>\n",
              "      <td>NaN</td>\n",
              "      <td>NaN</td>\n",
              "      <td>NaN</td>\n",
              "      <td>NaN</td>\n",
              "      <td>0.00</td>\n",
              "      <td>0.00</td>\n",
              "      <td>ultimate</td>\n",
              "      <td>2018-11-27</td>\n",
              "      <td>2018-12-18</td>\n",
              "    </tr>\n",
              "    <tr>\n",
              "      <th>7</th>\n",
              "      <td>1007</td>\n",
              "      <td>NaN</td>\n",
              "      <td>NaN</td>\n",
              "      <td>NaN</td>\n",
              "      <td>NaN</td>\n",
              "      <td>NaN</td>\n",
              "      <td>NaN</td>\n",
              "      <td>0.00</td>\n",
              "      <td>0.00</td>\n",
              "      <td>0.00</td>\n",
              "      <td>3.33</td>\n",
              "      <td>0.00</td>\n",
              "      <td>2.40</td>\n",
              "      <td>surf</td>\n",
              "      <td>2018-07-11</td>\n",
              "      <td>NaT</td>\n",
              "    </tr>\n",
              "    <tr>\n",
              "      <th>8</th>\n",
              "      <td>1008</td>\n",
              "      <td>NaN</td>\n",
              "      <td>NaN</td>\n",
              "      <td>NaN</td>\n",
              "      <td>NaN</td>\n",
              "      <td>NaN</td>\n",
              "      <td>NaN</td>\n",
              "      <td>NaN</td>\n",
              "      <td>0.00</td>\n",
              "      <td>0.00</td>\n",
              "      <td>0.00</td>\n",
              "      <td>0.00</td>\n",
              "      <td>0.00</td>\n",
              "      <td>ultimate</td>\n",
              "      <td>2018-08-03</td>\n",
              "      <td>NaT</td>\n",
              "    </tr>\n",
              "    <tr>\n",
              "      <th>9</th>\n",
              "      <td>1009</td>\n",
              "      <td>NaN</td>\n",
              "      <td>NaN</td>\n",
              "      <td>NaN</td>\n",
              "      <td>0.0</td>\n",
              "      <td>0.0</td>\n",
              "      <td>8.28</td>\n",
              "      <td>9.81</td>\n",
              "      <td>5.43</td>\n",
              "      <td>6.93</td>\n",
              "      <td>5.91</td>\n",
              "      <td>5.07</td>\n",
              "      <td>6.39</td>\n",
              "      <td>surf</td>\n",
              "      <td>2018-04-22</td>\n",
              "      <td>NaT</td>\n",
              "    </tr>\n",
              "  </tbody>\n",
              "</table>\n",
              "</div>"
            ],
            "text/plain": [
              "   user_id    1    2    3    4    5     6     7     8     9    10    11  \\\n",
              "0     1000  NaN  NaN  NaN  NaN  NaN   NaN   NaN   NaN   NaN   NaN   NaN   \n",
              "1     1001  NaN  NaN  NaN  NaN  NaN   NaN   NaN  0.00  0.00  0.00  0.00   \n",
              "2     1002  NaN  NaN  NaN  NaN  NaN   NaN   NaN   NaN   NaN  0.00  0.00   \n",
              "3     1003  0.0  0.0  0.0  0.0  0.0  0.00  0.00  0.00  0.00  0.00  0.00   \n",
              "4     1004  NaN  NaN  NaN  NaN  0.0  0.00  0.00  0.00  0.00  0.00  0.00   \n",
              "5     1005  NaN  NaN  NaN  NaN  NaN   NaN   NaN   NaN   NaN   NaN  0.00   \n",
              "6     1006  NaN  NaN  NaN  NaN  NaN   NaN   NaN   NaN   NaN   NaN  0.00   \n",
              "7     1007  NaN  NaN  NaN  NaN  NaN   NaN  0.00  0.00  0.00  3.33  0.00   \n",
              "8     1008  NaN  NaN  NaN  NaN  NaN   NaN   NaN  0.00  0.00  0.00  0.00   \n",
              "9     1009  NaN  NaN  NaN  0.0  0.0  8.28  9.81  5.43  6.93  5.91  5.07   \n",
              "\n",
              "      12      plan   reg_date churn_date  \n",
              "0   0.00  ultimate 2018-12-24        NaT  \n",
              "1   0.00      surf 2018-08-13        NaT  \n",
              "2   0.00      surf 2018-10-21        NaT  \n",
              "3  16.23      surf 2018-01-28        NaT  \n",
              "4   0.00      surf 2018-05-23        NaT  \n",
              "5   0.00      surf 2018-11-29        NaT  \n",
              "6   0.00  ultimate 2018-11-27 2018-12-18  \n",
              "7   2.40      surf 2018-07-11        NaT  \n",
              "8   0.00  ultimate 2018-08-03        NaT  \n",
              "9   6.39      surf 2018-04-22        NaT  "
            ]
          },
          "execution_count": 48,
          "metadata": {},
          "output_type": "execute_result"
        }
      ],
      "source": [
        "add_minute.head(10)"
      ]
    },
    {
      "cell_type": "markdown",
      "metadata": {
        "id": "VAb_jQB5himS"
      },
      "source": [
        "#### Mencari additional cost dari paket message"
      ]
    },
    {
      "cell_type": "code",
      "execution_count": null,
      "metadata": {
        "id": "N2M4mBEUhimS"
      },
      "outputs": [],
      "source": [
        "# Apply fungsi\n",
        "\n",
        "add_message = add_cost(message_count, kind = 'message', np_ceil = 'no')"
      ]
    },
    {
      "cell_type": "code",
      "execution_count": null,
      "metadata": {
        "id": "JjnNhTVWhimS",
        "outputId": "d026b432-6dab-42a0-c600-438898b6ec47"
      },
      "outputs": [
        {
          "data": {
            "text/html": [
              "<div>\n",
              "<style scoped>\n",
              "    .dataframe tbody tr th:only-of-type {\n",
              "        vertical-align: middle;\n",
              "    }\n",
              "\n",
              "    .dataframe tbody tr th {\n",
              "        vertical-align: top;\n",
              "    }\n",
              "\n",
              "    .dataframe thead th {\n",
              "        text-align: right;\n",
              "    }\n",
              "</style>\n",
              "<table border=\"1\" class=\"dataframe\">\n",
              "  <thead>\n",
              "    <tr style=\"text-align: right;\">\n",
              "      <th></th>\n",
              "      <th>user_id</th>\n",
              "      <th>1</th>\n",
              "      <th>2</th>\n",
              "      <th>3</th>\n",
              "      <th>4</th>\n",
              "      <th>5</th>\n",
              "      <th>6</th>\n",
              "      <th>7</th>\n",
              "      <th>8</th>\n",
              "      <th>9</th>\n",
              "      <th>10</th>\n",
              "      <th>11</th>\n",
              "      <th>12</th>\n",
              "      <th>plan</th>\n",
              "      <th>reg_date</th>\n",
              "      <th>churn_date</th>\n",
              "    </tr>\n",
              "  </thead>\n",
              "  <tbody>\n",
              "    <tr>\n",
              "      <th>0</th>\n",
              "      <td>1000</td>\n",
              "      <td>NaN</td>\n",
              "      <td>NaN</td>\n",
              "      <td>NaN</td>\n",
              "      <td>NaN</td>\n",
              "      <td>NaN</td>\n",
              "      <td>NaN</td>\n",
              "      <td>NaN</td>\n",
              "      <td>NaN</td>\n",
              "      <td>NaN</td>\n",
              "      <td>NaN</td>\n",
              "      <td>NaN</td>\n",
              "      <td>0.0</td>\n",
              "      <td>ultimate</td>\n",
              "      <td>2018-12-24</td>\n",
              "      <td>NaT</td>\n",
              "    </tr>\n",
              "    <tr>\n",
              "      <th>1</th>\n",
              "      <td>1001</td>\n",
              "      <td>NaN</td>\n",
              "      <td>NaN</td>\n",
              "      <td>NaN</td>\n",
              "      <td>NaN</td>\n",
              "      <td>NaN</td>\n",
              "      <td>NaN</td>\n",
              "      <td>NaN</td>\n",
              "      <td>0.00</td>\n",
              "      <td>0.0</td>\n",
              "      <td>0.09</td>\n",
              "      <td>0.0</td>\n",
              "      <td>0.0</td>\n",
              "      <td>surf</td>\n",
              "      <td>2018-08-13</td>\n",
              "      <td>NaT</td>\n",
              "    </tr>\n",
              "    <tr>\n",
              "      <th>2</th>\n",
              "      <td>1002</td>\n",
              "      <td>NaN</td>\n",
              "      <td>NaN</td>\n",
              "      <td>NaN</td>\n",
              "      <td>NaN</td>\n",
              "      <td>NaN</td>\n",
              "      <td>NaN</td>\n",
              "      <td>NaN</td>\n",
              "      <td>NaN</td>\n",
              "      <td>NaN</td>\n",
              "      <td>0.00</td>\n",
              "      <td>0.0</td>\n",
              "      <td>0.0</td>\n",
              "      <td>surf</td>\n",
              "      <td>2018-10-21</td>\n",
              "      <td>NaT</td>\n",
              "    </tr>\n",
              "    <tr>\n",
              "      <th>3</th>\n",
              "      <td>1003</td>\n",
              "      <td>0.0</td>\n",
              "      <td>0.0</td>\n",
              "      <td>0.0</td>\n",
              "      <td>0.0</td>\n",
              "      <td>0.0</td>\n",
              "      <td>0.0</td>\n",
              "      <td>0.0</td>\n",
              "      <td>0.00</td>\n",
              "      <td>0.0</td>\n",
              "      <td>0.00</td>\n",
              "      <td>0.0</td>\n",
              "      <td>0.0</td>\n",
              "      <td>surf</td>\n",
              "      <td>2018-01-28</td>\n",
              "      <td>NaT</td>\n",
              "    </tr>\n",
              "    <tr>\n",
              "      <th>4</th>\n",
              "      <td>1004</td>\n",
              "      <td>NaN</td>\n",
              "      <td>NaN</td>\n",
              "      <td>NaN</td>\n",
              "      <td>NaN</td>\n",
              "      <td>0.0</td>\n",
              "      <td>0.0</td>\n",
              "      <td>0.0</td>\n",
              "      <td>0.00</td>\n",
              "      <td>0.0</td>\n",
              "      <td>0.00</td>\n",
              "      <td>0.0</td>\n",
              "      <td>0.0</td>\n",
              "      <td>surf</td>\n",
              "      <td>2018-05-23</td>\n",
              "      <td>NaT</td>\n",
              "    </tr>\n",
              "    <tr>\n",
              "      <th>5</th>\n",
              "      <td>1005</td>\n",
              "      <td>NaN</td>\n",
              "      <td>NaN</td>\n",
              "      <td>NaN</td>\n",
              "      <td>NaN</td>\n",
              "      <td>NaN</td>\n",
              "      <td>NaN</td>\n",
              "      <td>NaN</td>\n",
              "      <td>NaN</td>\n",
              "      <td>NaN</td>\n",
              "      <td>NaN</td>\n",
              "      <td>0.0</td>\n",
              "      <td>0.0</td>\n",
              "      <td>surf</td>\n",
              "      <td>2018-11-29</td>\n",
              "      <td>NaT</td>\n",
              "    </tr>\n",
              "    <tr>\n",
              "      <th>6</th>\n",
              "      <td>1006</td>\n",
              "      <td>NaN</td>\n",
              "      <td>NaN</td>\n",
              "      <td>NaN</td>\n",
              "      <td>NaN</td>\n",
              "      <td>NaN</td>\n",
              "      <td>NaN</td>\n",
              "      <td>NaN</td>\n",
              "      <td>NaN</td>\n",
              "      <td>NaN</td>\n",
              "      <td>NaN</td>\n",
              "      <td>0.0</td>\n",
              "      <td>0.0</td>\n",
              "      <td>ultimate</td>\n",
              "      <td>2018-11-27</td>\n",
              "      <td>2018-12-18</td>\n",
              "    </tr>\n",
              "    <tr>\n",
              "      <th>7</th>\n",
              "      <td>1007</td>\n",
              "      <td>NaN</td>\n",
              "      <td>NaN</td>\n",
              "      <td>NaN</td>\n",
              "      <td>NaN</td>\n",
              "      <td>NaN</td>\n",
              "      <td>NaN</td>\n",
              "      <td>0.0</td>\n",
              "      <td>0.03</td>\n",
              "      <td>0.0</td>\n",
              "      <td>0.27</td>\n",
              "      <td>0.0</td>\n",
              "      <td>0.0</td>\n",
              "      <td>surf</td>\n",
              "      <td>2018-07-11</td>\n",
              "      <td>NaT</td>\n",
              "    </tr>\n",
              "    <tr>\n",
              "      <th>8</th>\n",
              "      <td>1008</td>\n",
              "      <td>NaN</td>\n",
              "      <td>NaN</td>\n",
              "      <td>NaN</td>\n",
              "      <td>NaN</td>\n",
              "      <td>NaN</td>\n",
              "      <td>NaN</td>\n",
              "      <td>NaN</td>\n",
              "      <td>0.00</td>\n",
              "      <td>0.0</td>\n",
              "      <td>0.00</td>\n",
              "      <td>0.0</td>\n",
              "      <td>0.0</td>\n",
              "      <td>ultimate</td>\n",
              "      <td>2018-08-03</td>\n",
              "      <td>NaT</td>\n",
              "    </tr>\n",
              "    <tr>\n",
              "      <th>9</th>\n",
              "      <td>1009</td>\n",
              "      <td>NaN</td>\n",
              "      <td>NaN</td>\n",
              "      <td>NaN</td>\n",
              "      <td>0.0</td>\n",
              "      <td>0.0</td>\n",
              "      <td>0.0</td>\n",
              "      <td>0.0</td>\n",
              "      <td>0.00</td>\n",
              "      <td>0.0</td>\n",
              "      <td>0.00</td>\n",
              "      <td>0.0</td>\n",
              "      <td>0.0</td>\n",
              "      <td>surf</td>\n",
              "      <td>2018-04-22</td>\n",
              "      <td>NaT</td>\n",
              "    </tr>\n",
              "  </tbody>\n",
              "</table>\n",
              "</div>"
            ],
            "text/plain": [
              "   user_id    1    2    3    4    5    6    7     8    9    10   11   12  \\\n",
              "0     1000  NaN  NaN  NaN  NaN  NaN  NaN  NaN   NaN  NaN   NaN  NaN  0.0   \n",
              "1     1001  NaN  NaN  NaN  NaN  NaN  NaN  NaN  0.00  0.0  0.09  0.0  0.0   \n",
              "2     1002  NaN  NaN  NaN  NaN  NaN  NaN  NaN   NaN  NaN  0.00  0.0  0.0   \n",
              "3     1003  0.0  0.0  0.0  0.0  0.0  0.0  0.0  0.00  0.0  0.00  0.0  0.0   \n",
              "4     1004  NaN  NaN  NaN  NaN  0.0  0.0  0.0  0.00  0.0  0.00  0.0  0.0   \n",
              "5     1005  NaN  NaN  NaN  NaN  NaN  NaN  NaN   NaN  NaN   NaN  0.0  0.0   \n",
              "6     1006  NaN  NaN  NaN  NaN  NaN  NaN  NaN   NaN  NaN   NaN  0.0  0.0   \n",
              "7     1007  NaN  NaN  NaN  NaN  NaN  NaN  0.0  0.03  0.0  0.27  0.0  0.0   \n",
              "8     1008  NaN  NaN  NaN  NaN  NaN  NaN  NaN  0.00  0.0  0.00  0.0  0.0   \n",
              "9     1009  NaN  NaN  NaN  0.0  0.0  0.0  0.0  0.00  0.0  0.00  0.0  0.0   \n",
              "\n",
              "       plan   reg_date churn_date  \n",
              "0  ultimate 2018-12-24        NaT  \n",
              "1      surf 2018-08-13        NaT  \n",
              "2      surf 2018-10-21        NaT  \n",
              "3      surf 2018-01-28        NaT  \n",
              "4      surf 2018-05-23        NaT  \n",
              "5      surf 2018-11-29        NaT  \n",
              "6  ultimate 2018-11-27 2018-12-18  \n",
              "7      surf 2018-07-11        NaT  \n",
              "8  ultimate 2018-08-03        NaT  \n",
              "9      surf 2018-04-22        NaT  "
            ]
          },
          "execution_count": 50,
          "metadata": {},
          "output_type": "execute_result"
        }
      ],
      "source": [
        "add_message.head(10)"
      ]
    },
    {
      "cell_type": "markdown",
      "metadata": {
        "id": "IbZhZTjDhimT"
      },
      "source": [
        "#### Mencari additional cost dari paket internet"
      ]
    },
    {
      "cell_type": "code",
      "execution_count": null,
      "metadata": {
        "id": "Z9EOW4OUhimT"
      },
      "outputs": [],
      "source": [
        "# Apply fungsi\n",
        "\n",
        "add_internet = add_cost(internet_count, kind = 'gb', np_ceil = 'yes')"
      ]
    },
    {
      "cell_type": "code",
      "execution_count": null,
      "metadata": {
        "id": "0IQENBffhimT",
        "outputId": "75868fc8-746e-40ad-9887-530935eea588"
      },
      "outputs": [
        {
          "data": {
            "text/html": [
              "<div>\n",
              "<style scoped>\n",
              "    .dataframe tbody tr th:only-of-type {\n",
              "        vertical-align: middle;\n",
              "    }\n",
              "\n",
              "    .dataframe tbody tr th {\n",
              "        vertical-align: top;\n",
              "    }\n",
              "\n",
              "    .dataframe thead th {\n",
              "        text-align: right;\n",
              "    }\n",
              "</style>\n",
              "<table border=\"1\" class=\"dataframe\">\n",
              "  <thead>\n",
              "    <tr style=\"text-align: right;\">\n",
              "      <th></th>\n",
              "      <th>user_id</th>\n",
              "      <th>1</th>\n",
              "      <th>2</th>\n",
              "      <th>3</th>\n",
              "      <th>4</th>\n",
              "      <th>5</th>\n",
              "      <th>6</th>\n",
              "      <th>7</th>\n",
              "      <th>8</th>\n",
              "      <th>9</th>\n",
              "      <th>10</th>\n",
              "      <th>11</th>\n",
              "      <th>12</th>\n",
              "      <th>plan</th>\n",
              "      <th>reg_date</th>\n",
              "      <th>churn_date</th>\n",
              "    </tr>\n",
              "  </thead>\n",
              "  <tbody>\n",
              "    <tr>\n",
              "      <th>0</th>\n",
              "      <td>1000</td>\n",
              "      <td>NaN</td>\n",
              "      <td>NaN</td>\n",
              "      <td>NaN</td>\n",
              "      <td>NaN</td>\n",
              "      <td>NaN</td>\n",
              "      <td>NaN</td>\n",
              "      <td>NaN</td>\n",
              "      <td>NaN</td>\n",
              "      <td>NaN</td>\n",
              "      <td>NaN</td>\n",
              "      <td>NaN</td>\n",
              "      <td>0.0</td>\n",
              "      <td>ultimate</td>\n",
              "      <td>2018-12-24</td>\n",
              "      <td>NaT</td>\n",
              "    </tr>\n",
              "    <tr>\n",
              "      <th>1</th>\n",
              "      <td>1001</td>\n",
              "      <td>NaN</td>\n",
              "      <td>NaN</td>\n",
              "      <td>NaN</td>\n",
              "      <td>NaN</td>\n",
              "      <td>NaN</td>\n",
              "      <td>NaN</td>\n",
              "      <td>NaN</td>\n",
              "      <td>0.0</td>\n",
              "      <td>0.0</td>\n",
              "      <td>70.0</td>\n",
              "      <td>40.0</td>\n",
              "      <td>40.0</td>\n",
              "      <td>surf</td>\n",
              "      <td>2018-08-13</td>\n",
              "      <td>NaT</td>\n",
              "    </tr>\n",
              "    <tr>\n",
              "      <th>2</th>\n",
              "      <td>1002</td>\n",
              "      <td>NaN</td>\n",
              "      <td>NaN</td>\n",
              "      <td>NaN</td>\n",
              "      <td>NaN</td>\n",
              "      <td>NaN</td>\n",
              "      <td>NaN</td>\n",
              "      <td>NaN</td>\n",
              "      <td>NaN</td>\n",
              "      <td>NaN</td>\n",
              "      <td>0.0</td>\n",
              "      <td>40.0</td>\n",
              "      <td>0.0</td>\n",
              "      <td>surf</td>\n",
              "      <td>2018-10-21</td>\n",
              "      <td>NaT</td>\n",
              "    </tr>\n",
              "    <tr>\n",
              "      <th>3</th>\n",
              "      <td>1003</td>\n",
              "      <td>0.0</td>\n",
              "      <td>0.0</td>\n",
              "      <td>0.0</td>\n",
              "      <td>0.0</td>\n",
              "      <td>0.0</td>\n",
              "      <td>0.0</td>\n",
              "      <td>0.0</td>\n",
              "      <td>0.0</td>\n",
              "      <td>0.0</td>\n",
              "      <td>0.0</td>\n",
              "      <td>0.0</td>\n",
              "      <td>120.0</td>\n",
              "      <td>surf</td>\n",
              "      <td>2018-01-28</td>\n",
              "      <td>NaT</td>\n",
              "    </tr>\n",
              "    <tr>\n",
              "      <th>4</th>\n",
              "      <td>1004</td>\n",
              "      <td>NaN</td>\n",
              "      <td>NaN</td>\n",
              "      <td>NaN</td>\n",
              "      <td>NaN</td>\n",
              "      <td>0.0</td>\n",
              "      <td>60.0</td>\n",
              "      <td>90.0</td>\n",
              "      <td>130.0</td>\n",
              "      <td>40.0</td>\n",
              "      <td>0.0</td>\n",
              "      <td>70.0</td>\n",
              "      <td>60.0</td>\n",
              "      <td>surf</td>\n",
              "      <td>2018-05-23</td>\n",
              "      <td>NaT</td>\n",
              "    </tr>\n",
              "    <tr>\n",
              "      <th>5</th>\n",
              "      <td>1005</td>\n",
              "      <td>NaN</td>\n",
              "      <td>NaN</td>\n",
              "      <td>NaN</td>\n",
              "      <td>NaN</td>\n",
              "      <td>NaN</td>\n",
              "      <td>NaN</td>\n",
              "      <td>NaN</td>\n",
              "      <td>NaN</td>\n",
              "      <td>NaN</td>\n",
              "      <td>NaN</td>\n",
              "      <td>0.0</td>\n",
              "      <td>20.0</td>\n",
              "      <td>surf</td>\n",
              "      <td>2018-11-29</td>\n",
              "      <td>NaT</td>\n",
              "    </tr>\n",
              "    <tr>\n",
              "      <th>6</th>\n",
              "      <td>1006</td>\n",
              "      <td>NaN</td>\n",
              "      <td>NaN</td>\n",
              "      <td>NaN</td>\n",
              "      <td>NaN</td>\n",
              "      <td>NaN</td>\n",
              "      <td>NaN</td>\n",
              "      <td>NaN</td>\n",
              "      <td>NaN</td>\n",
              "      <td>NaN</td>\n",
              "      <td>NaN</td>\n",
              "      <td>0.0</td>\n",
              "      <td>14.0</td>\n",
              "      <td>ultimate</td>\n",
              "      <td>2018-11-27</td>\n",
              "      <td>2018-12-18</td>\n",
              "    </tr>\n",
              "    <tr>\n",
              "      <th>7</th>\n",
              "      <td>1007</td>\n",
              "      <td>NaN</td>\n",
              "      <td>NaN</td>\n",
              "      <td>NaN</td>\n",
              "      <td>NaN</td>\n",
              "      <td>NaN</td>\n",
              "      <td>NaN</td>\n",
              "      <td>0.0</td>\n",
              "      <td>90.0</td>\n",
              "      <td>130.0</td>\n",
              "      <td>220.0</td>\n",
              "      <td>90.0</td>\n",
              "      <td>140.0</td>\n",
              "      <td>surf</td>\n",
              "      <td>2018-07-11</td>\n",
              "      <td>NaT</td>\n",
              "    </tr>\n",
              "    <tr>\n",
              "      <th>8</th>\n",
              "      <td>1008</td>\n",
              "      <td>NaN</td>\n",
              "      <td>NaN</td>\n",
              "      <td>NaN</td>\n",
              "      <td>NaN</td>\n",
              "      <td>NaN</td>\n",
              "      <td>NaN</td>\n",
              "      <td>NaN</td>\n",
              "      <td>0.0</td>\n",
              "      <td>0.0</td>\n",
              "      <td>0.0</td>\n",
              "      <td>0.0</td>\n",
              "      <td>0.0</td>\n",
              "      <td>ultimate</td>\n",
              "      <td>2018-08-03</td>\n",
              "      <td>NaT</td>\n",
              "    </tr>\n",
              "    <tr>\n",
              "      <th>9</th>\n",
              "      <td>1009</td>\n",
              "      <td>NaN</td>\n",
              "      <td>NaN</td>\n",
              "      <td>NaN</td>\n",
              "      <td>0.0</td>\n",
              "      <td>50.0</td>\n",
              "      <td>40.0</td>\n",
              "      <td>150.0</td>\n",
              "      <td>90.0</td>\n",
              "      <td>60.0</td>\n",
              "      <td>80.0</td>\n",
              "      <td>100.0</td>\n",
              "      <td>90.0</td>\n",
              "      <td>surf</td>\n",
              "      <td>2018-04-22</td>\n",
              "      <td>NaT</td>\n",
              "    </tr>\n",
              "  </tbody>\n",
              "</table>\n",
              "</div>"
            ],
            "text/plain": [
              "   user_id    1    2    3    4     5     6      7      8      9     10     11  \\\n",
              "0     1000  NaN  NaN  NaN  NaN   NaN   NaN    NaN    NaN    NaN    NaN    NaN   \n",
              "1     1001  NaN  NaN  NaN  NaN   NaN   NaN    NaN    0.0    0.0   70.0   40.0   \n",
              "2     1002  NaN  NaN  NaN  NaN   NaN   NaN    NaN    NaN    NaN    0.0   40.0   \n",
              "3     1003  0.0  0.0  0.0  0.0   0.0   0.0    0.0    0.0    0.0    0.0    0.0   \n",
              "4     1004  NaN  NaN  NaN  NaN   0.0  60.0   90.0  130.0   40.0    0.0   70.0   \n",
              "5     1005  NaN  NaN  NaN  NaN   NaN   NaN    NaN    NaN    NaN    NaN    0.0   \n",
              "6     1006  NaN  NaN  NaN  NaN   NaN   NaN    NaN    NaN    NaN    NaN    0.0   \n",
              "7     1007  NaN  NaN  NaN  NaN   NaN   NaN    0.0   90.0  130.0  220.0   90.0   \n",
              "8     1008  NaN  NaN  NaN  NaN   NaN   NaN    NaN    0.0    0.0    0.0    0.0   \n",
              "9     1009  NaN  NaN  NaN  0.0  50.0  40.0  150.0   90.0   60.0   80.0  100.0   \n",
              "\n",
              "      12      plan   reg_date churn_date  \n",
              "0    0.0  ultimate 2018-12-24        NaT  \n",
              "1   40.0      surf 2018-08-13        NaT  \n",
              "2    0.0      surf 2018-10-21        NaT  \n",
              "3  120.0      surf 2018-01-28        NaT  \n",
              "4   60.0      surf 2018-05-23        NaT  \n",
              "5   20.0      surf 2018-11-29        NaT  \n",
              "6   14.0  ultimate 2018-11-27 2018-12-18  \n",
              "7  140.0      surf 2018-07-11        NaT  \n",
              "8    0.0  ultimate 2018-08-03        NaT  \n",
              "9   90.0      surf 2018-04-22        NaT  "
            ]
          },
          "execution_count": 52,
          "metadata": {},
          "output_type": "execute_result"
        }
      ],
      "source": [
        "add_internet.head(n=10)"
      ]
    },
    {
      "cell_type": "markdown",
      "metadata": {
        "id": "VdU64NvahimU"
      },
      "source": [
        "#### Total Revenue bulanan per user masing - masing paket"
      ]
    },
    {
      "cell_type": "code",
      "execution_count": null,
      "metadata": {
        "id": "Ycx1ad3MhimU"
      },
      "outputs": [],
      "source": [
        "total_revenue = pd.DataFrame(data = add_minute)\n",
        "total_revenue[total_revenue.columns[1:13]] = add_message[add_message.columns[1:13]] + add_internet[add_internet.columns[1:13]] + add_minute[add_minute.columns[1:13]]"
      ]
    },
    {
      "cell_type": "code",
      "execution_count": null,
      "metadata": {
        "id": "PSW4DRZshimU",
        "outputId": "d3589a32-626e-41ec-f03c-e6484c9f354c"
      },
      "outputs": [
        {
          "data": {
            "text/html": [
              "<div>\n",
              "<style scoped>\n",
              "    .dataframe tbody tr th:only-of-type {\n",
              "        vertical-align: middle;\n",
              "    }\n",
              "\n",
              "    .dataframe tbody tr th {\n",
              "        vertical-align: top;\n",
              "    }\n",
              "\n",
              "    .dataframe thead th {\n",
              "        text-align: right;\n",
              "    }\n",
              "</style>\n",
              "<table border=\"1\" class=\"dataframe\">\n",
              "  <thead>\n",
              "    <tr style=\"text-align: right;\">\n",
              "      <th></th>\n",
              "      <th>user_id</th>\n",
              "      <th>1</th>\n",
              "      <th>2</th>\n",
              "      <th>3</th>\n",
              "      <th>4</th>\n",
              "      <th>5</th>\n",
              "      <th>6</th>\n",
              "      <th>7</th>\n",
              "      <th>8</th>\n",
              "      <th>9</th>\n",
              "      <th>10</th>\n",
              "      <th>11</th>\n",
              "      <th>12</th>\n",
              "      <th>plan</th>\n",
              "      <th>reg_date</th>\n",
              "      <th>churn_date</th>\n",
              "    </tr>\n",
              "  </thead>\n",
              "  <tbody>\n",
              "    <tr>\n",
              "      <th>0</th>\n",
              "      <td>1000</td>\n",
              "      <td>NaN</td>\n",
              "      <td>NaN</td>\n",
              "      <td>NaN</td>\n",
              "      <td>NaN</td>\n",
              "      <td>NaN</td>\n",
              "      <td>NaN</td>\n",
              "      <td>NaN</td>\n",
              "      <td>NaN</td>\n",
              "      <td>NaN</td>\n",
              "      <td>NaN</td>\n",
              "      <td>NaN</td>\n",
              "      <td>0.00</td>\n",
              "      <td>ultimate</td>\n",
              "      <td>2018-12-24</td>\n",
              "      <td>NaT</td>\n",
              "    </tr>\n",
              "    <tr>\n",
              "      <th>1</th>\n",
              "      <td>1001</td>\n",
              "      <td>NaN</td>\n",
              "      <td>NaN</td>\n",
              "      <td>NaN</td>\n",
              "      <td>NaN</td>\n",
              "      <td>NaN</td>\n",
              "      <td>NaN</td>\n",
              "      <td>NaN</td>\n",
              "      <td>0.00</td>\n",
              "      <td>0.00</td>\n",
              "      <td>70.09</td>\n",
              "      <td>40.00</td>\n",
              "      <td>40.00</td>\n",
              "      <td>surf</td>\n",
              "      <td>2018-08-13</td>\n",
              "      <td>NaT</td>\n",
              "    </tr>\n",
              "    <tr>\n",
              "      <th>2</th>\n",
              "      <td>1002</td>\n",
              "      <td>NaN</td>\n",
              "      <td>NaN</td>\n",
              "      <td>NaN</td>\n",
              "      <td>NaN</td>\n",
              "      <td>NaN</td>\n",
              "      <td>NaN</td>\n",
              "      <td>NaN</td>\n",
              "      <td>NaN</td>\n",
              "      <td>NaN</td>\n",
              "      <td>0.00</td>\n",
              "      <td>40.00</td>\n",
              "      <td>0.00</td>\n",
              "      <td>surf</td>\n",
              "      <td>2018-10-21</td>\n",
              "      <td>NaT</td>\n",
              "    </tr>\n",
              "    <tr>\n",
              "      <th>3</th>\n",
              "      <td>1003</td>\n",
              "      <td>0.0</td>\n",
              "      <td>0.0</td>\n",
              "      <td>0.0</td>\n",
              "      <td>0.0</td>\n",
              "      <td>0.0</td>\n",
              "      <td>0.00</td>\n",
              "      <td>0.00</td>\n",
              "      <td>0.00</td>\n",
              "      <td>0.00</td>\n",
              "      <td>0.00</td>\n",
              "      <td>0.00</td>\n",
              "      <td>136.23</td>\n",
              "      <td>surf</td>\n",
              "      <td>2018-01-28</td>\n",
              "      <td>NaT</td>\n",
              "    </tr>\n",
              "    <tr>\n",
              "      <th>4</th>\n",
              "      <td>1004</td>\n",
              "      <td>NaN</td>\n",
              "      <td>NaN</td>\n",
              "      <td>NaN</td>\n",
              "      <td>NaN</td>\n",
              "      <td>0.0</td>\n",
              "      <td>60.00</td>\n",
              "      <td>90.00</td>\n",
              "      <td>130.00</td>\n",
              "      <td>40.00</td>\n",
              "      <td>0.00</td>\n",
              "      <td>70.00</td>\n",
              "      <td>60.00</td>\n",
              "      <td>surf</td>\n",
              "      <td>2018-05-23</td>\n",
              "      <td>NaT</td>\n",
              "    </tr>\n",
              "    <tr>\n",
              "      <th>5</th>\n",
              "      <td>1005</td>\n",
              "      <td>NaN</td>\n",
              "      <td>NaN</td>\n",
              "      <td>NaN</td>\n",
              "      <td>NaN</td>\n",
              "      <td>NaN</td>\n",
              "      <td>NaN</td>\n",
              "      <td>NaN</td>\n",
              "      <td>NaN</td>\n",
              "      <td>NaN</td>\n",
              "      <td>NaN</td>\n",
              "      <td>0.00</td>\n",
              "      <td>20.00</td>\n",
              "      <td>surf</td>\n",
              "      <td>2018-11-29</td>\n",
              "      <td>NaT</td>\n",
              "    </tr>\n",
              "    <tr>\n",
              "      <th>6</th>\n",
              "      <td>1006</td>\n",
              "      <td>NaN</td>\n",
              "      <td>NaN</td>\n",
              "      <td>NaN</td>\n",
              "      <td>NaN</td>\n",
              "      <td>NaN</td>\n",
              "      <td>NaN</td>\n",
              "      <td>NaN</td>\n",
              "      <td>NaN</td>\n",
              "      <td>NaN</td>\n",
              "      <td>NaN</td>\n",
              "      <td>0.00</td>\n",
              "      <td>14.00</td>\n",
              "      <td>ultimate</td>\n",
              "      <td>2018-11-27</td>\n",
              "      <td>2018-12-18</td>\n",
              "    </tr>\n",
              "    <tr>\n",
              "      <th>7</th>\n",
              "      <td>1007</td>\n",
              "      <td>NaN</td>\n",
              "      <td>NaN</td>\n",
              "      <td>NaN</td>\n",
              "      <td>NaN</td>\n",
              "      <td>NaN</td>\n",
              "      <td>NaN</td>\n",
              "      <td>0.00</td>\n",
              "      <td>90.03</td>\n",
              "      <td>130.00</td>\n",
              "      <td>223.60</td>\n",
              "      <td>90.00</td>\n",
              "      <td>142.40</td>\n",
              "      <td>surf</td>\n",
              "      <td>2018-07-11</td>\n",
              "      <td>NaT</td>\n",
              "    </tr>\n",
              "    <tr>\n",
              "      <th>8</th>\n",
              "      <td>1008</td>\n",
              "      <td>NaN</td>\n",
              "      <td>NaN</td>\n",
              "      <td>NaN</td>\n",
              "      <td>NaN</td>\n",
              "      <td>NaN</td>\n",
              "      <td>NaN</td>\n",
              "      <td>NaN</td>\n",
              "      <td>0.00</td>\n",
              "      <td>0.00</td>\n",
              "      <td>0.00</td>\n",
              "      <td>0.00</td>\n",
              "      <td>0.00</td>\n",
              "      <td>ultimate</td>\n",
              "      <td>2018-08-03</td>\n",
              "      <td>NaT</td>\n",
              "    </tr>\n",
              "    <tr>\n",
              "      <th>9</th>\n",
              "      <td>1009</td>\n",
              "      <td>NaN</td>\n",
              "      <td>NaN</td>\n",
              "      <td>NaN</td>\n",
              "      <td>0.0</td>\n",
              "      <td>50.0</td>\n",
              "      <td>48.28</td>\n",
              "      <td>159.81</td>\n",
              "      <td>95.43</td>\n",
              "      <td>66.93</td>\n",
              "      <td>85.91</td>\n",
              "      <td>105.07</td>\n",
              "      <td>96.39</td>\n",
              "      <td>surf</td>\n",
              "      <td>2018-04-22</td>\n",
              "      <td>NaT</td>\n",
              "    </tr>\n",
              "  </tbody>\n",
              "</table>\n",
              "</div>"
            ],
            "text/plain": [
              "   user_id    1    2    3    4     5      6       7       8       9      10  \\\n",
              "0     1000  NaN  NaN  NaN  NaN   NaN    NaN     NaN     NaN     NaN     NaN   \n",
              "1     1001  NaN  NaN  NaN  NaN   NaN    NaN     NaN    0.00    0.00   70.09   \n",
              "2     1002  NaN  NaN  NaN  NaN   NaN    NaN     NaN     NaN     NaN    0.00   \n",
              "3     1003  0.0  0.0  0.0  0.0   0.0   0.00    0.00    0.00    0.00    0.00   \n",
              "4     1004  NaN  NaN  NaN  NaN   0.0  60.00   90.00  130.00   40.00    0.00   \n",
              "5     1005  NaN  NaN  NaN  NaN   NaN    NaN     NaN     NaN     NaN     NaN   \n",
              "6     1006  NaN  NaN  NaN  NaN   NaN    NaN     NaN     NaN     NaN     NaN   \n",
              "7     1007  NaN  NaN  NaN  NaN   NaN    NaN    0.00   90.03  130.00  223.60   \n",
              "8     1008  NaN  NaN  NaN  NaN   NaN    NaN     NaN    0.00    0.00    0.00   \n",
              "9     1009  NaN  NaN  NaN  0.0  50.0  48.28  159.81   95.43   66.93   85.91   \n",
              "\n",
              "       11      12      plan   reg_date churn_date  \n",
              "0     NaN    0.00  ultimate 2018-12-24        NaT  \n",
              "1   40.00   40.00      surf 2018-08-13        NaT  \n",
              "2   40.00    0.00      surf 2018-10-21        NaT  \n",
              "3    0.00  136.23      surf 2018-01-28        NaT  \n",
              "4   70.00   60.00      surf 2018-05-23        NaT  \n",
              "5    0.00   20.00      surf 2018-11-29        NaT  \n",
              "6    0.00   14.00  ultimate 2018-11-27 2018-12-18  \n",
              "7   90.00  142.40      surf 2018-07-11        NaT  \n",
              "8    0.00    0.00  ultimate 2018-08-03        NaT  \n",
              "9  105.07   96.39      surf 2018-04-22        NaT  "
            ]
          },
          "execution_count": 54,
          "metadata": {},
          "output_type": "execute_result"
        }
      ],
      "source": [
        "total_revenue.head(n=10)"
      ]
    },
    {
      "cell_type": "code",
      "execution_count": null,
      "metadata": {
        "id": "Q_pQlJ4GhimU"
      },
      "outputs": [],
      "source": [
        "# Menambahkan harga basic masing-masing paket\n",
        "# {'surf': 20, 'ultimate': 70} satuan dollar\n",
        "\n",
        "def base_add (dataframe, jenis_paket = jenis_paket):\n",
        "  for i in dataframe.index:\n",
        "    reg = dataframe.iloc[i]['reg_date'].month\n",
        "    if pd.isnull(dataframe.iloc[i]['churn_date']) == False:\n",
        "      stop = dataframe.iloc[i]['churn_date'].month\n",
        "    elif pd.isnull(dataframe.iloc[i]['churn_date']) == True:\n",
        "      stop = 12\n",
        "    plan = dataframe.iloc[i]['plan']\n",
        "    \n",
        "    if plan == 'surf':  \n",
        "      for j in range(reg, stop+1):\n",
        "        dataframe.iloc[i, j] = dataframe.iloc[i, j] + jenis_paket[plan]\n",
        "\n",
        "    elif plan == 'ultimate':\n",
        "      for j in range(reg, stop+1):\n",
        "        dataframe.iloc[i, j] = dataframe.iloc[i, j] + jenis_paket[plan]\n",
        "\n",
        "  return dataframe"
      ]
    },
    {
      "cell_type": "code",
      "execution_count": null,
      "metadata": {
        "id": "URQNt4hnhimV"
      },
      "outputs": [],
      "source": [
        "# Apply fungsi untuk mencari total pendapatan per user setiap bulan\n",
        "total_revenue = base_add(total_revenue)\n",
        "\n",
        "# Merge dengan kolom city untuk pengujian hipotesis\n",
        "total_revenue = total_revenue.merge(user[['user_id', 'city']], on = 'user_id', how= 'left')\n",
        "total_revenue = total_revenue.drop(['reg_date', 'churn_date'], axis=1)"
      ]
    },
    {
      "cell_type": "code",
      "execution_count": null,
      "metadata": {
        "id": "D8NhvFoFhimV",
        "outputId": "600483c7-8979-4be4-eea8-5f4eec51f318"
      },
      "outputs": [
        {
          "data": {
            "text/html": [
              "<div>\n",
              "<style scoped>\n",
              "    .dataframe tbody tr th:only-of-type {\n",
              "        vertical-align: middle;\n",
              "    }\n",
              "\n",
              "    .dataframe tbody tr th {\n",
              "        vertical-align: top;\n",
              "    }\n",
              "\n",
              "    .dataframe thead th {\n",
              "        text-align: right;\n",
              "    }\n",
              "</style>\n",
              "<table border=\"1\" class=\"dataframe\">\n",
              "  <thead>\n",
              "    <tr style=\"text-align: right;\">\n",
              "      <th></th>\n",
              "      <th>user_id</th>\n",
              "      <th>1</th>\n",
              "      <th>2</th>\n",
              "      <th>3</th>\n",
              "      <th>4</th>\n",
              "      <th>5</th>\n",
              "      <th>6</th>\n",
              "      <th>7</th>\n",
              "      <th>8</th>\n",
              "      <th>9</th>\n",
              "      <th>10</th>\n",
              "      <th>11</th>\n",
              "      <th>12</th>\n",
              "      <th>plan</th>\n",
              "      <th>city</th>\n",
              "    </tr>\n",
              "  </thead>\n",
              "  <tbody>\n",
              "    <tr>\n",
              "      <th>0</th>\n",
              "      <td>1000</td>\n",
              "      <td>NaN</td>\n",
              "      <td>NaN</td>\n",
              "      <td>NaN</td>\n",
              "      <td>NaN</td>\n",
              "      <td>NaN</td>\n",
              "      <td>NaN</td>\n",
              "      <td>NaN</td>\n",
              "      <td>NaN</td>\n",
              "      <td>NaN</td>\n",
              "      <td>NaN</td>\n",
              "      <td>NaN</td>\n",
              "      <td>70.00</td>\n",
              "      <td>ultimate</td>\n",
              "      <td>Atlanta-Sandy Springs-Roswell, GA MSA</td>\n",
              "    </tr>\n",
              "    <tr>\n",
              "      <th>1</th>\n",
              "      <td>1001</td>\n",
              "      <td>NaN</td>\n",
              "      <td>NaN</td>\n",
              "      <td>NaN</td>\n",
              "      <td>NaN</td>\n",
              "      <td>NaN</td>\n",
              "      <td>NaN</td>\n",
              "      <td>NaN</td>\n",
              "      <td>20.00</td>\n",
              "      <td>20.00</td>\n",
              "      <td>90.09</td>\n",
              "      <td>60.00</td>\n",
              "      <td>60.00</td>\n",
              "      <td>surf</td>\n",
              "      <td>Seattle-Tacoma-Bellevue, WA MSA</td>\n",
              "    </tr>\n",
              "    <tr>\n",
              "      <th>2</th>\n",
              "      <td>1002</td>\n",
              "      <td>NaN</td>\n",
              "      <td>NaN</td>\n",
              "      <td>NaN</td>\n",
              "      <td>NaN</td>\n",
              "      <td>NaN</td>\n",
              "      <td>NaN</td>\n",
              "      <td>NaN</td>\n",
              "      <td>NaN</td>\n",
              "      <td>NaN</td>\n",
              "      <td>20.00</td>\n",
              "      <td>60.00</td>\n",
              "      <td>20.00</td>\n",
              "      <td>surf</td>\n",
              "      <td>Las Vegas-Henderson-Paradise, NV MSA</td>\n",
              "    </tr>\n",
              "    <tr>\n",
              "      <th>3</th>\n",
              "      <td>1003</td>\n",
              "      <td>20.0</td>\n",
              "      <td>20.0</td>\n",
              "      <td>20.0</td>\n",
              "      <td>20.0</td>\n",
              "      <td>20.0</td>\n",
              "      <td>20.00</td>\n",
              "      <td>20.00</td>\n",
              "      <td>20.00</td>\n",
              "      <td>20.00</td>\n",
              "      <td>20.00</td>\n",
              "      <td>20.00</td>\n",
              "      <td>156.23</td>\n",
              "      <td>surf</td>\n",
              "      <td>Tulsa, OK MSA</td>\n",
              "    </tr>\n",
              "    <tr>\n",
              "      <th>4</th>\n",
              "      <td>1004</td>\n",
              "      <td>NaN</td>\n",
              "      <td>NaN</td>\n",
              "      <td>NaN</td>\n",
              "      <td>NaN</td>\n",
              "      <td>20.0</td>\n",
              "      <td>80.00</td>\n",
              "      <td>110.00</td>\n",
              "      <td>150.00</td>\n",
              "      <td>60.00</td>\n",
              "      <td>20.00</td>\n",
              "      <td>90.00</td>\n",
              "      <td>80.00</td>\n",
              "      <td>surf</td>\n",
              "      <td>Seattle-Tacoma-Bellevue, WA MSA</td>\n",
              "    </tr>\n",
              "    <tr>\n",
              "      <th>5</th>\n",
              "      <td>1005</td>\n",
              "      <td>NaN</td>\n",
              "      <td>NaN</td>\n",
              "      <td>NaN</td>\n",
              "      <td>NaN</td>\n",
              "      <td>NaN</td>\n",
              "      <td>NaN</td>\n",
              "      <td>NaN</td>\n",
              "      <td>NaN</td>\n",
              "      <td>NaN</td>\n",
              "      <td>NaN</td>\n",
              "      <td>20.00</td>\n",
              "      <td>40.00</td>\n",
              "      <td>surf</td>\n",
              "      <td>Dallas-Fort Worth-Arlington, TX MSA</td>\n",
              "    </tr>\n",
              "    <tr>\n",
              "      <th>6</th>\n",
              "      <td>1006</td>\n",
              "      <td>NaN</td>\n",
              "      <td>NaN</td>\n",
              "      <td>NaN</td>\n",
              "      <td>NaN</td>\n",
              "      <td>NaN</td>\n",
              "      <td>NaN</td>\n",
              "      <td>NaN</td>\n",
              "      <td>NaN</td>\n",
              "      <td>NaN</td>\n",
              "      <td>NaN</td>\n",
              "      <td>70.00</td>\n",
              "      <td>84.00</td>\n",
              "      <td>ultimate</td>\n",
              "      <td>San Francisco-Oakland-Berkeley, CA MSA</td>\n",
              "    </tr>\n",
              "    <tr>\n",
              "      <th>7</th>\n",
              "      <td>1007</td>\n",
              "      <td>NaN</td>\n",
              "      <td>NaN</td>\n",
              "      <td>NaN</td>\n",
              "      <td>NaN</td>\n",
              "      <td>NaN</td>\n",
              "      <td>NaN</td>\n",
              "      <td>20.00</td>\n",
              "      <td>110.03</td>\n",
              "      <td>150.00</td>\n",
              "      <td>243.60</td>\n",
              "      <td>110.00</td>\n",
              "      <td>162.40</td>\n",
              "      <td>surf</td>\n",
              "      <td>Grand Rapids-Kentwood, MI MSA</td>\n",
              "    </tr>\n",
              "    <tr>\n",
              "      <th>8</th>\n",
              "      <td>1008</td>\n",
              "      <td>NaN</td>\n",
              "      <td>NaN</td>\n",
              "      <td>NaN</td>\n",
              "      <td>NaN</td>\n",
              "      <td>NaN</td>\n",
              "      <td>NaN</td>\n",
              "      <td>NaN</td>\n",
              "      <td>70.00</td>\n",
              "      <td>70.00</td>\n",
              "      <td>70.00</td>\n",
              "      <td>70.00</td>\n",
              "      <td>70.00</td>\n",
              "      <td>ultimate</td>\n",
              "      <td>Orlando-Kissimmee-Sanford, FL MSA</td>\n",
              "    </tr>\n",
              "    <tr>\n",
              "      <th>9</th>\n",
              "      <td>1009</td>\n",
              "      <td>NaN</td>\n",
              "      <td>NaN</td>\n",
              "      <td>NaN</td>\n",
              "      <td>20.0</td>\n",
              "      <td>70.0</td>\n",
              "      <td>68.28</td>\n",
              "      <td>179.81</td>\n",
              "      <td>115.43</td>\n",
              "      <td>86.93</td>\n",
              "      <td>105.91</td>\n",
              "      <td>125.07</td>\n",
              "      <td>116.39</td>\n",
              "      <td>surf</td>\n",
              "      <td>San Jose-Sunnyvale-Santa Clara, CA MSA</td>\n",
              "    </tr>\n",
              "  </tbody>\n",
              "</table>\n",
              "</div>"
            ],
            "text/plain": [
              "   user_id     1     2     3     4     5      6       7       8       9  \\\n",
              "0     1000   NaN   NaN   NaN   NaN   NaN    NaN     NaN     NaN     NaN   \n",
              "1     1001   NaN   NaN   NaN   NaN   NaN    NaN     NaN   20.00   20.00   \n",
              "2     1002   NaN   NaN   NaN   NaN   NaN    NaN     NaN     NaN     NaN   \n",
              "3     1003  20.0  20.0  20.0  20.0  20.0  20.00   20.00   20.00   20.00   \n",
              "4     1004   NaN   NaN   NaN   NaN  20.0  80.00  110.00  150.00   60.00   \n",
              "5     1005   NaN   NaN   NaN   NaN   NaN    NaN     NaN     NaN     NaN   \n",
              "6     1006   NaN   NaN   NaN   NaN   NaN    NaN     NaN     NaN     NaN   \n",
              "7     1007   NaN   NaN   NaN   NaN   NaN    NaN   20.00  110.03  150.00   \n",
              "8     1008   NaN   NaN   NaN   NaN   NaN    NaN     NaN   70.00   70.00   \n",
              "9     1009   NaN   NaN   NaN  20.0  70.0  68.28  179.81  115.43   86.93   \n",
              "\n",
              "       10      11      12      plan                                    city  \n",
              "0     NaN     NaN   70.00  ultimate   Atlanta-Sandy Springs-Roswell, GA MSA  \n",
              "1   90.09   60.00   60.00      surf         Seattle-Tacoma-Bellevue, WA MSA  \n",
              "2   20.00   60.00   20.00      surf    Las Vegas-Henderson-Paradise, NV MSA  \n",
              "3   20.00   20.00  156.23      surf                           Tulsa, OK MSA  \n",
              "4   20.00   90.00   80.00      surf         Seattle-Tacoma-Bellevue, WA MSA  \n",
              "5     NaN   20.00   40.00      surf     Dallas-Fort Worth-Arlington, TX MSA  \n",
              "6     NaN   70.00   84.00  ultimate  San Francisco-Oakland-Berkeley, CA MSA  \n",
              "7  243.60  110.00  162.40      surf           Grand Rapids-Kentwood, MI MSA  \n",
              "8   70.00   70.00   70.00  ultimate       Orlando-Kissimmee-Sanford, FL MSA  \n",
              "9  105.91  125.07  116.39      surf  San Jose-Sunnyvale-Santa Clara, CA MSA  "
            ]
          },
          "execution_count": 57,
          "metadata": {},
          "output_type": "execute_result"
        }
      ],
      "source": [
        "total_revenue.head(10)"
      ]
    },
    {
      "cell_type": "code",
      "execution_count": null,
      "metadata": {
        "id": "H99svGb0himW"
      },
      "outputs": [],
      "source": [
        "# Menghapus variable yang tidak dipakai lagi\n",
        "\n",
        "del add_minute, add_message, add_internet"
      ]
    },
    {
      "cell_type": "markdown",
      "metadata": {
        "id": "II_00zBBhimW"
      },
      "source": [
        "## Analisis Data"
      ]
    },
    {
      "cell_type": "markdown",
      "metadata": {
        "id": "JgELUbxThimW"
      },
      "source": [
        "Mencari deskripsi perilaku konsumen melalui:\n",
        "- Menit yang dibutuhkan pengguna setiap paket per bulan\n",
        "- Pesan yang dibutuhkan pengguna setiap paket per bulan\n",
        "- Volume penggunaan data seluler yang dibutuhkan pengguna setiap paket per bulan\n",
        "\n",
        "Lalu menghitung rata-rata, varians, dan standar deviasi serta membuat histogram"
      ]
    },
    {
      "cell_type": "code",
      "execution_count": null,
      "metadata": {
        "id": "cIrAPiSnhimX"
      },
      "outputs": [],
      "source": [
        "# I.S: input dataframe dengan 'plan' yang sama\n",
        "# F.S: return mean, std, dan var dari dataframe tersebut\n",
        "\n",
        "def analisis_data (dataframe, n_output = 4):\n",
        "  df = dataframe['1']\n",
        "  for i in dataframe.columns[2:13]:\n",
        "    df = df.append(dataframe[i], ignore_index = True)\n",
        "\n",
        "  df = df[df > 0]\n",
        "  mean = df.describe()['mean']\n",
        "  std = df.describe()['std']\n",
        "  var = np.var(df)\n",
        "\n",
        "  if n_output == 4:\n",
        "    return df, mean, std, var\n",
        "  else:\n",
        "    return df"
      ]
    },
    {
      "cell_type": "markdown",
      "metadata": {
        "id": "Ci5Hcb6ThimX"
      },
      "source": [
        "### Mencari menit"
      ]
    },
    {
      "cell_type": "code",
      "execution_count": null,
      "metadata": {
        "id": "2pqwJ9pbhimX",
        "outputId": "b0975a68-c1b1-4b39-abc2-8765ba5c63bf"
      },
      "outputs": [
        {
          "data": {
            "text/html": [
              "<div>\n",
              "<style scoped>\n",
              "    .dataframe tbody tr th:only-of-type {\n",
              "        vertical-align: middle;\n",
              "    }\n",
              "\n",
              "    .dataframe tbody tr th {\n",
              "        vertical-align: top;\n",
              "    }\n",
              "\n",
              "    .dataframe thead th {\n",
              "        text-align: right;\n",
              "    }\n",
              "</style>\n",
              "<table border=\"1\" class=\"dataframe\">\n",
              "  <thead>\n",
              "    <tr style=\"text-align: right;\">\n",
              "      <th></th>\n",
              "      <th>user_id</th>\n",
              "      <th>1</th>\n",
              "      <th>2</th>\n",
              "      <th>3</th>\n",
              "      <th>4</th>\n",
              "      <th>5</th>\n",
              "      <th>6</th>\n",
              "      <th>7</th>\n",
              "      <th>8</th>\n",
              "      <th>9</th>\n",
              "      <th>10</th>\n",
              "      <th>11</th>\n",
              "      <th>12</th>\n",
              "      <th>plan</th>\n",
              "      <th>reg_date</th>\n",
              "      <th>churn_date</th>\n",
              "    </tr>\n",
              "  </thead>\n",
              "  <tbody>\n",
              "    <tr>\n",
              "      <th>0</th>\n",
              "      <td>1000</td>\n",
              "      <td>NaN</td>\n",
              "      <td>NaN</td>\n",
              "      <td>NaN</td>\n",
              "      <td>NaN</td>\n",
              "      <td>NaN</td>\n",
              "      <td>NaN</td>\n",
              "      <td>NaN</td>\n",
              "      <td>NaN</td>\n",
              "      <td>NaN</td>\n",
              "      <td>NaN</td>\n",
              "      <td>NaN</td>\n",
              "      <td>116.83</td>\n",
              "      <td>ultimate</td>\n",
              "      <td>2018-12-24</td>\n",
              "      <td>NaT</td>\n",
              "    </tr>\n",
              "    <tr>\n",
              "      <th>1</th>\n",
              "      <td>1001</td>\n",
              "      <td>NaN</td>\n",
              "      <td>NaN</td>\n",
              "      <td>NaN</td>\n",
              "      <td>NaN</td>\n",
              "      <td>NaN</td>\n",
              "      <td>NaN</td>\n",
              "      <td>NaN</td>\n",
              "      <td>171.14</td>\n",
              "      <td>297.69</td>\n",
              "      <td>374.11</td>\n",
              "      <td>404.59</td>\n",
              "      <td>392.93</td>\n",
              "      <td>surf</td>\n",
              "      <td>2018-08-13</td>\n",
              "      <td>NaT</td>\n",
              "    </tr>\n",
              "    <tr>\n",
              "      <th>2</th>\n",
              "      <td>1002</td>\n",
              "      <td>NaN</td>\n",
              "      <td>NaN</td>\n",
              "      <td>NaN</td>\n",
              "      <td>NaN</td>\n",
              "      <td>NaN</td>\n",
              "      <td>NaN</td>\n",
              "      <td>NaN</td>\n",
              "      <td>NaN</td>\n",
              "      <td>NaN</td>\n",
              "      <td>54.13</td>\n",
              "      <td>359.76</td>\n",
              "      <td>363.24</td>\n",
              "      <td>surf</td>\n",
              "      <td>2018-10-21</td>\n",
              "      <td>NaT</td>\n",
              "    </tr>\n",
              "    <tr>\n",
              "      <th>3</th>\n",
              "      <td>1003</td>\n",
              "      <td>0.0</td>\n",
              "      <td>0.0</td>\n",
              "      <td>0.0</td>\n",
              "      <td>0.0</td>\n",
              "      <td>0.00</td>\n",
              "      <td>0.00</td>\n",
              "      <td>0.00</td>\n",
              "      <td>0.00</td>\n",
              "      <td>0.00</td>\n",
              "      <td>0.00</td>\n",
              "      <td>0.00</td>\n",
              "      <td>1041.00</td>\n",
              "      <td>surf</td>\n",
              "      <td>2018-01-28</td>\n",
              "      <td>NaT</td>\n",
              "    </tr>\n",
              "    <tr>\n",
              "      <th>4</th>\n",
              "      <td>1004</td>\n",
              "      <td>NaN</td>\n",
              "      <td>NaN</td>\n",
              "      <td>NaN</td>\n",
              "      <td>NaN</td>\n",
              "      <td>181.58</td>\n",
              "      <td>261.32</td>\n",
              "      <td>358.45</td>\n",
              "      <td>334.86</td>\n",
              "      <td>284.60</td>\n",
              "      <td>341.63</td>\n",
              "      <td>452.98</td>\n",
              "      <td>403.53</td>\n",
              "      <td>surf</td>\n",
              "      <td>2018-05-23</td>\n",
              "      <td>NaT</td>\n",
              "    </tr>\n",
              "  </tbody>\n",
              "</table>\n",
              "</div>"
            ],
            "text/plain": [
              "   user_id    1    2    3    4       5       6       7       8       9  \\\n",
              "0     1000  NaN  NaN  NaN  NaN     NaN     NaN     NaN     NaN     NaN   \n",
              "1     1001  NaN  NaN  NaN  NaN     NaN     NaN     NaN  171.14  297.69   \n",
              "2     1002  NaN  NaN  NaN  NaN     NaN     NaN     NaN     NaN     NaN   \n",
              "3     1003  0.0  0.0  0.0  0.0    0.00    0.00    0.00    0.00    0.00   \n",
              "4     1004  NaN  NaN  NaN  NaN  181.58  261.32  358.45  334.86  284.60   \n",
              "\n",
              "       10      11       12      plan   reg_date churn_date  \n",
              "0     NaN     NaN   116.83  ultimate 2018-12-24        NaT  \n",
              "1  374.11  404.59   392.93      surf 2018-08-13        NaT  \n",
              "2   54.13  359.76   363.24      surf 2018-10-21        NaT  \n",
              "3    0.00    0.00  1041.00      surf 2018-01-28        NaT  \n",
              "4  341.63  452.98   403.53      surf 2018-05-23        NaT  "
            ]
          },
          "execution_count": 60,
          "metadata": {},
          "output_type": "execute_result"
        }
      ],
      "source": [
        "minute_count.head()"
      ]
    },
    {
      "cell_type": "markdown",
      "metadata": {
        "id": "SzxyXB2chimX"
      },
      "source": [
        "#### Paket surf"
      ]
    },
    {
      "cell_type": "code",
      "execution_count": null,
      "metadata": {
        "id": "7bTIozjJhimY"
      },
      "outputs": [],
      "source": [
        "# Membelah dataframe berdasarkan plan\n",
        "\n",
        "minute_surf = pd.DataFrame(data = minute_count[minute_count['plan'] == 'surf'].reset_index(drop = True))\n",
        "minute_ultimate = pd.DataFrame(data = minute_count[minute_count['plan'] == 'ultimate'].reset_index(drop = True))"
      ]
    },
    {
      "cell_type": "code",
      "execution_count": null,
      "metadata": {
        "id": "q6aT5AqUhimY"
      },
      "outputs": [],
      "source": [
        "# Apply fungsi\n",
        "\n",
        "minute_surf_list, mean, std, var = analisis_data(minute_surf)"
      ]
    },
    {
      "cell_type": "code",
      "execution_count": null,
      "metadata": {
        "id": "Na8gBebkhimY",
        "outputId": "83c6616f-6aed-4b93-d4f9-41f741b1a2d3"
      },
      "outputs": [
        {
          "name": "stdout",
          "output_type": "stream",
          "text": [
            "Rata-rata durasi panggilan perbulannya pada paket surf adalah: 412.80188728702484\n",
            "\n",
            "Standar deviasi durasi panggilan perbulannya pada paket surf adalah: 217.2733970793549\n",
            "\n",
            "Variance durasi panggilan perbulannya pada paket surf adalah: 47176.7934761236\n"
          ]
        }
      ],
      "source": [
        "print(f'Rata-rata durasi panggilan perbulannya pada paket surf adalah: {mean}')\n",
        "print()\n",
        "print(f'Standar deviasi durasi panggilan perbulannya pada paket surf adalah: {std}')\n",
        "print()\n",
        "print(f'Variance durasi panggilan perbulannya pada paket surf adalah: {var}')"
      ]
    },
    {
      "cell_type": "code",
      "execution_count": null,
      "metadata": {
        "id": "gNDclWEthimZ",
        "outputId": "2199539d-5797-4b7a-a595-a58673c4d2d9"
      },
      "outputs": [
        {
          "data": {
            "image/png": "[encoded data removed]",
            "text/plain": [
              "<Figure size 432x288 with 1 Axes>"
            ]
          },
          "metadata": {
            "needs_background": "light"
          },
          "output_type": "display_data"
        },
        {
          "data": {
            "image/png": "[encoded data removed]",
            "text/plain": [
              "<Figure size 432x288 with 1 Axes>"
            ]
          },
          "metadata": {},
          "output_type": "display_data"
        }
      ],
      "source": [
        "# Melihat distribusi & boxplot\n",
        "\n",
        "plt.xlabel('minute spent per-month')\n",
        "sns.distplot(minute_surf_list);\n",
        "plt.show()\n",
        "\n",
        "sns.set_style(\"whitegrid\")\n",
        "sns.boxplot(minute_surf_list);\n",
        "plt.show()"
      ]
    },
    {
      "cell_type": "markdown",
      "metadata": {
        "id": "iymKrU1HhimZ"
      },
      "source": [
        "Pada distribusi graph & boxplot diatas dapat dilihat bahwa:\n",
        "- Peak dari minute spent pengguna berada di sekitar angka 400 menit\n",
        "- Lebih banyak data tersebar di atas Q2 dengan nilai max di sekitar angka 1400\n",
        "- Batas telepon pada paket ini adalah 500 menit dan dengan melihat boxplot terdapat sekitar 25% data yang melebihi batas 500 menit tersebut"
      ]
    },
    {
      "cell_type": "markdown",
      "metadata": {
        "id": "HL-GCnMxhimZ"
      },
      "source": [
        "#### Paket ultimate"
      ]
    },
    {
      "cell_type": "code",
      "execution_count": null,
      "metadata": {
        "id": "0GdaTzkHhimZ"
      },
      "outputs": [],
      "source": [
        "# Apply fungsi\n",
        "\n",
        "minute_ultimate_list, mean, std, var = analisis_data(minute_ultimate)"
      ]
    },
    {
      "cell_type": "code",
      "execution_count": null,
      "metadata": {
        "id": "djrd2HpQhimZ",
        "outputId": "197fe382-d7af-49d3-b4bf-19d842a7f496"
      },
      "outputs": [
        {
          "name": "stdout",
          "output_type": "stream",
          "text": [
            "Rata-rata durasi panggilan perbulannya pada paket ultimate adalah: 410.87955840455834\n",
            "\n",
            "Standar deviasi durasi panggilan perbulannya pada paket ultimate adalah: 224.58291407619257\n",
            "\n",
            "Variance durasi panggilan perbulannya pada paket ultimate adalah: 50365.637025303564\n"
          ]
        }
      ],
      "source": [
        "print(f'Rata-rata durasi panggilan perbulannya pada paket ultimate adalah: {mean}')\n",
        "print()\n",
        "print(f'Standar deviasi durasi panggilan perbulannya pada paket ultimate adalah: {std}')\n",
        "print()\n",
        "print(f'Variance durasi panggilan perbulannya pada paket ultimate adalah: {var}')"
      ]
    },
    {
      "cell_type": "code",
      "execution_count": null,
      "metadata": {
        "id": "x5MVZho1hima",
        "outputId": "b04b6f6a-3415-4316-e367-6c6c4a88e080"
      },
      "outputs": [
        {
          "data": {
            "image/png": "[encoded data removed]",
            "text/plain": [
              "<Figure size 432x288 with 1 Axes>"
            ]
          },
          "metadata": {},
          "output_type": "display_data"
        },
        {
          "data": {
            "image/png": "[encoded data removed]",
            "text/plain": [
              "<Figure size 432x288 with 1 Axes>"
            ]
          },
          "metadata": {},
          "output_type": "display_data"
        }
      ],
      "source": [
        "# Melihat distribusi & boxplot\n",
        "\n",
        "plt.xlabel('minute spent per-month')\n",
        "sns.distplot(minute_ultimate_list);\n",
        "plt.show()\n",
        "\n",
        "sns.boxplot(minute_ultimate_list);\n",
        "plt.show()"
      ]
    },
    {
      "cell_type": "markdown",
      "metadata": {
        "id": "nXOr3W6Khima"
      },
      "source": [
        "Pada distribusi graph & boxplot diatas dapat dilihat bahwa:\n",
        "- Peak dari minute spent pengguna berada di sekitar angka 400 menit. Kurang lebih sama dengan `paket surf`\n",
        "- Lebih banyak data tersebar di atas Q2 dengan nilai max di sekitar angka 1400. Mirip dengan `paket surf`\n",
        "- Batas telepon pada paket ini adalah 3000 menit dan dengan melihat boxplot di atas dapat disimpulkan bahwa user yang berlangganan paket ini tidak ada yang melebihi kuota yang di tetapkan"
      ]
    },
    {
      "cell_type": "markdown",
      "metadata": {
        "id": "GqE153OChima"
      },
      "source": [
        "**Kesimpulan pada kuota telepon antar dua paket**\n",
        "\n",
        "Kedua paket memiliki rata-rata yang tidak jauh berbeda satu sama lain dan dengan distribusi yang tidak jauh berbeda. Pada kuota telepon ini, sekitar 25% user paket surf melebihi batas kuota yang ditetapkan"
      ]
    },
    {
      "cell_type": "markdown",
      "metadata": {
        "id": "Cf-wZXSohima"
      },
      "source": [
        "### Mencari message"
      ]
    },
    {
      "cell_type": "markdown",
      "metadata": {
        "id": "-2RyXMQjhima"
      },
      "source": [
        "#### Paket surf"
      ]
    },
    {
      "cell_type": "code",
      "execution_count": null,
      "metadata": {
        "id": "NTjKBSYnhimb"
      },
      "outputs": [],
      "source": [
        "# Membelah dataframe berdasarkan plan\n",
        "\n",
        "message_surf = pd.DataFrame(data = message_count[message_count['plan'] == 'surf'].reset_index(drop = True))\n",
        "message_ultimate = pd.DataFrame(data = message_count[message_count['plan'] == 'ultimate'].reset_index(drop = True))"
      ]
    },
    {
      "cell_type": "code",
      "execution_count": null,
      "metadata": {
        "id": "M1V03Zj3himb"
      },
      "outputs": [],
      "source": [
        "# Apply fungsi\n",
        "\n",
        "message_surf_list, mean, std, var = analisis_data(message_surf)"
      ]
    },
    {
      "cell_type": "code",
      "execution_count": null,
      "metadata": {
        "id": "Yf9MWjlChimb",
        "outputId": "7309a3bc-ba2f-4ea8-a9f7-daf5979f06eb"
      },
      "outputs": [
        {
          "name": "stdout",
          "output_type": "stream",
          "text": [
            "Rata-rata total message terkirim perbulannya pada paket surf adalah: 40.120860927152314\n",
            "\n",
            "Standar deviasi message terkirim perbulannya pada paket surf adalah: 33.18433308266677\n",
            "\n",
            "Variance message terkirim perbulannya pada paket surf adalah: 1100.2883727687383\n"
          ]
        }
      ],
      "source": [
        "print(f'Rata-rata total message terkirim perbulannya pada paket surf adalah: {mean}')\n",
        "print()\n",
        "print(f'Standar deviasi message terkirim perbulannya pada paket surf adalah: {std}')\n",
        "print()\n",
        "print(f'Variance message terkirim perbulannya pada paket surf adalah: {var}')"
      ]
    },
    {
      "cell_type": "code",
      "execution_count": null,
      "metadata": {
        "id": "VvrOkp-5himb",
        "outputId": "c14beeaa-f6bc-4298-87ce-c496a0242af9"
      },
      "outputs": [
        {
          "data": {
            "image/png": "[encoded data removed]",
            "text/plain": [
              "<Figure size 432x288 with 1 Axes>"
            ]
          },
          "metadata": {},
          "output_type": "display_data"
        },
        {
          "data": {
            "image/png": "[encoded data removed]",
            "text/plain": [
              "<Figure size 432x288 with 1 Axes>"
            ]
          },
          "metadata": {},
          "output_type": "display_data"
        }
      ],
      "source": [
        "# Melihat distribusi & boxplot\n",
        "plt.xlabel('message sent per-month')\n",
        "sns.distplot(message_surf_list);\n",
        "plt.show()\n",
        "\n",
        "sns.boxplot(message_surf_list);\n",
        "plt.show()"
      ]
    },
    {
      "cell_type": "markdown",
      "metadata": {
        "id": "1ma4BmAthimb"
      },
      "source": [
        "Pada distribusi graph & boxplot diatas dapat dilihat bahwa:\n",
        "- Peak dari message sent user berada di sekitar angka 25.\n",
        "- Lebih banyak data tersebar di atas Q2 dengan nilai max di sekitar angka 270\n",
        "- Batas sms pada paket ini adalah 50 sms dan dengan melihat boxplot terdapat sekitar 25% data yang melebihi batas 50 sms tersebut"
      ]
    },
    {
      "cell_type": "markdown",
      "metadata": {
        "id": "ehISkv_8himb"
      },
      "source": [
        "#### Paket ultimate"
      ]
    },
    {
      "cell_type": "code",
      "execution_count": null,
      "metadata": {
        "id": "h2-4fO-Uhimc"
      },
      "outputs": [],
      "source": [
        "# Apply fungsi\n",
        "\n",
        "message_ultimate_list, mean, std, var = analisis_data(message_ultimate)"
      ]
    },
    {
      "cell_type": "code",
      "execution_count": null,
      "metadata": {
        "id": "TP52Oshfhimc",
        "outputId": "d332e8bc-790b-404a-d07d-918345db23b0"
      },
      "outputs": [
        {
          "name": "stdout",
          "output_type": "stream",
          "text": [
            "Rata-rata total message terkirim perbulannya pada paket ultimate adalah: 46.611111111111114\n",
            "\n",
            "Standar deviasi message terkirim perbulannya pada paket ultimate adalah: 33.02344065736097\n",
            "\n",
            "Variance message terkirim perbulannya pada paket ultimate adalah: 1088.6543209876543\n"
          ]
        }
      ],
      "source": [
        "print(f'Rata-rata total message terkirim perbulannya pada paket ultimate adalah: {mean}')\n",
        "print()\n",
        "print(f'Standar deviasi message terkirim perbulannya pada paket ultimate adalah: {std}')\n",
        "print()\n",
        "print(f'Variance message terkirim perbulannya pada paket ultimate adalah: {var}')"
      ]
    },
    {
      "cell_type": "code",
      "execution_count": null,
      "metadata": {
        "id": "zRraNk44himc",
        "outputId": "292296cc-5cab-4c0b-d450-560cf319f0fb"
      },
      "outputs": [
        {
          "data": {
            "image/png": "[encoded data removed]",
            "text/plain": [
              "<Figure size 432x288 with 1 Axes>"
            ]
          },
          "metadata": {},
          "output_type": "display_data"
        },
        {
          "data": {
            "image/png": "[encoded data removed]",
            "text/plain": [
              "<Figure size 432x288 with 1 Axes>"
            ]
          },
          "metadata": {},
          "output_type": "display_data"
        }
      ],
      "source": [
        "# Melihat distribusi & boxplot\n",
        "\n",
        "plt.xlabel('message sent per-month')\n",
        "sns.distplot(message_ultimate_list);\n",
        "plt.show()\n",
        "\n",
        "sns.boxplot(message_ultimate_list);\n",
        "plt.show()"
      ]
    },
    {
      "cell_type": "markdown",
      "metadata": {
        "id": "u3Gmqi3Khimc"
      },
      "source": [
        "Pada distribusi graph & boxplot diatas dapat dilihat bahwa:\n",
        "- Peak dari minute spent pengguna berada di sekitar angka 25. Kurang lebih sama dengan `paket surf`\n",
        "- Lebih banyak data tersebar di atas Q2 dengan nilai max sekitar 170. Selisih 100 dengan `paket surf`\n",
        "- Batas sms pada paket ini adalah 1000 dan dengan melihat boxplot di atas dapat disimpulkan bahwa user yang berlangganan paket ini tidak ada yang melebihi kuota yang di tetapkan"
      ]
    },
    {
      "cell_type": "markdown",
      "metadata": {
        "id": "jHkTn3REhimc"
      },
      "source": [
        "**Kesimpulan pada kuota telepon antar dua paket**\n",
        "\n",
        "Kedua paket memiliki rata-rata yang tidak jauh berbeda satu sama lain dan dengan distribusi yang tidak jauh berbeda. Pada kuota sms ini, sekitar 25% user paket surf melebihi batas kuota yang ditetapkan"
      ]
    },
    {
      "cell_type": "markdown",
      "metadata": {
        "id": "rsIDbH8dhimd"
      },
      "source": [
        "### Mencari mb used"
      ]
    },
    {
      "cell_type": "markdown",
      "metadata": {
        "id": "xfc6hRPZhimd"
      },
      "source": [
        "#### Paket surf"
      ]
    },
    {
      "cell_type": "code",
      "execution_count": null,
      "metadata": {
        "id": "tOtklNqGhimd"
      },
      "outputs": [],
      "source": [
        "# Membelah dataframe berdasarkan plan\n",
        "\n",
        "internet_surf = pd.DataFrame(data = internet_count[internet_count['plan'] == 'surf'].reset_index(drop = True))\n",
        "internet_ultimate = pd.DataFrame(data = internet_count[internet_count['plan'] == 'ultimate'].reset_index(drop = True))"
      ]
    },
    {
      "cell_type": "code",
      "execution_count": null,
      "metadata": {
        "id": "ad5VWsv-himd"
      },
      "outputs": [],
      "source": [
        "# Apply fungsi\n",
        "\n",
        "internet_surf_list, mean, std, var = analisis_data(internet_surf)"
      ]
    },
    {
      "cell_type": "code",
      "execution_count": null,
      "metadata": {
        "id": "IBFqzOQZhime",
        "outputId": "bb9f00ca-8ce0-4dee-97ae-f24604cf486d"
      },
      "outputs": [
        {
          "name": "stdout",
          "output_type": "stream",
          "text": [
            "Rata-rata total mb used perbulannya pada paket surf adalah: 16.852597402597404\n",
            "\n",
            "Standar deviasi mb used perbulannya pada paket surf adalah: 7.711814670803646\n",
            "\n",
            "Variance mb used perbulannya pada paket surf adalah: 59.43346727947376\n"
          ]
        }
      ],
      "source": [
        "print(f'Rata-rata total mb used perbulannya pada paket surf adalah: {mean}')\n",
        "print()\n",
        "print(f'Standar deviasi mb used perbulannya pada paket surf adalah: {std}')\n",
        "print()\n",
        "print(f'Variance mb used perbulannya pada paket surf adalah: {var}')"
      ]
    },
    {
      "cell_type": "code",
      "execution_count": null,
      "metadata": {
        "id": "C2e1cH7_hime",
        "outputId": "8d994009-c7d1-4085-c59a-d2f76b51c9d9"
      },
      "outputs": [
        {
          "data": {
            "image/png": "[encoded data removed]",
            "text/plain": [
              "<Figure size 432x288 with 1 Axes>"
            ]
          },
          "metadata": {},
          "output_type": "display_data"
        },
        {
          "data": {
            "image/png": "[encoded data removed]",
            "text/plain": [
              "<Figure size 432x288 with 1 Axes>"
            ]
          },
          "metadata": {},
          "output_type": "display_data"
        }
      ],
      "source": [
        "# Melihat distribusi & boxplot\n",
        "\n",
        "plt.xlabel('total gb per-month')\n",
        "sns.distplot(internet_surf_list);\n",
        "plt.show()\n",
        "\n",
        "sns.boxplot(internet_surf_list);\n",
        "plt.show()"
      ]
    },
    {
      "cell_type": "markdown",
      "metadata": {
        "id": "i7zLD7QShime"
      },
      "source": [
        "Pada distribusi graph & boxplot diatas dapat dilihat bahwa:\n",
        "- Peak dari gb used berada di sekitar angka 17\n",
        "- Lebih banyak data tersebar di atas Q2 dengan nilai max di sekitar angka 70\n",
        "- Bata kuota paket ini mendekati dengan median data yaitu 15\n",
        "- Dengan melihat boxplot terdapat sekitar 50% data yang melebihi batas 15 gb tersebut"
      ]
    },
    {
      "cell_type": "markdown",
      "metadata": {
        "id": "r2C49k02himf"
      },
      "source": [
        "#### Paket ultimate"
      ]
    },
    {
      "cell_type": "code",
      "execution_count": null,
      "metadata": {
        "id": "H_Ter_0khimf"
      },
      "outputs": [],
      "source": [
        "# Apply fungsi\n",
        "\n",
        "internet_ultimate_list, mean, std, var = analisis_data(internet_ultimate)"
      ]
    },
    {
      "cell_type": "code",
      "execution_count": null,
      "metadata": {
        "id": "TpQ75gYxhimf",
        "outputId": "230207cf-6240-42dc-ff4e-e67022762509"
      },
      "outputs": [
        {
          "name": "stdout",
          "output_type": "stream",
          "text": [
            "Rata-rata total mb used perbulannya pada paket ultimate adalah: 17.352609308885754\n",
            "\n",
            "Standar deviasi mb used perbulannya pada paket ultimate adalah: 7.670274974333751\n",
            "\n",
            "Variance mb used perbulannya pada paket ultimate adalah: 58.75013776132378\n"
          ]
        }
      ],
      "source": [
        "print(f'Rata-rata total mb used perbulannya pada paket ultimate adalah: {mean}')\n",
        "print()\n",
        "print(f'Standar deviasi mb used perbulannya pada paket ultimate adalah: {std}')\n",
        "print()\n",
        "print(f'Variance mb used perbulannya pada paket ultimate adalah: {var}')"
      ]
    },
    {
      "cell_type": "code",
      "execution_count": null,
      "metadata": {
        "id": "21u-G-LXhimg",
        "outputId": "a6ea1af1-9a76-4923-f0c9-c90fc7d51d01"
      },
      "outputs": [
        {
          "data": {
            "image/png": "[encoded data removed]",
            "text/plain": [
              "<Figure size 432x288 with 1 Axes>"
            ]
          },
          "metadata": {},
          "output_type": "display_data"
        },
        {
          "data": {
            "image/png": "[encoded data removed]",
            "text/plain": [
              "<Figure size 432x288 with 1 Axes>"
            ]
          },
          "metadata": {},
          "output_type": "display_data"
        }
      ],
      "source": [
        "plt.xlabel('total gb per-month')\n",
        "sns.distplot(internet_ultimate_list);\n",
        "plt.show()\n",
        "\n",
        "\n",
        "sns.boxplot(internet_ultimate_list);\n",
        "plt.show()"
      ]
    },
    {
      "cell_type": "markdown",
      "metadata": {
        "id": "Rqo_SYHOhimg"
      },
      "source": [
        "Pada distribusi graph & boxplot diatas dapat dilihat bahwa:\n",
        "- Peak dari gb used berada di sekitar angka 15. Kurang lebih sama dengan `paket surf`\n",
        "- Lebih banyak data tersebar di atas Q2 dengan nilai max sekitar 45. Selisih 25 dengan `paket surf`\n",
        "- Batas gb used paket ini adalah 30 dan dengan melihat boxplot di atas dapat dilihat bahwa ada sedikit user yang melebihi batas paket yang telah ditentukan"
      ]
    },
    {
      "cell_type": "markdown",
      "metadata": {
        "id": "z9qrUfCthimg"
      },
      "source": [
        "**Kesimpulan pada kuota telepon antar dua paket**\n",
        "\n",
        "Kedua paket memiliki rata-rata yang tidak jauh berbeda satu sama lain dan dengan distribusi yang tidak jauh berbeda. Pada kuota internet ini, sekitar 50% user paket surf melebihi batas kuota yang ditetapkan dan hanya sedikit user paket ultimate yang melebihi kuota"
      ]
    },
    {
      "cell_type": "code",
      "execution_count": null,
      "metadata": {
        "id": "cnGQ5uGshimh"
      },
      "outputs": [],
      "source": [
        "del minute_count, call_count, message_count, internet_count"
      ]
    },
    {
      "cell_type": "markdown",
      "metadata": {
        "id": "ZJCQGQkThimh"
      },
      "source": [
        "## Uji Hipotesis"
      ]
    },
    {
      "cell_type": "markdown",
      "metadata": {
        "id": "RW5feYOYhimh"
      },
      "source": [
        "### Hipotesis berdasarkan jenis paket"
      ]
    },
    {
      "cell_type": "markdown",
      "metadata": {
        "id": "t25rWPELhimh"
      },
      "source": [
        "H0 : Rata-rata pendapatan dari pengguna paket Ultimate dan Surf adalah **SAMA**\n",
        "\n",
        "H1 : Rata-rata pendapatan dari pengguna paket Ultimate dan Surf adalah **BERBEDA**"
      ]
    },
    {
      "cell_type": "code",
      "execution_count": null,
      "metadata": {
        "id": "tdO_JUCZhimi"
      },
      "outputs": [],
      "source": [
        "revenue_surf = total_revenue[total_revenue['plan'] == 'surf']\n",
        "revenue_ultimate = total_revenue[total_revenue['plan'] == 'ultimate']"
      ]
    },
    {
      "cell_type": "code",
      "execution_count": null,
      "metadata": {
        "id": "Cy24tJVNhimi"
      },
      "outputs": [],
      "source": [
        "revenue_surf_list = analisis_data(revenue_surf, n_output = 1)\n",
        "revenue_ultimate_list = analisis_data(revenue_ultimate, n_output = 1)"
      ]
    },
    {
      "cell_type": "code",
      "execution_count": null,
      "metadata": {
        "id": "fbCbGpkBhimi",
        "outputId": "12345eed-076c-4c0b-c5f8-cf9adf42e27d"
      },
      "outputs": [
        {
          "data": {
            "text/plain": [
              "2        20.0\n",
              "14       20.0\n",
              "21       20.0\n",
              "25       20.0\n",
              "35       20.0\n",
              "        ...  \n",
              "4063     20.0\n",
              "4064    110.0\n",
              "4065     40.0\n",
              "4066    100.0\n",
              "4067     90.0\n",
              "Length: 2247, dtype: float64"
            ]
          },
          "execution_count": 85,
          "metadata": {},
          "output_type": "execute_result"
        }
      ],
      "source": [
        "revenue_surf_list"
      ]
    },
    {
      "cell_type": "code",
      "execution_count": null,
      "metadata": {
        "id": "Ea1056inhimi",
        "outputId": "ec9cd0b4-256e-4d34-97a0-35005d23674b"
      },
      "outputs": [
        {
          "name": "stdout",
          "output_type": "stream",
          "text": [
            "variance revenue_surf adalah: 2462.2913614335803\n",
            "variance revenue_ultimate adalah: 88.35148874364562\n"
          ]
        }
      ],
      "source": [
        "print(f'variance revenue_surf adalah: {np.var(revenue_surf_list)}')\n",
        "print(f'variance revenue_ultimate adalah: {np.var(revenue_ultimate_list)}')\n"
      ]
    },
    {
      "cell_type": "code",
      "execution_count": null,
      "metadata": {
        "id": "hc_bftmbhimj",
        "outputId": "4a1efaa1-86fb-4423-f075-09ba5d434f1a"
      },
      "outputs": [
        {
          "name": "stdout",
          "output_type": "stream",
          "text": [
            "variance tidak setara\n"
          ]
        }
      ],
      "source": [
        "equal_variance = np.var(revenue_surf_list)/np.var(revenue_ultimate_list)\n",
        "\n",
        "if equal_variance < 4:\n",
        "    print('variance setara')\n",
        "else:\n",
        "    print('variance tidak setara')"
      ]
    },
    {
      "cell_type": "code",
      "execution_count": null,
      "metadata": {
        "id": "bsEYj4UFhimj",
        "outputId": "09bdb2fc-672c-4f45-e72a-39fe3f979740"
      },
      "outputs": [
        {
          "name": "stdout",
          "output_type": "stream",
          "text": [
            "1.081384043833917e-96\n",
            "\n",
            "H0 ditolak\n"
          ]
        }
      ],
      "source": [
        "alpha = 0.05\n",
        "result = st.ttest_ind(revenue_surf_list, revenue_ultimate_list, equal_var = False)\n",
        "\n",
        "print(result.pvalue)\n",
        "print()\n",
        "if result.pvalue < alpha:\n",
        "    print('H0 ditolak')\n",
        "else:\n",
        "    print('H0 diterima')\n"
      ]
    },
    {
      "cell_type": "markdown",
      "metadata": {
        "id": "ABG5VAjVhimk"
      },
      "source": [
        "**Hasilnya: Rata-rata pendapatan dari pengguna paket Ultimate dan Surf adalah BERBEDA**"
      ]
    },
    {
      "cell_type": "code",
      "execution_count": null,
      "metadata": {
        "id": "VNw_X083himk",
        "outputId": "780362d0-f26e-418c-bc35-c60fa827badf"
      },
      "outputs": [
        {
          "name": "stdout",
          "output_type": "stream",
          "text": [
            "Rata-rata revenue paket surf adalah: 47.90145527369826\n",
            "Rata-rata revenue paket ultimate adalah: 71.55555555555556\n",
            "\n",
            "Rata-rata revenue paket ultimate lebih tinggi dari paket surf dengan selisih 24 USD\n"
          ]
        }
      ],
      "source": [
        "# Rata - rata pendapatan antara dua paket\n",
        "\n",
        "print(f'Rata-rata revenue paket surf adalah: {revenue_surf_list.mean()}')\n",
        "print(f'Rata-rata revenue paket ultimate adalah: {revenue_ultimate_list.mean()}')\n",
        "print()\n",
        "print('Rata-rata revenue paket ultimate lebih tinggi dari paket surf dengan selisih 24 USD')"
      ]
    },
    {
      "cell_type": "markdown",
      "metadata": {
        "id": "h2GCWdUlhiml"
      },
      "source": [
        "### Hipotesis berdasarkan lokasi"
      ]
    },
    {
      "cell_type": "markdown",
      "metadata": {
        "id": "zd5pF2Hihiml"
      },
      "source": [
        "H0 : Rata-rata pendapatan dari pengguna di wilayah NY-NJ dan wilayah lain adalah **SAMA**\n",
        "\n",
        "H1 : Rata-rata pendapatan dari pengguna di wilayah NY-NJ dan wilayah lain adalah **BERBEDA**"
      ]
    },
    {
      "cell_type": "code",
      "execution_count": null,
      "metadata": {
        "id": "3LGm-c7fhiml"
      },
      "outputs": [],
      "source": [
        "new_york = total_revenue[total_revenue['city'].str.contains('NY-NJ')].reset_index(drop = True)\n",
        "other_city = total_revenue[~total_revenue['city'].str.contains('NY-NJ')].reset_index(drop = True)"
      ]
    },
    {
      "cell_type": "code",
      "execution_count": null,
      "metadata": {
        "id": "XyrutFPQhiml"
      },
      "outputs": [],
      "source": [
        "new_york_list = analisis_data(new_york, n_output = 1)\n",
        "other_city_list = analisis_data(other_city, n_output = 1)"
      ]
    },
    {
      "cell_type": "code",
      "execution_count": null,
      "metadata": {
        "id": "opa4VN-ehimm"
      },
      "outputs": [],
      "source": [
        "print(f'variance revenue_surf adalah: {np.var(new_york_list)}')\n",
        "print(f'variance revenue_ultimate adalah: {np.var(other_city_list)}')"
      ]
    },
    {
      "cell_type": "code",
      "execution_count": null,
      "metadata": {
        "id": "EUgK2C25himm"
      },
      "outputs": [],
      "source": [
        "equal_variance = np.var(new_york_list)/np.var(other_city_list)\n",
        "\n",
        "if equal_variance < 4:\n",
        "    print('variance setara')\n",
        "else:\n",
        "    print('variance tidak setara')"
      ]
    },
    {
      "cell_type": "code",
      "execution_count": null,
      "metadata": {
        "id": "oDp7u5SDhimm"
      },
      "outputs": [],
      "source": [
        "alpha = 0.05\n",
        "result = st.ttest_ind(new_york_list, other_city_list, equal_var = True)\n",
        "\n",
        "print(result.pvalue)\n",
        "print()\n",
        "if result.pvalue < alpha:\n",
        "    print('H0 ditolak')\n",
        "else:\n",
        "    print('H0 diterima')\n"
      ]
    },
    {
      "cell_type": "markdown",
      "metadata": {
        "id": "wCXaViUOhimm"
      },
      "source": [
        "**Hasilnya: Rata-rata pendapatan dari pengguna di wilayah NY-NJ dan wilayah lain adalah BERBEDA**"
      ]
    },
    {
      "cell_type": "markdown",
      "metadata": {
        "id": "l4q1POTYhimm"
      },
      "source": [
        "## Kesimpulan"
      ]
    },
    {
      "cell_type": "markdown",
      "metadata": {
        "id": "J7W5kRJmhimm"
      },
      "source": [
        "### Pengecekan Kualitas Data\n",
        "1. Tidak ada nilai yang duplikat\n",
        "2. Mengubah semua tipe data pada kolom date menjadi pd.datetime\n",
        "3. Menghapus value 0 pada dataframe `call` kolom `duration`\n",
        "4. Menghapus value 0 pada dataframe `internet` kolom `mb_used`\n",
        "\n",
        "\n",
        "### Modifikasi Data\n",
        "1. Terdapat kesalahan pada data yang mana call, sms, dan internet masih di record walaupun user telah berhenti berlangganan paket. Semua record call, sms, dan internet user yang berhenti dihapus\n",
        "2. membuat tabel `minute_count` yang berisi total minute spent per-bulan untuk setiap user\n",
        "3. membuat tabel `message_count` yang berisi total message sent per-bulan untuk setiap user\n",
        "4. membuat tabel `internet_count` yang berisi total mb_used per-bulan untuk setiap user\n",
        "5. membuat tabel `revenue_total` yang berisi total revenue per-bulan untuk setiap user\n",
        "\n",
        "\n",
        "\n",
        "### Analisis Data\n",
        "#### Mencari total minute spent yang digunakan pengguna setiap paket per bulan\n",
        "- Kedua paket memiliki rata-rata yang tidak jauh berbeda satu sama lain dan dengan distribusi yang tidak jauh berbeda. Dapat dikatakan bahwa perilaku user `surf` dan `ultimate` dalam minute spent per-month adalah SAMA\n",
        "\n",
        "#### Mencari total message sent yang digunakan pengguna setiap paket per bulan\n",
        "- Kedua paket memiliki rata-rata yang tidak jauh berbeda satu sama lain dan dengan distribusi yang tidak jauh berbeda. Dapat dikatakan bahwa perilaku user `surf` dan `ultimate` dalam message sent per-month adalah **SAMA**\n",
        "\n",
        "#### Mencari total gb used yang digunakan pengguna setiap paket per bulan\n",
        "- Kedua paket memiliki rata-rata yang tidak jauh berbeda satu sama lain dan dengan distribusi yang tidak jauh berbeda. Dapat dikatakan bahwa perilaku user `surf` dan `ultimate` dalam gb used per-month adalah **SAMA**\n",
        "\n",
        "\n",
        "### Uji Hipotesis\n",
        "#### Pengujian hipotesis berdasarkan jenis paket\n",
        "\n",
        "H0 : Rata-rata pendapatan dari pengguna paket Ultimate dan Surf adalah SAMA\n",
        "\n",
        "H1 : Rata-rata pendapatan dari pengguna paket Ultimate dan Surf adalah BERBEDA\n",
        "\n",
        "Dengan *p-value* = 1.081384043833917e-96, maka hasilnya adalah: **Rata-rata pendapatan dari pengguna paket Ultimate dan Surf adalah BERBEDA**\n",
        "\n",
        "\n",
        "#### Pengujian hipotesis berdasarkan lokasi\n",
        "\n",
        "H0 : Rata-rata pendapatan dari pengguna di wilayah NY-NJ dan wilayah lain adalah SAMA\n",
        "\n",
        "H1 : Rata-rata pendapatan dari pengguna di wilayah NY-NJ dan wilayah lain adalah BERBEDA\n",
        "\n",
        "Dengan *p-value* = 0.03662330502894391, maka hasilnya adalah: **Rata-rata pendapatan dari pengguna di wilayah NY-NJ dan wilayah lain adalah BERBEDA**\n",
        "\n",
        "\n",
        "#### Result\n",
        "Menganalisis perilaku klien dan menentukan paket prabayar mana yang mendatangkan lebih banyak pendapatan\n",
        "- Hasil analisis perilaku klien:\n",
        "    - User paket surf banyak yang melebihi kuota yang ditetapkan, oleh karena ini banyak user dari paket ini yang membayar additional charge\n",
        "    - Hanya sedikit dari user paket ultimate yang melebihi kuota dan itu hanya terjadi di sub-paket internet\n",
        "- Paket mana yang mendatangkan lebih banyak pendapatan?\n",
        "    - Paket ultimate dengan rata-rata revenue sebesar 71 USD, selisih 24 USD dari rata-rata revenue paket surf\n",
        "\n",
        "\n",
        "-------------"
      ]
    },
    {
      "cell_type": "markdown",
      "metadata": {
        "id": "i7_hB8Johimn"
      },
      "source": [
        "**Project sprint 4 v.1 DONE**"
      ]
    }
  ],
  "metadata": {
    "kernelspec": {
      "display_name": "Python 3 (ipykernel)",
      "language": "python",
      "name": "python3"
    },
    "language_info": {
      "codemirror_mode": {
        "name": "ipython",
        "version": 3
      },
      "file_extension": ".py",
      "mimetype": "text/x-python",
      "name": "python",
      "nbconvert_exporter": "python",
      "pygments_lexer": "ipython3",
      "version": "3.9.5"
    },
    "toc": {
      "base_numbering": 1,
      "nav_menu": {},
      "number_sections": true,
      "sideBar": true,
      "skip_h1_title": true,
      "title_cell": "Table of Contents",
      "title_sidebar": "Contents",
      "toc_cell": false,
      "toc_position": {},
      "toc_section_display": true,
      "toc_window_display": true
    },
    "colab": {
      "provenance": []
    }
  },
  "nbformat": 4,
  "nbformat_minor": 0
}