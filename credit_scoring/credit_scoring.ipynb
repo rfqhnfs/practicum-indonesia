{
  "cells": [
    {
      "cell_type": "markdown",
      "metadata": {
        "id": "y3S0NW8jAKGR"
      },
      "source": [
        "# Menganalisis Risiko Gagal Bayar Peminjam\n",
        "\n",
        "Tugas Anda adalah menyiapkan laporan untuk divisi kredit suatu bank. Anda akan mencari tahu pengaruh status perkawinan seorang nasabah dan jumlah anak yang dimilikinya terhadap probabilitas gagal bayar dalam pelunasan pinjaman. Pihak bank sudah memiliki beberapa data mengenai kelayakan kredit nasabah.\n",
        "\n",
        "Laporan Anda akan dipertimbangkan pada saat membuat **penilaian kredit** untuk calon nasabah. **Penilaian kredit** digunakan untuk mengevaluasi kemampuan calon peminjam untuk melunasi pinjaman mereka.\n",
        "\n",
        "[Dalam *notebook* ini, Anda dapat menemukan petunjuk dan instruksi singkat serta arahan untuk berfikir. Jangan abaikan petunjuk tersebut karena mereka dirancang untuk membekali Anda dengan struktur pengerjaan proyek dan akan membantu Anda menganalisis apa yang sedang Anda lakukan secara mendalam. Sebaliknya, buatlah agar laporan ini terlihat seolah-olah dikirimkan oleh Anda kepada rekan satu tim Anda untuk menunjukkan temuan Anda - mereka tidak perlu tahu bahwa Anda mendapatkan bantuan eksternal dari kami! Untuk membantu Anda, kami menempatkan semua petunjuk yang harus Anda hapus dalam tanda kurung siku.]\n",
        "\n",
        "[Sebelum Anda masuk ke dalam analisis data Anda, jelaskan tujuan proyek dan hipotesis yang akan Anda uji.]"
      ]
    },
    {
      "cell_type": "markdown",
      "metadata": {
        "id": "xNDcAZ4GAKGS"
      },
      "source": [
        "## Buka *file* data dan baca informasi umumnya.\n",
        "\n",
        "[Mulailah dengan mengimpor *library* dan memuat datanya. Anda mungkin akan menyadari bahwa Anda memerlukan *library* tambahan saat Anda telah mengerjakan proyek ini, dan itu merupakan hal yang normal. Hanya saja, pastikan untuk memperbarui bagian ini jika dibutuhkan.]"
      ]
    },
    {
      "cell_type": "code",
      "execution_count": null,
      "metadata": {
        "id": "FIFucXSvAKGS"
      },
      "outputs": [],
      "source": [
        "# Muat semua *library*\n",
        "\n",
        "import pandas as pd\n",
        "import matplotlib.pyplot as plt"
      ]
    },
    {
      "cell_type": "code",
      "execution_count": null,
      "metadata": {
        "id": "KG1VNiBLAKGT"
      },
      "outputs": [],
      "source": [
        "# Muat datanya\n",
        "\n",
        "try:\n",
        "    df = pd.read_csv('credit_scoring_eng.csv')\n",
        "except:\n",
        "    df = pd.read_csv('/datasets/credit_scoring_eng.csv') "
      ]
    },
    {
      "cell_type": "markdown",
      "metadata": {
        "id": "ZxsAyzMoAKGT"
      },
      "source": [
        "## Soal 1. Eksplorasi data\n",
        "\n",
        "**Deskripsi Data**\n",
        "- `children` - jumlah anak dalam keluarga\n",
        "- `days_employed` - pengalaman kerja nasabah dalam hari\n",
        "- `dob_years` - usia nasabah dalam tahun\n",
        "- `education` - tingkat pendidikan nasabah\n",
        "- `education_id` - pengidentifikasi untuk tingkat pendidikan nasabah\n",
        "- `family_status` - pengidentifikasi untuk status perkawinan nasabah\n",
        "- `family_status_id` - tanda pengenal status perkawinan\n",
        "- `gender` - jenis kelamin nasabah\n",
        "- `income_type` - jenis pekerjaan\n",
        "- `debt` - apakah nasabah memiliki hutang pembayaran pinjaman\n",
        "- `total_income` - pendapatan bulanan\n",
        "- `purpose` - tujuan mendapatkan pinjaman\n",
        "\n",
        "[Sekarang saatnya mengeksplor data kita. Anda perlu melihat berapa banyak kolom dan baris yang dimiliki oleh data, serta mencermati beberapa baris data untuk memeriksa potensi masalah dengan data.]"
      ]
    },
    {
      "cell_type": "code",
      "execution_count": null,
      "metadata": {
        "id": "jJ1_NYpMAKGU",
        "outputId": "0f476fe5-27ce-4f7d-bdde-a47c83453700"
      },
      "outputs": [
        {
          "data": {
            "text/plain": [
              "(21525, 12)"
            ]
          },
          "execution_count": 3,
          "metadata": {},
          "output_type": "execute_result"
        }
      ],
      "source": [
        "# Mari kita lihat berapa banyak baris dan kolom yang dimiliki oleh dataset kita\n",
        "df.shape"
      ]
    },
    {
      "cell_type": "code",
      "execution_count": null,
      "metadata": {
        "id": "3Qfremj-AKGV",
        "outputId": "9ff439ae-488d-406f-ab52-8f561984d375"
      },
      "outputs": [
        {
          "data": {
            "text/html": [
              "<div>\n",
              "<style scoped>\n",
              "    .dataframe tbody tr th:only-of-type {\n",
              "        vertical-align: middle;\n",
              "    }\n",
              "\n",
              "    .dataframe tbody tr th {\n",
              "        vertical-align: top;\n",
              "    }\n",
              "\n",
              "    .dataframe thead th {\n",
              "        text-align: right;\n",
              "    }\n",
              "</style>\n",
              "<table border=\"1\" class=\"dataframe\">\n",
              "  <thead>\n",
              "    <tr style=\"text-align: right;\">\n",
              "      <th></th>\n",
              "      <th>children</th>\n",
              "      <th>days_employed</th>\n",
              "      <th>dob_years</th>\n",
              "      <th>education</th>\n",
              "      <th>education_id</th>\n",
              "      <th>family_status</th>\n",
              "      <th>family_status_id</th>\n",
              "      <th>gender</th>\n",
              "      <th>income_type</th>\n",
              "      <th>debt</th>\n",
              "      <th>total_income</th>\n",
              "      <th>purpose</th>\n",
              "    </tr>\n",
              "  </thead>\n",
              "  <tbody>\n",
              "    <tr>\n",
              "      <th>0</th>\n",
              "      <td>1</td>\n",
              "      <td>-8437.673028</td>\n",
              "      <td>42</td>\n",
              "      <td>bachelor's degree</td>\n",
              "      <td>0</td>\n",
              "      <td>married</td>\n",
              "      <td>0</td>\n",
              "      <td>F</td>\n",
              "      <td>employee</td>\n",
              "      <td>0</td>\n",
              "      <td>40620.102</td>\n",
              "      <td>purchase of the house</td>\n",
              "    </tr>\n",
              "    <tr>\n",
              "      <th>1</th>\n",
              "      <td>1</td>\n",
              "      <td>-4024.803754</td>\n",
              "      <td>36</td>\n",
              "      <td>secondary education</td>\n",
              "      <td>1</td>\n",
              "      <td>married</td>\n",
              "      <td>0</td>\n",
              "      <td>F</td>\n",
              "      <td>employee</td>\n",
              "      <td>0</td>\n",
              "      <td>17932.802</td>\n",
              "      <td>car purchase</td>\n",
              "    </tr>\n",
              "    <tr>\n",
              "      <th>2</th>\n",
              "      <td>0</td>\n",
              "      <td>-5623.422610</td>\n",
              "      <td>33</td>\n",
              "      <td>Secondary Education</td>\n",
              "      <td>1</td>\n",
              "      <td>married</td>\n",
              "      <td>0</td>\n",
              "      <td>M</td>\n",
              "      <td>employee</td>\n",
              "      <td>0</td>\n",
              "      <td>23341.752</td>\n",
              "      <td>purchase of the house</td>\n",
              "    </tr>\n",
              "    <tr>\n",
              "      <th>3</th>\n",
              "      <td>3</td>\n",
              "      <td>-4124.747207</td>\n",
              "      <td>32</td>\n",
              "      <td>secondary education</td>\n",
              "      <td>1</td>\n",
              "      <td>married</td>\n",
              "      <td>0</td>\n",
              "      <td>M</td>\n",
              "      <td>employee</td>\n",
              "      <td>0</td>\n",
              "      <td>42820.568</td>\n",
              "      <td>supplementary education</td>\n",
              "    </tr>\n",
              "    <tr>\n",
              "      <th>4</th>\n",
              "      <td>0</td>\n",
              "      <td>340266.072047</td>\n",
              "      <td>53</td>\n",
              "      <td>secondary education</td>\n",
              "      <td>1</td>\n",
              "      <td>civil partnership</td>\n",
              "      <td>1</td>\n",
              "      <td>F</td>\n",
              "      <td>retiree</td>\n",
              "      <td>0</td>\n",
              "      <td>25378.572</td>\n",
              "      <td>to have a wedding</td>\n",
              "    </tr>\n",
              "    <tr>\n",
              "      <th>5</th>\n",
              "      <td>0</td>\n",
              "      <td>-926.185831</td>\n",
              "      <td>27</td>\n",
              "      <td>bachelor's degree</td>\n",
              "      <td>0</td>\n",
              "      <td>civil partnership</td>\n",
              "      <td>1</td>\n",
              "      <td>M</td>\n",
              "      <td>business</td>\n",
              "      <td>0</td>\n",
              "      <td>40922.170</td>\n",
              "      <td>purchase of the house</td>\n",
              "    </tr>\n",
              "    <tr>\n",
              "      <th>6</th>\n",
              "      <td>0</td>\n",
              "      <td>-2879.202052</td>\n",
              "      <td>43</td>\n",
              "      <td>bachelor's degree</td>\n",
              "      <td>0</td>\n",
              "      <td>married</td>\n",
              "      <td>0</td>\n",
              "      <td>F</td>\n",
              "      <td>business</td>\n",
              "      <td>0</td>\n",
              "      <td>38484.156</td>\n",
              "      <td>housing transactions</td>\n",
              "    </tr>\n",
              "    <tr>\n",
              "      <th>7</th>\n",
              "      <td>0</td>\n",
              "      <td>-152.779569</td>\n",
              "      <td>50</td>\n",
              "      <td>SECONDARY EDUCATION</td>\n",
              "      <td>1</td>\n",
              "      <td>married</td>\n",
              "      <td>0</td>\n",
              "      <td>M</td>\n",
              "      <td>employee</td>\n",
              "      <td>0</td>\n",
              "      <td>21731.829</td>\n",
              "      <td>education</td>\n",
              "    </tr>\n",
              "    <tr>\n",
              "      <th>8</th>\n",
              "      <td>2</td>\n",
              "      <td>-6929.865299</td>\n",
              "      <td>35</td>\n",
              "      <td>BACHELOR'S DEGREE</td>\n",
              "      <td>0</td>\n",
              "      <td>civil partnership</td>\n",
              "      <td>1</td>\n",
              "      <td>F</td>\n",
              "      <td>employee</td>\n",
              "      <td>0</td>\n",
              "      <td>15337.093</td>\n",
              "      <td>having a wedding</td>\n",
              "    </tr>\n",
              "    <tr>\n",
              "      <th>9</th>\n",
              "      <td>0</td>\n",
              "      <td>-2188.756445</td>\n",
              "      <td>41</td>\n",
              "      <td>secondary education</td>\n",
              "      <td>1</td>\n",
              "      <td>married</td>\n",
              "      <td>0</td>\n",
              "      <td>M</td>\n",
              "      <td>employee</td>\n",
              "      <td>0</td>\n",
              "      <td>23108.150</td>\n",
              "      <td>purchase of the house for my family</td>\n",
              "    </tr>\n",
              "    <tr>\n",
              "      <th>10</th>\n",
              "      <td>2</td>\n",
              "      <td>-4171.483647</td>\n",
              "      <td>36</td>\n",
              "      <td>bachelor's degree</td>\n",
              "      <td>0</td>\n",
              "      <td>married</td>\n",
              "      <td>0</td>\n",
              "      <td>M</td>\n",
              "      <td>business</td>\n",
              "      <td>0</td>\n",
              "      <td>18230.959</td>\n",
              "      <td>buy real estate</td>\n",
              "    </tr>\n",
              "    <tr>\n",
              "      <th>11</th>\n",
              "      <td>0</td>\n",
              "      <td>-792.701887</td>\n",
              "      <td>40</td>\n",
              "      <td>secondary education</td>\n",
              "      <td>1</td>\n",
              "      <td>married</td>\n",
              "      <td>0</td>\n",
              "      <td>F</td>\n",
              "      <td>employee</td>\n",
              "      <td>0</td>\n",
              "      <td>12331.077</td>\n",
              "      <td>buy commercial real estate</td>\n",
              "    </tr>\n",
              "    <tr>\n",
              "      <th>12</th>\n",
              "      <td>0</td>\n",
              "      <td>NaN</td>\n",
              "      <td>65</td>\n",
              "      <td>secondary education</td>\n",
              "      <td>1</td>\n",
              "      <td>civil partnership</td>\n",
              "      <td>1</td>\n",
              "      <td>M</td>\n",
              "      <td>retiree</td>\n",
              "      <td>0</td>\n",
              "      <td>NaN</td>\n",
              "      <td>to have a wedding</td>\n",
              "    </tr>\n",
              "    <tr>\n",
              "      <th>13</th>\n",
              "      <td>0</td>\n",
              "      <td>-1846.641941</td>\n",
              "      <td>54</td>\n",
              "      <td>some college</td>\n",
              "      <td>2</td>\n",
              "      <td>married</td>\n",
              "      <td>0</td>\n",
              "      <td>F</td>\n",
              "      <td>employee</td>\n",
              "      <td>0</td>\n",
              "      <td>20873.317</td>\n",
              "      <td>car purchase</td>\n",
              "    </tr>\n",
              "    <tr>\n",
              "      <th>14</th>\n",
              "      <td>0</td>\n",
              "      <td>-1844.956182</td>\n",
              "      <td>56</td>\n",
              "      <td>bachelor's degree</td>\n",
              "      <td>0</td>\n",
              "      <td>civil partnership</td>\n",
              "      <td>1</td>\n",
              "      <td>F</td>\n",
              "      <td>business</td>\n",
              "      <td>1</td>\n",
              "      <td>26420.466</td>\n",
              "      <td>buy residential real estate</td>\n",
              "    </tr>\n",
              "  </tbody>\n",
              "</table>\n",
              "</div>"
            ],
            "text/plain": [
              "    children  days_employed  dob_years            education  education_id  \\\n",
              "0          1   -8437.673028         42    bachelor's degree             0   \n",
              "1          1   -4024.803754         36  secondary education             1   \n",
              "2          0   -5623.422610         33  Secondary Education             1   \n",
              "3          3   -4124.747207         32  secondary education             1   \n",
              "4          0  340266.072047         53  secondary education             1   \n",
              "5          0    -926.185831         27    bachelor's degree             0   \n",
              "6          0   -2879.202052         43    bachelor's degree             0   \n",
              "7          0    -152.779569         50  SECONDARY EDUCATION             1   \n",
              "8          2   -6929.865299         35    BACHELOR'S DEGREE             0   \n",
              "9          0   -2188.756445         41  secondary education             1   \n",
              "10         2   -4171.483647         36    bachelor's degree             0   \n",
              "11         0    -792.701887         40  secondary education             1   \n",
              "12         0            NaN         65  secondary education             1   \n",
              "13         0   -1846.641941         54         some college             2   \n",
              "14         0   -1844.956182         56    bachelor's degree             0   \n",
              "\n",
              "        family_status  family_status_id gender income_type  debt  \\\n",
              "0             married                 0      F    employee     0   \n",
              "1             married                 0      F    employee     0   \n",
              "2             married                 0      M    employee     0   \n",
              "3             married                 0      M    employee     0   \n",
              "4   civil partnership                 1      F     retiree     0   \n",
              "5   civil partnership                 1      M    business     0   \n",
              "6             married                 0      F    business     0   \n",
              "7             married                 0      M    employee     0   \n",
              "8   civil partnership                 1      F    employee     0   \n",
              "9             married                 0      M    employee     0   \n",
              "10            married                 0      M    business     0   \n",
              "11            married                 0      F    employee     0   \n",
              "12  civil partnership                 1      M     retiree     0   \n",
              "13            married                 0      F    employee     0   \n",
              "14  civil partnership                 1      F    business     1   \n",
              "\n",
              "    total_income                              purpose  \n",
              "0      40620.102                purchase of the house  \n",
              "1      17932.802                         car purchase  \n",
              "2      23341.752                purchase of the house  \n",
              "3      42820.568              supplementary education  \n",
              "4      25378.572                    to have a wedding  \n",
              "5      40922.170                purchase of the house  \n",
              "6      38484.156                 housing transactions  \n",
              "7      21731.829                            education  \n",
              "8      15337.093                     having a wedding  \n",
              "9      23108.150  purchase of the house for my family  \n",
              "10     18230.959                      buy real estate  \n",
              "11     12331.077           buy commercial real estate  \n",
              "12           NaN                    to have a wedding  \n",
              "13     20873.317                         car purchase  \n",
              "14     26420.466          buy residential real estate  "
            ]
          },
          "execution_count": 4,
          "metadata": {},
          "output_type": "execute_result"
        }
      ],
      "source": [
        "# Mari tampilkan N baris pertama\n",
        "df.head(n= 15)"
      ]
    },
    {
      "cell_type": "markdown",
      "metadata": {
        "id": "2g5Ar0ofAKGV"
      },
      "source": [
        "1. Pada kolom 'days_employed' terdapat angka minus & NaN. Dan angka yang ditampilkan akan lebih memudahkan jika dirubah ke int.\n",
        "2. Pada kolom 'education' ada ketidaksesuaian dalam penulisan huruf kapital. Ada bagusnya jika ditulis dalam lowercase semua.\n",
        "3. Pada kolom 'total_income' ada nilai NaN, pada index ke-12, mungkin bukan nilai yang hilang(mungkin ada retiree yang tidak memiliki income lagi). Nilai NaN akan di isi 0.\n",
        "4. Pada kolom 'purpose'isinya susah di kelompokkan karena ada kategori yang seharusnya sama tapi di tulis dengan tulisan berbeda. Contohnya pada index ke-4 isinya 'to have a wedding' dan di index ke-8 'having a wedding'. Purposenya sama yaitu wedding tetapi ditulis dengan tulisan yang berbeda.\n",
        "5. Terdapat nilai janggal di index 4 kolom 'days_employed yang isinya 340266.072047. Jika nilai itu di 360(1 tahun) hasilnya lebih dari 900 dan itu tidak mungkin orang telah bekerja selama 900 tahun lebih\n"
      ]
    },
    {
      "cell_type": "code",
      "execution_count": null,
      "metadata": {
        "scrolled": true,
        "id": "xP2FzhL0AKGW",
        "outputId": "f627c810-a4dd-4b44-b553-dc16dd61edbe"
      },
      "outputs": [
        {
          "name": "stdout",
          "output_type": "stream",
          "text": [
            "<class 'pandas.core.frame.DataFrame'>\n",
            "RangeIndex: 21525 entries, 0 to 21524\n",
            "Data columns (total 12 columns):\n",
            " #   Column            Non-Null Count  Dtype  \n",
            "---  ------            --------------  -----  \n",
            " 0   children          21525 non-null  int64  \n",
            " 1   days_employed     19351 non-null  float64\n",
            " 2   dob_years         21525 non-null  int64  \n",
            " 3   education         21525 non-null  object \n",
            " 4   education_id      21525 non-null  int64  \n",
            " 5   family_status     21525 non-null  object \n",
            " 6   family_status_id  21525 non-null  int64  \n",
            " 7   gender            21525 non-null  object \n",
            " 8   income_type       21525 non-null  object \n",
            " 9   debt              21525 non-null  int64  \n",
            " 10  total_income      19351 non-null  float64\n",
            " 11  purpose           21525 non-null  object \n",
            "dtypes: float64(2), int64(5), object(5)\n",
            "memory usage: 2.0+ MB\n"
          ]
        }
      ],
      "source": [
        "# Dapatkan informasi data\n",
        "df.info()"
      ]
    },
    {
      "cell_type": "code",
      "execution_count": null,
      "metadata": {
        "scrolled": true,
        "id": "_dxft-01AKGW",
        "outputId": "ea6a75fd-503b-4b7c-e414-772abe768c49"
      },
      "outputs": [
        {
          "data": {
            "text/html": [
              "<div>\n",
              "<style scoped>\n",
              "    .dataframe tbody tr th:only-of-type {\n",
              "        vertical-align: middle;\n",
              "    }\n",
              "\n",
              "    .dataframe tbody tr th {\n",
              "        vertical-align: top;\n",
              "    }\n",
              "\n",
              "    .dataframe thead th {\n",
              "        text-align: right;\n",
              "    }\n",
              "</style>\n",
              "<table border=\"1\" class=\"dataframe\">\n",
              "  <thead>\n",
              "    <tr style=\"text-align: right;\">\n",
              "      <th></th>\n",
              "      <th>children</th>\n",
              "      <th>days_employed</th>\n",
              "      <th>dob_years</th>\n",
              "      <th>education_id</th>\n",
              "      <th>family_status_id</th>\n",
              "      <th>debt</th>\n",
              "      <th>total_income</th>\n",
              "    </tr>\n",
              "  </thead>\n",
              "  <tbody>\n",
              "    <tr>\n",
              "      <th>count</th>\n",
              "      <td>21525.000000</td>\n",
              "      <td>19351.000000</td>\n",
              "      <td>21525.000000</td>\n",
              "      <td>21525.000000</td>\n",
              "      <td>21525.000000</td>\n",
              "      <td>21525.000000</td>\n",
              "      <td>19351.000000</td>\n",
              "    </tr>\n",
              "    <tr>\n",
              "      <th>mean</th>\n",
              "      <td>0.538908</td>\n",
              "      <td>63046.497661</td>\n",
              "      <td>43.293380</td>\n",
              "      <td>0.817236</td>\n",
              "      <td>0.972544</td>\n",
              "      <td>0.080883</td>\n",
              "      <td>26787.568355</td>\n",
              "    </tr>\n",
              "    <tr>\n",
              "      <th>std</th>\n",
              "      <td>1.381587</td>\n",
              "      <td>140827.311974</td>\n",
              "      <td>12.574584</td>\n",
              "      <td>0.548138</td>\n",
              "      <td>1.420324</td>\n",
              "      <td>0.272661</td>\n",
              "      <td>16475.450632</td>\n",
              "    </tr>\n",
              "    <tr>\n",
              "      <th>min</th>\n",
              "      <td>-1.000000</td>\n",
              "      <td>-18388.949901</td>\n",
              "      <td>0.000000</td>\n",
              "      <td>0.000000</td>\n",
              "      <td>0.000000</td>\n",
              "      <td>0.000000</td>\n",
              "      <td>3306.762000</td>\n",
              "    </tr>\n",
              "    <tr>\n",
              "      <th>25%</th>\n",
              "      <td>0.000000</td>\n",
              "      <td>-2747.423625</td>\n",
              "      <td>33.000000</td>\n",
              "      <td>1.000000</td>\n",
              "      <td>0.000000</td>\n",
              "      <td>0.000000</td>\n",
              "      <td>16488.504500</td>\n",
              "    </tr>\n",
              "    <tr>\n",
              "      <th>50%</th>\n",
              "      <td>0.000000</td>\n",
              "      <td>-1203.369529</td>\n",
              "      <td>42.000000</td>\n",
              "      <td>1.000000</td>\n",
              "      <td>0.000000</td>\n",
              "      <td>0.000000</td>\n",
              "      <td>23202.870000</td>\n",
              "    </tr>\n",
              "    <tr>\n",
              "      <th>75%</th>\n",
              "      <td>1.000000</td>\n",
              "      <td>-291.095954</td>\n",
              "      <td>53.000000</td>\n",
              "      <td>1.000000</td>\n",
              "      <td>1.000000</td>\n",
              "      <td>0.000000</td>\n",
              "      <td>32549.611000</td>\n",
              "    </tr>\n",
              "    <tr>\n",
              "      <th>max</th>\n",
              "      <td>20.000000</td>\n",
              "      <td>401755.400475</td>\n",
              "      <td>75.000000</td>\n",
              "      <td>4.000000</td>\n",
              "      <td>4.000000</td>\n",
              "      <td>1.000000</td>\n",
              "      <td>362496.645000</td>\n",
              "    </tr>\n",
              "  </tbody>\n",
              "</table>\n",
              "</div>"
            ],
            "text/plain": [
              "           children  days_employed     dob_years  education_id  \\\n",
              "count  21525.000000   19351.000000  21525.000000  21525.000000   \n",
              "mean       0.538908   63046.497661     43.293380      0.817236   \n",
              "std        1.381587  140827.311974     12.574584      0.548138   \n",
              "min       -1.000000  -18388.949901      0.000000      0.000000   \n",
              "25%        0.000000   -2747.423625     33.000000      1.000000   \n",
              "50%        0.000000   -1203.369529     42.000000      1.000000   \n",
              "75%        1.000000    -291.095954     53.000000      1.000000   \n",
              "max       20.000000  401755.400475     75.000000      4.000000   \n",
              "\n",
              "       family_status_id          debt   total_income  \n",
              "count      21525.000000  21525.000000   19351.000000  \n",
              "mean           0.972544      0.080883   26787.568355  \n",
              "std            1.420324      0.272661   16475.450632  \n",
              "min            0.000000      0.000000    3306.762000  \n",
              "25%            0.000000      0.000000   16488.504500  \n",
              "50%            0.000000      0.000000   23202.870000  \n",
              "75%            1.000000      0.000000   32549.611000  \n",
              "max            4.000000      1.000000  362496.645000  "
            ]
          },
          "execution_count": 6,
          "metadata": {},
          "output_type": "execute_result"
        }
      ],
      "source": [
        "df.describe()"
      ]
    },
    {
      "cell_type": "markdown",
      "metadata": {
        "id": "5ZVQaKhqAKGX"
      },
      "source": [
        "\n",
        "\n",
        "Melalui pengamatan saya, terdapat nilai yang janggal\n",
        "\n",
        "1. Max dan min dari kolom children yang terhilat janggal (20 & -1) \n",
        "    \n",
        "2. Banyak angka yang janggal pada kolom days_employed. Nilai mean, min, max, 25%, 50%, 75% pada kolom ini terlihat janggal dan juga terdapat nilai yang hilang pada kolom ini\n",
        "    \n",
        "3. Nilai min pada kolom dob_years adalah 0, ini merupakan kesalahan karena dob_years tidak mungkin bernilai 0\n",
        "    \n",
        "4. Terdapat nilai yang hilang pada kolom ini\n",
        "    \n"
      ]
    },
    {
      "cell_type": "markdown",
      "metadata": {
        "id": "a59Co6rIAKGX"
      },
      "source": [
        "\n",
        "\n",
        "Ada beberapa kolom yang kehilangan nilainya."
      ]
    },
    {
      "cell_type": "markdown",
      "metadata": {
        "id": "OPcd0or9AKGX"
      },
      "source": [
        "Nilai hilang terdapat pada kolom days_employed dan kolom total_income masing masing sebanyak 2174 baris. Dan pada kolom days_employed terdapat banyak nilai yang janggal (nilai minus dan nilai yang luar biasa tinggi)\n",
        "\n"
      ]
    },
    {
      "cell_type": "code",
      "execution_count": null,
      "metadata": {
        "id": "3nd-Fz9QAKGY",
        "outputId": "6f352125-0ec4-40c3-a04e-6439e1c71233"
      },
      "outputs": [
        {
          "data": {
            "text/html": [
              "<div>\n",
              "<style scoped>\n",
              "    .dataframe tbody tr th:only-of-type {\n",
              "        vertical-align: middle;\n",
              "    }\n",
              "\n",
              "    .dataframe tbody tr th {\n",
              "        vertical-align: top;\n",
              "    }\n",
              "\n",
              "    .dataframe thead th {\n",
              "        text-align: right;\n",
              "    }\n",
              "</style>\n",
              "<table border=\"1\" class=\"dataframe\">\n",
              "  <thead>\n",
              "    <tr style=\"text-align: right;\">\n",
              "      <th></th>\n",
              "      <th>children</th>\n",
              "      <th>days_employed</th>\n",
              "      <th>dob_years</th>\n",
              "      <th>education</th>\n",
              "      <th>education_id</th>\n",
              "      <th>family_status</th>\n",
              "      <th>family_status_id</th>\n",
              "      <th>gender</th>\n",
              "      <th>income_type</th>\n",
              "      <th>debt</th>\n",
              "      <th>total_income</th>\n",
              "      <th>purpose</th>\n",
              "    </tr>\n",
              "  </thead>\n",
              "  <tbody>\n",
              "    <tr>\n",
              "      <th>12</th>\n",
              "      <td>0</td>\n",
              "      <td>NaN</td>\n",
              "      <td>65</td>\n",
              "      <td>secondary education</td>\n",
              "      <td>1</td>\n",
              "      <td>civil partnership</td>\n",
              "      <td>1</td>\n",
              "      <td>M</td>\n",
              "      <td>retiree</td>\n",
              "      <td>0</td>\n",
              "      <td>NaN</td>\n",
              "      <td>to have a wedding</td>\n",
              "    </tr>\n",
              "    <tr>\n",
              "      <th>26</th>\n",
              "      <td>0</td>\n",
              "      <td>NaN</td>\n",
              "      <td>41</td>\n",
              "      <td>secondary education</td>\n",
              "      <td>1</td>\n",
              "      <td>married</td>\n",
              "      <td>0</td>\n",
              "      <td>M</td>\n",
              "      <td>civil servant</td>\n",
              "      <td>0</td>\n",
              "      <td>NaN</td>\n",
              "      <td>education</td>\n",
              "    </tr>\n",
              "    <tr>\n",
              "      <th>29</th>\n",
              "      <td>0</td>\n",
              "      <td>NaN</td>\n",
              "      <td>63</td>\n",
              "      <td>secondary education</td>\n",
              "      <td>1</td>\n",
              "      <td>unmarried</td>\n",
              "      <td>4</td>\n",
              "      <td>F</td>\n",
              "      <td>retiree</td>\n",
              "      <td>0</td>\n",
              "      <td>NaN</td>\n",
              "      <td>building a real estate</td>\n",
              "    </tr>\n",
              "    <tr>\n",
              "      <th>41</th>\n",
              "      <td>0</td>\n",
              "      <td>NaN</td>\n",
              "      <td>50</td>\n",
              "      <td>secondary education</td>\n",
              "      <td>1</td>\n",
              "      <td>married</td>\n",
              "      <td>0</td>\n",
              "      <td>F</td>\n",
              "      <td>civil servant</td>\n",
              "      <td>0</td>\n",
              "      <td>NaN</td>\n",
              "      <td>second-hand car purchase</td>\n",
              "    </tr>\n",
              "    <tr>\n",
              "      <th>55</th>\n",
              "      <td>0</td>\n",
              "      <td>NaN</td>\n",
              "      <td>54</td>\n",
              "      <td>secondary education</td>\n",
              "      <td>1</td>\n",
              "      <td>civil partnership</td>\n",
              "      <td>1</td>\n",
              "      <td>F</td>\n",
              "      <td>retiree</td>\n",
              "      <td>1</td>\n",
              "      <td>NaN</td>\n",
              "      <td>to have a wedding</td>\n",
              "    </tr>\n",
              "  </tbody>\n",
              "</table>\n",
              "</div>"
            ],
            "text/plain": [
              "    children  days_employed  dob_years            education  education_id  \\\n",
              "12         0            NaN         65  secondary education             1   \n",
              "26         0            NaN         41  secondary education             1   \n",
              "29         0            NaN         63  secondary education             1   \n",
              "41         0            NaN         50  secondary education             1   \n",
              "55         0            NaN         54  secondary education             1   \n",
              "\n",
              "        family_status  family_status_id gender    income_type  debt  \\\n",
              "12  civil partnership                 1      M        retiree     0   \n",
              "26            married                 0      M  civil servant     0   \n",
              "29          unmarried                 4      F        retiree     0   \n",
              "41            married                 0      F  civil servant     0   \n",
              "55  civil partnership                 1      F        retiree     1   \n",
              "\n",
              "    total_income                   purpose  \n",
              "12           NaN         to have a wedding  \n",
              "26           NaN                 education  \n",
              "29           NaN    building a real estate  \n",
              "41           NaN  second-hand car purchase  \n",
              "55           NaN         to have a wedding  "
            ]
          },
          "execution_count": 7,
          "metadata": {},
          "output_type": "execute_result"
        }
      ],
      "source": [
        "# Mari kita lihat tabel yang difilter dengan nilai yang hilang di kolom pertama yang mengandung data yang hilang\n",
        "\n",
        "df[df['days_employed'].isna()].head()"
      ]
    },
    {
      "cell_type": "markdown",
      "metadata": {
        "id": "lYaByhwSAKGZ"
      },
      "source": [
        "\n",
        "kelihatan sekilas bahwa nilai yang hilang tampak simetris, tetapi belum tentu benar karena output yang keluar hanya berdasarkan 'days_employed' yang bernilai NaN. Harus dilakukan code ulang dengan parameter 'days_employed' dan 'total_income'."
      ]
    },
    {
      "cell_type": "code",
      "execution_count": null,
      "metadata": {
        "id": "U0JM4LxsAKGZ",
        "outputId": "9c546f0a-3a04-4aa5-8b2f-1eeb2e9ea611"
      },
      "outputs": [
        {
          "name": "stdout",
          "output_type": "stream",
          "text": [
            "<class 'pandas.core.frame.DataFrame'>\n",
            "Int64Index: 2174 entries, 12 to 21510\n",
            "Data columns (total 12 columns):\n",
            " #   Column            Non-Null Count  Dtype  \n",
            "---  ------            --------------  -----  \n",
            " 0   children          2174 non-null   int64  \n",
            " 1   days_employed     0 non-null      float64\n",
            " 2   dob_years         2174 non-null   int64  \n",
            " 3   education         2174 non-null   object \n",
            " 4   education_id      2174 non-null   int64  \n",
            " 5   family_status     2174 non-null   object \n",
            " 6   family_status_id  2174 non-null   int64  \n",
            " 7   gender            2174 non-null   object \n",
            " 8   income_type       2174 non-null   object \n",
            " 9   debt              2174 non-null   int64  \n",
            " 10  total_income      0 non-null      float64\n",
            " 11  purpose           2174 non-null   object \n",
            "dtypes: float64(2), int64(5), object(5)\n",
            "memory usage: 220.8+ KB\n"
          ]
        }
      ],
      "source": [
        "# Mari kita terapkan beberapa kondisi untuk memfilter data dan melihat jumlah baris dalam tabel yang telah difilter.\n",
        "\n",
        "df[df['days_employed'].isna() & df['total_income'].isna()].info()"
      ]
    },
    {
      "cell_type": "markdown",
      "metadata": {
        "id": "oMDy1uouAKGa"
      },
      "source": [
        "\n",
        "\n",
        "Jumlahnya sama, kesimpulannya jika kolom 'days_employed' = NaN, maka kolom 'total_income' = NaN\n",
        "\n",
        "\n",
        "\n",
        "---------\n",
        "\n",
        "\n",
        "Persentase nilai yang hilang adalah sekitar 10% (2174/21525), 10.09% to be exact. Menurut expert data, kehilangan 10% data akan membuat analisis menjadi bias(5% masih di tolerir) maka harus dicari penyebab kenapa data tsb hilang dan akan di isi valuenya\n",
        "\n",
        "\n",
        "\n",
        "\n",
        "---------\n",
        "\n",
        "\n",
        "Langkah selanjutnya adalah mencari penyebab kenapa data tsb hilang\n",
        "\n",
        "----"
      ]
    },
    {
      "cell_type": "markdown",
      "metadata": {
        "id": "cL4uHoJqAKGa"
      },
      "source": [
        "\n",
        "\n",
        "Analisis baru:\n",
        "    \n",
        "<br/> \n",
        "\n",
        "1.  Jika kolom 'days_employed' = NaN, maka kolom 'total_income' = NaN. ini dapat dilihat pada cell diatas dengan command membuat tabel yg isinya days_employed = null & total income = null. Total baris yang dihasilkan adalah 2174 atau sama dengan jumlah baris yang hilang pada dua kolom tersebut\n",
        "2. Data yang hilang adalah sebanyak 2174/21525 (10.09%). Jika <5% data yang hilang data tersebut dapat di-exclude. Rujukan : https://pressbooks.library.upei.ca/montelpare/chapter/working-with-missing-data/\n",
        "3. Akan dicari menyebab hilangnya data tersebut\n",
        "\n"
      ]
    },
    {
      "cell_type": "code",
      "execution_count": null,
      "metadata": {
        "id": "pIihkNgbAKGa",
        "outputId": "76c5a1b8-f877-472a-9667-8a986c8eb1de"
      },
      "outputs": [
        {
          "data": {
            "text/html": [
              "<div>\n",
              "<style scoped>\n",
              "    .dataframe tbody tr th:only-of-type {\n",
              "        vertical-align: middle;\n",
              "    }\n",
              "\n",
              "    .dataframe tbody tr th {\n",
              "        vertical-align: top;\n",
              "    }\n",
              "\n",
              "    .dataframe thead th {\n",
              "        text-align: right;\n",
              "    }\n",
              "</style>\n",
              "<table border=\"1\" class=\"dataframe\">\n",
              "  <thead>\n",
              "    <tr style=\"text-align: right;\">\n",
              "      <th></th>\n",
              "      <th>children</th>\n",
              "      <th>days_employed</th>\n",
              "      <th>dob_years</th>\n",
              "      <th>education</th>\n",
              "      <th>education_id</th>\n",
              "      <th>family_status</th>\n",
              "      <th>family_status_id</th>\n",
              "      <th>gender</th>\n",
              "      <th>income_type</th>\n",
              "      <th>debt</th>\n",
              "      <th>total_income</th>\n",
              "      <th>purpose</th>\n",
              "    </tr>\n",
              "  </thead>\n",
              "  <tbody>\n",
              "    <tr>\n",
              "      <th>12</th>\n",
              "      <td>0</td>\n",
              "      <td>NaN</td>\n",
              "      <td>65</td>\n",
              "      <td>secondary education</td>\n",
              "      <td>1</td>\n",
              "      <td>civil partnership</td>\n",
              "      <td>1</td>\n",
              "      <td>M</td>\n",
              "      <td>retiree</td>\n",
              "      <td>0</td>\n",
              "      <td>NaN</td>\n",
              "      <td>to have a wedding</td>\n",
              "    </tr>\n",
              "    <tr>\n",
              "      <th>26</th>\n",
              "      <td>0</td>\n",
              "      <td>NaN</td>\n",
              "      <td>41</td>\n",
              "      <td>secondary education</td>\n",
              "      <td>1</td>\n",
              "      <td>married</td>\n",
              "      <td>0</td>\n",
              "      <td>M</td>\n",
              "      <td>civil servant</td>\n",
              "      <td>0</td>\n",
              "      <td>NaN</td>\n",
              "      <td>education</td>\n",
              "    </tr>\n",
              "    <tr>\n",
              "      <th>29</th>\n",
              "      <td>0</td>\n",
              "      <td>NaN</td>\n",
              "      <td>63</td>\n",
              "      <td>secondary education</td>\n",
              "      <td>1</td>\n",
              "      <td>unmarried</td>\n",
              "      <td>4</td>\n",
              "      <td>F</td>\n",
              "      <td>retiree</td>\n",
              "      <td>0</td>\n",
              "      <td>NaN</td>\n",
              "      <td>building a real estate</td>\n",
              "    </tr>\n",
              "    <tr>\n",
              "      <th>41</th>\n",
              "      <td>0</td>\n",
              "      <td>NaN</td>\n",
              "      <td>50</td>\n",
              "      <td>secondary education</td>\n",
              "      <td>1</td>\n",
              "      <td>married</td>\n",
              "      <td>0</td>\n",
              "      <td>F</td>\n",
              "      <td>civil servant</td>\n",
              "      <td>0</td>\n",
              "      <td>NaN</td>\n",
              "      <td>second-hand car purchase</td>\n",
              "    </tr>\n",
              "    <tr>\n",
              "      <th>55</th>\n",
              "      <td>0</td>\n",
              "      <td>NaN</td>\n",
              "      <td>54</td>\n",
              "      <td>secondary education</td>\n",
              "      <td>1</td>\n",
              "      <td>civil partnership</td>\n",
              "      <td>1</td>\n",
              "      <td>F</td>\n",
              "      <td>retiree</td>\n",
              "      <td>1</td>\n",
              "      <td>NaN</td>\n",
              "      <td>to have a wedding</td>\n",
              "    </tr>\n",
              "    <tr>\n",
              "      <th>65</th>\n",
              "      <td>0</td>\n",
              "      <td>NaN</td>\n",
              "      <td>21</td>\n",
              "      <td>secondary education</td>\n",
              "      <td>1</td>\n",
              "      <td>unmarried</td>\n",
              "      <td>4</td>\n",
              "      <td>M</td>\n",
              "      <td>business</td>\n",
              "      <td>0</td>\n",
              "      <td>NaN</td>\n",
              "      <td>transactions with commercial real estate</td>\n",
              "    </tr>\n",
              "    <tr>\n",
              "      <th>67</th>\n",
              "      <td>0</td>\n",
              "      <td>NaN</td>\n",
              "      <td>52</td>\n",
              "      <td>bachelor's degree</td>\n",
              "      <td>0</td>\n",
              "      <td>married</td>\n",
              "      <td>0</td>\n",
              "      <td>F</td>\n",
              "      <td>retiree</td>\n",
              "      <td>0</td>\n",
              "      <td>NaN</td>\n",
              "      <td>purchase of the house for my family</td>\n",
              "    </tr>\n",
              "    <tr>\n",
              "      <th>72</th>\n",
              "      <td>1</td>\n",
              "      <td>NaN</td>\n",
              "      <td>32</td>\n",
              "      <td>bachelor's degree</td>\n",
              "      <td>0</td>\n",
              "      <td>married</td>\n",
              "      <td>0</td>\n",
              "      <td>M</td>\n",
              "      <td>civil servant</td>\n",
              "      <td>0</td>\n",
              "      <td>NaN</td>\n",
              "      <td>transactions with commercial real estate</td>\n",
              "    </tr>\n",
              "    <tr>\n",
              "      <th>82</th>\n",
              "      <td>2</td>\n",
              "      <td>NaN</td>\n",
              "      <td>50</td>\n",
              "      <td>bachelor's degree</td>\n",
              "      <td>0</td>\n",
              "      <td>married</td>\n",
              "      <td>0</td>\n",
              "      <td>F</td>\n",
              "      <td>employee</td>\n",
              "      <td>0</td>\n",
              "      <td>NaN</td>\n",
              "      <td>housing</td>\n",
              "    </tr>\n",
              "    <tr>\n",
              "      <th>83</th>\n",
              "      <td>0</td>\n",
              "      <td>NaN</td>\n",
              "      <td>52</td>\n",
              "      <td>secondary education</td>\n",
              "      <td>1</td>\n",
              "      <td>married</td>\n",
              "      <td>0</td>\n",
              "      <td>M</td>\n",
              "      <td>employee</td>\n",
              "      <td>0</td>\n",
              "      <td>NaN</td>\n",
              "      <td>housing</td>\n",
              "    </tr>\n",
              "  </tbody>\n",
              "</table>\n",
              "</div>"
            ],
            "text/plain": [
              "    children  days_employed  dob_years            education  education_id  \\\n",
              "12         0            NaN         65  secondary education             1   \n",
              "26         0            NaN         41  secondary education             1   \n",
              "29         0            NaN         63  secondary education             1   \n",
              "41         0            NaN         50  secondary education             1   \n",
              "55         0            NaN         54  secondary education             1   \n",
              "65         0            NaN         21  secondary education             1   \n",
              "67         0            NaN         52    bachelor's degree             0   \n",
              "72         1            NaN         32    bachelor's degree             0   \n",
              "82         2            NaN         50    bachelor's degree             0   \n",
              "83         0            NaN         52  secondary education             1   \n",
              "\n",
              "        family_status  family_status_id gender    income_type  debt  \\\n",
              "12  civil partnership                 1      M        retiree     0   \n",
              "26            married                 0      M  civil servant     0   \n",
              "29          unmarried                 4      F        retiree     0   \n",
              "41            married                 0      F  civil servant     0   \n",
              "55  civil partnership                 1      F        retiree     1   \n",
              "65          unmarried                 4      M       business     0   \n",
              "67            married                 0      F        retiree     0   \n",
              "72            married                 0      M  civil servant     0   \n",
              "82            married                 0      F       employee     0   \n",
              "83            married                 0      M       employee     0   \n",
              "\n",
              "    total_income                                   purpose  \n",
              "12           NaN                         to have a wedding  \n",
              "26           NaN                                 education  \n",
              "29           NaN                    building a real estate  \n",
              "41           NaN                  second-hand car purchase  \n",
              "55           NaN                         to have a wedding  \n",
              "65           NaN  transactions with commercial real estate  \n",
              "67           NaN       purchase of the house for my family  \n",
              "72           NaN  transactions with commercial real estate  \n",
              "82           NaN                                   housing  \n",
              "83           NaN                                   housing  "
            ]
          },
          "execution_count": 9,
          "metadata": {},
          "output_type": "execute_result"
        }
      ],
      "source": [
        "# Mari kita periksa nasabah yang tidak memiliki data tentang karakteristik yang teridentifikasi dan kolom dengan nilai yang hilang\n",
        "\n",
        "df[df['days_employed'].isna() & df['total_income'].isna()].head(n=10)"
      ]
    },
    {
      "cell_type": "markdown",
      "metadata": {
        "id": "Lqhk60xpAKGb"
      },
      "source": [
        "**Membuat tabel baru yang hanya berisi missing value untuk mengecek distribusinya**"
      ]
    },
    {
      "cell_type": "code",
      "execution_count": null,
      "metadata": {
        "id": "gkb0cX_8AKGb"
      },
      "outputs": [],
      "source": [
        "nan_columns = df[df['days_employed'].isna() & df['total_income'].isna()]\n",
        "\n",
        "# Membuat tabel baru yang hanya berisi missing value dari 'days_employed' dan 'total_income'"
      ]
    },
    {
      "cell_type": "code",
      "execution_count": null,
      "metadata": {
        "id": "36oBcffPAKGb",
        "outputId": "a1eb2b48-27c3-495e-ed14-a98930d94b5b"
      },
      "outputs": [
        {
          "name": "stdout",
          "output_type": "stream",
          "text": [
            "<class 'pandas.core.frame.DataFrame'>\n",
            "Int64Index: 2174 entries, 12 to 21510\n",
            "Data columns (total 12 columns):\n",
            " #   Column            Non-Null Count  Dtype  \n",
            "---  ------            --------------  -----  \n",
            " 0   children          2174 non-null   int64  \n",
            " 1   days_employed     0 non-null      float64\n",
            " 2   dob_years         2174 non-null   int64  \n",
            " 3   education         2174 non-null   object \n",
            " 4   education_id      2174 non-null   int64  \n",
            " 5   family_status     2174 non-null   object \n",
            " 6   family_status_id  2174 non-null   int64  \n",
            " 7   gender            2174 non-null   object \n",
            " 8   income_type       2174 non-null   object \n",
            " 9   debt              2174 non-null   int64  \n",
            " 10  total_income      0 non-null      float64\n",
            " 11  purpose           2174 non-null   object \n",
            "dtypes: float64(2), int64(5), object(5)\n",
            "memory usage: 220.8+ KB\n"
          ]
        }
      ],
      "source": [
        "nan_columns.info()"
      ]
    },
    {
      "cell_type": "code",
      "execution_count": null,
      "metadata": {
        "scrolled": false,
        "id": "W4SHh_J1AKGc",
        "outputId": "e7d452d6-38f8-4475-b6e5-47bcbae6dd46"
      },
      "outputs": [
        {
          "data": {
            "text/plain": [
              " 0     0.661914\n",
              " 1     0.218491\n",
              " 2     0.093836\n",
              " 3     0.016559\n",
              " 20    0.004140\n",
              " 4     0.003220\n",
              "-1     0.001380\n",
              " 5     0.000460\n",
              "Name: children, dtype: float64"
            ]
          },
          "execution_count": 12,
          "metadata": {},
          "output_type": "execute_result"
        }
      ],
      "source": [
        "# Periksalah distribusinya\n",
        "\n",
        "nan_columns['children'].value_counts(normalize = True)\n",
        "# Memeriksa distribusi kolom children"
      ]
    },
    {
      "cell_type": "markdown",
      "metadata": {
        "id": "h59tSViiAKGc"
      },
      "source": [
        "\n",
        "\n",
        "Analisis pada tabel missing value, kolom `children`\n",
        "    \n",
        "Dari 2174 data, kolom children didominasi oleh children = 0. Dan children = 5 berada di posisi terendah.\n",
        "\n"
      ]
    },
    {
      "cell_type": "code",
      "execution_count": null,
      "metadata": {
        "scrolled": true,
        "id": "MVo-MuWRAKGc",
        "outputId": "3a1cb9d0-3801-4ff7-edcc-e8faa1c36023"
      },
      "outputs": [
        {
          "data": {
            "text/plain": [
              "34    0.031739\n",
              "40    0.030359\n",
              "31    0.029899\n",
              "42    0.029899\n",
              "35    0.029439\n",
              "36    0.028979\n",
              "47    0.027139\n",
              "41    0.027139\n",
              "30    0.026679\n",
              "28    0.026219\n",
              "57    0.025759\n",
              "58    0.025759\n",
              "54    0.025299\n",
              "38    0.024839\n",
              "56    0.024839\n",
              "37    0.024379\n",
              "52    0.024379\n",
              "39    0.023459\n",
              "33    0.023459\n",
              "50    0.023459\n",
              "51    0.022999\n",
              "45    0.022999\n",
              "49    0.022999\n",
              "29    0.022999\n",
              "43    0.022999\n",
              "46    0.022079\n",
              "55    0.022079\n",
              "48    0.021159\n",
              "53    0.020239\n",
              "44    0.020239\n",
              "60    0.017939\n",
              "61    0.017479\n",
              "62    0.017479\n",
              "64    0.017019\n",
              "32    0.017019\n",
              "27    0.016559\n",
              "23    0.016559\n",
              "26    0.016099\n",
              "59    0.015639\n",
              "63    0.013339\n",
              "25    0.010580\n",
              "24    0.009660\n",
              "66    0.009200\n",
              "65    0.009200\n",
              "21    0.008280\n",
              "22    0.007820\n",
              "67    0.007360\n",
              "0     0.004600\n",
              "68    0.004140\n",
              "69    0.002300\n",
              "20    0.002300\n",
              "71    0.002300\n",
              "70    0.001380\n",
              "72    0.000920\n",
              "19    0.000460\n",
              "73    0.000460\n",
              "Name: dob_years, dtype: float64"
            ]
          },
          "execution_count": 13,
          "metadata": {},
          "output_type": "execute_result"
        }
      ],
      "source": [
        "nan_columns['dob_years'].value_counts(normalize = True)\n",
        "\n",
        "# Memeriksa distribusi kolom dob_years"
      ]
    },
    {
      "cell_type": "markdown",
      "metadata": {
        "id": "WnMRG8I8AKGd"
      },
      "source": [
        "\n",
        "\n",
        "Analisis pada tabel missing value, kolom `dob_years`\n",
        "    \n",
        "Dari 2174 data, kolom ini memiliki 56 nilai unik. 10 data teratas didominasi umur dengan range 28-47 dan 10 data terbawah didominasi umur 67 - 73 dan umur 19-20. Ada juga umur 0 yang mana dapat dikatakan kesalahan data.\n",
        "\n"
      ]
    },
    {
      "cell_type": "code",
      "execution_count": null,
      "metadata": {
        "scrolled": true,
        "id": "c8jd4A6OAKGd",
        "outputId": "b0fdb3e1-a549-4340-f0ff-b422856eb7d3"
      },
      "outputs": [
        {
          "data": {
            "text/plain": [
              "secondary education    0.647654\n",
              "bachelor's degree      0.228151\n",
              "SECONDARY EDUCATION    0.030819\n",
              "Secondary Education    0.029899\n",
              "some college           0.025299\n",
              "Bachelor's Degree      0.011500\n",
              "BACHELOR'S DEGREE      0.010580\n",
              "primary education      0.008740\n",
              "Some College           0.003220\n",
              "SOME COLLEGE           0.003220\n",
              "PRIMARY EDUCATION      0.000460\n",
              "Primary Education      0.000460\n",
              "Name: education, dtype: float64"
            ]
          },
          "execution_count": 14,
          "metadata": {},
          "output_type": "execute_result"
        }
      ],
      "source": [
        "nan_columns['education'].value_counts(normalize = True)\n",
        "\n",
        "# Memeriksa distribusi kolom education"
      ]
    },
    {
      "cell_type": "markdown",
      "metadata": {
        "id": "dy8x0gBHAKGd"
      },
      "source": [
        "\n",
        "\n",
        "Analisis pada tabel missing value, kolom `education`\n",
        "    \n",
        "Dari 2174 data, value secondary education berada pada posisi paling atas dan primary education berada di posisi terbawah. Data ini harus di rapihkan terlebih dahulu, proses merapikan data akan dilakukan pada chapter transformasi data\n",
        "\n"
      ]
    },
    {
      "cell_type": "code",
      "execution_count": null,
      "metadata": {
        "id": "1TN7kQKXAKGe",
        "outputId": "1e7e3135-92c0-4682-a2d0-3e987e880797"
      },
      "outputs": [
        {
          "data": {
            "text/plain": [
              "married              0.568997\n",
              "civil partnership    0.203312\n",
              "unmarried            0.132475\n",
              "divorced             0.051518\n",
              "widow / widower      0.043698\n",
              "Name: family_status, dtype: float64"
            ]
          },
          "execution_count": 15,
          "metadata": {},
          "output_type": "execute_result"
        }
      ],
      "source": [
        "nan_columns['family_status'].value_counts(normalize = True)\n",
        "\n",
        "# Memeriksa distribusi kolom family_status"
      ]
    },
    {
      "cell_type": "markdown",
      "metadata": {
        "id": "h1QuFbssAKGe"
      },
      "source": [
        "\n",
        "\n",
        "Analisis pada tabel missing value, kolom `family_status`\n",
        "    \n",
        "Dari 2174 data, kolom ini didominasi oleh married sebanyak 50%\n"
      ]
    },
    {
      "cell_type": "code",
      "execution_count": null,
      "metadata": {
        "id": "VJNMmBFPAKGe",
        "outputId": "f15bca98-d9c2-4e39-d460-55123e449863"
      },
      "outputs": [
        {
          "data": {
            "text/plain": [
              "employee         0.508280\n",
              "business         0.233671\n",
              "retiree          0.189972\n",
              "civil servant    0.067617\n",
              "entrepreneur     0.000460\n",
              "Name: income_type, dtype: float64"
            ]
          },
          "execution_count": 16,
          "metadata": {},
          "output_type": "execute_result"
        }
      ],
      "source": [
        "nan_columns['income_type'].value_counts(normalize = True)\n",
        "\n",
        "# Memeriksa distribusi kolom income_type"
      ]
    },
    {
      "cell_type": "markdown",
      "metadata": {
        "id": "I397dAO3AKGe"
      },
      "source": [
        "\n",
        "\n",
        "Analisis pada tabel missing value, kolom `income_type`\n",
        "    \n",
        "Dari 2174 data, kolom income_type ini didominasi oleh employee. Entrepreneur variable yang paling sedikit pada kolom ini\n",
        "\n"
      ]
    },
    {
      "cell_type": "code",
      "execution_count": null,
      "metadata": {
        "id": "EQhEfjd5AKGf",
        "outputId": "fae24201-d832-4651-8a59-e380b7bfbbde"
      },
      "outputs": [
        {
          "data": {
            "text/plain": [
              "0    2004\n",
              "1     170\n",
              "Name: debt, dtype: int64"
            ]
          },
          "execution_count": 17,
          "metadata": {},
          "output_type": "execute_result"
        }
      ],
      "source": [
        "nan_columns['debt'].value_counts()\n",
        "\n",
        "# Memeriksa distribusi kolom debt"
      ]
    },
    {
      "cell_type": "markdown",
      "metadata": {
        "id": "V86ktvflAKGf"
      },
      "source": [
        "\n",
        "\n",
        "Analisis pada tabel missing value, kolom `debt`\n",
        "    \n",
        "Dari 2174 data, nasabah yang gagal membayar kredit hanya sekitar 7%\n",
        "\n"
      ]
    },
    {
      "cell_type": "markdown",
      "metadata": {
        "id": "8iv9KCxZAKGf"
      },
      "source": [
        "\n",
        "\n",
        "Berdasarkan tabel yang berisi missing value dari days_employed dan total_income di atas. Dapat dilihat bahwa:\n",
        "\n",
        "1. Tabel yang hilang ini didominasi oleh children = 0\n",
        "2. Value missing berdasarkan dob_years lumayan terdistribusi\n",
        "3. Tabel yang hilang ini didominasi oleh 'education' = 'secondary education'\n",
        "4. Tabel yang hilang ini didominasi oleh 'family_status' = 'married'\n",
        "5. Tabel yang hilang ini didominasi oleh dengan 'income_type' = 'employee'\n",
        "\n",
        "------\n",
        "\n",
        "Gagasan sementara yaitu data hilang secara **random**. Dikarenakan tidak ada pola yang dapat di ambil dari distribusi tabel yang berisi missing values\n",
        "\n"
      ]
    },
    {
      "cell_type": "code",
      "execution_count": null,
      "metadata": {
        "id": "d-xHI8pmAKGg",
        "outputId": "5a92ec1a-177a-47a2-9bbe-d0f599623ae4"
      },
      "outputs": [
        {
          "name": "stdout",
          "output_type": "stream",
          "text": [
            "<class 'pandas.core.frame.DataFrame'>\n",
            "RangeIndex: 21525 entries, 0 to 21524\n",
            "Data columns (total 12 columns):\n",
            " #   Column            Non-Null Count  Dtype  \n",
            "---  ------            --------------  -----  \n",
            " 0   children          21525 non-null  int64  \n",
            " 1   days_employed     19351 non-null  float64\n",
            " 2   dob_years         21525 non-null  int64  \n",
            " 3   education         21525 non-null  object \n",
            " 4   education_id      21525 non-null  int64  \n",
            " 5   family_status     21525 non-null  object \n",
            " 6   family_status_id  21525 non-null  int64  \n",
            " 7   gender            21525 non-null  object \n",
            " 8   income_type       21525 non-null  object \n",
            " 9   debt              21525 non-null  int64  \n",
            " 10  total_income      19351 non-null  float64\n",
            " 11  purpose           21525 non-null  object \n",
            "dtypes: float64(2), int64(5), object(5)\n",
            "memory usage: 2.0+ MB\n"
          ]
        }
      ],
      "source": [
        "df.info()"
      ]
    },
    {
      "cell_type": "code",
      "execution_count": null,
      "metadata": {
        "scrolled": true,
        "id": "6a7M4HmpAKGg",
        "outputId": "b205b9e4-290d-4c6c-9a3a-330bd2aebbb0"
      },
      "outputs": [
        {
          "data": {
            "text/plain": [
              " 0     0.657329\n",
              " 1     0.223833\n",
              " 2     0.095470\n",
              " 3     0.015331\n",
              " 20    0.003531\n",
              "-1     0.002184\n",
              " 4     0.001905\n",
              " 5     0.000418\n",
              "Name: children, dtype: float64"
            ]
          },
          "execution_count": 19,
          "metadata": {},
          "output_type": "execute_result"
        }
      ],
      "source": [
        "# Memeriksa distribusi di seluruh *dataset*\n",
        "df['children'].value_counts(normalize = True)\n",
        "\n",
        "# Memeriksa distribusi seluruh dataset pada kolom children"
      ]
    },
    {
      "cell_type": "markdown",
      "metadata": {
        "id": "4GbEVoF4AKGh"
      },
      "source": [
        "mengecek distribusi dari **seluruh dataset**\n",
        " \n",
        "Analisis pada selurus dataset kolom `children`\n",
        "    \n",
        "Dari total 21525 baris, kolom children ini didominasi variabel 0\n",
        "    \n"
      ]
    },
    {
      "cell_type": "code",
      "execution_count": null,
      "metadata": {
        "id": "xOzLgw5hAKGh",
        "outputId": "5cdb937d-d912-46d6-df72-3555865dcb3e"
      },
      "outputs": [
        {
          "data": {
            "text/plain": [
              "35    617\n",
              "40    609\n",
              "41    607\n",
              "34    603\n",
              "38    598\n",
              "42    597\n",
              "33    581\n",
              "39    573\n",
              "31    560\n",
              "36    555\n",
              "44    547\n",
              "29    545\n",
              "30    540\n",
              "48    538\n",
              "37    537\n",
              "50    514\n",
              "43    513\n",
              "32    510\n",
              "49    508\n",
              "28    503\n",
              "45    497\n",
              "27    493\n",
              "56    487\n",
              "52    484\n",
              "47    480\n",
              "54    479\n",
              "46    475\n",
              "58    461\n",
              "57    460\n",
              "53    459\n",
              "51    448\n",
              "59    444\n",
              "55    443\n",
              "26    408\n",
              "60    377\n",
              "25    357\n",
              "61    355\n",
              "62    352\n",
              "63    269\n",
              "64    265\n",
              "24    264\n",
              "23    254\n",
              "65    194\n",
              "66    183\n",
              "22    183\n",
              "67    167\n",
              "21    111\n",
              "0     101\n",
              "68     99\n",
              "69     85\n",
              "70     65\n",
              "71     58\n",
              "20     51\n",
              "72     33\n",
              "19     14\n",
              "73      8\n",
              "74      6\n",
              "75      1\n",
              "Name: dob_years, dtype: int64"
            ]
          },
          "execution_count": 20,
          "metadata": {},
          "output_type": "execute_result"
        }
      ],
      "source": [
        "df['dob_years'].value_counts()\n",
        "\n",
        "# Memeriksa distribusi seluruh dataset pada kolom dob_years"
      ]
    },
    {
      "cell_type": "markdown",
      "metadata": {
        "id": "k1D2EFwQAKGh"
      },
      "source": [
        "mengecek distribusi dari **seluruh dataset**   \n",
        " \n",
        "Analisis pada selurus dataset kolom `dob_years`:\n",
        "    \n",
        "Distribusi pada kolom ini mirip dengan distribusi pada tabel yang berisi missing value di atas. Pada posisi atas didominasi nasabah yang berusia 30-48 tahun dan pada posisi bawah didominasi oleh nasabah yang berusia 19-20 dan 60-75 tahun\n",
        "    \n"
      ]
    },
    {
      "cell_type": "code",
      "execution_count": null,
      "metadata": {
        "id": "5phQsyBMAKGh",
        "outputId": "a390a2ee-3fef-47f8-81e1-1cf6c7bbcb49"
      },
      "outputs": [
        {
          "data": {
            "text/plain": [
              "secondary education    0.638792\n",
              "bachelor's degree      0.219187\n",
              "SECONDARY EDUCATION    0.035865\n",
              "Secondary Education    0.033031\n",
              "some college           0.031034\n",
              "BACHELOR'S DEGREE      0.012729\n",
              "Bachelor's Degree      0.012451\n",
              "primary education      0.011614\n",
              "Some College           0.002184\n",
              "SOME COLLEGE           0.001347\n",
              "PRIMARY EDUCATION      0.000790\n",
              "Primary Education      0.000697\n",
              "graduate degree        0.000186\n",
              "GRADUATE DEGREE        0.000046\n",
              "Graduate Degree        0.000046\n",
              "Name: education, dtype: float64"
            ]
          },
          "execution_count": 21,
          "metadata": {},
          "output_type": "execute_result"
        }
      ],
      "source": [
        "df['education'].value_counts(normalize = True)\n",
        "\n",
        "# Memeriksa distribusi seluruh dataset pada kolom education"
      ]
    },
    {
      "cell_type": "markdown",
      "metadata": {
        "id": "cyuodYm2AKGi"
      },
      "source": [
        "mengecek distribusi dari **seluruh dataset**  \n",
        " \n",
        "Analisis pada selurus dataset kolom `education`:\n",
        "    \n",
        "Kolom ini didominasi oleh variable secondary education dengan persentase 63% dari total data yang ada\n",
        "    \n"
      ]
    },
    {
      "cell_type": "code",
      "execution_count": null,
      "metadata": {
        "scrolled": true,
        "id": "TNYFqNBpAKGi",
        "outputId": "b6cd22f1-9eb8-477e-f015-f762cc840c9c"
      },
      "outputs": [
        {
          "data": {
            "text/plain": [
              "married              0.575145\n",
              "civil partnership    0.194053\n",
              "unmarried            0.130685\n",
              "divorced             0.055517\n",
              "widow / widower      0.044599\n",
              "Name: family_status, dtype: float64"
            ]
          },
          "execution_count": 22,
          "metadata": {},
          "output_type": "execute_result"
        }
      ],
      "source": [
        "df['family_status'].value_counts(normalize = True)\n",
        "\n",
        "# Memeriksa distribusi seluruh dataset pada kolom family_status"
      ]
    },
    {
      "cell_type": "markdown",
      "metadata": {
        "id": "GmhFr5gbAKGj"
      },
      "source": [
        "mengecek distribusi dari **seluruh dataset** \n",
        " \n",
        "Analisis pada selurus dataset kolom `family_status`:\n",
        "    \n",
        "Kolom ini didominasi oleh variable married dan variable widow berada di posisi terbawah, distribusi ini mirip seperti tabel dengan missing value sebelumnya\n",
        "    \n"
      ]
    },
    {
      "cell_type": "code",
      "execution_count": null,
      "metadata": {
        "id": "Ne-BU9ZKAKGj",
        "outputId": "27e5b7ef-8630-428a-ffc7-f0305a4494e5"
      },
      "outputs": [
        {
          "data": {
            "text/plain": [
              "employee                       0.516562\n",
              "business                       0.236237\n",
              "retiree                        0.179141\n",
              "civil servant                  0.067782\n",
              "entrepreneur                   0.000093\n",
              "unemployed                     0.000093\n",
              "paternity / maternity leave    0.000046\n",
              "student                        0.000046\n",
              "Name: income_type, dtype: float64"
            ]
          },
          "execution_count": 23,
          "metadata": {},
          "output_type": "execute_result"
        }
      ],
      "source": [
        "df['income_type'].value_counts(normalize = True)\n",
        "\n",
        "# Memeriksa distribusi seluruh dataset pada kolom income_type"
      ]
    },
    {
      "cell_type": "markdown",
      "metadata": {
        "id": "Gd78q1PuAKGj"
      },
      "source": [
        "mengecek distribusi dari **seluruh dataset**   \n",
        " \n",
        "Analisis pada selurus dataset kolom `income_type`:\n",
        "    \n",
        "Kolom ini didominasi variable employee sebesar 51% dari total data\n",
        "    \n"
      ]
    },
    {
      "cell_type": "code",
      "execution_count": null,
      "metadata": {
        "scrolled": true,
        "id": "PqvOZZfcAKGk",
        "outputId": "9df1a24b-5496-4cee-e0c1-d9dcb0cc0642"
      },
      "outputs": [
        {
          "data": {
            "text/plain": [
              "0    19784\n",
              "1     1741\n",
              "Name: debt, dtype: int64"
            ]
          },
          "execution_count": 24,
          "metadata": {},
          "output_type": "execute_result"
        }
      ],
      "source": [
        "df['debt'].value_counts()\n",
        "\n",
        "# Memeriksa distribusi seluruh data set pada kolom debt"
      ]
    },
    {
      "cell_type": "markdown",
      "metadata": {
        "id": "zk-zrqK0AKGk"
      },
      "source": [
        "mengecek distribusi dari **seluruh dataset**   \n",
        " \n",
        "Analisis pada selurus dataset kolom `income_type`:\n",
        "    \n",
        "Sama seperti tabel dengan missing value sebelumnya, tabel ini didominasi dengan nasabah yang tidak memiliki riwayat gagal membayar kredit\n",
        "    \n"
      ]
    },
    {
      "cell_type": "markdown",
      "metadata": {
        "id": "ZxKs3eHeAKGk"
      },
      "source": [
        "\n",
        "\n",
        "Setelah melihat distribusi **seluruh dataset** dan membandingkannya dengan **tabel yang berisi missing value**, saya melihat bahwa distribusi dari kedua tabel ini mirip. Hanya ada beberapa perbedaan contohnya pada kolom `education`. Hal ini memperkuat kesimpulan bahwa data ini hilang secara random \n",
        "\n",
        "----\n",
        "\n",
        "\n",
        "\n",
        "Karena ada perbedaan distribusi pada kolom `education` maka saya akan melakukan pengecekan ulang pada kolom ini\n",
        "\n",
        "-----"
      ]
    },
    {
      "cell_type": "code",
      "execution_count": null,
      "metadata": {
        "id": "JT6AEiHJAKGl",
        "outputId": "2e6b14b7-369b-4498-c54a-4238522bd706"
      },
      "outputs": [
        {
          "data": {
            "text/plain": [
              "12"
            ]
          },
          "execution_count": 25,
          "metadata": {},
          "output_type": "execute_result"
        }
      ],
      "source": [
        "# Periksa penyebab dan pola lain yang dapat mengakibatkan nilai yang hilang\n",
        "# Memeriksa nilai unik education pada dataframe yang berisi missing value\n",
        "\n",
        "df[df['total_income'].isna()]['education'].nunique()"
      ]
    },
    {
      "cell_type": "code",
      "execution_count": null,
      "metadata": {
        "id": "QvPqYNyeAKGl",
        "outputId": "62dedae9-005d-4ac9-b4fc-21c4af912eb1"
      },
      "outputs": [
        {
          "data": {
            "text/plain": [
              "15"
            ]
          },
          "execution_count": 26,
          "metadata": {},
          "output_type": "execute_result"
        }
      ],
      "source": [
        "# Memeriksa nilai unik education pada dataframe yang tidak memiliki missing value\n",
        "\n",
        "df[df['total_income'].notnull()]['education'].nunique()"
      ]
    },
    {
      "cell_type": "markdown",
      "metadata": {
        "id": "1vU_vNhPAKGl"
      },
      "source": [
        "\n",
        "\n",
        "-------\n",
        "\n",
        "Hasil nilai unik kedua tabel ini berbeda tetapi ini tidak dapat jadi patokan apakah ada pola missing value yang terdapat pada kolom ini karena kolom ini memiliki variable yang sama hanya saja ada yang tulis menggunakan uppercase dan lowercase. Kesimpulan saya pada titik ini tetap sama yaitu kehilangan data ini terjadi secara random\n",
        "\n",
        "---------"
      ]
    },
    {
      "cell_type": "markdown",
      "metadata": {
        "id": "UoGYhJ3JAKGm"
      },
      "source": [
        "\n",
        "\n",
        "Nilai unik education pada baris yang hilang lebih sedikit. Tapi ini tidak dapat jadi acuan karena nilai unik pada kolom education belum dirapihkan karena masih ada karakter yang bukan lowercase\n",
        "\n"
      ]
    },
    {
      "cell_type": "code",
      "execution_count": null,
      "metadata": {
        "scrolled": true,
        "id": "1LLavA8hAKGm",
        "outputId": "e5beed38-b617-4862-f03f-83cd8121b27a"
      },
      "outputs": [
        {
          "data": {
            "text/html": [
              "<div>\n",
              "<style scoped>\n",
              "    .dataframe tbody tr th:only-of-type {\n",
              "        vertical-align: middle;\n",
              "    }\n",
              "\n",
              "    .dataframe tbody tr th {\n",
              "        vertical-align: top;\n",
              "    }\n",
              "\n",
              "    .dataframe thead th {\n",
              "        text-align: right;\n",
              "    }\n",
              "</style>\n",
              "<table border=\"1\" class=\"dataframe\">\n",
              "  <thead>\n",
              "    <tr style=\"text-align: right;\">\n",
              "      <th></th>\n",
              "      <th>children</th>\n",
              "      <th>days_employed</th>\n",
              "      <th>dob_years</th>\n",
              "      <th>education</th>\n",
              "      <th>education_id</th>\n",
              "      <th>family_status</th>\n",
              "      <th>family_status_id</th>\n",
              "      <th>gender</th>\n",
              "      <th>income_type</th>\n",
              "      <th>debt</th>\n",
              "      <th>total_income</th>\n",
              "      <th>purpose</th>\n",
              "    </tr>\n",
              "  </thead>\n",
              "  <tbody>\n",
              "    <tr>\n",
              "      <th>1890</th>\n",
              "      <td>0</td>\n",
              "      <td>NaN</td>\n",
              "      <td>0</td>\n",
              "      <td>bachelor's degree</td>\n",
              "      <td>0</td>\n",
              "      <td>unmarried</td>\n",
              "      <td>4</td>\n",
              "      <td>F</td>\n",
              "      <td>employee</td>\n",
              "      <td>0</td>\n",
              "      <td>NaN</td>\n",
              "      <td>housing</td>\n",
              "    </tr>\n",
              "    <tr>\n",
              "      <th>2284</th>\n",
              "      <td>0</td>\n",
              "      <td>NaN</td>\n",
              "      <td>0</td>\n",
              "      <td>secondary education</td>\n",
              "      <td>1</td>\n",
              "      <td>widow / widower</td>\n",
              "      <td>2</td>\n",
              "      <td>F</td>\n",
              "      <td>retiree</td>\n",
              "      <td>0</td>\n",
              "      <td>NaN</td>\n",
              "      <td>property</td>\n",
              "    </tr>\n",
              "    <tr>\n",
              "      <th>4064</th>\n",
              "      <td>1</td>\n",
              "      <td>NaN</td>\n",
              "      <td>0</td>\n",
              "      <td>secondary education</td>\n",
              "      <td>1</td>\n",
              "      <td>civil partnership</td>\n",
              "      <td>1</td>\n",
              "      <td>M</td>\n",
              "      <td>business</td>\n",
              "      <td>0</td>\n",
              "      <td>NaN</td>\n",
              "      <td>housing renovation</td>\n",
              "    </tr>\n",
              "    <tr>\n",
              "      <th>5014</th>\n",
              "      <td>0</td>\n",
              "      <td>NaN</td>\n",
              "      <td>0</td>\n",
              "      <td>secondary education</td>\n",
              "      <td>1</td>\n",
              "      <td>married</td>\n",
              "      <td>0</td>\n",
              "      <td>F</td>\n",
              "      <td>business</td>\n",
              "      <td>0</td>\n",
              "      <td>NaN</td>\n",
              "      <td>buy real estate</td>\n",
              "    </tr>\n",
              "    <tr>\n",
              "      <th>6411</th>\n",
              "      <td>0</td>\n",
              "      <td>NaN</td>\n",
              "      <td>0</td>\n",
              "      <td>bachelor's degree</td>\n",
              "      <td>0</td>\n",
              "      <td>civil partnership</td>\n",
              "      <td>1</td>\n",
              "      <td>F</td>\n",
              "      <td>retiree</td>\n",
              "      <td>0</td>\n",
              "      <td>NaN</td>\n",
              "      <td>wedding ceremony</td>\n",
              "    </tr>\n",
              "    <tr>\n",
              "      <th>6670</th>\n",
              "      <td>0</td>\n",
              "      <td>NaN</td>\n",
              "      <td>0</td>\n",
              "      <td>Bachelor's Degree</td>\n",
              "      <td>0</td>\n",
              "      <td>divorced</td>\n",
              "      <td>3</td>\n",
              "      <td>F</td>\n",
              "      <td>retiree</td>\n",
              "      <td>0</td>\n",
              "      <td>NaN</td>\n",
              "      <td>buy residential real estate</td>\n",
              "    </tr>\n",
              "    <tr>\n",
              "      <th>8574</th>\n",
              "      <td>0</td>\n",
              "      <td>NaN</td>\n",
              "      <td>0</td>\n",
              "      <td>secondary education</td>\n",
              "      <td>1</td>\n",
              "      <td>married</td>\n",
              "      <td>0</td>\n",
              "      <td>F</td>\n",
              "      <td>employee</td>\n",
              "      <td>0</td>\n",
              "      <td>NaN</td>\n",
              "      <td>property</td>\n",
              "    </tr>\n",
              "    <tr>\n",
              "      <th>12403</th>\n",
              "      <td>3</td>\n",
              "      <td>NaN</td>\n",
              "      <td>0</td>\n",
              "      <td>secondary education</td>\n",
              "      <td>1</td>\n",
              "      <td>married</td>\n",
              "      <td>0</td>\n",
              "      <td>M</td>\n",
              "      <td>employee</td>\n",
              "      <td>0</td>\n",
              "      <td>NaN</td>\n",
              "      <td>transactions with commercial real estate</td>\n",
              "    </tr>\n",
              "    <tr>\n",
              "      <th>13741</th>\n",
              "      <td>0</td>\n",
              "      <td>NaN</td>\n",
              "      <td>0</td>\n",
              "      <td>secondary education</td>\n",
              "      <td>1</td>\n",
              "      <td>civil partnership</td>\n",
              "      <td>1</td>\n",
              "      <td>F</td>\n",
              "      <td>employee</td>\n",
              "      <td>0</td>\n",
              "      <td>NaN</td>\n",
              "      <td>having a wedding</td>\n",
              "    </tr>\n",
              "    <tr>\n",
              "      <th>19829</th>\n",
              "      <td>0</td>\n",
              "      <td>NaN</td>\n",
              "      <td>0</td>\n",
              "      <td>secondary education</td>\n",
              "      <td>1</td>\n",
              "      <td>married</td>\n",
              "      <td>0</td>\n",
              "      <td>F</td>\n",
              "      <td>employee</td>\n",
              "      <td>0</td>\n",
              "      <td>NaN</td>\n",
              "      <td>housing</td>\n",
              "    </tr>\n",
              "  </tbody>\n",
              "</table>\n",
              "</div>"
            ],
            "text/plain": [
              "       children  days_employed  dob_years            education  education_id  \\\n",
              "1890          0            NaN          0    bachelor's degree             0   \n",
              "2284          0            NaN          0  secondary education             1   \n",
              "4064          1            NaN          0  secondary education             1   \n",
              "5014          0            NaN          0  secondary education             1   \n",
              "6411          0            NaN          0    bachelor's degree             0   \n",
              "6670          0            NaN          0    Bachelor's Degree             0   \n",
              "8574          0            NaN          0  secondary education             1   \n",
              "12403         3            NaN          0  secondary education             1   \n",
              "13741         0            NaN          0  secondary education             1   \n",
              "19829         0            NaN          0  secondary education             1   \n",
              "\n",
              "           family_status  family_status_id gender income_type  debt  \\\n",
              "1890           unmarried                 4      F    employee     0   \n",
              "2284     widow / widower                 2      F     retiree     0   \n",
              "4064   civil partnership                 1      M    business     0   \n",
              "5014             married                 0      F    business     0   \n",
              "6411   civil partnership                 1      F     retiree     0   \n",
              "6670            divorced                 3      F     retiree     0   \n",
              "8574             married                 0      F    employee     0   \n",
              "12403            married                 0      M    employee     0   \n",
              "13741  civil partnership                 1      F    employee     0   \n",
              "19829            married                 0      F    employee     0   \n",
              "\n",
              "       total_income                                   purpose  \n",
              "1890            NaN                                   housing  \n",
              "2284            NaN                                  property  \n",
              "4064            NaN                        housing renovation  \n",
              "5014            NaN                           buy real estate  \n",
              "6411            NaN                          wedding ceremony  \n",
              "6670            NaN               buy residential real estate  \n",
              "8574            NaN                                  property  \n",
              "12403           NaN  transactions with commercial real estate  \n",
              "13741           NaN                          having a wedding  \n",
              "19829           NaN                                   housing  "
            ]
          },
          "execution_count": 27,
          "metadata": {},
          "output_type": "execute_result"
        }
      ],
      "source": [
        "# Periksa pola lainnya - jelaskan pola tersebut\n",
        "\n",
        "nan_columns[nan_columns['dob_years'] == 0]"
      ]
    },
    {
      "cell_type": "markdown",
      "metadata": {
        "id": "XC3DRURJAKGm"
      },
      "source": [
        "\n",
        "\n",
        "Disini dapat dilihat bahwa ada beberapa nilai null yang kolom dob_years == 0. Tetapi belum bisa dikatakan pola karena parameter ini hanya sebesar 10% dari total dob_years == 0\n",
        "\n",
        "-----\n",
        "\n",
        "\n",
        "\n",
        "Data yang hilang kemungkinan besar akan saya isi dengan rata rata atau mean dengan kolom dob_years sebagai acuan\n",
        "\n",
        "------\n",
        "\n",
        "\n",
        "\n",
        "Drop duplicates, str lower, memperbaiki value yang janggal atau tidak masuk akal, mengisi missing value dengan mean atau median\n"
      ]
    },
    {
      "cell_type": "code",
      "execution_count": null,
      "metadata": {
        "id": "nt6TFnZKAKGn",
        "outputId": "67b7b367-e4a9-4e4e-8c5b-ba2f11141c96"
      },
      "outputs": [
        {
          "data": {
            "text/plain": [
              "array([\"bachelor's degree\", 'secondary education', 'Secondary Education',\n",
              "       'SECONDARY EDUCATION', \"BACHELOR'S DEGREE\", 'some college',\n",
              "       'primary education', \"Bachelor's Degree\", 'SOME COLLEGE',\n",
              "       'Some College', 'PRIMARY EDUCATION', 'Primary Education',\n",
              "       'Graduate Degree', 'GRADUATE DEGREE', 'graduate degree'],\n",
              "      dtype=object)"
            ]
          },
          "execution_count": 28,
          "metadata": {},
          "output_type": "execute_result"
        }
      ],
      "source": [
        "# Mari kita lihat semua nilai di kolom pendidikan untuk memeriksa ejaan apa yang perlu diperbaiki\n",
        "df['education'].unique()"
      ]
    },
    {
      "cell_type": "code",
      "execution_count": null,
      "metadata": {
        "id": "SE4ISwsLAKGo"
      },
      "outputs": [],
      "source": [
        "# Perbaiki pencatatan jika diperlukan\n",
        "# Membuat semua isi dari kolom education menjadi lowercase\n",
        "df['education'] = df['education'].str.lower()"
      ]
    },
    {
      "cell_type": "code",
      "execution_count": null,
      "metadata": {
        "id": "PUnr5dDoAKGo",
        "outputId": "0383cc76-7236-45b5-db53-9e262b7343ad"
      },
      "outputs": [
        {
          "data": {
            "text/plain": [
              "array([\"bachelor's degree\", 'secondary education', 'some college',\n",
              "       'primary education', 'graduate degree'], dtype=object)"
            ]
          },
          "execution_count": 30,
          "metadata": {},
          "output_type": "execute_result"
        }
      ],
      "source": [
        "# Periksa semua nilai di kolom untuk memastikan bahwa kita telah memperbaikinya dengan tepat\n",
        "df['education'].unique()\n",
        "\n",
        "# Perbaikan selesai"
      ]
    },
    {
      "cell_type": "markdown",
      "metadata": {
        "id": "yU8nMfxWAKGo"
      },
      "source": [
        "-----\n",
        "**Kolom education DONE**\n",
        "\n",
        "----"
      ]
    },
    {
      "cell_type": "code",
      "execution_count": null,
      "metadata": {
        "scrolled": true,
        "id": "J6-1La5UAKGo",
        "outputId": "421f565e-21eb-4cc8-8fe6-e8881b3613e2"
      },
      "outputs": [
        {
          "data": {
            "text/plain": [
              " 0     14149\n",
              " 1      4818\n",
              " 2      2055\n",
              " 3       330\n",
              " 20       76\n",
              "-1        47\n",
              " 4        41\n",
              " 5         9\n",
              "Name: children, dtype: int64"
            ]
          },
          "execution_count": 31,
          "metadata": {},
          "output_type": "execute_result"
        }
      ],
      "source": [
        "# Mari kita lihat distribusi nilai pada kolom `children`\n",
        "df['children'].value_counts()"
      ]
    },
    {
      "cell_type": "markdown",
      "metadata": {
        "id": "X6_vPq5CAKGp"
      },
      "source": [
        "\n",
        "\n",
        "Terdapat 2 value yang aneh(20 dan -1)\n",
        "1. Tidak mungkin seseorang mempunyai 20 anak\n",
        "2. Tidak mungkin seseorang mempunya -1 anak\n",
        "\n",
        "Kesimpulan saya tentang bagaimana nilai ini bisa seperti ini adalah kesalahan yang dilakukan manusia ketika menginput data\n",
        "\n",
        "Kesalahan pada nilai 20 akan saya ganti menjadi 2 karena ini merupakan kesalahan input\n",
        "\n",
        "Kesalahan pada nilai -1 akan saya bikin dua penyelesaian. Pertama baris dengan children -1, days_employed nan dan total_income nan akan saya drop karena baris tersebut terlalu corrupt untuk di proses. Lalu sisanya akan saya isi dengan mean/median dari kolom children\n",
        "\n"
      ]
    },
    {
      "cell_type": "code",
      "execution_count": null,
      "metadata": {
        "id": "S7AkEmc2AKGp"
      },
      "outputs": [],
      "source": [
        "# [perbaiki data berdasarkan keputusan Anda]\n",
        "df.loc[df['children'] == 20 , 'children'] = 2\n",
        "\n",
        "# Nilai 20 telah dirubah menjadi 2"
      ]
    },
    {
      "cell_type": "code",
      "execution_count": null,
      "metadata": {
        "id": "KIjpwfZ3AKGp",
        "outputId": "3c179576-4e4e-452b-e48f-12b7886f90d1"
      },
      "outputs": [
        {
          "data": {
            "text/plain": [
              "1.4025105744303452"
            ]
          },
          "execution_count": 33,
          "metadata": {},
          "output_type": "execute_result"
        }
      ],
      "source": [
        "# Langkah selanjutnya mencari mean dan dari children > 0\n",
        "\n",
        "children = df[df['children'] > 0]\n",
        "children['children'].mean()"
      ]
    },
    {
      "cell_type": "code",
      "execution_count": null,
      "metadata": {
        "id": "yYfaiDpXAKGq",
        "outputId": "f14fb138-0cad-4f39-e8e5-2ac9d0fe5184"
      },
      "outputs": [
        {
          "data": {
            "text/plain": [
              "1.0"
            ]
          },
          "execution_count": 34,
          "metadata": {},
          "output_type": "execute_result"
        }
      ],
      "source": [
        "# Selanjutnya mencari median dari children > 0\n",
        "\n",
        "children['children'].sort_values(ascending = False)\n",
        "children['children'].median()"
      ]
    },
    {
      "cell_type": "code",
      "execution_count": null,
      "metadata": {
        "id": "grHQMfuzAKGq"
      },
      "outputs": [],
      "source": [
        "# Perbaiki nilai children = -1 dengan 1 (median)\n",
        "\n",
        "df.loc[df['children'] == -1 , 'children'] = 1"
      ]
    },
    {
      "cell_type": "code",
      "execution_count": null,
      "metadata": {
        "id": "i2NIg7LHAKGr",
        "outputId": "a9e18f34-3b27-4d46-d027-03aa71892201"
      },
      "outputs": [
        {
          "data": {
            "text/plain": [
              "array([1, 0, 3, 2, 4, 5])"
            ]
          },
          "execution_count": 36,
          "metadata": {},
          "output_type": "execute_result"
        }
      ],
      "source": [
        "# Periksa kembali kolom `children` untuk memastikan bahwa semuanya telah diperbaiki\n",
        "df['children'].unique()\n",
        "# Data telah diperbaiki"
      ]
    },
    {
      "cell_type": "markdown",
      "metadata": {
        "id": "BDRRdLNVAKGr"
      },
      "source": [
        "----\n",
        "\n",
        "**Kolom children DONE**\n",
        "\n",
        "------"
      ]
    },
    {
      "cell_type": "code",
      "execution_count": null,
      "metadata": {
        "id": "67ZUk1MJAKGr",
        "outputId": "bbb210fb-6958-47f0-de1b-959305e9dfff"
      },
      "outputs": [
        {
          "data": {
            "text/html": [
              "<div>\n",
              "<style scoped>\n",
              "    .dataframe tbody tr th:only-of-type {\n",
              "        vertical-align: middle;\n",
              "    }\n",
              "\n",
              "    .dataframe tbody tr th {\n",
              "        vertical-align: top;\n",
              "    }\n",
              "\n",
              "    .dataframe thead th {\n",
              "        text-align: right;\n",
              "    }\n",
              "</style>\n",
              "<table border=\"1\" class=\"dataframe\">\n",
              "  <thead>\n",
              "    <tr style=\"text-align: right;\">\n",
              "      <th></th>\n",
              "      <th>children</th>\n",
              "      <th>days_employed</th>\n",
              "      <th>dob_years</th>\n",
              "      <th>education</th>\n",
              "      <th>education_id</th>\n",
              "      <th>family_status</th>\n",
              "      <th>family_status_id</th>\n",
              "      <th>gender</th>\n",
              "      <th>income_type</th>\n",
              "      <th>debt</th>\n",
              "      <th>total_income</th>\n",
              "      <th>purpose</th>\n",
              "    </tr>\n",
              "  </thead>\n",
              "  <tbody>\n",
              "    <tr>\n",
              "      <th>20444</th>\n",
              "      <td>0</td>\n",
              "      <td>328728.720605</td>\n",
              "      <td>72</td>\n",
              "      <td>secondary education</td>\n",
              "      <td>1</td>\n",
              "      <td>widow / widower</td>\n",
              "      <td>2</td>\n",
              "      <td>F</td>\n",
              "      <td>retiree</td>\n",
              "      <td>0</td>\n",
              "      <td>15443.094</td>\n",
              "      <td>purchase of the house for my family</td>\n",
              "    </tr>\n",
              "    <tr>\n",
              "      <th>9328</th>\n",
              "      <td>2</td>\n",
              "      <td>328734.923996</td>\n",
              "      <td>41</td>\n",
              "      <td>bachelor's degree</td>\n",
              "      <td>0</td>\n",
              "      <td>married</td>\n",
              "      <td>0</td>\n",
              "      <td>M</td>\n",
              "      <td>retiree</td>\n",
              "      <td>0</td>\n",
              "      <td>20319.600</td>\n",
              "      <td>transactions with my real estate</td>\n",
              "    </tr>\n",
              "    <tr>\n",
              "      <th>17782</th>\n",
              "      <td>0</td>\n",
              "      <td>328771.341387</td>\n",
              "      <td>56</td>\n",
              "      <td>secondary education</td>\n",
              "      <td>1</td>\n",
              "      <td>married</td>\n",
              "      <td>0</td>\n",
              "      <td>F</td>\n",
              "      <td>retiree</td>\n",
              "      <td>0</td>\n",
              "      <td>10983.688</td>\n",
              "      <td>transactions with commercial real estate</td>\n",
              "    </tr>\n",
              "    <tr>\n",
              "      <th>14783</th>\n",
              "      <td>0</td>\n",
              "      <td>328795.726728</td>\n",
              "      <td>62</td>\n",
              "      <td>bachelor's degree</td>\n",
              "      <td>0</td>\n",
              "      <td>married</td>\n",
              "      <td>0</td>\n",
              "      <td>F</td>\n",
              "      <td>retiree</td>\n",
              "      <td>0</td>\n",
              "      <td>12790.431</td>\n",
              "      <td>buying my own car</td>\n",
              "    </tr>\n",
              "    <tr>\n",
              "      <th>7229</th>\n",
              "      <td>1</td>\n",
              "      <td>328827.345667</td>\n",
              "      <td>32</td>\n",
              "      <td>secondary education</td>\n",
              "      <td>1</td>\n",
              "      <td>civil partnership</td>\n",
              "      <td>1</td>\n",
              "      <td>F</td>\n",
              "      <td>retiree</td>\n",
              "      <td>0</td>\n",
              "      <td>19546.075</td>\n",
              "      <td>to have a wedding</td>\n",
              "    </tr>\n",
              "  </tbody>\n",
              "</table>\n",
              "</div>"
            ],
            "text/plain": [
              "       children  days_employed  dob_years            education  education_id  \\\n",
              "20444         0  328728.720605         72  secondary education             1   \n",
              "9328          2  328734.923996         41    bachelor's degree             0   \n",
              "17782         0  328771.341387         56  secondary education             1   \n",
              "14783         0  328795.726728         62    bachelor's degree             0   \n",
              "7229          1  328827.345667         32  secondary education             1   \n",
              "\n",
              "           family_status  family_status_id gender income_type  debt  \\\n",
              "20444    widow / widower                 2      F     retiree     0   \n",
              "9328             married                 0      M     retiree     0   \n",
              "17782            married                 0      F     retiree     0   \n",
              "14783            married                 0      F     retiree     0   \n",
              "7229   civil partnership                 1      F     retiree     0   \n",
              "\n",
              "       total_income                                   purpose  \n",
              "20444     15443.094       purchase of the house for my family  \n",
              "9328      20319.600          transactions with my real estate  \n",
              "17782     10983.688  transactions with commercial real estate  \n",
              "14783     12790.431                         buying my own car  \n",
              "7229      19546.075                         to have a wedding  "
            ]
          },
          "execution_count": 37,
          "metadata": {},
          "output_type": "execute_result"
        }
      ],
      "source": [
        "# Temukan data yang bermasalah di `days_employed`, jika memang terdapat masalah, dan hitung persentasenya\n",
        "# Dari awal kita dapat melihat nilai yang minus pada kolom ini\n",
        "# Dan juga nilai yang tidak masuk akal seperti diatas ratusan ribu\n",
        "# Mari kita lihat nilai yang diatas 0\n",
        "\n",
        "days_employed_upper = df[(df['days_employed'] > 0)].sort_values(by = 'days_employed')\n",
        "days_employed_upper.head()"
      ]
    },
    {
      "cell_type": "code",
      "execution_count": null,
      "metadata": {
        "id": "sKKkcHLUAKGs",
        "outputId": "1a9c4e30-2966-40be-e08c-7f075ddcb485"
      },
      "outputs": [
        {
          "data": {
            "text/html": [
              "<div>\n",
              "<style scoped>\n",
              "    .dataframe tbody tr th:only-of-type {\n",
              "        vertical-align: middle;\n",
              "    }\n",
              "\n",
              "    .dataframe tbody tr th {\n",
              "        vertical-align: top;\n",
              "    }\n",
              "\n",
              "    .dataframe thead th {\n",
              "        text-align: right;\n",
              "    }\n",
              "</style>\n",
              "<table border=\"1\" class=\"dataframe\">\n",
              "  <thead>\n",
              "    <tr style=\"text-align: right;\">\n",
              "      <th></th>\n",
              "      <th>children</th>\n",
              "      <th>days_employed</th>\n",
              "      <th>dob_years</th>\n",
              "      <th>education</th>\n",
              "      <th>education_id</th>\n",
              "      <th>family_status</th>\n",
              "      <th>family_status_id</th>\n",
              "      <th>gender</th>\n",
              "      <th>income_type</th>\n",
              "      <th>debt</th>\n",
              "      <th>total_income</th>\n",
              "      <th>purpose</th>\n",
              "    </tr>\n",
              "  </thead>\n",
              "  <tbody>\n",
              "    <tr>\n",
              "      <th>16335</th>\n",
              "      <td>1</td>\n",
              "      <td>-18388.949901</td>\n",
              "      <td>61</td>\n",
              "      <td>secondary education</td>\n",
              "      <td>1</td>\n",
              "      <td>married</td>\n",
              "      <td>0</td>\n",
              "      <td>F</td>\n",
              "      <td>employee</td>\n",
              "      <td>0</td>\n",
              "      <td>29788.629</td>\n",
              "      <td>real estate transactions</td>\n",
              "    </tr>\n",
              "    <tr>\n",
              "      <th>4299</th>\n",
              "      <td>0</td>\n",
              "      <td>-17615.563266</td>\n",
              "      <td>61</td>\n",
              "      <td>secondary education</td>\n",
              "      <td>1</td>\n",
              "      <td>married</td>\n",
              "      <td>0</td>\n",
              "      <td>F</td>\n",
              "      <td>business</td>\n",
              "      <td>0</td>\n",
              "      <td>19609.719</td>\n",
              "      <td>purchase of the house</td>\n",
              "    </tr>\n",
              "    <tr>\n",
              "      <th>7329</th>\n",
              "      <td>0</td>\n",
              "      <td>-16593.472817</td>\n",
              "      <td>60</td>\n",
              "      <td>bachelor's degree</td>\n",
              "      <td>0</td>\n",
              "      <td>married</td>\n",
              "      <td>0</td>\n",
              "      <td>F</td>\n",
              "      <td>employee</td>\n",
              "      <td>0</td>\n",
              "      <td>19951.655</td>\n",
              "      <td>going to university</td>\n",
              "    </tr>\n",
              "    <tr>\n",
              "      <th>17838</th>\n",
              "      <td>0</td>\n",
              "      <td>-16264.699501</td>\n",
              "      <td>59</td>\n",
              "      <td>secondary education</td>\n",
              "      <td>1</td>\n",
              "      <td>married</td>\n",
              "      <td>0</td>\n",
              "      <td>F</td>\n",
              "      <td>employee</td>\n",
              "      <td>0</td>\n",
              "      <td>8198.235</td>\n",
              "      <td>to buy a car</td>\n",
              "    </tr>\n",
              "    <tr>\n",
              "      <th>16825</th>\n",
              "      <td>0</td>\n",
              "      <td>-16119.687737</td>\n",
              "      <td>64</td>\n",
              "      <td>secondary education</td>\n",
              "      <td>1</td>\n",
              "      <td>married</td>\n",
              "      <td>0</td>\n",
              "      <td>F</td>\n",
              "      <td>employee</td>\n",
              "      <td>0</td>\n",
              "      <td>14644.430</td>\n",
              "      <td>buy residential real estate</td>\n",
              "    </tr>\n",
              "  </tbody>\n",
              "</table>\n",
              "</div>"
            ],
            "text/plain": [
              "       children  days_employed  dob_years            education  education_id  \\\n",
              "16335         1  -18388.949901         61  secondary education             1   \n",
              "4299          0  -17615.563266         61  secondary education             1   \n",
              "7329          0  -16593.472817         60    bachelor's degree             0   \n",
              "17838         0  -16264.699501         59  secondary education             1   \n",
              "16825         0  -16119.687737         64  secondary education             1   \n",
              "\n",
              "      family_status  family_status_id gender income_type  debt  total_income  \\\n",
              "16335       married                 0      F    employee     0     29788.629   \n",
              "4299        married                 0      F    business     0     19609.719   \n",
              "7329        married                 0      F    employee     0     19951.655   \n",
              "17838       married                 0      F    employee     0      8198.235   \n",
              "16825       married                 0      F    employee     0     14644.430   \n",
              "\n",
              "                           purpose  \n",
              "16335     real estate transactions  \n",
              "4299         purchase of the house  \n",
              "7329           going to university  \n",
              "17838                 to buy a car  \n",
              "16825  buy residential real estate  "
            ]
          },
          "execution_count": 38,
          "metadata": {},
          "output_type": "execute_result"
        }
      ],
      "source": [
        "# Mari kita lihat nilai yang di bawah atau sama dengan 0\n",
        "days_employed_lower = df[(df['days_employed'] <= 0)].sort_values(by = 'days_employed')\n",
        "days_employed_lower.head()"
      ]
    },
    {
      "cell_type": "markdown",
      "metadata": {
        "id": "Fd8-qKcrAKGs"
      },
      "source": [
        "**Insight**\n",
        "\n",
        "1. Kita dapat melihat tidak ada value  = 0\n",
        "2. value > 0 dimulai dari 328728 (ratusan ribu)\n",
        "3. value <= 0 dimulai dari -24\n",
        "\n",
        "Jika kita bagi 328728/365 = 900.7, 900++ tahun adalah angka yang mustahil. Maka value > 0 akan dievaluasi lagi dan akan diganti dengan nilai yang reasonable.\n",
        "\n",
        "Dan juga nilai dari kolom ini akan dirubah jadi int agar tidak ada koma.\n",
        "\n",
        "**Seluruh** value dari kolom days_employed harus diperbaiki"
      ]
    },
    {
      "cell_type": "markdown",
      "metadata": {
        "id": "lLlw64U4AKGt"
      },
      "source": [
        "\n",
        "\n",
        "Semua data akan di setting ulang\n"
      ]
    },
    {
      "cell_type": "markdown",
      "metadata": {
        "id": "OZUQcu6WAKGt"
      },
      "source": [
        "**Kesimpulan Sementara**\n",
        "\n",
        "Tidak ada days_employed == 0\n",
        "\n",
        "Kita mulai dari data yang minus, Lihat tabel diatas(days_employed_lower)\n",
        "\n",
        "Nilai tertinggi adalah -14381.545844\n",
        "\n",
        "Setelh melihat days_employed_lower, saya dapat menyimpulkan bahwa nilai yang minus itu adalah nilai yang benar adalah data yang bernilai minus dan data yang janggal adalah data yang berada > 0 \n",
        "\n",
        "Hal ini dapat disimpulkan dari sintaks days_employed_lower.head(n=50) atau yang berada pada cell diatas. Jika tanda minus itu dihilangkan maka angka tersebut akan terlihat masuk akal.\n",
        "\n",
        "**Dan angka yang diatas > 300000 semuanya tidak masuk akal, nanti akan dirubah sekalian dengan nilai yang hilang di chapter selanjutnya**\n"
      ]
    },
    {
      "cell_type": "code",
      "execution_count": null,
      "metadata": {
        "id": "v0vn9hrMAKGu"
      },
      "outputs": [],
      "source": [
        "# Atasi nilai yang bermasalah, jika ada\n",
        "# Seperti kesimpulan di atas, nilai < 0  akan dihilangkan minusnya\n",
        "\n",
        "df['days_employed'] = df['days_employed'].abs()"
      ]
    },
    {
      "cell_type": "code",
      "execution_count": null,
      "metadata": {
        "id": "rWwhSE_MAKGu",
        "outputId": "ac2615cc-ef8a-48f8-c935-d7b3a3dfe6ef"
      },
      "outputs": [
        {
          "data": {
            "text/html": [
              "<div>\n",
              "<style scoped>\n",
              "    .dataframe tbody tr th:only-of-type {\n",
              "        vertical-align: middle;\n",
              "    }\n",
              "\n",
              "    .dataframe tbody tr th {\n",
              "        vertical-align: top;\n",
              "    }\n",
              "\n",
              "    .dataframe thead th {\n",
              "        text-align: right;\n",
              "    }\n",
              "</style>\n",
              "<table border=\"1\" class=\"dataframe\">\n",
              "  <thead>\n",
              "    <tr style=\"text-align: right;\">\n",
              "      <th></th>\n",
              "      <th>children</th>\n",
              "      <th>days_employed</th>\n",
              "      <th>dob_years</th>\n",
              "      <th>education</th>\n",
              "      <th>education_id</th>\n",
              "      <th>family_status</th>\n",
              "      <th>family_status_id</th>\n",
              "      <th>gender</th>\n",
              "      <th>income_type</th>\n",
              "      <th>debt</th>\n",
              "      <th>total_income</th>\n",
              "      <th>purpose</th>\n",
              "    </tr>\n",
              "  </thead>\n",
              "  <tbody>\n",
              "    <tr>\n",
              "      <th>0</th>\n",
              "      <td>1</td>\n",
              "      <td>8437.673028</td>\n",
              "      <td>42</td>\n",
              "      <td>bachelor's degree</td>\n",
              "      <td>0</td>\n",
              "      <td>married</td>\n",
              "      <td>0</td>\n",
              "      <td>F</td>\n",
              "      <td>employee</td>\n",
              "      <td>0</td>\n",
              "      <td>40620.102</td>\n",
              "      <td>purchase of the house</td>\n",
              "    </tr>\n",
              "    <tr>\n",
              "      <th>1</th>\n",
              "      <td>1</td>\n",
              "      <td>4024.803754</td>\n",
              "      <td>36</td>\n",
              "      <td>secondary education</td>\n",
              "      <td>1</td>\n",
              "      <td>married</td>\n",
              "      <td>0</td>\n",
              "      <td>F</td>\n",
              "      <td>employee</td>\n",
              "      <td>0</td>\n",
              "      <td>17932.802</td>\n",
              "      <td>car purchase</td>\n",
              "    </tr>\n",
              "    <tr>\n",
              "      <th>2</th>\n",
              "      <td>0</td>\n",
              "      <td>5623.422610</td>\n",
              "      <td>33</td>\n",
              "      <td>secondary education</td>\n",
              "      <td>1</td>\n",
              "      <td>married</td>\n",
              "      <td>0</td>\n",
              "      <td>M</td>\n",
              "      <td>employee</td>\n",
              "      <td>0</td>\n",
              "      <td>23341.752</td>\n",
              "      <td>purchase of the house</td>\n",
              "    </tr>\n",
              "    <tr>\n",
              "      <th>3</th>\n",
              "      <td>3</td>\n",
              "      <td>4124.747207</td>\n",
              "      <td>32</td>\n",
              "      <td>secondary education</td>\n",
              "      <td>1</td>\n",
              "      <td>married</td>\n",
              "      <td>0</td>\n",
              "      <td>M</td>\n",
              "      <td>employee</td>\n",
              "      <td>0</td>\n",
              "      <td>42820.568</td>\n",
              "      <td>supplementary education</td>\n",
              "    </tr>\n",
              "    <tr>\n",
              "      <th>4</th>\n",
              "      <td>0</td>\n",
              "      <td>340266.072047</td>\n",
              "      <td>53</td>\n",
              "      <td>secondary education</td>\n",
              "      <td>1</td>\n",
              "      <td>civil partnership</td>\n",
              "      <td>1</td>\n",
              "      <td>F</td>\n",
              "      <td>retiree</td>\n",
              "      <td>0</td>\n",
              "      <td>25378.572</td>\n",
              "      <td>to have a wedding</td>\n",
              "    </tr>\n",
              "  </tbody>\n",
              "</table>\n",
              "</div>"
            ],
            "text/plain": [
              "   children  days_employed  dob_years            education  education_id  \\\n",
              "0         1    8437.673028         42    bachelor's degree             0   \n",
              "1         1    4024.803754         36  secondary education             1   \n",
              "2         0    5623.422610         33  secondary education             1   \n",
              "3         3    4124.747207         32  secondary education             1   \n",
              "4         0  340266.072047         53  secondary education             1   \n",
              "\n",
              "       family_status  family_status_id gender income_type  debt  total_income  \\\n",
              "0            married                 0      F    employee     0     40620.102   \n",
              "1            married                 0      F    employee     0     17932.802   \n",
              "2            married                 0      M    employee     0     23341.752   \n",
              "3            married                 0      M    employee     0     42820.568   \n",
              "4  civil partnership                 1      F     retiree     0     25378.572   \n",
              "\n",
              "                   purpose  \n",
              "0    purchase of the house  \n",
              "1             car purchase  \n",
              "2    purchase of the house  \n",
              "3  supplementary education  \n",
              "4        to have a wedding  "
            ]
          },
          "execution_count": 40,
          "metadata": {},
          "output_type": "execute_result"
        }
      ],
      "source": [
        "# Periksa hasilnya - pastikan bahwa masalahnya telah diperbaiki\n",
        "df.head()"
      ]
    },
    {
      "cell_type": "markdown",
      "metadata": {
        "id": "a4GQkRf_AKGu"
      },
      "source": [
        "-----\n",
        "\n",
        "**Kolom days_employed DONE**\n",
        "\n",
        "-----"
      ]
    },
    {
      "cell_type": "code",
      "execution_count": null,
      "metadata": {
        "id": "dQF9AfT7AKGv",
        "outputId": "fd97cb16-e59e-40fc-bac4-7908ab9cc47f"
      },
      "outputs": [
        {
          "data": {
            "text/plain": [
              "array([42, 36, 33, 32, 53, 27, 43, 50, 35, 41, 40, 65, 54, 56, 26, 48, 24,\n",
              "       21, 57, 67, 28, 63, 62, 47, 34, 68, 25, 31, 30, 20, 49, 37, 45, 61,\n",
              "       64, 44, 52, 46, 23, 38, 39, 51,  0, 59, 29, 60, 55, 58, 71, 22, 73,\n",
              "       66, 69, 19, 72, 70, 74, 75])"
            ]
          },
          "execution_count": 41,
          "metadata": {},
          "output_type": "execute_result"
        }
      ],
      "source": [
        "# Periksa `dob_years` untuk nilai yang mencurigakan dan hitung persentasenya\n",
        "df['dob_years'].unique()\n"
      ]
    },
    {
      "cell_type": "markdown",
      "metadata": {
        "id": "0VrWNaA3AKGv"
      },
      "source": [
        "\n",
        "Terdapat angka 0. Akan diganti dengan nilai mean atau median\n",
        "\n"
      ]
    },
    {
      "cell_type": "code",
      "execution_count": null,
      "metadata": {
        "id": "XTFCfjomAKGv",
        "outputId": "668ac99c-2130-4c19-9389-22262cf54b65"
      },
      "outputs": [
        {
          "data": {
            "text/plain": [
              "array(['retiree', 'employee', 'business', 'civil servant'], dtype=object)"
            ]
          },
          "execution_count": 42,
          "metadata": {},
          "output_type": "execute_result"
        }
      ],
      "source": [
        "# Atasi masalah pada kolom `dob_years`, jika terdapat masalah\n",
        "# Identifikasi masalah\n",
        "dob_years = df[df['dob_years'] == 0]\n",
        "dob_years['income_type'].unique()\n",
        "\n",
        "# Terdapat 'retiree', 'employee', 'business', 'civil servant' dengan dob_years = 0"
      ]
    },
    {
      "cell_type": "code",
      "execution_count": null,
      "metadata": {
        "scrolled": true,
        "id": "XAK2P9BJAKGy",
        "outputId": "334ff5e1-77f7-4e11-c5d8-57cc75f1c1a6"
      },
      "outputs": [
        {
          "data": {
            "text/html": [
              "<div>\n",
              "<style scoped>\n",
              "    .dataframe tbody tr th:only-of-type {\n",
              "        vertical-align: middle;\n",
              "    }\n",
              "\n",
              "    .dataframe tbody tr th {\n",
              "        vertical-align: top;\n",
              "    }\n",
              "\n",
              "    .dataframe thead th {\n",
              "        text-align: right;\n",
              "    }\n",
              "</style>\n",
              "<table border=\"1\" class=\"dataframe\">\n",
              "  <thead>\n",
              "    <tr style=\"text-align: right;\">\n",
              "      <th></th>\n",
              "      <th>dob_years</th>\n",
              "    </tr>\n",
              "    <tr>\n",
              "      <th>income_type</th>\n",
              "      <th></th>\n",
              "    </tr>\n",
              "  </thead>\n",
              "  <tbody>\n",
              "    <tr>\n",
              "      <th>business</th>\n",
              "      <td>39.0</td>\n",
              "    </tr>\n",
              "    <tr>\n",
              "      <th>civil servant</th>\n",
              "      <td>40.0</td>\n",
              "    </tr>\n",
              "    <tr>\n",
              "      <th>employee</th>\n",
              "      <td>39.0</td>\n",
              "    </tr>\n",
              "    <tr>\n",
              "      <th>entrepreneur</th>\n",
              "      <td>42.5</td>\n",
              "    </tr>\n",
              "    <tr>\n",
              "      <th>paternity / maternity leave</th>\n",
              "      <td>39.0</td>\n",
              "    </tr>\n",
              "    <tr>\n",
              "      <th>retiree</th>\n",
              "      <td>60.0</td>\n",
              "    </tr>\n",
              "    <tr>\n",
              "      <th>student</th>\n",
              "      <td>22.0</td>\n",
              "    </tr>\n",
              "    <tr>\n",
              "      <th>unemployed</th>\n",
              "      <td>38.0</td>\n",
              "    </tr>\n",
              "  </tbody>\n",
              "</table>\n",
              "</div>"
            ],
            "text/plain": [
              "                             dob_years\n",
              "income_type                           \n",
              "business                          39.0\n",
              "civil servant                     40.0\n",
              "employee                          39.0\n",
              "entrepreneur                      42.5\n",
              "paternity / maternity leave       39.0\n",
              "retiree                           60.0\n",
              "student                           22.0\n",
              "unemployed                        38.0"
            ]
          },
          "execution_count": 55,
          "metadata": {},
          "output_type": "execute_result"
        }
      ],
      "source": [
        "# Membuat pivot tabel untuk melihat kesamaan hasil median\n",
        "\n",
        "df.pivot_table(index = 'income_type', values = 'dob_years', aggfunc = 'median')"
      ]
    },
    {
      "cell_type": "code",
      "execution_count": null,
      "metadata": {
        "scrolled": true,
        "id": "8bduZdNiAKGy",
        "outputId": "ced6baf5-2029-4a79-d409-a3b44c05f003"
      },
      "outputs": [
        {
          "data": {
            "text/html": [
              "<div>\n",
              "<style scoped>\n",
              "    .dataframe tbody tr th:only-of-type {\n",
              "        vertical-align: middle;\n",
              "    }\n",
              "\n",
              "    .dataframe tbody tr th {\n",
              "        vertical-align: top;\n",
              "    }\n",
              "\n",
              "    .dataframe thead th {\n",
              "        text-align: right;\n",
              "    }\n",
              "</style>\n",
              "<table border=\"1\" class=\"dataframe\">\n",
              "  <thead>\n",
              "    <tr style=\"text-align: right;\">\n",
              "      <th></th>\n",
              "      <th>dob_years</th>\n",
              "    </tr>\n",
              "    <tr>\n",
              "      <th>income_type</th>\n",
              "      <th></th>\n",
              "    </tr>\n",
              "  </thead>\n",
              "  <tbody>\n",
              "    <tr>\n",
              "      <th>business</th>\n",
              "      <td>39.697542</td>\n",
              "    </tr>\n",
              "    <tr>\n",
              "      <th>civil servant</th>\n",
              "      <td>40.636737</td>\n",
              "    </tr>\n",
              "    <tr>\n",
              "      <th>employee</th>\n",
              "      <td>39.821027</td>\n",
              "    </tr>\n",
              "    <tr>\n",
              "      <th>entrepreneur</th>\n",
              "      <td>42.500000</td>\n",
              "    </tr>\n",
              "    <tr>\n",
              "      <th>paternity / maternity leave</th>\n",
              "      <td>39.000000</td>\n",
              "    </tr>\n",
              "    <tr>\n",
              "      <th>retiree</th>\n",
              "      <td>59.063019</td>\n",
              "    </tr>\n",
              "    <tr>\n",
              "      <th>student</th>\n",
              "      <td>22.000000</td>\n",
              "    </tr>\n",
              "    <tr>\n",
              "      <th>unemployed</th>\n",
              "      <td>38.000000</td>\n",
              "    </tr>\n",
              "  </tbody>\n",
              "</table>\n",
              "</div>"
            ],
            "text/plain": [
              "                             dob_years\n",
              "income_type                           \n",
              "business                     39.697542\n",
              "civil servant                40.636737\n",
              "employee                     39.821027\n",
              "entrepreneur                 42.500000\n",
              "paternity / maternity leave  39.000000\n",
              "retiree                      59.063019\n",
              "student                      22.000000\n",
              "unemployed                   38.000000"
            ]
          },
          "execution_count": 56,
          "metadata": {},
          "output_type": "execute_result"
        }
      ],
      "source": [
        "# Membuat pivot tabel untuk melihat kesamaan hasil mean\n",
        "\n",
        "df.pivot_table(index = 'income_type', values = 'dob_years', aggfunc = 'mean')"
      ]
    },
    {
      "cell_type": "code",
      "execution_count": null,
      "metadata": {
        "id": "3TziGVK2AKGy"
      },
      "outputs": [],
      "source": [
        "df.loc[(df.income_type == 'retiree') & (df.dob_years == 0), 'dob_years'] = 60\n",
        "# Mengganti baris dengan (df.income_type == 'retiree') & (df.dob_years == 0) menjadi 60(median)\n",
        "\n",
        "df.loc[(df.income_type == 'employee') & (df.dob_years == 0), 'dob_years'] = 39\n",
        "# Mengganti baris dengan (df.income_type == 'employee') & (df.dob_years == 0) menjadi 39(median)\n",
        "\n",
        "df.loc[(df.income_type == 'business') & (df.dob_years == 0), 'dob_years'] = 39\n",
        "# Mengganti baris dengan (df.income_type == 'business') & (df.dob_years == 0) menjadi 39(median)\n",
        "\n",
        "df.loc[(df.income_type == 'civil servant') & (df.dob_years == 0), 'dob_years'] = 40\n",
        "# Mengganti baris dengan (df.income_type == 'civil servant') & (df.dob_years == 0) menjadi 40(median)"
      ]
    },
    {
      "cell_type": "code",
      "execution_count": null,
      "metadata": {
        "id": "vOYcEyqUAKGy",
        "outputId": "a17cd5a4-9433-4089-e741-76c18fc25a3e"
      },
      "outputs": [
        {
          "data": {
            "text/plain": [
              "array([42, 36, 33, 32, 53, 27, 43, 50, 35, 41, 40, 65, 54, 56, 26, 48, 24,\n",
              "       21, 57, 67, 28, 63, 62, 47, 34, 68, 25, 31, 30, 20, 49, 37, 45, 61,\n",
              "       64, 44, 52, 46, 23, 38, 39, 51, 60, 59, 29, 55, 58, 71, 22, 73, 66,\n",
              "       69, 19, 72, 70, 74, 75])"
            ]
          },
          "execution_count": 58,
          "metadata": {},
          "output_type": "execute_result"
        }
      ],
      "source": [
        "# Periksa hasilnya - pastikan bahwa masalahnya telah diperbaiki\n",
        "\n",
        "df['dob_years'].unique()\n",
        "\n",
        "# dob_years = 0 telah di rubah semuanya"
      ]
    },
    {
      "cell_type": "markdown",
      "metadata": {
        "id": "LGKorcO9AKGz"
      },
      "source": [
        "-------\n",
        "\n",
        "**Kolom dob_years DONE**\n",
        "\n",
        "-------"
      ]
    },
    {
      "cell_type": "code",
      "execution_count": null,
      "metadata": {
        "id": "cUE1SMDzAKGz",
        "outputId": "3ff09eed-a929-4ef4-e4ed-11728a411d4d"
      },
      "outputs": [
        {
          "data": {
            "text/plain": [
              "array(['married', 'civil partnership', 'widow / widower', 'divorced',\n",
              "       'unmarried'], dtype=object)"
            ]
          },
          "execution_count": 59,
          "metadata": {},
          "output_type": "execute_result"
        }
      ],
      "source": [
        "# Mari kita lihat nilai untuk kolom ini\n",
        "df['family_status'].unique()\n"
      ]
    },
    {
      "cell_type": "code",
      "execution_count": null,
      "metadata": {
        "id": "zbWsFq_NAKGz"
      },
      "outputs": [],
      "source": [
        "# Atasi nilai yang bermasalah di `family_status`, jika ada\n",
        "\n",
        "### Tidak ada masalah"
      ]
    },
    {
      "cell_type": "markdown",
      "metadata": {
        "id": "N_WmY3hnAKG0"
      },
      "source": [
        "-------\n",
        "\n",
        "**Kolom family_status DONE**\n",
        "\n",
        "-------"
      ]
    },
    {
      "cell_type": "code",
      "execution_count": null,
      "metadata": {
        "id": "IC3y0zEOAKG0",
        "outputId": "ed4f9515-1c5d-4e00-8327-db08e8d1198f"
      },
      "outputs": [
        {
          "data": {
            "text/plain": [
              "array(['F', 'M', 'XNA'], dtype=object)"
            ]
          },
          "execution_count": 62,
          "metadata": {},
          "output_type": "execute_result"
        }
      ],
      "source": [
        "# Mari kita liat nilai dalam kolom ini\n",
        "df['gender'].unique()"
      ]
    },
    {
      "cell_type": "code",
      "execution_count": null,
      "metadata": {
        "id": "tDAb7AXhAKG0",
        "outputId": "ba5b32c8-aa28-4cce-b6d4-2c77a408af98"
      },
      "outputs": [
        {
          "data": {
            "text/html": [
              "<div>\n",
              "<style scoped>\n",
              "    .dataframe tbody tr th:only-of-type {\n",
              "        vertical-align: middle;\n",
              "    }\n",
              "\n",
              "    .dataframe tbody tr th {\n",
              "        vertical-align: top;\n",
              "    }\n",
              "\n",
              "    .dataframe thead th {\n",
              "        text-align: right;\n",
              "    }\n",
              "</style>\n",
              "<table border=\"1\" class=\"dataframe\">\n",
              "  <thead>\n",
              "    <tr style=\"text-align: right;\">\n",
              "      <th></th>\n",
              "      <th>children</th>\n",
              "      <th>days_employed</th>\n",
              "      <th>dob_years</th>\n",
              "      <th>education</th>\n",
              "      <th>education_id</th>\n",
              "      <th>family_status</th>\n",
              "      <th>family_status_id</th>\n",
              "      <th>gender</th>\n",
              "      <th>income_type</th>\n",
              "      <th>debt</th>\n",
              "      <th>total_income</th>\n",
              "      <th>purpose</th>\n",
              "    </tr>\n",
              "  </thead>\n",
              "  <tbody>\n",
              "    <tr>\n",
              "      <th>10701</th>\n",
              "      <td>0</td>\n",
              "      <td>2358.600502</td>\n",
              "      <td>24</td>\n",
              "      <td>some college</td>\n",
              "      <td>2</td>\n",
              "      <td>civil partnership</td>\n",
              "      <td>1</td>\n",
              "      <td>XNA</td>\n",
              "      <td>business</td>\n",
              "      <td>0</td>\n",
              "      <td>32624.825</td>\n",
              "      <td>buy real estate</td>\n",
              "    </tr>\n",
              "  </tbody>\n",
              "</table>\n",
              "</div>"
            ],
            "text/plain": [
              "       children  days_employed  dob_years     education  education_id  \\\n",
              "10701         0    2358.600502         24  some college             2   \n",
              "\n",
              "           family_status  family_status_id gender income_type  debt  \\\n",
              "10701  civil partnership                 1    XNA    business     0   \n",
              "\n",
              "       total_income          purpose  \n",
              "10701     32624.825  buy real estate  "
            ]
          },
          "execution_count": 63,
          "metadata": {},
          "output_type": "execute_result"
        }
      ],
      "source": [
        "# Mencari letak gender XNA berada\n",
        "df.loc[df['gender'] == 'XNA']\n",
        "\n",
        "# Gender XNA cuma terdapat 1, selanjutnya akan dicari tahu apakah value tsb akan diisi oleh M atau F atau di drop"
      ]
    },
    {
      "cell_type": "code",
      "execution_count": null,
      "metadata": {
        "id": "KT_t6BiyAKG1",
        "outputId": "dbb05eda-493e-4b06-f2ed-fca165e9358c"
      },
      "outputs": [
        {
          "data": {
            "text/html": [
              "<div>\n",
              "<style scoped>\n",
              "    .dataframe tbody tr th:only-of-type {\n",
              "        vertical-align: middle;\n",
              "    }\n",
              "\n",
              "    .dataframe tbody tr th {\n",
              "        vertical-align: top;\n",
              "    }\n",
              "\n",
              "    .dataframe thead th {\n",
              "        text-align: right;\n",
              "    }\n",
              "</style>\n",
              "<table border=\"1\" class=\"dataframe\">\n",
              "  <thead>\n",
              "    <tr style=\"text-align: right;\">\n",
              "      <th></th>\n",
              "      <th>children</th>\n",
              "      <th>days_employed</th>\n",
              "      <th>dob_years</th>\n",
              "      <th>education</th>\n",
              "      <th>education_id</th>\n",
              "      <th>family_status</th>\n",
              "      <th>family_status_id</th>\n",
              "      <th>gender</th>\n",
              "      <th>income_type</th>\n",
              "      <th>debt</th>\n",
              "      <th>total_income</th>\n",
              "      <th>purpose</th>\n",
              "    </tr>\n",
              "  </thead>\n",
              "  <tbody>\n",
              "    <tr>\n",
              "      <th>0</th>\n",
              "      <td>0</td>\n",
              "      <td>597.273402</td>\n",
              "      <td>21</td>\n",
              "      <td>some college</td>\n",
              "      <td>2</td>\n",
              "      <td>civil partnership</td>\n",
              "      <td>1</td>\n",
              "      <td>F</td>\n",
              "      <td>business</td>\n",
              "      <td>0</td>\n",
              "      <td>13912.788</td>\n",
              "      <td>transactions with commercial real estate</td>\n",
              "    </tr>\n",
              "    <tr>\n",
              "      <th>1</th>\n",
              "      <td>0</td>\n",
              "      <td>802.530741</td>\n",
              "      <td>29</td>\n",
              "      <td>some college</td>\n",
              "      <td>2</td>\n",
              "      <td>civil partnership</td>\n",
              "      <td>1</td>\n",
              "      <td>F</td>\n",
              "      <td>business</td>\n",
              "      <td>0</td>\n",
              "      <td>28421.429</td>\n",
              "      <td>real estate transactions</td>\n",
              "    </tr>\n",
              "    <tr>\n",
              "      <th>2</th>\n",
              "      <td>0</td>\n",
              "      <td>219.732426</td>\n",
              "      <td>24</td>\n",
              "      <td>some college</td>\n",
              "      <td>2</td>\n",
              "      <td>civil partnership</td>\n",
              "      <td>1</td>\n",
              "      <td>F</td>\n",
              "      <td>business</td>\n",
              "      <td>0</td>\n",
              "      <td>40112.181</td>\n",
              "      <td>building a real estate</td>\n",
              "    </tr>\n",
              "    <tr>\n",
              "      <th>3</th>\n",
              "      <td>0</td>\n",
              "      <td>839.710094</td>\n",
              "      <td>22</td>\n",
              "      <td>some college</td>\n",
              "      <td>2</td>\n",
              "      <td>civil partnership</td>\n",
              "      <td>1</td>\n",
              "      <td>F</td>\n",
              "      <td>business</td>\n",
              "      <td>0</td>\n",
              "      <td>13870.793</td>\n",
              "      <td>building a real estate</td>\n",
              "    </tr>\n",
              "    <tr>\n",
              "      <th>4</th>\n",
              "      <td>0</td>\n",
              "      <td>2358.600502</td>\n",
              "      <td>24</td>\n",
              "      <td>some college</td>\n",
              "      <td>2</td>\n",
              "      <td>civil partnership</td>\n",
              "      <td>1</td>\n",
              "      <td>XNA</td>\n",
              "      <td>business</td>\n",
              "      <td>0</td>\n",
              "      <td>32624.825</td>\n",
              "      <td>buy real estate</td>\n",
              "    </tr>\n",
              "    <tr>\n",
              "      <th>5</th>\n",
              "      <td>0</td>\n",
              "      <td>2596.030110</td>\n",
              "      <td>44</td>\n",
              "      <td>some college</td>\n",
              "      <td>2</td>\n",
              "      <td>civil partnership</td>\n",
              "      <td>1</td>\n",
              "      <td>F</td>\n",
              "      <td>business</td>\n",
              "      <td>0</td>\n",
              "      <td>31735.658</td>\n",
              "      <td>transactions with commercial real estate</td>\n",
              "    </tr>\n",
              "    <tr>\n",
              "      <th>6</th>\n",
              "      <td>0</td>\n",
              "      <td>316.432989</td>\n",
              "      <td>25</td>\n",
              "      <td>some college</td>\n",
              "      <td>2</td>\n",
              "      <td>civil partnership</td>\n",
              "      <td>1</td>\n",
              "      <td>F</td>\n",
              "      <td>business</td>\n",
              "      <td>0</td>\n",
              "      <td>29015.884</td>\n",
              "      <td>buy residential real estate</td>\n",
              "    </tr>\n",
              "    <tr>\n",
              "      <th>7</th>\n",
              "      <td>0</td>\n",
              "      <td>668.953423</td>\n",
              "      <td>40</td>\n",
              "      <td>some college</td>\n",
              "      <td>2</td>\n",
              "      <td>civil partnership</td>\n",
              "      <td>1</td>\n",
              "      <td>F</td>\n",
              "      <td>business</td>\n",
              "      <td>0</td>\n",
              "      <td>16797.947</td>\n",
              "      <td>transactions with commercial real estate</td>\n",
              "    </tr>\n",
              "  </tbody>\n",
              "</table>\n",
              "</div>"
            ],
            "text/plain": [
              "   children  days_employed  dob_years     education  education_id  \\\n",
              "0         0     597.273402         21  some college             2   \n",
              "1         0     802.530741         29  some college             2   \n",
              "2         0     219.732426         24  some college             2   \n",
              "3         0     839.710094         22  some college             2   \n",
              "4         0    2358.600502         24  some college             2   \n",
              "5         0    2596.030110         44  some college             2   \n",
              "6         0     316.432989         25  some college             2   \n",
              "7         0     668.953423         40  some college             2   \n",
              "\n",
              "       family_status  family_status_id gender income_type  debt  total_income  \\\n",
              "0  civil partnership                 1      F    business     0     13912.788   \n",
              "1  civil partnership                 1      F    business     0     28421.429   \n",
              "2  civil partnership                 1      F    business     0     40112.181   \n",
              "3  civil partnership                 1      F    business     0     13870.793   \n",
              "4  civil partnership                 1    XNA    business     0     32624.825   \n",
              "5  civil partnership                 1      F    business     0     31735.658   \n",
              "6  civil partnership                 1      F    business     0     29015.884   \n",
              "7  civil partnership                 1      F    business     0     16797.947   \n",
              "\n",
              "                                    purpose  \n",
              "0  transactions with commercial real estate  \n",
              "1                  real estate transactions  \n",
              "2                    building a real estate  \n",
              "3                    building a real estate  \n",
              "4                           buy real estate  \n",
              "5  transactions with commercial real estate  \n",
              "6               buy residential real estate  \n",
              "7  transactions with commercial real estate  "
            ]
          },
          "execution_count": 64,
          "metadata": {},
          "output_type": "execute_result"
        }
      ],
      "source": [
        "# Mencari pola agar dapat menentukan apakah nasabah  XNA merupakan M atau F\n",
        "df_xna = df[(df['children'] == 0) & (df['education'] == 'some college') & (df['family_status'] == 'civil partnership') & (df['income_type'] == 'business') ]\n",
        "df_xna = df_xna[df_xna['purpose'].str.contains('estate')].reset_index(drop = True)\n",
        "df_xna\n",
        "\n",
        "# Disini saya memfilter tabel agar semuanya terlihat setara dengan kasus XNA\n",
        "# dimana dapat dilihat bahwa 100% dari karakteristik dari gender XNA merupakan F\n",
        "# Nilai XNA akan dirubah menjadi F"
      ]
    },
    {
      "cell_type": "code",
      "execution_count": null,
      "metadata": {
        "id": "m3WLOgY0AKG1"
      },
      "outputs": [],
      "source": [
        "# Atasi nilai-nilai yang bermasalah, jika ada\n",
        "#df.loc[df['gender'] == 'XNA' , 'gender'] = 'F'\n",
        "\n",
        "# Mengganti value XNA menjadi F\n",
        "\n",
        "df['gender'] = df['gender'].replace(['XNA'], 'F')"
      ]
    },
    {
      "cell_type": "code",
      "execution_count": null,
      "metadata": {
        "id": "NwL36RqNAKG1",
        "outputId": "64f344c5-8a8a-4492-f8b5-74261b3a90fa"
      },
      "outputs": [
        {
          "data": {
            "text/plain": [
              "array(['F', 'M'], dtype=object)"
            ]
          },
          "execution_count": 66,
          "metadata": {},
          "output_type": "execute_result"
        }
      ],
      "source": [
        "# Periksa hasilnya - pastikan bahwa masalahnya telah diperbaiki\n",
        "df['gender'].unique()\n",
        "\n",
        "# Value dari kolom gender hanya memiliki isi F ataupun M"
      ]
    },
    {
      "cell_type": "markdown",
      "metadata": {
        "id": "vQby_0ppAKG2"
      },
      "source": [
        "-------\n",
        "\n",
        "**Kolom gender DONE**\n",
        "\n",
        "-------"
      ]
    },
    {
      "cell_type": "code",
      "execution_count": null,
      "metadata": {
        "id": "7muX3g5rAKG2",
        "outputId": "690fe146-f466-43ec-e1e9-8f83203dcfb2"
      },
      "outputs": [
        {
          "data": {
            "text/plain": [
              "array(['employee', 'retiree', 'business', 'civil servant', 'unemployed',\n",
              "       'entrepreneur', 'student', 'paternity / maternity leave'],\n",
              "      dtype=object)"
            ]
          },
          "execution_count": 67,
          "metadata": {},
          "output_type": "execute_result"
        }
      ],
      "source": [
        "# Mari kita lihat nilai dalam kolom ini\n",
        "df['income_type'].unique()"
      ]
    },
    {
      "cell_type": "code",
      "execution_count": null,
      "metadata": {
        "id": "mdcQan12AKG2"
      },
      "outputs": [],
      "source": [
        "# Atasi nilai yang bermasalah, jika ada\n",
        "\n",
        "#### Tidak ada nilai yang salah"
      ]
    },
    {
      "cell_type": "markdown",
      "metadata": {
        "id": "OvzqUZS0AKG2"
      },
      "source": [
        "-------\n",
        "\n",
        "**Kolom income_type DONE**\n",
        "\n",
        "-------"
      ]
    },
    {
      "cell_type": "markdown",
      "metadata": {
        "id": "YWesdR07AKG3"
      },
      "source": [
        "\n",
        "\n",
        "Terdapat duplikat. Duplikat akan di drop karena dari hasil pengecekan duplikat yang ada memang benar benar duplikat karena semua nilainya sama. Tidak mungkin 1 orang memiliki value yang sama di semua kolom\n",
        "\n"
      ]
    },
    {
      "cell_type": "code",
      "execution_count": null,
      "metadata": {
        "id": "EWcJLtoVAKG3",
        "outputId": "2a6213d7-7e92-46fa-8b9b-8541229aca9e"
      },
      "outputs": [
        {
          "data": {
            "text/html": [
              "<div>\n",
              "<style scoped>\n",
              "    .dataframe tbody tr th:only-of-type {\n",
              "        vertical-align: middle;\n",
              "    }\n",
              "\n",
              "    .dataframe tbody tr th {\n",
              "        vertical-align: top;\n",
              "    }\n",
              "\n",
              "    .dataframe thead th {\n",
              "        text-align: right;\n",
              "    }\n",
              "</style>\n",
              "<table border=\"1\" class=\"dataframe\">\n",
              "  <thead>\n",
              "    <tr style=\"text-align: right;\">\n",
              "      <th></th>\n",
              "      <th>children</th>\n",
              "      <th>days_employed</th>\n",
              "      <th>dob_years</th>\n",
              "      <th>education</th>\n",
              "      <th>education_id</th>\n",
              "      <th>family_status</th>\n",
              "      <th>family_status_id</th>\n",
              "      <th>gender</th>\n",
              "      <th>income_type</th>\n",
              "      <th>debt</th>\n",
              "      <th>total_income</th>\n",
              "      <th>purpose</th>\n",
              "    </tr>\n",
              "  </thead>\n",
              "  <tbody>\n",
              "    <tr>\n",
              "      <th>2849</th>\n",
              "      <td>0</td>\n",
              "      <td>NaN</td>\n",
              "      <td>41</td>\n",
              "      <td>secondary education</td>\n",
              "      <td>1</td>\n",
              "      <td>married</td>\n",
              "      <td>0</td>\n",
              "      <td>F</td>\n",
              "      <td>employee</td>\n",
              "      <td>0</td>\n",
              "      <td>NaN</td>\n",
              "      <td>purchase of the house for my family</td>\n",
              "    </tr>\n",
              "    <tr>\n",
              "      <th>3290</th>\n",
              "      <td>0</td>\n",
              "      <td>NaN</td>\n",
              "      <td>58</td>\n",
              "      <td>secondary education</td>\n",
              "      <td>1</td>\n",
              "      <td>civil partnership</td>\n",
              "      <td>1</td>\n",
              "      <td>F</td>\n",
              "      <td>retiree</td>\n",
              "      <td>0</td>\n",
              "      <td>NaN</td>\n",
              "      <td>to have a wedding</td>\n",
              "    </tr>\n",
              "    <tr>\n",
              "      <th>4182</th>\n",
              "      <td>1</td>\n",
              "      <td>NaN</td>\n",
              "      <td>34</td>\n",
              "      <td>bachelor's degree</td>\n",
              "      <td>0</td>\n",
              "      <td>civil partnership</td>\n",
              "      <td>1</td>\n",
              "      <td>F</td>\n",
              "      <td>employee</td>\n",
              "      <td>0</td>\n",
              "      <td>NaN</td>\n",
              "      <td>wedding ceremony</td>\n",
              "    </tr>\n",
              "    <tr>\n",
              "      <th>4851</th>\n",
              "      <td>0</td>\n",
              "      <td>NaN</td>\n",
              "      <td>60</td>\n",
              "      <td>secondary education</td>\n",
              "      <td>1</td>\n",
              "      <td>civil partnership</td>\n",
              "      <td>1</td>\n",
              "      <td>F</td>\n",
              "      <td>retiree</td>\n",
              "      <td>0</td>\n",
              "      <td>NaN</td>\n",
              "      <td>wedding ceremony</td>\n",
              "    </tr>\n",
              "    <tr>\n",
              "      <th>5557</th>\n",
              "      <td>0</td>\n",
              "      <td>NaN</td>\n",
              "      <td>58</td>\n",
              "      <td>secondary education</td>\n",
              "      <td>1</td>\n",
              "      <td>civil partnership</td>\n",
              "      <td>1</td>\n",
              "      <td>F</td>\n",
              "      <td>retiree</td>\n",
              "      <td>0</td>\n",
              "      <td>NaN</td>\n",
              "      <td>to have a wedding</td>\n",
              "    </tr>\n",
              "    <tr>\n",
              "      <th>...</th>\n",
              "      <td>...</td>\n",
              "      <td>...</td>\n",
              "      <td>...</td>\n",
              "      <td>...</td>\n",
              "      <td>...</td>\n",
              "      <td>...</td>\n",
              "      <td>...</td>\n",
              "      <td>...</td>\n",
              "      <td>...</td>\n",
              "      <td>...</td>\n",
              "      <td>...</td>\n",
              "      <td>...</td>\n",
              "    </tr>\n",
              "    <tr>\n",
              "      <th>20702</th>\n",
              "      <td>0</td>\n",
              "      <td>NaN</td>\n",
              "      <td>64</td>\n",
              "      <td>secondary education</td>\n",
              "      <td>1</td>\n",
              "      <td>married</td>\n",
              "      <td>0</td>\n",
              "      <td>F</td>\n",
              "      <td>retiree</td>\n",
              "      <td>0</td>\n",
              "      <td>NaN</td>\n",
              "      <td>supplementary education</td>\n",
              "    </tr>\n",
              "    <tr>\n",
              "      <th>21032</th>\n",
              "      <td>0</td>\n",
              "      <td>NaN</td>\n",
              "      <td>60</td>\n",
              "      <td>secondary education</td>\n",
              "      <td>1</td>\n",
              "      <td>married</td>\n",
              "      <td>0</td>\n",
              "      <td>F</td>\n",
              "      <td>retiree</td>\n",
              "      <td>0</td>\n",
              "      <td>NaN</td>\n",
              "      <td>to become educated</td>\n",
              "    </tr>\n",
              "    <tr>\n",
              "      <th>21132</th>\n",
              "      <td>0</td>\n",
              "      <td>NaN</td>\n",
              "      <td>47</td>\n",
              "      <td>secondary education</td>\n",
              "      <td>1</td>\n",
              "      <td>married</td>\n",
              "      <td>0</td>\n",
              "      <td>F</td>\n",
              "      <td>employee</td>\n",
              "      <td>0</td>\n",
              "      <td>NaN</td>\n",
              "      <td>housing renovation</td>\n",
              "    </tr>\n",
              "    <tr>\n",
              "      <th>21281</th>\n",
              "      <td>1</td>\n",
              "      <td>NaN</td>\n",
              "      <td>30</td>\n",
              "      <td>bachelor's degree</td>\n",
              "      <td>0</td>\n",
              "      <td>married</td>\n",
              "      <td>0</td>\n",
              "      <td>F</td>\n",
              "      <td>employee</td>\n",
              "      <td>0</td>\n",
              "      <td>NaN</td>\n",
              "      <td>buy commercial real estate</td>\n",
              "    </tr>\n",
              "    <tr>\n",
              "      <th>21415</th>\n",
              "      <td>0</td>\n",
              "      <td>NaN</td>\n",
              "      <td>54</td>\n",
              "      <td>secondary education</td>\n",
              "      <td>1</td>\n",
              "      <td>married</td>\n",
              "      <td>0</td>\n",
              "      <td>F</td>\n",
              "      <td>retiree</td>\n",
              "      <td>0</td>\n",
              "      <td>NaN</td>\n",
              "      <td>housing transactions</td>\n",
              "    </tr>\n",
              "  </tbody>\n",
              "</table>\n",
              "<p>71 rows × 12 columns</p>\n",
              "</div>"
            ],
            "text/plain": [
              "       children  days_employed  dob_years            education  education_id  \\\n",
              "2849          0            NaN         41  secondary education             1   \n",
              "3290          0            NaN         58  secondary education             1   \n",
              "4182          1            NaN         34    bachelor's degree             0   \n",
              "4851          0            NaN         60  secondary education             1   \n",
              "5557          0            NaN         58  secondary education             1   \n",
              "...         ...            ...        ...                  ...           ...   \n",
              "20702         0            NaN         64  secondary education             1   \n",
              "21032         0            NaN         60  secondary education             1   \n",
              "21132         0            NaN         47  secondary education             1   \n",
              "21281         1            NaN         30    bachelor's degree             0   \n",
              "21415         0            NaN         54  secondary education             1   \n",
              "\n",
              "           family_status  family_status_id gender income_type  debt  \\\n",
              "2849             married                 0      F    employee     0   \n",
              "3290   civil partnership                 1      F     retiree     0   \n",
              "4182   civil partnership                 1      F    employee     0   \n",
              "4851   civil partnership                 1      F     retiree     0   \n",
              "5557   civil partnership                 1      F     retiree     0   \n",
              "...                  ...               ...    ...         ...   ...   \n",
              "20702            married                 0      F     retiree     0   \n",
              "21032            married                 0      F     retiree     0   \n",
              "21132            married                 0      F    employee     0   \n",
              "21281            married                 0      F    employee     0   \n",
              "21415            married                 0      F     retiree     0   \n",
              "\n",
              "       total_income                              purpose  \n",
              "2849            NaN  purchase of the house for my family  \n",
              "3290            NaN                    to have a wedding  \n",
              "4182            NaN                     wedding ceremony  \n",
              "4851            NaN                     wedding ceremony  \n",
              "5557            NaN                    to have a wedding  \n",
              "...             ...                                  ...  \n",
              "20702           NaN              supplementary education  \n",
              "21032           NaN                   to become educated  \n",
              "21132           NaN                   housing renovation  \n",
              "21281           NaN           buy commercial real estate  \n",
              "21415           NaN                 housing transactions  \n",
              "\n",
              "[71 rows x 12 columns]"
            ]
          },
          "execution_count": 70,
          "metadata": {},
          "output_type": "execute_result"
        }
      ],
      "source": [
        "# Periksa duplikat\n",
        "duplicated_first = df[df.duplicated(keep = 'first')]\n",
        "duplicated_first\n",
        "\n",
        "# Keep first"
      ]
    },
    {
      "cell_type": "code",
      "execution_count": null,
      "metadata": {
        "id": "8BxmUC3QAKG3"
      },
      "outputs": [],
      "source": [
        "# Atasi duplikat, jika ada\n",
        "df.drop_duplicates(inplace=True)\n",
        "\n",
        "# Drop duplicates"
      ]
    },
    {
      "cell_type": "code",
      "execution_count": null,
      "metadata": {
        "id": "sSUBNUZWAKG4",
        "outputId": "8b2c186b-cb5e-49a7-e43a-2487475d5430"
      },
      "outputs": [
        {
          "name": "stdout",
          "output_type": "stream",
          "text": [
            "<class 'pandas.core.frame.DataFrame'>\n",
            "Int64Index: 21454 entries, 0 to 21524\n",
            "Data columns (total 12 columns):\n",
            " #   Column            Non-Null Count  Dtype  \n",
            "---  ------            --------------  -----  \n",
            " 0   children          21454 non-null  int64  \n",
            " 1   days_employed     19351 non-null  float64\n",
            " 2   dob_years         21454 non-null  int64  \n",
            " 3   education         21454 non-null  object \n",
            " 4   education_id      21454 non-null  int64  \n",
            " 5   family_status     21454 non-null  object \n",
            " 6   family_status_id  21454 non-null  int64  \n",
            " 7   gender            21454 non-null  object \n",
            " 8   income_type       21454 non-null  object \n",
            " 9   debt              21454 non-null  int64  \n",
            " 10  total_income      19351 non-null  float64\n",
            " 11  purpose           21454 non-null  object \n",
            "dtypes: float64(2), int64(5), object(5)\n",
            "memory usage: 2.1+ MB\n"
          ]
        }
      ],
      "source": [
        "df.info()"
      ]
    },
    {
      "cell_type": "code",
      "execution_count": null,
      "metadata": {
        "id": "06eaFAthAKG4",
        "outputId": "974ba0b5-6d35-4d35-f5f0-c80da58a80a3"
      },
      "outputs": [
        {
          "data": {
            "text/plain": [
              "0"
            ]
          },
          "execution_count": 73,
          "metadata": {},
          "output_type": "execute_result"
        }
      ],
      "source": [
        "# Lakukan pemeriksaan terakhir untuk mengecek apakah kita memiliki duplikat\n",
        "df.duplicated().sum()"
      ]
    },
    {
      "cell_type": "code",
      "execution_count": null,
      "metadata": {
        "id": "tIlwwbM2AKG4",
        "outputId": "3614b174-590a-4ee8-b1c8-704cf9b2430c"
      },
      "outputs": [
        {
          "data": {
            "text/plain": [
              "(21454, 12)"
            ]
          },
          "execution_count": 74,
          "metadata": {},
          "output_type": "execute_result"
        }
      ],
      "source": [
        "# Periksa ukuran dataset yang sekarang Anda miliki setelah manipulasi pertama yang Anda lakukan\n",
        "df.shape"
      ]
    },
    {
      "cell_type": "markdown",
      "metadata": {
        "id": "mQU7sUVbAKG5"
      },
      "source": [
        "\n",
        "\n",
        "1. Ada beberapa perubahan di kolom children, yaitu mengganti angka 20 dan -1\n",
        "2. Ada sedikit perubahan pada days_employed, membuat semua nilai menjadi absolut dan setelah ini akan di lakukan pengisian data yang hilang dan data yang diatas 300000\n",
        "3. Pada dob_years dilakukan perubahan pada nilai 0\n",
        "4. Pada kolom education dilakukan str lower\n",
        "5. Dikolom gender dilakukan perubahan pada value XNA\n",
        "6. Menerapkan drop_duplicates()\n",
        "\n",
        "Baris tabel yang awalnya 21525 menjadi 21454. Sekitar 0.3% baris telah di drop\n",
        "\n"
      ]
    },
    {
      "cell_type": "markdown",
      "metadata": {
        "id": "4y3ymtQcAKG5"
      },
      "source": [
        "# Bekerja dengan nilai yang hilang"
      ]
    },
    {
      "cell_type": "code",
      "execution_count": null,
      "metadata": {
        "id": "Y8lUfcSRAKG6",
        "outputId": "faaaf9b8-6a83-4234-c215-b808749b74f1"
      },
      "outputs": [
        {
          "data": {
            "text/html": [
              "<div>\n",
              "<style scoped>\n",
              "    .dataframe tbody tr th:only-of-type {\n",
              "        vertical-align: middle;\n",
              "    }\n",
              "\n",
              "    .dataframe tbody tr th {\n",
              "        vertical-align: top;\n",
              "    }\n",
              "\n",
              "    .dataframe thead th {\n",
              "        text-align: right;\n",
              "    }\n",
              "</style>\n",
              "<table border=\"1\" class=\"dataframe\">\n",
              "  <thead>\n",
              "    <tr style=\"text-align: right;\">\n",
              "      <th></th>\n",
              "      <th>children</th>\n",
              "      <th>days_employed</th>\n",
              "      <th>dob_years</th>\n",
              "      <th>total_income</th>\n",
              "    </tr>\n",
              "  </thead>\n",
              "  <tbody>\n",
              "    <tr>\n",
              "      <th>mean</th>\n",
              "      <td>0.48</td>\n",
              "      <td>66914.730000</td>\n",
              "      <td>43.47</td>\n",
              "      <td>26787.570</td>\n",
              "    </tr>\n",
              "    <tr>\n",
              "      <th>median</th>\n",
              "      <td>0.00</td>\n",
              "      <td>2194.220567</td>\n",
              "      <td>42.00</td>\n",
              "      <td>23202.870</td>\n",
              "    </tr>\n",
              "    <tr>\n",
              "      <th>min</th>\n",
              "      <td>0.00</td>\n",
              "      <td>24.141633</td>\n",
              "      <td>19.00</td>\n",
              "      <td>3306.762</td>\n",
              "    </tr>\n",
              "    <tr>\n",
              "      <th>max</th>\n",
              "      <td>5.00</td>\n",
              "      <td>401755.400475</td>\n",
              "      <td>75.00</td>\n",
              "      <td>362496.645</td>\n",
              "    </tr>\n",
              "    <tr>\n",
              "      <th>missing value</th>\n",
              "      <td>0.00</td>\n",
              "      <td>2103.000000</td>\n",
              "      <td>0.00</td>\n",
              "      <td>2103.000</td>\n",
              "    </tr>\n",
              "  </tbody>\n",
              "</table>\n",
              "</div>"
            ],
            "text/plain": [
              "               children  days_employed  dob_years  total_income\n",
              "mean               0.48   66914.730000      43.47     26787.570\n",
              "median             0.00    2194.220567      42.00     23202.870\n",
              "min                0.00      24.141633      19.00      3306.762\n",
              "max                5.00  401755.400475      75.00    362496.645\n",
              "missing value      0.00    2103.000000       0.00      2103.000"
            ]
          },
          "execution_count": 76,
          "metadata": {},
          "output_type": "execute_result"
        }
      ],
      "source": [
        "# Temukan dictionary\n",
        "\n",
        "dict = {'children': {'mean': round(df['children'].mean(), 2), \n",
        "                     'median': df['children'].sort_values().median(),\n",
        "                     'min' : df['children'].min(),\n",
        "                     'max' : df['children'].max(),\n",
        "                     'missing value' : 0},\n",
        "       'days_employed': {'mean': round(df['days_employed'].mean(), 2), \n",
        "                     'median': df['days_employed'].sort_values().median(),\n",
        "                     'min' : df['days_employed'].min(),\n",
        "                     'max' : df['days_employed'].max(),\n",
        "                     'missing value' : 2103},\n",
        "       'dob_years': {'mean': round(df['dob_years'].mean(), 2), \n",
        "                     'median': df['dob_years'].sort_values().median(),\n",
        "                     'min' : df['dob_years'].min(),\n",
        "                     'max' : df['dob_years'].max(),\n",
        "                     'missing value' : 0},\n",
        "       'total_income': {'mean': round(df['total_income'].mean(), 2), \n",
        "                     'median': df['total_income'].sort_values().median(),\n",
        "                     'min' : df['total_income'].min(),\n",
        "                     'max' : df['total_income'].max(),\n",
        "                     'missing value' : 2103}}\n",
        "\n",
        "df_dict = pd.DataFrame(data = dict)\n",
        "df_dict\n",
        "# Show dictionary"
      ]
    },
    {
      "cell_type": "markdown",
      "metadata": {
        "id": "NXuPssm2AKG7"
      },
      "source": [
        "### Memperbaiki nilai yang hilang di `total_income`"
      ]
    },
    {
      "cell_type": "markdown",
      "metadata": {
        "id": "173-iG4lAKG7"
      },
      "source": [
        "\n",
        "\n",
        "Kolom total_income yang bernilai null akan di ganti semuanya\n",
        "\n",
        "------\n",
        "\n",
        "\n",
        "Usia akan dikategorikan menjadi:\n",
        "1. Remaja (<19)\n",
        "2. Dewasa (19-35)\n",
        "3. Dewasa akhir (36-45)\n",
        "4. Paruh Baya (46-60)\n",
        "5. Lansia(>61)\n",
        "\n",
        "Usia 19-35 dikategorikan masa awal dalam berkarir\n",
        "\n",
        "Usia 36-45 dikategorikan masa prima dalam berkarir\n",
        "\n",
        "Usia 46-60 dikategorikan masa transisi menuju pensiunan\n",
        "\n",
        "-------"
      ]
    },
    {
      "cell_type": "code",
      "execution_count": null,
      "metadata": {
        "id": "z-mdfgaqAKG7"
      },
      "outputs": [],
      "source": [
        "# Mari kita tulis sebuah fungsi untuk menghitung kategori usia\n",
        "def age_category(row):\n",
        "    age = row['dob_years']\n",
        "    \n",
        "    if age < 19:\n",
        "        return 'remaja'\n",
        "    elif age <= 35:\n",
        "        return 'dewasa awal'\n",
        "    elif age <= 45:\n",
        "        return 'dewasa akhir'\n",
        "    elif age <= 60:\n",
        "        return 'paruh baya'\n",
        "    elif age > 60:\n",
        "        return 'lansia'\n",
        "    "
      ]
    },
    {
      "cell_type": "code",
      "execution_count": null,
      "metadata": {
        "id": "r_Y2LG0bAKG8",
        "outputId": "fd230813-37fe-430a-9721-59f35852afc5"
      },
      "outputs": [
        {
          "name": "stdout",
          "output_type": "stream",
          "text": [
            "paruh baya\n"
          ]
        }
      ],
      "source": [
        "# Lakukan pengujian untuk melihat apakah fungsi Anda bekerja atau tidak\n",
        "coba_1 = age_category(df.iloc[4])\n",
        "print(coba_1)\n",
        "\n",
        "# Fungsi berfungsi dengan baik"
      ]
    },
    {
      "cell_type": "code",
      "execution_count": null,
      "metadata": {
        "id": "9ubJE3YSAKG8"
      },
      "outputs": [],
      "source": [
        "# Buatlah kolom baru berdasarkan fungsi\n",
        "\n",
        "df['age_category'] = df.apply(age_category, axis = 1)"
      ]
    },
    {
      "cell_type": "code",
      "execution_count": null,
      "metadata": {
        "id": "1DtqpofRAKG9",
        "outputId": "75f99366-5adb-437f-e569-14132d553907"
      },
      "outputs": [
        {
          "data": {
            "text/html": [
              "<div>\n",
              "<style scoped>\n",
              "    .dataframe tbody tr th:only-of-type {\n",
              "        vertical-align: middle;\n",
              "    }\n",
              "\n",
              "    .dataframe tbody tr th {\n",
              "        vertical-align: top;\n",
              "    }\n",
              "\n",
              "    .dataframe thead th {\n",
              "        text-align: right;\n",
              "    }\n",
              "</style>\n",
              "<table border=\"1\" class=\"dataframe\">\n",
              "  <thead>\n",
              "    <tr style=\"text-align: right;\">\n",
              "      <th></th>\n",
              "      <th>index</th>\n",
              "      <th>age_category</th>\n",
              "    </tr>\n",
              "  </thead>\n",
              "  <tbody>\n",
              "    <tr>\n",
              "      <th>0</th>\n",
              "      <td>0</td>\n",
              "      <td>dewasa akhir</td>\n",
              "    </tr>\n",
              "    <tr>\n",
              "      <th>1</th>\n",
              "      <td>1</td>\n",
              "      <td>dewasa akhir</td>\n",
              "    </tr>\n",
              "    <tr>\n",
              "      <th>2</th>\n",
              "      <td>2</td>\n",
              "      <td>dewasa awal</td>\n",
              "    </tr>\n",
              "    <tr>\n",
              "      <th>3</th>\n",
              "      <td>3</td>\n",
              "      <td>dewasa awal</td>\n",
              "    </tr>\n",
              "    <tr>\n",
              "      <th>4</th>\n",
              "      <td>4</td>\n",
              "      <td>paruh baya</td>\n",
              "    </tr>\n",
              "    <tr>\n",
              "      <th>...</th>\n",
              "      <td>...</td>\n",
              "      <td>...</td>\n",
              "    </tr>\n",
              "    <tr>\n",
              "      <th>21449</th>\n",
              "      <td>21520</td>\n",
              "      <td>dewasa akhir</td>\n",
              "    </tr>\n",
              "    <tr>\n",
              "      <th>21450</th>\n",
              "      <td>21521</td>\n",
              "      <td>lansia</td>\n",
              "    </tr>\n",
              "    <tr>\n",
              "      <th>21451</th>\n",
              "      <td>21522</td>\n",
              "      <td>dewasa akhir</td>\n",
              "    </tr>\n",
              "    <tr>\n",
              "      <th>21452</th>\n",
              "      <td>21523</td>\n",
              "      <td>dewasa akhir</td>\n",
              "    </tr>\n",
              "    <tr>\n",
              "      <th>21453</th>\n",
              "      <td>21524</td>\n",
              "      <td>dewasa akhir</td>\n",
              "    </tr>\n",
              "  </tbody>\n",
              "</table>\n",
              "<p>21454 rows × 2 columns</p>\n",
              "</div>"
            ],
            "text/plain": [
              "       index  age_category\n",
              "0          0  dewasa akhir\n",
              "1          1  dewasa akhir\n",
              "2          2   dewasa awal\n",
              "3          3   dewasa awal\n",
              "4          4    paruh baya\n",
              "...      ...           ...\n",
              "21449  21520  dewasa akhir\n",
              "21450  21521        lansia\n",
              "21451  21522  dewasa akhir\n",
              "21452  21523  dewasa akhir\n",
              "21453  21524  dewasa akhir\n",
              "\n",
              "[21454 rows x 2 columns]"
            ]
          },
          "execution_count": 80,
          "metadata": {},
          "output_type": "execute_result"
        }
      ],
      "source": [
        "# Periksa bagaimana nilai di dalam kolom baru\n",
        "\n",
        "df['age_category'].reset_index()"
      ]
    },
    {
      "cell_type": "code",
      "execution_count": null,
      "metadata": {
        "id": "j77WQ8i3AKG9"
      },
      "outputs": [],
      "source": [
        "# Buat tabel tanpa nilai yang hilang dan tampilkan beberapa barisnya untuk memastikan semuanya berjalan dengan baik\n",
        "\n",
        "df_notnull = df[(df['days_employed'].notnull()) & (df['total_income'].notnull())]"
      ]
    },
    {
      "cell_type": "markdown",
      "metadata": {
        "id": "neCX8oOvAKG9"
      },
      "source": [
        "**Jika kita hanya menggunakan age_category sebagai patokan maka hasil dari mean/median akan lebih liar**\n",
        "\n",
        "**Maka dari itu akan ditambahkan income_type sebagai tambahan patokan dalam membuat mean/median dari data yang hilang**"
      ]
    },
    {
      "cell_type": "code",
      "execution_count": null,
      "metadata": {
        "id": "edRAePv5AKG9",
        "outputId": "1c637107-ae98-45db-9e8d-e2e5313d43bc"
      },
      "outputs": [
        {
          "data": {
            "text/html": [
              "<div>\n",
              "<style scoped>\n",
              "    .dataframe tbody tr th:only-of-type {\n",
              "        vertical-align: middle;\n",
              "    }\n",
              "\n",
              "    .dataframe tbody tr th {\n",
              "        vertical-align: top;\n",
              "    }\n",
              "\n",
              "    .dataframe thead th {\n",
              "        text-align: right;\n",
              "    }\n",
              "</style>\n",
              "<table border=\"1\" class=\"dataframe\">\n",
              "  <thead>\n",
              "    <tr style=\"text-align: right;\">\n",
              "      <th></th>\n",
              "      <th>children</th>\n",
              "      <th>days_employed</th>\n",
              "      <th>dob_years</th>\n",
              "      <th>education</th>\n",
              "      <th>education_id</th>\n",
              "      <th>family_status</th>\n",
              "      <th>family_status_id</th>\n",
              "      <th>gender</th>\n",
              "      <th>income_type</th>\n",
              "      <th>debt</th>\n",
              "      <th>total_income</th>\n",
              "      <th>purpose</th>\n",
              "      <th>age_category</th>\n",
              "    </tr>\n",
              "  </thead>\n",
              "  <tbody>\n",
              "    <tr>\n",
              "      <th>2</th>\n",
              "      <td>0</td>\n",
              "      <td>5623.422610</td>\n",
              "      <td>33</td>\n",
              "      <td>secondary education</td>\n",
              "      <td>1</td>\n",
              "      <td>married</td>\n",
              "      <td>0</td>\n",
              "      <td>M</td>\n",
              "      <td>employee</td>\n",
              "      <td>0</td>\n",
              "      <td>23341.752</td>\n",
              "      <td>purchase of the house</td>\n",
              "      <td>dewasa awal</td>\n",
              "    </tr>\n",
              "    <tr>\n",
              "      <th>3</th>\n",
              "      <td>3</td>\n",
              "      <td>4124.747207</td>\n",
              "      <td>32</td>\n",
              "      <td>secondary education</td>\n",
              "      <td>1</td>\n",
              "      <td>married</td>\n",
              "      <td>0</td>\n",
              "      <td>M</td>\n",
              "      <td>employee</td>\n",
              "      <td>0</td>\n",
              "      <td>42820.568</td>\n",
              "      <td>supplementary education</td>\n",
              "      <td>dewasa awal</td>\n",
              "    </tr>\n",
              "    <tr>\n",
              "      <th>5</th>\n",
              "      <td>0</td>\n",
              "      <td>926.185831</td>\n",
              "      <td>27</td>\n",
              "      <td>bachelor's degree</td>\n",
              "      <td>0</td>\n",
              "      <td>civil partnership</td>\n",
              "      <td>1</td>\n",
              "      <td>M</td>\n",
              "      <td>business</td>\n",
              "      <td>0</td>\n",
              "      <td>40922.170</td>\n",
              "      <td>purchase of the house</td>\n",
              "      <td>dewasa awal</td>\n",
              "    </tr>\n",
              "    <tr>\n",
              "      <th>8</th>\n",
              "      <td>2</td>\n",
              "      <td>6929.865299</td>\n",
              "      <td>35</td>\n",
              "      <td>bachelor's degree</td>\n",
              "      <td>0</td>\n",
              "      <td>civil partnership</td>\n",
              "      <td>1</td>\n",
              "      <td>F</td>\n",
              "      <td>employee</td>\n",
              "      <td>0</td>\n",
              "      <td>15337.093</td>\n",
              "      <td>having a wedding</td>\n",
              "      <td>dewasa awal</td>\n",
              "    </tr>\n",
              "    <tr>\n",
              "      <th>15</th>\n",
              "      <td>1</td>\n",
              "      <td>972.364419</td>\n",
              "      <td>26</td>\n",
              "      <td>secondary education</td>\n",
              "      <td>1</td>\n",
              "      <td>married</td>\n",
              "      <td>0</td>\n",
              "      <td>F</td>\n",
              "      <td>employee</td>\n",
              "      <td>0</td>\n",
              "      <td>18691.345</td>\n",
              "      <td>construction of own property</td>\n",
              "      <td>dewasa awal</td>\n",
              "    </tr>\n",
              "  </tbody>\n",
              "</table>\n",
              "</div>"
            ],
            "text/plain": [
              "    children  days_employed  dob_years            education  education_id  \\\n",
              "2          0    5623.422610         33  secondary education             1   \n",
              "3          3    4124.747207         32  secondary education             1   \n",
              "5          0     926.185831         27    bachelor's degree             0   \n",
              "8          2    6929.865299         35    bachelor's degree             0   \n",
              "15         1     972.364419         26  secondary education             1   \n",
              "\n",
              "        family_status  family_status_id gender income_type  debt  \\\n",
              "2             married                 0      M    employee     0   \n",
              "3             married                 0      M    employee     0   \n",
              "5   civil partnership                 1      M    business     0   \n",
              "8   civil partnership                 1      F    employee     0   \n",
              "15            married                 0      F    employee     0   \n",
              "\n",
              "    total_income                       purpose age_category  \n",
              "2      23341.752         purchase of the house  dewasa awal  \n",
              "3      42820.568       supplementary education  dewasa awal  \n",
              "5      40922.170         purchase of the house  dewasa awal  \n",
              "8      15337.093              having a wedding  dewasa awal  \n",
              "15     18691.345  construction of own property  dewasa awal  "
            ]
          },
          "execution_count": 82,
          "metadata": {},
          "output_type": "execute_result"
        }
      ],
      "source": [
        "df_dewasa_awal = df_notnull[df_notnull['age_category'] == 'dewasa awal']\n",
        "\n",
        "df_dewasa_awal.head()"
      ]
    },
    {
      "cell_type": "code",
      "execution_count": null,
      "metadata": {
        "id": "JCvNqKA9AKG-",
        "outputId": "4ec07520-ab9c-433e-b1a5-c2f34814f42c"
      },
      "outputs": [
        {
          "data": {
            "text/plain": [
              "26836.105974121998"
            ]
          },
          "execution_count": 83,
          "metadata": {},
          "output_type": "execute_result"
        }
      ],
      "source": [
        "# Perhatikan nilai rata-rata untuk pendapatan berdasarkan faktor yang telah Anda identifikasi\n",
        "\n",
        "df_dewasa_awal['total_income'].mean()"
      ]
    },
    {
      "cell_type": "code",
      "execution_count": null,
      "metadata": {
        "id": "05Pmi2QcAKG-",
        "outputId": "d56066ed-1b52-4bd4-89a3-72d48bf9b320"
      },
      "outputs": [
        {
          "data": {
            "text/plain": [
              "23522.246"
            ]
          },
          "execution_count": 84,
          "metadata": {},
          "output_type": "execute_result"
        }
      ],
      "source": [
        "# Perhatikan nilai median untuk pendapatan berdasarkan faktor yang telah Anda identifikasi\n",
        "df_dewasa_awal['total_income'].sort_values().median()"
      ]
    },
    {
      "cell_type": "code",
      "execution_count": null,
      "metadata": {
        "scrolled": true,
        "id": "LSez1ha3AKG-",
        "outputId": "ea032afd-d67e-4828-d6aa-578dbabf3c5f"
      },
      "outputs": [
        {
          "data": {
            "image/png": "[encoded data removed]",
            "text/plain": [
              "<Figure size 432x288 with 1 Axes>"
            ]
          },
          "metadata": {
            "needs_background": "light"
          },
          "output_type": "display_data"
        }
      ],
      "source": [
        "plt.scatter(df_dewasa_awal['dob_years'], df_dewasa_awal['total_income'])\n",
        "\n",
        "# String\n",
        "xlab = 'Umur Nasabah'\n",
        "ylab = 'Total Income Nasabah'\n",
        "title = 'Grafik Total Pendapatan Nasabah Dewasa Awal'\n",
        "\n",
        "# Membuat label\n",
        "plt.xlabel(xlab)\n",
        "plt.ylabel(ylab)\n",
        "\n",
        "# Membuat judul\n",
        "\n",
        "plt.title(title)\n",
        "\n",
        "# Menampilkan plot\n",
        "plt.show()"
      ]
    },
    {
      "cell_type": "code",
      "execution_count": null,
      "metadata": {
        "id": "StnSL1a0AKG_",
        "outputId": "a7080b80-27d1-4a33-c946-f08fc4c1542a"
      },
      "outputs": [
        {
          "data": {
            "text/html": [
              "<div>\n",
              "<style scoped>\n",
              "    .dataframe tbody tr th:only-of-type {\n",
              "        vertical-align: middle;\n",
              "    }\n",
              "\n",
              "    .dataframe tbody tr th {\n",
              "        vertical-align: top;\n",
              "    }\n",
              "\n",
              "    .dataframe thead th {\n",
              "        text-align: right;\n",
              "    }\n",
              "</style>\n",
              "<table border=\"1\" class=\"dataframe\">\n",
              "  <thead>\n",
              "    <tr style=\"text-align: right;\">\n",
              "      <th></th>\n",
              "      <th>children</th>\n",
              "      <th>days_employed</th>\n",
              "      <th>dob_years</th>\n",
              "      <th>education</th>\n",
              "      <th>education_id</th>\n",
              "      <th>family_status</th>\n",
              "      <th>family_status_id</th>\n",
              "      <th>gender</th>\n",
              "      <th>income_type</th>\n",
              "      <th>debt</th>\n",
              "      <th>total_income</th>\n",
              "      <th>purpose</th>\n",
              "      <th>age_category</th>\n",
              "    </tr>\n",
              "  </thead>\n",
              "  <tbody>\n",
              "    <tr>\n",
              "      <th>0</th>\n",
              "      <td>1</td>\n",
              "      <td>8437.673028</td>\n",
              "      <td>42</td>\n",
              "      <td>bachelor's degree</td>\n",
              "      <td>0</td>\n",
              "      <td>married</td>\n",
              "      <td>0</td>\n",
              "      <td>F</td>\n",
              "      <td>employee</td>\n",
              "      <td>0</td>\n",
              "      <td>40620.102</td>\n",
              "      <td>purchase of the house</td>\n",
              "      <td>dewasa akhir</td>\n",
              "    </tr>\n",
              "    <tr>\n",
              "      <th>1</th>\n",
              "      <td>1</td>\n",
              "      <td>4024.803754</td>\n",
              "      <td>36</td>\n",
              "      <td>secondary education</td>\n",
              "      <td>1</td>\n",
              "      <td>married</td>\n",
              "      <td>0</td>\n",
              "      <td>F</td>\n",
              "      <td>employee</td>\n",
              "      <td>0</td>\n",
              "      <td>17932.802</td>\n",
              "      <td>car purchase</td>\n",
              "      <td>dewasa akhir</td>\n",
              "    </tr>\n",
              "    <tr>\n",
              "      <th>6</th>\n",
              "      <td>0</td>\n",
              "      <td>2879.202052</td>\n",
              "      <td>43</td>\n",
              "      <td>bachelor's degree</td>\n",
              "      <td>0</td>\n",
              "      <td>married</td>\n",
              "      <td>0</td>\n",
              "      <td>F</td>\n",
              "      <td>business</td>\n",
              "      <td>0</td>\n",
              "      <td>38484.156</td>\n",
              "      <td>housing transactions</td>\n",
              "      <td>dewasa akhir</td>\n",
              "    </tr>\n",
              "    <tr>\n",
              "      <th>9</th>\n",
              "      <td>0</td>\n",
              "      <td>2188.756445</td>\n",
              "      <td>41</td>\n",
              "      <td>secondary education</td>\n",
              "      <td>1</td>\n",
              "      <td>married</td>\n",
              "      <td>0</td>\n",
              "      <td>M</td>\n",
              "      <td>employee</td>\n",
              "      <td>0</td>\n",
              "      <td>23108.150</td>\n",
              "      <td>purchase of the house for my family</td>\n",
              "      <td>dewasa akhir</td>\n",
              "    </tr>\n",
              "    <tr>\n",
              "      <th>10</th>\n",
              "      <td>2</td>\n",
              "      <td>4171.483647</td>\n",
              "      <td>36</td>\n",
              "      <td>bachelor's degree</td>\n",
              "      <td>0</td>\n",
              "      <td>married</td>\n",
              "      <td>0</td>\n",
              "      <td>M</td>\n",
              "      <td>business</td>\n",
              "      <td>0</td>\n",
              "      <td>18230.959</td>\n",
              "      <td>buy real estate</td>\n",
              "      <td>dewasa akhir</td>\n",
              "    </tr>\n",
              "  </tbody>\n",
              "</table>\n",
              "</div>"
            ],
            "text/plain": [
              "    children  days_employed  dob_years            education  education_id  \\\n",
              "0          1    8437.673028         42    bachelor's degree             0   \n",
              "1          1    4024.803754         36  secondary education             1   \n",
              "6          0    2879.202052         43    bachelor's degree             0   \n",
              "9          0    2188.756445         41  secondary education             1   \n",
              "10         2    4171.483647         36    bachelor's degree             0   \n",
              "\n",
              "   family_status  family_status_id gender income_type  debt  total_income  \\\n",
              "0        married                 0      F    employee     0     40620.102   \n",
              "1        married                 0      F    employee     0     17932.802   \n",
              "6        married                 0      F    business     0     38484.156   \n",
              "9        married                 0      M    employee     0     23108.150   \n",
              "10       married                 0      M    business     0     18230.959   \n",
              "\n",
              "                                purpose  age_category  \n",
              "0                 purchase of the house  dewasa akhir  \n",
              "1                          car purchase  dewasa akhir  \n",
              "6                  housing transactions  dewasa akhir  \n",
              "9   purchase of the house for my family  dewasa akhir  \n",
              "10                      buy real estate  dewasa akhir  "
            ]
          },
          "execution_count": 86,
          "metadata": {},
          "output_type": "execute_result"
        }
      ],
      "source": [
        "df_dewasa_akhir = df_notnull[df_notnull['age_category'] == 'dewasa akhir']\n",
        "\n",
        "df_dewasa_akhir.head()"
      ]
    },
    {
      "cell_type": "code",
      "execution_count": null,
      "metadata": {
        "id": "W5djjZqUAKG_",
        "outputId": "d406de26-eede-4a4e-e371-9e6f093d3270"
      },
      "outputs": [
        {
          "data": {
            "text/plain": [
              "28635.843090256214"
            ]
          },
          "execution_count": 87,
          "metadata": {},
          "output_type": "execute_result"
        }
      ],
      "source": [
        "df_dewasa_akhir['total_income'].mean()"
      ]
    },
    {
      "cell_type": "code",
      "execution_count": null,
      "metadata": {
        "id": "A2xo89XLAKG_",
        "outputId": "70e19e3e-43bc-4ee1-ff8d-118b8c5b1ef1"
      },
      "outputs": [
        {
          "data": {
            "text/plain": [
              "24768.995000000003"
            ]
          },
          "execution_count": 88,
          "metadata": {},
          "output_type": "execute_result"
        }
      ],
      "source": [
        "df_dewasa_akhir['total_income'].sort_values().median()"
      ]
    },
    {
      "cell_type": "code",
      "execution_count": null,
      "metadata": {
        "id": "PsGw69DVAKG_",
        "outputId": "8480c6e9-0b2a-4d76-f453-627b51aac53b"
      },
      "outputs": [
        {
          "data": {
            "image/png": "[encoded data removed]",
            "text/plain": [
              "<Figure size 432x288 with 1 Axes>"
            ]
          },
          "metadata": {
            "needs_background": "light"
          },
          "output_type": "display_data"
        }
      ],
      "source": [
        "plt.scatter(df_dewasa_akhir['dob_years'], df_dewasa_akhir['total_income'])\n",
        "\n",
        "# String\n",
        "xlab = 'Umur Nasabah'\n",
        "ylab = 'Total Income Nasabah'\n",
        "title = 'Grafik Total Pendapatan Nasabah Dewasa Akhir'\n",
        "\n",
        "# Membuat label\n",
        "plt.xlabel(xlab)\n",
        "plt.ylabel(ylab)\n",
        "\n",
        "# Membuat judul\n",
        "\n",
        "plt.title(title)\n",
        "\n",
        "# Menampilkan plot\n",
        "plt.show()"
      ]
    },
    {
      "cell_type": "code",
      "execution_count": null,
      "metadata": {
        "id": "fS7yWJIeAKHA",
        "outputId": "284ae55a-afb7-4157-ad2a-0434c04c5ece"
      },
      "outputs": [
        {
          "data": {
            "text/html": [
              "<div>\n",
              "<style scoped>\n",
              "    .dataframe tbody tr th:only-of-type {\n",
              "        vertical-align: middle;\n",
              "    }\n",
              "\n",
              "    .dataframe tbody tr th {\n",
              "        vertical-align: top;\n",
              "    }\n",
              "\n",
              "    .dataframe thead th {\n",
              "        text-align: right;\n",
              "    }\n",
              "</style>\n",
              "<table border=\"1\" class=\"dataframe\">\n",
              "  <thead>\n",
              "    <tr style=\"text-align: right;\">\n",
              "      <th></th>\n",
              "      <th>children</th>\n",
              "      <th>days_employed</th>\n",
              "      <th>dob_years</th>\n",
              "      <th>education</th>\n",
              "      <th>education_id</th>\n",
              "      <th>family_status</th>\n",
              "      <th>family_status_id</th>\n",
              "      <th>gender</th>\n",
              "      <th>income_type</th>\n",
              "      <th>debt</th>\n",
              "      <th>total_income</th>\n",
              "      <th>purpose</th>\n",
              "      <th>age_category</th>\n",
              "    </tr>\n",
              "  </thead>\n",
              "  <tbody>\n",
              "    <tr>\n",
              "      <th>4</th>\n",
              "      <td>0</td>\n",
              "      <td>340266.072047</td>\n",
              "      <td>53</td>\n",
              "      <td>secondary education</td>\n",
              "      <td>1</td>\n",
              "      <td>civil partnership</td>\n",
              "      <td>1</td>\n",
              "      <td>F</td>\n",
              "      <td>retiree</td>\n",
              "      <td>0</td>\n",
              "      <td>25378.572</td>\n",
              "      <td>to have a wedding</td>\n",
              "      <td>paruh baya</td>\n",
              "    </tr>\n",
              "    <tr>\n",
              "      <th>7</th>\n",
              "      <td>0</td>\n",
              "      <td>152.779569</td>\n",
              "      <td>50</td>\n",
              "      <td>secondary education</td>\n",
              "      <td>1</td>\n",
              "      <td>married</td>\n",
              "      <td>0</td>\n",
              "      <td>M</td>\n",
              "      <td>employee</td>\n",
              "      <td>0</td>\n",
              "      <td>21731.829</td>\n",
              "      <td>education</td>\n",
              "      <td>paruh baya</td>\n",
              "    </tr>\n",
              "    <tr>\n",
              "      <th>13</th>\n",
              "      <td>0</td>\n",
              "      <td>1846.641941</td>\n",
              "      <td>54</td>\n",
              "      <td>some college</td>\n",
              "      <td>2</td>\n",
              "      <td>married</td>\n",
              "      <td>0</td>\n",
              "      <td>F</td>\n",
              "      <td>employee</td>\n",
              "      <td>0</td>\n",
              "      <td>20873.317</td>\n",
              "      <td>car purchase</td>\n",
              "      <td>paruh baya</td>\n",
              "    </tr>\n",
              "    <tr>\n",
              "      <th>14</th>\n",
              "      <td>0</td>\n",
              "      <td>1844.956182</td>\n",
              "      <td>56</td>\n",
              "      <td>bachelor's degree</td>\n",
              "      <td>0</td>\n",
              "      <td>civil partnership</td>\n",
              "      <td>1</td>\n",
              "      <td>F</td>\n",
              "      <td>business</td>\n",
              "      <td>1</td>\n",
              "      <td>26420.466</td>\n",
              "      <td>buy residential real estate</td>\n",
              "      <td>paruh baya</td>\n",
              "    </tr>\n",
              "    <tr>\n",
              "      <th>18</th>\n",
              "      <td>0</td>\n",
              "      <td>400281.136913</td>\n",
              "      <td>53</td>\n",
              "      <td>secondary education</td>\n",
              "      <td>1</td>\n",
              "      <td>widow / widower</td>\n",
              "      <td>2</td>\n",
              "      <td>F</td>\n",
              "      <td>retiree</td>\n",
              "      <td>0</td>\n",
              "      <td>9091.804</td>\n",
              "      <td>buying a second-hand car</td>\n",
              "      <td>paruh baya</td>\n",
              "    </tr>\n",
              "  </tbody>\n",
              "</table>\n",
              "</div>"
            ],
            "text/plain": [
              "    children  days_employed  dob_years            education  education_id  \\\n",
              "4          0  340266.072047         53  secondary education             1   \n",
              "7          0     152.779569         50  secondary education             1   \n",
              "13         0    1846.641941         54         some college             2   \n",
              "14         0    1844.956182         56    bachelor's degree             0   \n",
              "18         0  400281.136913         53  secondary education             1   \n",
              "\n",
              "        family_status  family_status_id gender income_type  debt  \\\n",
              "4   civil partnership                 1      F     retiree     0   \n",
              "7             married                 0      M    employee     0   \n",
              "13            married                 0      F    employee     0   \n",
              "14  civil partnership                 1      F    business     1   \n",
              "18    widow / widower                 2      F     retiree     0   \n",
              "\n",
              "    total_income                      purpose age_category  \n",
              "4      25378.572            to have a wedding   paruh baya  \n",
              "7      21731.829                    education   paruh baya  \n",
              "13     20873.317                 car purchase   paruh baya  \n",
              "14     26420.466  buy residential real estate   paruh baya  \n",
              "18      9091.804     buying a second-hand car   paruh baya  "
            ]
          },
          "execution_count": 90,
          "metadata": {},
          "output_type": "execute_result"
        }
      ],
      "source": [
        "df_paruh_baya = df_notnull[df_notnull['age_category'] == 'paruh baya']\n",
        "\n",
        "df_paruh_baya.head()"
      ]
    },
    {
      "cell_type": "code",
      "execution_count": null,
      "metadata": {
        "id": "Q55oUdWiAKHA",
        "outputId": "dbc65e5e-8169-41c4-dc33-754a787b8d02"
      },
      "outputs": [
        {
          "data": {
            "text/plain": [
              "26367.23196998894"
            ]
          },
          "execution_count": 91,
          "metadata": {},
          "output_type": "execute_result"
        }
      ],
      "source": [
        "# Perhatikan nilai rata-rata untuk pendapatan berdasarkan faktor yang telah Anda identifikasi\n",
        "\n",
        "df_paruh_baya['total_income'].mean()"
      ]
    },
    {
      "cell_type": "code",
      "execution_count": null,
      "metadata": {
        "id": "EYAoLcKOAKHA",
        "outputId": "21e51dec-b651-48fa-ff70-766c0e6a8cb5"
      },
      "outputs": [
        {
          "data": {
            "text/plain": [
              "22852.007"
            ]
          },
          "execution_count": 92,
          "metadata": {},
          "output_type": "execute_result"
        }
      ],
      "source": [
        "# Perhatikan nilai median untuk pendapatan berdasarkan faktor yang telah Anda identifikasi\n",
        "df_paruh_baya['total_income'].sort_values().median()"
      ]
    },
    {
      "cell_type": "code",
      "execution_count": null,
      "metadata": {
        "id": "2L3Ulk_SAKHA",
        "outputId": "e44e8936-1c77-4a57-e859-576bfa51b058"
      },
      "outputs": [
        {
          "data": {
            "image/png": "[encoded data removed]",
            "text/plain": [
              "<Figure size 432x288 with 1 Axes>"
            ]
          },
          "metadata": {
            "needs_background": "light"
          },
          "output_type": "display_data"
        }
      ],
      "source": [
        "plt.scatter(df_paruh_baya['dob_years'], df_paruh_baya['total_income'])\n",
        "\n",
        "# String\n",
        "xlab = 'Umur Nasabah'\n",
        "ylab = 'Total Income Nasabah'\n",
        "title = 'Grafik Total Pendapatan Nasabah Paruh Baya'\n",
        "\n",
        "# Membuat label\n",
        "plt.xlabel(xlab)\n",
        "plt.ylabel(ylab)\n",
        "\n",
        "# Membuat judul\n",
        "\n",
        "plt.title(title)\n",
        "\n",
        "# Menampilkan plot\n",
        "plt.show()"
      ]
    },
    {
      "cell_type": "code",
      "execution_count": null,
      "metadata": {
        "id": "QxWratk3AKHA",
        "outputId": "12ee9fee-b6b7-4f90-c173-16817783394e"
      },
      "outputs": [
        {
          "data": {
            "text/html": [
              "<div>\n",
              "<style scoped>\n",
              "    .dataframe tbody tr th:only-of-type {\n",
              "        vertical-align: middle;\n",
              "    }\n",
              "\n",
              "    .dataframe tbody tr th {\n",
              "        vertical-align: top;\n",
              "    }\n",
              "\n",
              "    .dataframe thead th {\n",
              "        text-align: right;\n",
              "    }\n",
              "</style>\n",
              "<table border=\"1\" class=\"dataframe\">\n",
              "  <thead>\n",
              "    <tr style=\"text-align: right;\">\n",
              "      <th></th>\n",
              "      <th>children</th>\n",
              "      <th>days_employed</th>\n",
              "      <th>dob_years</th>\n",
              "      <th>education</th>\n",
              "      <th>education_id</th>\n",
              "      <th>family_status</th>\n",
              "      <th>family_status_id</th>\n",
              "      <th>gender</th>\n",
              "      <th>income_type</th>\n",
              "      <th>debt</th>\n",
              "      <th>total_income</th>\n",
              "      <th>purpose</th>\n",
              "      <th>age_category</th>\n",
              "    </tr>\n",
              "  </thead>\n",
              "  <tbody>\n",
              "    <tr>\n",
              "      <th>25</th>\n",
              "      <td>0</td>\n",
              "      <td>363548.489348</td>\n",
              "      <td>67</td>\n",
              "      <td>secondary education</td>\n",
              "      <td>1</td>\n",
              "      <td>married</td>\n",
              "      <td>0</td>\n",
              "      <td>M</td>\n",
              "      <td>retiree</td>\n",
              "      <td>0</td>\n",
              "      <td>8818.041</td>\n",
              "      <td>buy real estate</td>\n",
              "      <td>lansia</td>\n",
              "    </tr>\n",
              "    <tr>\n",
              "      <th>30</th>\n",
              "      <td>1</td>\n",
              "      <td>335581.668515</td>\n",
              "      <td>62</td>\n",
              "      <td>secondary education</td>\n",
              "      <td>1</td>\n",
              "      <td>married</td>\n",
              "      <td>0</td>\n",
              "      <td>F</td>\n",
              "      <td>retiree</td>\n",
              "      <td>0</td>\n",
              "      <td>27432.971</td>\n",
              "      <td>transactions with commercial real estate</td>\n",
              "      <td>lansia</td>\n",
              "    </tr>\n",
              "    <tr>\n",
              "      <th>35</th>\n",
              "      <td>0</td>\n",
              "      <td>394021.072184</td>\n",
              "      <td>68</td>\n",
              "      <td>secondary education</td>\n",
              "      <td>1</td>\n",
              "      <td>civil partnership</td>\n",
              "      <td>1</td>\n",
              "      <td>M</td>\n",
              "      <td>retiree</td>\n",
              "      <td>0</td>\n",
              "      <td>12448.908</td>\n",
              "      <td>having a wedding</td>\n",
              "      <td>lansia</td>\n",
              "    </tr>\n",
              "    <tr>\n",
              "      <th>50</th>\n",
              "      <td>0</td>\n",
              "      <td>353731.432338</td>\n",
              "      <td>63</td>\n",
              "      <td>secondary education</td>\n",
              "      <td>1</td>\n",
              "      <td>married</td>\n",
              "      <td>0</td>\n",
              "      <td>F</td>\n",
              "      <td>retiree</td>\n",
              "      <td>0</td>\n",
              "      <td>14774.837</td>\n",
              "      <td>cars</td>\n",
              "      <td>lansia</td>\n",
              "    </tr>\n",
              "    <tr>\n",
              "      <th>53</th>\n",
              "      <td>0</td>\n",
              "      <td>4219.883386</td>\n",
              "      <td>61</td>\n",
              "      <td>secondary education</td>\n",
              "      <td>1</td>\n",
              "      <td>divorced</td>\n",
              "      <td>3</td>\n",
              "      <td>F</td>\n",
              "      <td>business</td>\n",
              "      <td>0</td>\n",
              "      <td>49832.576</td>\n",
              "      <td>purchase of my own house</td>\n",
              "      <td>lansia</td>\n",
              "    </tr>\n",
              "  </tbody>\n",
              "</table>\n",
              "</div>"
            ],
            "text/plain": [
              "    children  days_employed  dob_years            education  education_id  \\\n",
              "25         0  363548.489348         67  secondary education             1   \n",
              "30         1  335581.668515         62  secondary education             1   \n",
              "35         0  394021.072184         68  secondary education             1   \n",
              "50         0  353731.432338         63  secondary education             1   \n",
              "53         0    4219.883386         61  secondary education             1   \n",
              "\n",
              "        family_status  family_status_id gender income_type  debt  \\\n",
              "25            married                 0      M     retiree     0   \n",
              "30            married                 0      F     retiree     0   \n",
              "35  civil partnership                 1      M     retiree     0   \n",
              "50            married                 0      F     retiree     0   \n",
              "53           divorced                 3      F    business     0   \n",
              "\n",
              "    total_income                                   purpose age_category  \n",
              "25      8818.041                           buy real estate       lansia  \n",
              "30     27432.971  transactions with commercial real estate       lansia  \n",
              "35     12448.908                          having a wedding       lansia  \n",
              "50     14774.837                                      cars       lansia  \n",
              "53     49832.576                  purchase of my own house       lansia  "
            ]
          },
          "execution_count": 94,
          "metadata": {},
          "output_type": "execute_result"
        }
      ],
      "source": [
        "df_lansia = df_notnull[df_notnull['age_category'] == 'lansia']\n",
        "\n",
        "df_lansia.head()"
      ]
    },
    {
      "cell_type": "code",
      "execution_count": null,
      "metadata": {
        "id": "M6Gc_ckRAKHA",
        "outputId": "f37403ff-8b5b-43f3-9382-9c1d709108fc"
      },
      "outputs": [
        {
          "data": {
            "text/plain": [
              "23057.777452269172"
            ]
          },
          "execution_count": 95,
          "metadata": {},
          "output_type": "execute_result"
        }
      ],
      "source": [
        "# Perhatikan nilai rata-rata untuk pendapatan berdasarkan faktor yang telah Anda identifikasi\n",
        "\n",
        "df_lansia['total_income'].mean()"
      ]
    },
    {
      "cell_type": "code",
      "execution_count": null,
      "metadata": {
        "id": "gvXHsS6CAKHB",
        "outputId": "e4decfa7-8583-4900-ab1d-4407eb340e2f"
      },
      "outputs": [
        {
          "data": {
            "text/plain": [
              "19637.056"
            ]
          },
          "execution_count": 96,
          "metadata": {},
          "output_type": "execute_result"
        }
      ],
      "source": [
        "# Perhatikan nilai median untuk pendapatan berdasarkan faktor yang telah Anda identifikasi\n",
        "df_lansia['total_income'].sort_values().median()"
      ]
    },
    {
      "cell_type": "code",
      "execution_count": null,
      "metadata": {
        "id": "ejBgkYEOAKHB",
        "outputId": "b27d2ce6-4dd1-4fa9-d88a-c796179ad3f9"
      },
      "outputs": [
        {
          "data": {
            "image/png": "[encoded data removed]",
            "text/plain": [
              "<Figure size 432x288 with 1 Axes>"
            ]
          },
          "metadata": {
            "needs_background": "light"
          },
          "output_type": "display_data"
        }
      ],
      "source": [
        "#plt.plot(df_lansia['total_income'],'o')\n",
        "\n",
        "plt.scatter(df_lansia['dob_years'], df_lansia['total_income'])\n",
        "\n",
        "# String\n",
        "xlab = 'Umur Nasabah'\n",
        "ylab = 'Total Income Nasabah'\n",
        "title = 'Grafik Total Pendapatan Nasabah Lansia'\n",
        "\n",
        "# Membuat label\n",
        "plt.xlabel(xlab)\n",
        "plt.ylabel(ylab)\n",
        "\n",
        "# Membuat judul\n",
        "\n",
        "plt.title(title)\n",
        "\n",
        "# Menampilkan plot\n",
        "plt.show()"
      ]
    },
    {
      "cell_type": "code",
      "execution_count": null,
      "metadata": {
        "scrolled": true,
        "id": "e3dabumZAKHB",
        "outputId": "08dda688-4f14-433e-b266-5b8a13fec6e7"
      },
      "outputs": [
        {
          "data": {
            "text/html": [
              "<div>\n",
              "<style scoped>\n",
              "    .dataframe tbody tr th:only-of-type {\n",
              "        vertical-align: middle;\n",
              "    }\n",
              "\n",
              "    .dataframe tbody tr th {\n",
              "        vertical-align: top;\n",
              "    }\n",
              "\n",
              "    .dataframe thead th {\n",
              "        text-align: right;\n",
              "    }\n",
              "</style>\n",
              "<table border=\"1\" class=\"dataframe\">\n",
              "  <thead>\n",
              "    <tr style=\"text-align: right;\">\n",
              "      <th>income_type</th>\n",
              "      <th>business</th>\n",
              "      <th>civil servant</th>\n",
              "      <th>employee</th>\n",
              "      <th>entrepreneur</th>\n",
              "      <th>paternity / maternity leave</th>\n",
              "      <th>retiree</th>\n",
              "      <th>student</th>\n",
              "      <th>unemployed</th>\n",
              "      <th>All</th>\n",
              "    </tr>\n",
              "    <tr>\n",
              "      <th>age_category</th>\n",
              "      <th></th>\n",
              "      <th></th>\n",
              "      <th></th>\n",
              "      <th></th>\n",
              "      <th></th>\n",
              "      <th></th>\n",
              "      <th></th>\n",
              "      <th></th>\n",
              "      <th></th>\n",
              "    </tr>\n",
              "  </thead>\n",
              "  <tbody>\n",
              "    <tr>\n",
              "      <th>dewasa akhir</th>\n",
              "      <td>28505.919</td>\n",
              "      <td>23202.1090</td>\n",
              "      <td>23190.1320</td>\n",
              "      <td>NaN</td>\n",
              "      <td>8612.661</td>\n",
              "      <td>20319.6000</td>\n",
              "      <td>NaN</td>\n",
              "      <td>32435.6020</td>\n",
              "      <td>24768.995</td>\n",
              "    </tr>\n",
              "    <tr>\n",
              "      <th>dewasa awal</th>\n",
              "      <td>26512.761</td>\n",
              "      <td>24368.0150</td>\n",
              "      <td>22261.7270</td>\n",
              "      <td>79866.103</td>\n",
              "      <td>NaN</td>\n",
              "      <td>15378.5635</td>\n",
              "      <td>15712.26</td>\n",
              "      <td>9593.1190</td>\n",
              "      <td>23522.246</td>\n",
              "    </tr>\n",
              "    <tr>\n",
              "      <th>lansia</th>\n",
              "      <td>29171.989</td>\n",
              "      <td>24623.8775</td>\n",
              "      <td>23550.5120</td>\n",
              "      <td>NaN</td>\n",
              "      <td>NaN</td>\n",
              "      <td>18412.9250</td>\n",
              "      <td>NaN</td>\n",
              "      <td>NaN</td>\n",
              "      <td>19637.056</td>\n",
              "    </tr>\n",
              "    <tr>\n",
              "      <th>paruh baya</th>\n",
              "      <td>28352.413</td>\n",
              "      <td>23847.2850</td>\n",
              "      <td>22745.1130</td>\n",
              "      <td>NaN</td>\n",
              "      <td>NaN</td>\n",
              "      <td>19526.8120</td>\n",
              "      <td>NaN</td>\n",
              "      <td>NaN</td>\n",
              "      <td>22852.007</td>\n",
              "    </tr>\n",
              "    <tr>\n",
              "      <th>All</th>\n",
              "      <td>27577.272</td>\n",
              "      <td>24071.6695</td>\n",
              "      <td>22815.1035</td>\n",
              "      <td>79866.103</td>\n",
              "      <td>8612.661</td>\n",
              "      <td>18962.3180</td>\n",
              "      <td>15712.26</td>\n",
              "      <td>21014.3605</td>\n",
              "      <td>23202.870</td>\n",
              "    </tr>\n",
              "  </tbody>\n",
              "</table>\n",
              "</div>"
            ],
            "text/plain": [
              "income_type    business  civil servant    employee  entrepreneur  \\\n",
              "age_category                                                       \n",
              "dewasa akhir  28505.919     23202.1090  23190.1320           NaN   \n",
              "dewasa awal   26512.761     24368.0150  22261.7270     79866.103   \n",
              "lansia        29171.989     24623.8775  23550.5120           NaN   \n",
              "paruh baya    28352.413     23847.2850  22745.1130           NaN   \n",
              "All           27577.272     24071.6695  22815.1035     79866.103   \n",
              "\n",
              "income_type   paternity / maternity leave     retiree   student  unemployed  \\\n",
              "age_category                                                                  \n",
              "dewasa akhir                     8612.661  20319.6000       NaN  32435.6020   \n",
              "dewasa awal                           NaN  15378.5635  15712.26   9593.1190   \n",
              "lansia                                NaN  18412.9250       NaN         NaN   \n",
              "paruh baya                            NaN  19526.8120       NaN         NaN   \n",
              "All                              8612.661  18962.3180  15712.26  21014.3605   \n",
              "\n",
              "income_type         All  \n",
              "age_category             \n",
              "dewasa akhir  24768.995  \n",
              "dewasa awal   23522.246  \n",
              "lansia        19637.056  \n",
              "paruh baya    22852.007  \n",
              "All           23202.870  "
            ]
          },
          "execution_count": 98,
          "metadata": {},
          "output_type": "execute_result"
        }
      ],
      "source": [
        "df_notnull.pivot_table(index = 'age_category', columns = 'income_type', values = 'total_income', \n",
        "                       aggfunc = 'median', margins = True)"
      ]
    },
    {
      "cell_type": "markdown",
      "metadata": {
        "id": "Y8AMQ68kAKHC"
      },
      "source": [
        "**Data lebih spesifik dan akan membuat hasil dari total_income lebih akurat**\n",
        "\n",
        "**Digunakannya median karena ada beberapa data yang terlalu rendah dan ada beberapa data yang nilainya terlalu tinggi seperti yang dapat dilihat dari plot di atas**"
      ]
    },
    {
      "cell_type": "code",
      "execution_count": null,
      "metadata": {
        "id": "eaTOGWZpAKHC"
      },
      "outputs": [],
      "source": [
        "# Fungsi untuk mengisi total_income mising value\n",
        "\n",
        "def fill_missing_total_income (dataframe, agg_column, value_column):\n",
        "    grouped_values = dataframe.groupby(agg_column)[value_column].median().reset_index()\n",
        "    size = len(grouped_values)\n",
        "    for i in range(size):\n",
        "        group = grouped_values[agg_column][i]\n",
        "        value = grouped_values[value_column][i]\n",
        "        dataframe.loc[(dataframe[agg_column]==group) & (dataframe[value_column].isna()), value_column] = value\n",
        "    return dataframe"
      ]
    },
    {
      "cell_type": "code",
      "execution_count": null,
      "metadata": {
        "id": "o4_DfDDfAKHD"
      },
      "outputs": [],
      "source": [
        "# Terapkan fungsi tersebut ke setiap baris\n",
        "\n",
        "df = fill_missing_total_income(dataframe = df, agg_column = 'income_type', value_column = 'total_income')"
      ]
    },
    {
      "cell_type": "code",
      "execution_count": null,
      "metadata": {
        "id": "iv34bLIoAKHD",
        "outputId": "ff4aec37-c75b-4033-d4ee-d801f140c336"
      },
      "outputs": [
        {
          "data": {
            "text/html": [
              "<div>\n",
              "<style scoped>\n",
              "    .dataframe tbody tr th:only-of-type {\n",
              "        vertical-align: middle;\n",
              "    }\n",
              "\n",
              "    .dataframe tbody tr th {\n",
              "        vertical-align: top;\n",
              "    }\n",
              "\n",
              "    .dataframe thead th {\n",
              "        text-align: right;\n",
              "    }\n",
              "</style>\n",
              "<table border=\"1\" class=\"dataframe\">\n",
              "  <thead>\n",
              "    <tr style=\"text-align: right;\">\n",
              "      <th></th>\n",
              "      <th>index</th>\n",
              "      <th>total_income</th>\n",
              "    </tr>\n",
              "  </thead>\n",
              "  <tbody>\n",
              "    <tr>\n",
              "      <th>0</th>\n",
              "      <td>0</td>\n",
              "      <td>40620.102</td>\n",
              "    </tr>\n",
              "    <tr>\n",
              "      <th>1</th>\n",
              "      <td>1</td>\n",
              "      <td>17932.802</td>\n",
              "    </tr>\n",
              "    <tr>\n",
              "      <th>2</th>\n",
              "      <td>2</td>\n",
              "      <td>23341.752</td>\n",
              "    </tr>\n",
              "    <tr>\n",
              "      <th>3</th>\n",
              "      <td>3</td>\n",
              "      <td>42820.568</td>\n",
              "    </tr>\n",
              "    <tr>\n",
              "      <th>4</th>\n",
              "      <td>4</td>\n",
              "      <td>25378.572</td>\n",
              "    </tr>\n",
              "    <tr>\n",
              "      <th>...</th>\n",
              "      <td>...</td>\n",
              "      <td>...</td>\n",
              "    </tr>\n",
              "    <tr>\n",
              "      <th>21449</th>\n",
              "      <td>21520</td>\n",
              "      <td>35966.698</td>\n",
              "    </tr>\n",
              "    <tr>\n",
              "      <th>21450</th>\n",
              "      <td>21521</td>\n",
              "      <td>24959.969</td>\n",
              "    </tr>\n",
              "    <tr>\n",
              "      <th>21451</th>\n",
              "      <td>21522</td>\n",
              "      <td>14347.610</td>\n",
              "    </tr>\n",
              "    <tr>\n",
              "      <th>21452</th>\n",
              "      <td>21523</td>\n",
              "      <td>39054.888</td>\n",
              "    </tr>\n",
              "    <tr>\n",
              "      <th>21453</th>\n",
              "      <td>21524</td>\n",
              "      <td>13127.587</td>\n",
              "    </tr>\n",
              "  </tbody>\n",
              "</table>\n",
              "<p>21454 rows × 2 columns</p>\n",
              "</div>"
            ],
            "text/plain": [
              "       index  total_income\n",
              "0          0     40620.102\n",
              "1          1     17932.802\n",
              "2          2     23341.752\n",
              "3          3     42820.568\n",
              "4          4     25378.572\n",
              "...      ...           ...\n",
              "21449  21520     35966.698\n",
              "21450  21521     24959.969\n",
              "21451  21522     14347.610\n",
              "21452  21523     39054.888\n",
              "21453  21524     13127.587\n",
              "\n",
              "[21454 rows x 2 columns]"
            ]
          },
          "execution_count": 101,
          "metadata": {},
          "output_type": "execute_result"
        }
      ],
      "source": [
        "# Memeriksa bagaimana nilai di dalam kolom baru\n",
        "df['total_income'].reset_index()"
      ]
    },
    {
      "cell_type": "code",
      "execution_count": null,
      "metadata": {
        "id": "H_snn57pAKHD",
        "outputId": "cb9f5d2f-237b-481a-d45b-e26e1eb42f34"
      },
      "outputs": [
        {
          "data": {
            "text/html": [
              "<div>\n",
              "<style scoped>\n",
              "    .dataframe tbody tr th:only-of-type {\n",
              "        vertical-align: middle;\n",
              "    }\n",
              "\n",
              "    .dataframe tbody tr th {\n",
              "        vertical-align: top;\n",
              "    }\n",
              "\n",
              "    .dataframe thead th {\n",
              "        text-align: right;\n",
              "    }\n",
              "</style>\n",
              "<table border=\"1\" class=\"dataframe\">\n",
              "  <thead>\n",
              "    <tr style=\"text-align: right;\">\n",
              "      <th></th>\n",
              "      <th>children</th>\n",
              "      <th>days_employed</th>\n",
              "      <th>dob_years</th>\n",
              "      <th>education</th>\n",
              "      <th>education_id</th>\n",
              "      <th>family_status</th>\n",
              "      <th>family_status_id</th>\n",
              "      <th>gender</th>\n",
              "      <th>income_type</th>\n",
              "      <th>debt</th>\n",
              "      <th>total_income</th>\n",
              "      <th>purpose</th>\n",
              "      <th>age_category</th>\n",
              "    </tr>\n",
              "  </thead>\n",
              "  <tbody>\n",
              "  </tbody>\n",
              "</table>\n",
              "</div>"
            ],
            "text/plain": [
              "Empty DataFrame\n",
              "Columns: [children, days_employed, dob_years, education, education_id, family_status, family_status_id, gender, income_type, debt, total_income, purpose, age_category]\n",
              "Index: []"
            ]
          },
          "execution_count": 102,
          "metadata": {},
          "output_type": "execute_result"
        }
      ],
      "source": [
        "# Periksa apakah kita mendapatkan kesalahan\n",
        "df[df['total_income'].isnull()]"
      ]
    },
    {
      "cell_type": "code",
      "execution_count": null,
      "metadata": {
        "id": "Od9909vbAKHE",
        "outputId": "7b120528-d512-4ed9-c3e4-051fa153d269"
      },
      "outputs": [
        {
          "name": "stdout",
          "output_type": "stream",
          "text": [
            "<class 'pandas.core.frame.DataFrame'>\n",
            "Int64Index: 21454 entries, 0 to 21524\n",
            "Data columns (total 13 columns):\n",
            " #   Column            Non-Null Count  Dtype  \n",
            "---  ------            --------------  -----  \n",
            " 0   children          21454 non-null  int64  \n",
            " 1   days_employed     19351 non-null  float64\n",
            " 2   dob_years         21454 non-null  int64  \n",
            " 3   education         21454 non-null  object \n",
            " 4   education_id      21454 non-null  int64  \n",
            " 5   family_status     21454 non-null  object \n",
            " 6   family_status_id  21454 non-null  int64  \n",
            " 7   gender            21454 non-null  object \n",
            " 8   income_type       21454 non-null  object \n",
            " 9   debt              21454 non-null  int64  \n",
            " 10  total_income      21454 non-null  float64\n",
            " 11  purpose           21454 non-null  object \n",
            " 12  age_category      21454 non-null  object \n",
            "dtypes: float64(2), int64(5), object(6)\n",
            "memory usage: 2.3+ MB\n"
          ]
        }
      ],
      "source": [
        "# Periksa jumlah entri di kolom\n",
        "df.info()"
      ]
    },
    {
      "cell_type": "markdown",
      "metadata": {
        "id": "11AMUNg7AKHE"
      },
      "source": [
        "**Kita tidak mempunyai data mengenai paruh baya dengan income_type entrepreneur maka total_income pada baris ini akan diisi dengan median dari total_income dari kolom age_category = paruh baya**"
      ]
    },
    {
      "cell_type": "code",
      "execution_count": null,
      "metadata": {
        "id": "16r_RJloAKHF",
        "outputId": "dd7adf64-62d9-4fc7-fb09-2c4aaea104aa"
      },
      "outputs": [
        {
          "name": "stdout",
          "output_type": "stream",
          "text": [
            "<class 'pandas.core.frame.DataFrame'>\n",
            "Int64Index: 21454 entries, 0 to 21524\n",
            "Data columns (total 13 columns):\n",
            " #   Column            Non-Null Count  Dtype  \n",
            "---  ------            --------------  -----  \n",
            " 0   children          21454 non-null  int64  \n",
            " 1   days_employed     19351 non-null  float64\n",
            " 2   dob_years         21454 non-null  int64  \n",
            " 3   education         21454 non-null  object \n",
            " 4   education_id      21454 non-null  int64  \n",
            " 5   family_status     21454 non-null  object \n",
            " 6   family_status_id  21454 non-null  int64  \n",
            " 7   gender            21454 non-null  object \n",
            " 8   income_type       21454 non-null  object \n",
            " 9   debt              21454 non-null  int64  \n",
            " 10  total_income      21454 non-null  float64\n",
            " 11  purpose           21454 non-null  object \n",
            " 12  age_category      21454 non-null  object \n",
            "dtypes: float64(2), int64(5), object(6)\n",
            "memory usage: 2.3+ MB\n"
          ]
        }
      ],
      "source": [
        "df.info()\n",
        "\n",
        "# Melihat df info\n",
        "# Kolom total_income sudah sesuai dengan kolom lainnya"
      ]
    },
    {
      "cell_type": "markdown",
      "metadata": {
        "id": "Wafg9w0xAKHF"
      },
      "source": [
        "###  Memperbaiki nilai di `days_employed`"
      ]
    },
    {
      "cell_type": "code",
      "execution_count": null,
      "metadata": {
        "pycharm": {
          "name": "#%%\n"
        },
        "id": "N85NqselAKHF",
        "outputId": "59deedd5-f295-4669-d6d2-c0b89858ac2c"
      },
      "outputs": [
        {
          "data": {
            "image/png": "[encoded data removed]",
            "text/plain": [
              "<Figure size 432x288 with 1 Axes>"
            ]
          },
          "metadata": {
            "needs_background": "light"
          },
          "output_type": "display_data"
        }
      ],
      "source": [
        "# Distribusi median dari `days_employed` berdasarkan parameter yang Anda identifikasi\n",
        "# Ada banyak nilai yang tidak masuk akal yang berada >= 300000\n",
        "\n",
        "df_1 = df[df['days_employed'] < 300000]\n",
        "\n",
        "plt.scatter(df_1['dob_years'], df_1['days_employed'])\n",
        "\n",
        "# String\n",
        "xlab = 'Umur Nasabah'\n",
        "ylab = 'Total Hari Kerja'\n",
        "title = 'Grafik Total Hari Kerja Nasaban <300000 hari'\n",
        "\n",
        "# Membuat label\n",
        "plt.xlabel(xlab)\n",
        "plt.ylabel(ylab)\n",
        "\n",
        "# Membuat judul\n",
        "\n",
        "plt.title(title)\n",
        "\n",
        "# Menampilkan plot\n",
        "plt.show()"
      ]
    },
    {
      "cell_type": "markdown",
      "metadata": {
        "id": "1u5IDBklAKHF"
      },
      "source": [
        "Sebelumnya saya melihat bahwa ada nilai dari kolom ini yang tidak masuk akal, angka tersebut dimulai dari 300000. Lalu saya membuat graph yang berisi nilai yang <300000\n",
        "\n",
        "Penjelasan Graph:\n",
        "\n",
        "1. Grafik bergerak naik bersamaan dengan nilai umur\n",
        "2. Setiap peak dari umur n tidak melebihi dari peak dari umur n+1. Sebagai contoh peak dari total hari kerja pada nasabah umur 20 tahun tidak melebihi peak dari nasabah yang berumur 30 tahun dan seterusnya.\n",
        "\n",
        "Dari Graph di atas saya mengambil kesimpulan bahwa nilai yang < 300000 merupakan data yang benar dan nilai yang >= 300000 merupakan nilai yang keliru (tidak masuk akal) dan selanjutnya akan direplace dengan nilai mean/median dari data yang benar"
      ]
    },
    {
      "cell_type": "code",
      "execution_count": null,
      "metadata": {
        "id": "V6c8wfoRAKHG",
        "outputId": "362b61c9-79b7-4ef4-9ef6-b93c1bbd4047"
      },
      "outputs": [
        {
          "data": {
            "image/png": "[encoded data removed]",
            "text/plain": [
              "<Figure size 432x288 with 1 Axes>"
            ]
          },
          "metadata": {
            "needs_background": "light"
          },
          "output_type": "display_data"
        }
      ],
      "source": [
        "# Distribusi rata-rata dari `days_employed` berdasarkan parameter yang Anda identifikasi\n",
        "\n",
        "df_1_dewasa_awal = df_1[df_1['age_category'] == 'dewasa awal']\n",
        "\n",
        "plt.scatter(df_1_dewasa_awal['dob_years'], df_1_dewasa_awal['days_employed'])\n",
        "\n",
        "# String\n",
        "xlab = 'Umur Nasabah'\n",
        "ylab = 'Total Hari Kerja'\n",
        "title = 'Grafik Total Hari Kerja Nasabah Dewasa Awal'\n",
        "\n",
        "# Membuat label\n",
        "plt.xlabel(xlab)\n",
        "plt.ylabel(ylab)\n",
        "\n",
        "# Membuat judul\n",
        "\n",
        "plt.title(title)\n",
        "\n",
        "# Menampilkan plot\n",
        "plt.show()"
      ]
    },
    {
      "cell_type": "code",
      "execution_count": null,
      "metadata": {
        "scrolled": true,
        "id": "bHWR_U0hAKHG",
        "outputId": "f26ff52d-7edb-4e56-e674-752775890015"
      },
      "outputs": [
        {
          "data": {
            "text/html": [
              "<div>\n",
              "<style scoped>\n",
              "    .dataframe tbody tr th:only-of-type {\n",
              "        vertical-align: middle;\n",
              "    }\n",
              "\n",
              "    .dataframe tbody tr th {\n",
              "        vertical-align: top;\n",
              "    }\n",
              "\n",
              "    .dataframe thead th {\n",
              "        text-align: right;\n",
              "    }\n",
              "</style>\n",
              "<table border=\"1\" class=\"dataframe\">\n",
              "  <thead>\n",
              "    <tr style=\"text-align: right;\">\n",
              "      <th></th>\n",
              "      <th>children</th>\n",
              "      <th>days_employed</th>\n",
              "      <th>dob_years</th>\n",
              "      <th>education</th>\n",
              "      <th>education_id</th>\n",
              "      <th>family_status</th>\n",
              "      <th>family_status_id</th>\n",
              "      <th>gender</th>\n",
              "      <th>income_type</th>\n",
              "      <th>debt</th>\n",
              "      <th>total_income</th>\n",
              "      <th>purpose</th>\n",
              "      <th>age_category</th>\n",
              "    </tr>\n",
              "  </thead>\n",
              "  <tbody>\n",
              "    <tr>\n",
              "      <th>0</th>\n",
              "      <td>1</td>\n",
              "      <td>8437.673028</td>\n",
              "      <td>42</td>\n",
              "      <td>bachelor's degree</td>\n",
              "      <td>0</td>\n",
              "      <td>married</td>\n",
              "      <td>0</td>\n",
              "      <td>F</td>\n",
              "      <td>employee</td>\n",
              "      <td>0</td>\n",
              "      <td>40620.102</td>\n",
              "      <td>purchase of the house</td>\n",
              "      <td>dewasa akhir</td>\n",
              "    </tr>\n",
              "    <tr>\n",
              "      <th>1</th>\n",
              "      <td>1</td>\n",
              "      <td>4024.803754</td>\n",
              "      <td>36</td>\n",
              "      <td>secondary education</td>\n",
              "      <td>1</td>\n",
              "      <td>married</td>\n",
              "      <td>0</td>\n",
              "      <td>F</td>\n",
              "      <td>employee</td>\n",
              "      <td>0</td>\n",
              "      <td>17932.802</td>\n",
              "      <td>car purchase</td>\n",
              "      <td>dewasa akhir</td>\n",
              "    </tr>\n",
              "    <tr>\n",
              "      <th>2</th>\n",
              "      <td>0</td>\n",
              "      <td>5623.422610</td>\n",
              "      <td>33</td>\n",
              "      <td>secondary education</td>\n",
              "      <td>1</td>\n",
              "      <td>married</td>\n",
              "      <td>0</td>\n",
              "      <td>M</td>\n",
              "      <td>employee</td>\n",
              "      <td>0</td>\n",
              "      <td>23341.752</td>\n",
              "      <td>purchase of the house</td>\n",
              "      <td>dewasa awal</td>\n",
              "    </tr>\n",
              "    <tr>\n",
              "      <th>3</th>\n",
              "      <td>3</td>\n",
              "      <td>4124.747207</td>\n",
              "      <td>32</td>\n",
              "      <td>secondary education</td>\n",
              "      <td>1</td>\n",
              "      <td>married</td>\n",
              "      <td>0</td>\n",
              "      <td>M</td>\n",
              "      <td>employee</td>\n",
              "      <td>0</td>\n",
              "      <td>42820.568</td>\n",
              "      <td>supplementary education</td>\n",
              "      <td>dewasa awal</td>\n",
              "    </tr>\n",
              "    <tr>\n",
              "      <th>5</th>\n",
              "      <td>0</td>\n",
              "      <td>926.185831</td>\n",
              "      <td>27</td>\n",
              "      <td>bachelor's degree</td>\n",
              "      <td>0</td>\n",
              "      <td>civil partnership</td>\n",
              "      <td>1</td>\n",
              "      <td>M</td>\n",
              "      <td>business</td>\n",
              "      <td>0</td>\n",
              "      <td>40922.170</td>\n",
              "      <td>purchase of the house</td>\n",
              "      <td>dewasa awal</td>\n",
              "    </tr>\n",
              "  </tbody>\n",
              "</table>\n",
              "</div>"
            ],
            "text/plain": [
              "   children  days_employed  dob_years            education  education_id  \\\n",
              "0         1    8437.673028         42    bachelor's degree             0   \n",
              "1         1    4024.803754         36  secondary education             1   \n",
              "2         0    5623.422610         33  secondary education             1   \n",
              "3         3    4124.747207         32  secondary education             1   \n",
              "5         0     926.185831         27    bachelor's degree             0   \n",
              "\n",
              "       family_status  family_status_id gender income_type  debt  total_income  \\\n",
              "0            married                 0      F    employee     0     40620.102   \n",
              "1            married                 0      F    employee     0     17932.802   \n",
              "2            married                 0      M    employee     0     23341.752   \n",
              "3            married                 0      M    employee     0     42820.568   \n",
              "5  civil partnership                 1      M    business     0     40922.170   \n",
              "\n",
              "                   purpose  age_category  \n",
              "0    purchase of the house  dewasa akhir  \n",
              "1             car purchase  dewasa akhir  \n",
              "2    purchase of the house   dewasa awal  \n",
              "3  supplementary education   dewasa awal  \n",
              "5    purchase of the house   dewasa awal  "
            ]
          },
          "execution_count": 107,
          "metadata": {},
          "output_type": "execute_result"
        }
      ],
      "source": [
        "df_1.head()"
      ]
    },
    {
      "cell_type": "code",
      "execution_count": null,
      "metadata": {
        "id": "qxg11QOFAKHG",
        "outputId": "f6e2e94a-0024-4e3f-fbcf-f3f3ca40704e"
      },
      "outputs": [
        {
          "data": {
            "image/png": "[encoded data removed]",
            "text/plain": [
              "<Figure size 432x288 with 1 Axes>"
            ]
          },
          "metadata": {
            "needs_background": "light"
          },
          "output_type": "display_data"
        }
      ],
      "source": [
        "df_1_dewasa_akhir = df_1[df_1['age_category'] == 'dewasa akhir']\n",
        "\n",
        "plt.scatter(df_1_dewasa_akhir['dob_years'], df_1_dewasa_akhir['days_employed'])\n",
        "\n",
        "# String\n",
        "xlab = 'Umur Nasabah'\n",
        "ylab = 'Total Hari Kerja'\n",
        "title = 'Grafik Total Hari Kerja Nasabah Dewasa Akhir'\n",
        "\n",
        "# Membuat label\n",
        "plt.xlabel(xlab)\n",
        "plt.ylabel(ylab)\n",
        "\n",
        "# Membuat judul\n",
        "\n",
        "plt.title(title)\n",
        "\n",
        "# Menampilkan plot\n",
        "plt.show()"
      ]
    },
    {
      "cell_type": "code",
      "execution_count": null,
      "metadata": {
        "id": "4oYsKBmeAKHH",
        "outputId": "5728b819-198e-4628-e54d-5645dfe51aa9"
      },
      "outputs": [
        {
          "data": {
            "image/png": "[encoded data removed]",
            "text/plain": [
              "<Figure size 432x288 with 1 Axes>"
            ]
          },
          "metadata": {
            "needs_background": "light"
          },
          "output_type": "display_data"
        }
      ],
      "source": [
        "df_1_paruh_baya = df_1[df_1['age_category'] == 'paruh baya']\n",
        "\n",
        "plt.scatter(df_1_paruh_baya['dob_years'], df_1_paruh_baya['days_employed'])\n",
        "\n",
        "# String\n",
        "xlab = 'Umur Nasabah'\n",
        "ylab = 'Total Hari Kerja'\n",
        "title = 'Grafik Total Hari Kerja Nasabah Paruh Baya'\n",
        "\n",
        "# Membuat label\n",
        "plt.xlabel(xlab)\n",
        "plt.ylabel(ylab)\n",
        "\n",
        "# Membuat judul\n",
        "\n",
        "plt.title(title)\n",
        "\n",
        "# Menampilkan plot\n",
        "plt.show()"
      ]
    },
    {
      "cell_type": "code",
      "execution_count": null,
      "metadata": {
        "id": "UFHVxFEIAKHH",
        "outputId": "59e58ac7-6be5-48d8-b199-5b1f6cfb10d6"
      },
      "outputs": [
        {
          "data": {
            "image/png": "[encoded data removed]",
            "text/plain": [
              "<Figure size 432x288 with 1 Axes>"
            ]
          },
          "metadata": {
            "needs_background": "light"
          },
          "output_type": "display_data"
        }
      ],
      "source": [
        "df_1_lansia = df_1[df_1['age_category'] == 'lansia']\n",
        "\n",
        "plt.scatter(df_1_lansia['dob_years'], df_1_lansia['days_employed'])\n",
        "\n",
        "# String\n",
        "xlab = 'Umur Nasabah'\n",
        "ylab = 'Total Hari Kerja'\n",
        "title = 'Grafik Total Hari Kerja Nasabah Lansia'\n",
        "\n",
        "# Membuat label\n",
        "plt.xlabel(xlab)\n",
        "plt.ylabel(ylab)\n",
        "\n",
        "# Membuat judul\n",
        "\n",
        "plt.title(title)\n",
        "\n",
        "# Menampilkan plot\n",
        "plt.show()"
      ]
    },
    {
      "cell_type": "markdown",
      "metadata": {
        "id": "16F_XoWwAKHH"
      },
      "source": [
        "\n",
        "\n",
        "Disini saya akan menggunakan mean karena data terdistribusi dengan merata\n",
        "\n"
      ]
    },
    {
      "cell_type": "code",
      "execution_count": null,
      "metadata": {
        "id": "lKpJd3FbAKHI",
        "outputId": "e4a2732d-da38-4024-d565-1388485c8549"
      },
      "outputs": [
        {
          "name": "stdout",
          "output_type": "stream",
          "text": [
            "<class 'pandas.core.frame.DataFrame'>\n",
            "Int64Index: 21454 entries, 0 to 21524\n",
            "Data columns (total 13 columns):\n",
            " #   Column            Non-Null Count  Dtype  \n",
            "---  ------            --------------  -----  \n",
            " 0   children          21454 non-null  int64  \n",
            " 1   days_employed     19351 non-null  float64\n",
            " 2   dob_years         21454 non-null  int64  \n",
            " 3   education         21454 non-null  object \n",
            " 4   education_id      21454 non-null  int64  \n",
            " 5   family_status     21454 non-null  object \n",
            " 6   family_status_id  21454 non-null  int64  \n",
            " 7   gender            21454 non-null  object \n",
            " 8   income_type       21454 non-null  object \n",
            " 9   debt              21454 non-null  int64  \n",
            " 10  total_income      21454 non-null  float64\n",
            " 11  purpose           21454 non-null  object \n",
            " 12  age_category      21454 non-null  object \n",
            "dtypes: float64(2), int64(5), object(6)\n",
            "memory usage: 2.3+ MB\n"
          ]
        }
      ],
      "source": [
        "df.info()"
      ]
    },
    {
      "cell_type": "code",
      "execution_count": null,
      "metadata": {
        "id": "cOPKYzR-AKHJ"
      },
      "outputs": [],
      "source": [
        "# Mari tulis fungsi yang menghitung rata-rata atau median (tergantung keputusan Anda) berdasarkan parameter yang Anda identifikasi\n",
        "\n",
        "def fill_missing_days_employed (dataframe, agg_column, value_column):\n",
        "    grouped_values = dataframe.groupby(agg_column)[value_column].median().reset_index()\n",
        "    size = len(grouped_values)\n",
        "    for i in range(size):\n",
        "        group = grouped_values[agg_column][i]\n",
        "        value = grouped_values[value_column][i]\n",
        "        dataframe.loc[(dataframe[agg_column]==group) & (dataframe[value_column].isna()), value_column] = value\n",
        "    return dataframe"
      ]
    },
    {
      "cell_type": "code",
      "execution_count": null,
      "metadata": {
        "id": "31MfffbsAKHJ",
        "outputId": "1acbd1ba-63bf-49a1-fe3e-d12bfd27d461"
      },
      "outputs": [
        {
          "name": "stdout",
          "output_type": "stream",
          "text": [
            "<class 'pandas.core.frame.DataFrame'>\n",
            "Int64Index: 21454 entries, 0 to 21524\n",
            "Data columns (total 13 columns):\n",
            " #   Column            Non-Null Count  Dtype  \n",
            "---  ------            --------------  -----  \n",
            " 0   children          21454 non-null  int64  \n",
            " 1   days_employed     21454 non-null  float64\n",
            " 2   dob_years         21454 non-null  int64  \n",
            " 3   education         21454 non-null  object \n",
            " 4   education_id      21454 non-null  int64  \n",
            " 5   family_status     21454 non-null  object \n",
            " 6   family_status_id  21454 non-null  int64  \n",
            " 7   gender            21454 non-null  object \n",
            " 8   income_type       21454 non-null  object \n",
            " 9   debt              21454 non-null  int64  \n",
            " 10  total_income      21454 non-null  float64\n",
            " 11  purpose           21454 non-null  object \n",
            " 12  age_category      21454 non-null  object \n",
            "dtypes: float64(2), int64(5), object(6)\n",
            "memory usage: 2.3+ MB\n"
          ]
        }
      ],
      "source": [
        "# Periksa apakah fungsi Anda dapat bekerja\n",
        "\n",
        "df = fill_missing_days_employed (dataframe = df, agg_column = 'age_category', value_column = 'days_employed')\n",
        "df.info()"
      ]
    },
    {
      "cell_type": "code",
      "execution_count": null,
      "metadata": {
        "id": "XOa8dLq_AKHJ",
        "outputId": "f11e0ac7-a9e6-4446-88d2-e9b9bf646ab8"
      },
      "outputs": [
        {
          "data": {
            "text/plain": [
              "401755.40047533"
            ]
          },
          "execution_count": 115,
          "metadata": {},
          "output_type": "execute_result"
        }
      ],
      "source": [
        "df['days_employed'].max()"
      ]
    },
    {
      "cell_type": "code",
      "execution_count": null,
      "metadata": {
        "id": "2qDOJPuJAKHJ"
      },
      "outputs": [],
      "source": [
        "# Ada data yang tidak masuk akal pada kolom ini yaitu >300000\n",
        "# Data ini akan di set ulang dan dimasukkan nilai median\n",
        "\n",
        "def set_ulang_days_employed (dataframe, agg_column, value_column):\n",
        "    grouped_values = dataframe[dataframe['days_employed']<300000].groupby(agg_column)[value_column].median().reset_index()\n",
        "    size = len(grouped_values)\n",
        "    for i in range(size):\n",
        "        group = grouped_values[agg_column][i]\n",
        "        value = grouped_values[value_column][i]\n",
        "        dataframe.loc[(dataframe[agg_column]==group) & (dataframe[value_column]>300000), value_column] = value\n",
        "    return dataframe"
      ]
    },
    {
      "cell_type": "code",
      "execution_count": null,
      "metadata": {
        "id": "wMfjgRpOAKHJ",
        "outputId": "2b8d7c8c-761e-47fe-ff97-393f8dd958b2"
      },
      "outputs": [
        {
          "data": {
            "text/plain": [
              "18388.949900568383"
            ]
          },
          "execution_count": 117,
          "metadata": {},
          "output_type": "execute_result"
        }
      ],
      "source": [
        "df = set_ulang_days_employed (dataframe = df, agg_column = 'age_category', value_column = 'days_employed')\n",
        "df['days_employed'].max()"
      ]
    },
    {
      "cell_type": "code",
      "execution_count": null,
      "metadata": {
        "id": "dUdooUXYAKHJ",
        "outputId": "1ab38151-ae44-4718-c832-23cd35d842ff"
      },
      "outputs": [
        {
          "name": "stdout",
          "output_type": "stream",
          "text": [
            "<class 'pandas.core.frame.DataFrame'>\n",
            "Int64Index: 21454 entries, 0 to 21524\n",
            "Data columns (total 13 columns):\n",
            " #   Column            Non-Null Count  Dtype  \n",
            "---  ------            --------------  -----  \n",
            " 0   children          21454 non-null  int64  \n",
            " 1   days_employed     21454 non-null  float64\n",
            " 2   dob_years         21454 non-null  int64  \n",
            " 3   education         21454 non-null  object \n",
            " 4   education_id      21454 non-null  int64  \n",
            " 5   family_status     21454 non-null  object \n",
            " 6   family_status_id  21454 non-null  int64  \n",
            " 7   gender            21454 non-null  object \n",
            " 8   income_type       21454 non-null  object \n",
            " 9   debt              21454 non-null  int64  \n",
            " 10  total_income      21454 non-null  float64\n",
            " 11  purpose           21454 non-null  object \n",
            " 12  age_category      21454 non-null  object \n",
            "dtypes: float64(2), int64(5), object(6)\n",
            "memory usage: 2.3+ MB\n"
          ]
        }
      ],
      "source": [
        "df.info()"
      ]
    },
    {
      "cell_type": "code",
      "execution_count": null,
      "metadata": {
        "id": "u9Mr0IL4AKHK",
        "outputId": "ed03e1f4-e53c-4839-966d-20e77908afd3"
      },
      "outputs": [
        {
          "data": {
            "text/plain": [
              "children            0\n",
              "days_employed       0\n",
              "dob_years           0\n",
              "education           0\n",
              "education_id        0\n",
              "family_status       0\n",
              "family_status_id    0\n",
              "gender              0\n",
              "income_type         0\n",
              "debt                0\n",
              "total_income        0\n",
              "purpose             0\n",
              "age_category        0\n",
              "dtype: int64"
            ]
          },
          "execution_count": 120,
          "metadata": {},
          "output_type": "execute_result"
        }
      ],
      "source": [
        "# Periksa apakah fungsi Anda bekerja\n",
        "\n",
        "df.isna().sum()"
      ]
    },
    {
      "cell_type": "code",
      "execution_count": null,
      "metadata": {
        "id": "DVXX5hirAKHN",
        "outputId": "09a04146-fa8e-4802-dd42-cc3c5422622b"
      },
      "outputs": [
        {
          "name": "stdout",
          "output_type": "stream",
          "text": [
            "<class 'pandas.core.frame.DataFrame'>\n",
            "Int64Index: 21454 entries, 0 to 21524\n",
            "Data columns (total 13 columns):\n",
            " #   Column            Non-Null Count  Dtype  \n",
            "---  ------            --------------  -----  \n",
            " 0   children          21454 non-null  int64  \n",
            " 1   days_employed     21454 non-null  float64\n",
            " 2   dob_years         21454 non-null  int64  \n",
            " 3   education         21454 non-null  object \n",
            " 4   education_id      21454 non-null  int64  \n",
            " 5   family_status     21454 non-null  object \n",
            " 6   family_status_id  21454 non-null  int64  \n",
            " 7   gender            21454 non-null  object \n",
            " 8   income_type       21454 non-null  object \n",
            " 9   debt              21454 non-null  int64  \n",
            " 10  total_income      21454 non-null  float64\n",
            " 11  purpose           21454 non-null  object \n",
            " 12  age_category      21454 non-null  object \n",
            "dtypes: float64(2), int64(5), object(6)\n",
            "memory usage: 2.3+ MB\n"
          ]
        }
      ],
      "source": [
        "df.info()"
      ]
    },
    {
      "cell_type": "code",
      "execution_count": null,
      "metadata": {
        "id": "ek4LgAt0AKHN",
        "outputId": "4620e297-f52f-4fe2-cae9-60bbcfa5f32b"
      },
      "outputs": [
        {
          "data": {
            "text/html": [
              "<div>\n",
              "<style scoped>\n",
              "    .dataframe tbody tr th:only-of-type {\n",
              "        vertical-align: middle;\n",
              "    }\n",
              "\n",
              "    .dataframe tbody tr th {\n",
              "        vertical-align: top;\n",
              "    }\n",
              "\n",
              "    .dataframe thead th {\n",
              "        text-align: right;\n",
              "    }\n",
              "</style>\n",
              "<table border=\"1\" class=\"dataframe\">\n",
              "  <thead>\n",
              "    <tr style=\"text-align: right;\">\n",
              "      <th></th>\n",
              "      <th>children</th>\n",
              "      <th>days_employed</th>\n",
              "      <th>dob_years</th>\n",
              "      <th>education</th>\n",
              "      <th>education_id</th>\n",
              "      <th>family_status</th>\n",
              "      <th>family_status_id</th>\n",
              "      <th>gender</th>\n",
              "      <th>income_type</th>\n",
              "      <th>debt</th>\n",
              "      <th>total_income</th>\n",
              "      <th>purpose</th>\n",
              "      <th>age_category</th>\n",
              "    </tr>\n",
              "  </thead>\n",
              "  <tbody>\n",
              "  </tbody>\n",
              "</table>\n",
              "</div>"
            ],
            "text/plain": [
              "Empty DataFrame\n",
              "Columns: [children, days_employed, dob_years, education, education_id, family_status, family_status_id, gender, income_type, debt, total_income, purpose, age_category]\n",
              "Index: []"
            ]
          },
          "execution_count": 123,
          "metadata": {},
          "output_type": "execute_result"
        }
      ],
      "source": [
        "df[df['days_employed'].isna()]"
      ]
    },
    {
      "cell_type": "code",
      "execution_count": null,
      "metadata": {
        "id": "8fHdNWSyAKHO",
        "outputId": "4ca8740d-0ce9-4c91-fc6d-31a915ea7478"
      },
      "outputs": [
        {
          "data": {
            "text/html": [
              "<div>\n",
              "<style scoped>\n",
              "    .dataframe tbody tr th:only-of-type {\n",
              "        vertical-align: middle;\n",
              "    }\n",
              "\n",
              "    .dataframe tbody tr th {\n",
              "        vertical-align: top;\n",
              "    }\n",
              "\n",
              "    .dataframe thead th {\n",
              "        text-align: right;\n",
              "    }\n",
              "</style>\n",
              "<table border=\"1\" class=\"dataframe\">\n",
              "  <thead>\n",
              "    <tr style=\"text-align: right;\">\n",
              "      <th></th>\n",
              "      <th>children</th>\n",
              "      <th>days_employed</th>\n",
              "      <th>dob_years</th>\n",
              "      <th>education</th>\n",
              "      <th>education_id</th>\n",
              "      <th>family_status</th>\n",
              "      <th>family_status_id</th>\n",
              "      <th>gender</th>\n",
              "      <th>income_type</th>\n",
              "      <th>debt</th>\n",
              "      <th>total_income</th>\n",
              "      <th>purpose</th>\n",
              "      <th>age_category</th>\n",
              "    </tr>\n",
              "  </thead>\n",
              "  <tbody>\n",
              "  </tbody>\n",
              "</table>\n",
              "</div>"
            ],
            "text/plain": [
              "Empty DataFrame\n",
              "Columns: [children, days_employed, dob_years, education, education_id, family_status, family_status_id, gender, income_type, debt, total_income, purpose, age_category]\n",
              "Index: []"
            ]
          },
          "execution_count": 124,
          "metadata": {},
          "output_type": "execute_result"
        }
      ],
      "source": [
        "df[df['days_employed']>300000]"
      ]
    },
    {
      "cell_type": "code",
      "execution_count": null,
      "metadata": {
        "id": "R0tvU08IAKHO"
      },
      "outputs": [],
      "source": [
        "df['days_employed'] = df['days_employed'].astype('int')\n",
        "\n",
        "\n",
        "# Mengganti type data days_employed dari float menjadi int"
      ]
    },
    {
      "cell_type": "code",
      "execution_count": null,
      "metadata": {
        "id": "5nR3ztPsAKHO",
        "outputId": "98dad3a5-f0f5-4954-b8fe-5b029752b547"
      },
      "outputs": [
        {
          "name": "stdout",
          "output_type": "stream",
          "text": [
            "<class 'pandas.core.frame.DataFrame'>\n",
            "Int64Index: 21454 entries, 0 to 21524\n",
            "Data columns (total 13 columns):\n",
            " #   Column            Non-Null Count  Dtype  \n",
            "---  ------            --------------  -----  \n",
            " 0   children          21454 non-null  int64  \n",
            " 1   days_employed     21454 non-null  int64  \n",
            " 2   dob_years         21454 non-null  int64  \n",
            " 3   education         21454 non-null  object \n",
            " 4   education_id      21454 non-null  int64  \n",
            " 5   family_status     21454 non-null  object \n",
            " 6   family_status_id  21454 non-null  int64  \n",
            " 7   gender            21454 non-null  object \n",
            " 8   income_type       21454 non-null  object \n",
            " 9   debt              21454 non-null  int64  \n",
            " 10  total_income      21454 non-null  float64\n",
            " 11  purpose           21454 non-null  object \n",
            " 12  age_category      21454 non-null  object \n",
            "dtypes: float64(1), int64(6), object(6)\n",
            "memory usage: 2.3+ MB\n"
          ]
        }
      ],
      "source": [
        "# Periksa entri di semua kolom - pastikan kita memperbaiki semua nilai yang hilang\n",
        "df.info()"
      ]
    },
    {
      "cell_type": "markdown",
      "metadata": {
        "id": "CT669gd7AKHO"
      },
      "source": [
        "-----\n",
        "\n",
        "**DATA TELAH LENGKAP**\n",
        "\n",
        "-----"
      ]
    },
    {
      "cell_type": "markdown",
      "metadata": {
        "id": "xgD07ZkGAKHO"
      },
      "source": [
        "## Pengkategorian Data\n",
        "\n",
        "\n",
        "Data yang dikategorikan adalah sebagai berikut:\n",
        "\n",
        "1. Berdasarkan kolom 'children' karena mempunyai anak berarti menambah tanggungan (pengeluaran bulanan meningkat) dan secara hipotesis saya ini dapat menghambat dalam pelunasan hutang\n",
        "2. Berdasarkan kolom 'total_income' karena pemasukan bulanan seseorang akan mempengaruhi sanggup atau tidaknya dia melunasi hutang\n",
        "3. Berdasarkan kolom 'purpose' karena apakah tujuan dari peminjaman adalah untuk investasi atau kebutuhan primer atau untuk kebutuhan tersier\n",
        "4. Berdasarkan family_status\n"
      ]
    },
    {
      "cell_type": "code",
      "execution_count": null,
      "metadata": {
        "id": "5b_J0rRJAKHP",
        "outputId": "188b789c-d6be-4f70-af87-c11038b2afb4"
      },
      "outputs": [
        {
          "data": {
            "text/plain": [
              "wedding ceremony                            791\n",
              "having a wedding                            768\n",
              "to have a wedding                           765\n",
              "real estate transactions                    675\n",
              "buy commercial real estate                  661\n",
              "housing transactions                        652\n",
              "buying property for renting out             651\n",
              "transactions with commercial real estate    650\n",
              "purchase of the house                       646\n",
              "housing                                     646\n",
              "purchase of the house for my family         638\n",
              "construction of own property                635\n",
              "property                                    633\n",
              "transactions with my real estate            627\n",
              "building a real estate                      624\n",
              "buy real estate                             621\n",
              "purchase of my own house                    620\n",
              "building a property                         619\n",
              "housing renovation                          607\n",
              "buy residential real estate                 606\n",
              "buying my own car                           505\n",
              "going to university                         496\n",
              "car                                         494\n",
              "second-hand car purchase                    486\n",
              "buying a second-hand car                    478\n",
              "to own a car                                478\n",
              "cars                                        478\n",
              "to buy a car                                471\n",
              "car purchase                                461\n",
              "supplementary education                     460\n",
              "purchase of a car                           455\n",
              "university education                        452\n",
              "education                                   447\n",
              "to get a supplementary education            446\n",
              "getting an education                        442\n",
              "profile education                           436\n",
              "getting higher education                    426\n",
              "to become educated                          408\n",
              "Name: purpose, dtype: int64"
            ]
          },
          "execution_count": 127,
          "metadata": {},
          "output_type": "execute_result"
        }
      ],
      "source": [
        "df['purpose'].value_counts()\n",
        "\n",
        "# Menyederhanakan kolom purpose agak lebih mudah di kategorikan"
      ]
    },
    {
      "cell_type": "code",
      "execution_count": null,
      "metadata": {
        "id": "zxmNrzhaAKHP"
      },
      "outputs": [],
      "source": [
        "df.loc[df['purpose'].str.contains('wed'), 'purpose'] = 'wedding'\n",
        "df.loc[df['purpose'].str.contains('real'), 'purpose'] = 'real estate'\n",
        "df.loc[df['purpose'].str.contains('hous'), 'purpose'] = 'buy/renov house'\n",
        "df.loc[df['purpose'].str.contains('univ'), 'purpose'] = 'education'\n",
        "df.loc[df['purpose'].str.contains('edu'), 'purpose'] = 'education'\n",
        "df.loc[df['purpose'].str.contains('car'), 'purpose'] = 'buy car'\n",
        "df.loc[df['purpose'].str.contains('proper'), 'purpose'] = 'buy/build property'"
      ]
    },
    {
      "cell_type": "code",
      "execution_count": null,
      "metadata": {
        "id": "XbQOdhA3AKHP",
        "outputId": "d8b52180-9dd3-471b-8a26-fc76ac0a38af"
      },
      "outputs": [
        {
          "data": {
            "text/plain": [
              "real estate           4464\n",
              "buy car               4306\n",
              "education             4013\n",
              "buy/renov house       3809\n",
              "buy/build property    2538\n",
              "wedding               2324\n",
              "Name: purpose, dtype: int64"
            ]
          },
          "execution_count": 129,
          "metadata": {},
          "output_type": "execute_result"
        }
      ],
      "source": [
        "df['purpose'].value_counts()\n",
        "\n",
        "# Sekarang hanya terdapat 6 kategori"
      ]
    },
    {
      "cell_type": "code",
      "execution_count": null,
      "metadata": {
        "id": "hoIA289PAKHP",
        "outputId": "5ae997ab-88d0-4d8b-ce6a-0eef1bdf1756"
      },
      "outputs": [
        {
          "data": {
            "text/plain": [
              "0    19713\n",
              "1     1741\n",
              "Name: debt, dtype: int64"
            ]
          },
          "execution_count": 130,
          "metadata": {},
          "output_type": "execute_result"
        }
      ],
      "source": [
        "df['debt'].value_counts()\n",
        "\n",
        "# Disini kita dapat melihat kalau sekitar 8% orang yang gagal melunasi hutang dari seluruh dataset"
      ]
    },
    {
      "cell_type": "code",
      "execution_count": null,
      "metadata": {
        "id": "AlEV1zVOAKHQ",
        "outputId": "fcc6df39-5f7b-46d0-bb8e-c621542fa067"
      },
      "outputs": [
        {
          "data": {
            "text/html": [
              "<div>\n",
              "<style scoped>\n",
              "    .dataframe tbody tr th:only-of-type {\n",
              "        vertical-align: middle;\n",
              "    }\n",
              "\n",
              "    .dataframe tbody tr th {\n",
              "        vertical-align: top;\n",
              "    }\n",
              "\n",
              "    .dataframe thead th {\n",
              "        text-align: right;\n",
              "    }\n",
              "</style>\n",
              "<table border=\"1\" class=\"dataframe\">\n",
              "  <thead>\n",
              "    <tr style=\"text-align: right;\">\n",
              "      <th></th>\n",
              "      <th>children</th>\n",
              "      <th>days_employed</th>\n",
              "      <th>dob_years</th>\n",
              "      <th>education</th>\n",
              "      <th>education_id</th>\n",
              "      <th>family_status</th>\n",
              "      <th>family_status_id</th>\n",
              "      <th>gender</th>\n",
              "      <th>income_type</th>\n",
              "      <th>debt</th>\n",
              "      <th>total_income</th>\n",
              "      <th>purpose</th>\n",
              "      <th>age_category</th>\n",
              "    </tr>\n",
              "  </thead>\n",
              "  <tbody>\n",
              "    <tr>\n",
              "      <th>0</th>\n",
              "      <td>0</td>\n",
              "      <td>1844</td>\n",
              "      <td>56</td>\n",
              "      <td>bachelor's degree</td>\n",
              "      <td>0</td>\n",
              "      <td>civil partnership</td>\n",
              "      <td>1</td>\n",
              "      <td>F</td>\n",
              "      <td>business</td>\n",
              "      <td>1</td>\n",
              "      <td>26420.466</td>\n",
              "      <td>real estate</td>\n",
              "      <td>paruh baya</td>\n",
              "    </tr>\n",
              "    <tr>\n",
              "      <th>1</th>\n",
              "      <td>0</td>\n",
              "      <td>4649</td>\n",
              "      <td>34</td>\n",
              "      <td>secondary education</td>\n",
              "      <td>1</td>\n",
              "      <td>civil partnership</td>\n",
              "      <td>1</td>\n",
              "      <td>F</td>\n",
              "      <td>employee</td>\n",
              "      <td>1</td>\n",
              "      <td>22249.194</td>\n",
              "      <td>wedding</td>\n",
              "      <td>dewasa awal</td>\n",
              "    </tr>\n",
              "    <tr>\n",
              "      <th>2</th>\n",
              "      <td>0</td>\n",
              "      <td>597</td>\n",
              "      <td>25</td>\n",
              "      <td>bachelor's degree</td>\n",
              "      <td>0</td>\n",
              "      <td>unmarried</td>\n",
              "      <td>4</td>\n",
              "      <td>M</td>\n",
              "      <td>employee</td>\n",
              "      <td>1</td>\n",
              "      <td>30759.568</td>\n",
              "      <td>education</td>\n",
              "      <td>dewasa awal</td>\n",
              "    </tr>\n",
              "    <tr>\n",
              "      <th>3</th>\n",
              "      <td>0</td>\n",
              "      <td>3745</td>\n",
              "      <td>54</td>\n",
              "      <td>secondary education</td>\n",
              "      <td>1</td>\n",
              "      <td>civil partnership</td>\n",
              "      <td>1</td>\n",
              "      <td>F</td>\n",
              "      <td>retiree</td>\n",
              "      <td>1</td>\n",
              "      <td>18962.318</td>\n",
              "      <td>wedding</td>\n",
              "      <td>paruh baya</td>\n",
              "    </tr>\n",
              "    <tr>\n",
              "      <th>4</th>\n",
              "      <td>1</td>\n",
              "      <td>2953</td>\n",
              "      <td>38</td>\n",
              "      <td>secondary education</td>\n",
              "      <td>1</td>\n",
              "      <td>married</td>\n",
              "      <td>0</td>\n",
              "      <td>M</td>\n",
              "      <td>employee</td>\n",
              "      <td>1</td>\n",
              "      <td>13109.661</td>\n",
              "      <td>real estate</td>\n",
              "      <td>dewasa akhir</td>\n",
              "    </tr>\n",
              "    <tr>\n",
              "      <th>...</th>\n",
              "      <td>...</td>\n",
              "      <td>...</td>\n",
              "      <td>...</td>\n",
              "      <td>...</td>\n",
              "      <td>...</td>\n",
              "      <td>...</td>\n",
              "      <td>...</td>\n",
              "      <td>...</td>\n",
              "      <td>...</td>\n",
              "      <td>...</td>\n",
              "      <td>...</td>\n",
              "      <td>...</td>\n",
              "      <td>...</td>\n",
              "    </tr>\n",
              "    <tr>\n",
              "      <th>1736</th>\n",
              "      <td>0</td>\n",
              "      <td>960</td>\n",
              "      <td>39</td>\n",
              "      <td>secondary education</td>\n",
              "      <td>1</td>\n",
              "      <td>civil partnership</td>\n",
              "      <td>1</td>\n",
              "      <td>M</td>\n",
              "      <td>business</td>\n",
              "      <td>1</td>\n",
              "      <td>28219.135</td>\n",
              "      <td>education</td>\n",
              "      <td>dewasa akhir</td>\n",
              "    </tr>\n",
              "    <tr>\n",
              "      <th>1737</th>\n",
              "      <td>0</td>\n",
              "      <td>612</td>\n",
              "      <td>29</td>\n",
              "      <td>bachelor's degree</td>\n",
              "      <td>0</td>\n",
              "      <td>civil partnership</td>\n",
              "      <td>1</td>\n",
              "      <td>F</td>\n",
              "      <td>employee</td>\n",
              "      <td>1</td>\n",
              "      <td>22410.956</td>\n",
              "      <td>buy/build property</td>\n",
              "      <td>dewasa awal</td>\n",
              "    </tr>\n",
              "    <tr>\n",
              "      <th>1738</th>\n",
              "      <td>1</td>\n",
              "      <td>467</td>\n",
              "      <td>28</td>\n",
              "      <td>secondary education</td>\n",
              "      <td>1</td>\n",
              "      <td>married</td>\n",
              "      <td>0</td>\n",
              "      <td>F</td>\n",
              "      <td>employee</td>\n",
              "      <td>1</td>\n",
              "      <td>17517.812</td>\n",
              "      <td>education</td>\n",
              "      <td>dewasa awal</td>\n",
              "    </tr>\n",
              "    <tr>\n",
              "      <th>1739</th>\n",
              "      <td>1</td>\n",
              "      <td>2113</td>\n",
              "      <td>38</td>\n",
              "      <td>secondary education</td>\n",
              "      <td>1</td>\n",
              "      <td>civil partnership</td>\n",
              "      <td>1</td>\n",
              "      <td>M</td>\n",
              "      <td>employee</td>\n",
              "      <td>1</td>\n",
              "      <td>14347.610</td>\n",
              "      <td>buy/build property</td>\n",
              "      <td>dewasa akhir</td>\n",
              "    </tr>\n",
              "    <tr>\n",
              "      <th>1740</th>\n",
              "      <td>3</td>\n",
              "      <td>3112</td>\n",
              "      <td>38</td>\n",
              "      <td>secondary education</td>\n",
              "      <td>1</td>\n",
              "      <td>married</td>\n",
              "      <td>0</td>\n",
              "      <td>M</td>\n",
              "      <td>employee</td>\n",
              "      <td>1</td>\n",
              "      <td>39054.888</td>\n",
              "      <td>buy car</td>\n",
              "      <td>dewasa akhir</td>\n",
              "    </tr>\n",
              "  </tbody>\n",
              "</table>\n",
              "<p>1741 rows × 13 columns</p>\n",
              "</div>"
            ],
            "text/plain": [
              "      children  days_employed  dob_years            education  education_id  \\\n",
              "0            0           1844         56    bachelor's degree             0   \n",
              "1            0           4649         34  secondary education             1   \n",
              "2            0            597         25    bachelor's degree             0   \n",
              "3            0           3745         54  secondary education             1   \n",
              "4            1           2953         38  secondary education             1   \n",
              "...        ...            ...        ...                  ...           ...   \n",
              "1736         0            960         39  secondary education             1   \n",
              "1737         0            612         29    bachelor's degree             0   \n",
              "1738         1            467         28  secondary education             1   \n",
              "1739         1           2113         38  secondary education             1   \n",
              "1740         3           3112         38  secondary education             1   \n",
              "\n",
              "          family_status  family_status_id gender income_type  debt  \\\n",
              "0     civil partnership                 1      F    business     1   \n",
              "1     civil partnership                 1      F    employee     1   \n",
              "2             unmarried                 4      M    employee     1   \n",
              "3     civil partnership                 1      F     retiree     1   \n",
              "4               married                 0      M    employee     1   \n",
              "...                 ...               ...    ...         ...   ...   \n",
              "1736  civil partnership                 1      M    business     1   \n",
              "1737  civil partnership                 1      F    employee     1   \n",
              "1738            married                 0      F    employee     1   \n",
              "1739  civil partnership                 1      M    employee     1   \n",
              "1740            married                 0      M    employee     1   \n",
              "\n",
              "      total_income             purpose  age_category  \n",
              "0        26420.466         real estate    paruh baya  \n",
              "1        22249.194             wedding   dewasa awal  \n",
              "2        30759.568           education   dewasa awal  \n",
              "3        18962.318             wedding    paruh baya  \n",
              "4        13109.661         real estate  dewasa akhir  \n",
              "...            ...                 ...           ...  \n",
              "1736     28219.135           education  dewasa akhir  \n",
              "1737     22410.956  buy/build property   dewasa awal  \n",
              "1738     17517.812           education   dewasa awal  \n",
              "1739     14347.610  buy/build property  dewasa akhir  \n",
              "1740     39054.888             buy car  dewasa akhir  \n",
              "\n",
              "[1741 rows x 13 columns]"
            ]
          },
          "execution_count": 131,
          "metadata": {},
          "output_type": "execute_result"
        }
      ],
      "source": [
        "# Melihat tabel dengan data orang yang gagal melunasi hutang\n",
        "\n",
        "df_debt = df[df['debt'] == 1].reset_index(drop = True)\n",
        "df_debt"
      ]
    },
    {
      "cell_type": "code",
      "execution_count": null,
      "metadata": {
        "id": "MlYmAXKjAKHQ",
        "outputId": "c2353213-901c-4205-cfe4-b7a05ebcb689"
      },
      "outputs": [
        {
          "data": {
            "text/plain": [
              "buy car               403\n",
              "education             370\n",
              "real estate           336\n",
              "buy/renov house       256\n",
              "buy/build property    190\n",
              "wedding               186\n",
              "Name: purpose, dtype: int64"
            ]
          },
          "execution_count": 132,
          "metadata": {},
          "output_type": "execute_result"
        }
      ],
      "source": [
        "df_debt['purpose'].value_counts()\n",
        "\n",
        "# Dapat dilihat bahwa orang yang meminjam uang untuk membeli mobil dan gagal membayar berada diurutan nomor 1"
      ]
    },
    {
      "cell_type": "code",
      "execution_count": null,
      "metadata": {
        "id": "7i5hF9ynAKHQ",
        "outputId": "73244b84-dfac-4d40-b827-69e458286b92"
      },
      "outputs": [
        {
          "data": {
            "text/html": [
              "<div>\n",
              "<style scoped>\n",
              "    .dataframe tbody tr th:only-of-type {\n",
              "        vertical-align: middle;\n",
              "    }\n",
              "\n",
              "    .dataframe tbody tr th {\n",
              "        vertical-align: top;\n",
              "    }\n",
              "\n",
              "    .dataframe thead th {\n",
              "        text-align: right;\n",
              "    }\n",
              "</style>\n",
              "<table border=\"1\" class=\"dataframe\">\n",
              "  <thead>\n",
              "    <tr style=\"text-align: right;\">\n",
              "      <th></th>\n",
              "      <th>children</th>\n",
              "      <th>family_status</th>\n",
              "      <th>total_income</th>\n",
              "      <th>purpose</th>\n",
              "      <th>debt</th>\n",
              "    </tr>\n",
              "  </thead>\n",
              "  <tbody>\n",
              "    <tr>\n",
              "      <th>0</th>\n",
              "      <td>1</td>\n",
              "      <td>married</td>\n",
              "      <td>40620.102</td>\n",
              "      <td>buy/renov house</td>\n",
              "      <td>0</td>\n",
              "    </tr>\n",
              "    <tr>\n",
              "      <th>1</th>\n",
              "      <td>1</td>\n",
              "      <td>married</td>\n",
              "      <td>17932.802</td>\n",
              "      <td>buy car</td>\n",
              "      <td>0</td>\n",
              "    </tr>\n",
              "    <tr>\n",
              "      <th>2</th>\n",
              "      <td>0</td>\n",
              "      <td>married</td>\n",
              "      <td>23341.752</td>\n",
              "      <td>buy/renov house</td>\n",
              "      <td>0</td>\n",
              "    </tr>\n",
              "    <tr>\n",
              "      <th>3</th>\n",
              "      <td>3</td>\n",
              "      <td>married</td>\n",
              "      <td>42820.568</td>\n",
              "      <td>education</td>\n",
              "      <td>0</td>\n",
              "    </tr>\n",
              "    <tr>\n",
              "      <th>4</th>\n",
              "      <td>0</td>\n",
              "      <td>civil partnership</td>\n",
              "      <td>25378.572</td>\n",
              "      <td>wedding</td>\n",
              "      <td>0</td>\n",
              "    </tr>\n",
              "    <tr>\n",
              "      <th>...</th>\n",
              "      <td>...</td>\n",
              "      <td>...</td>\n",
              "      <td>...</td>\n",
              "      <td>...</td>\n",
              "      <td>...</td>\n",
              "    </tr>\n",
              "    <tr>\n",
              "      <th>21520</th>\n",
              "      <td>1</td>\n",
              "      <td>civil partnership</td>\n",
              "      <td>35966.698</td>\n",
              "      <td>buy/renov house</td>\n",
              "      <td>0</td>\n",
              "    </tr>\n",
              "    <tr>\n",
              "      <th>21521</th>\n",
              "      <td>0</td>\n",
              "      <td>married</td>\n",
              "      <td>24959.969</td>\n",
              "      <td>buy car</td>\n",
              "      <td>0</td>\n",
              "    </tr>\n",
              "    <tr>\n",
              "      <th>21522</th>\n",
              "      <td>1</td>\n",
              "      <td>civil partnership</td>\n",
              "      <td>14347.610</td>\n",
              "      <td>buy/build property</td>\n",
              "      <td>1</td>\n",
              "    </tr>\n",
              "    <tr>\n",
              "      <th>21523</th>\n",
              "      <td>3</td>\n",
              "      <td>married</td>\n",
              "      <td>39054.888</td>\n",
              "      <td>buy car</td>\n",
              "      <td>1</td>\n",
              "    </tr>\n",
              "    <tr>\n",
              "      <th>21524</th>\n",
              "      <td>2</td>\n",
              "      <td>married</td>\n",
              "      <td>13127.587</td>\n",
              "      <td>buy car</td>\n",
              "      <td>0</td>\n",
              "    </tr>\n",
              "  </tbody>\n",
              "</table>\n",
              "<p>21454 rows × 5 columns</p>\n",
              "</div>"
            ],
            "text/plain": [
              "       children      family_status  total_income             purpose  debt\n",
              "0             1            married     40620.102     buy/renov house     0\n",
              "1             1            married     17932.802             buy car     0\n",
              "2             0            married     23341.752     buy/renov house     0\n",
              "3             3            married     42820.568           education     0\n",
              "4             0  civil partnership     25378.572             wedding     0\n",
              "...         ...                ...           ...                 ...   ...\n",
              "21520         1  civil partnership     35966.698     buy/renov house     0\n",
              "21521         0            married     24959.969             buy car     0\n",
              "21522         1  civil partnership     14347.610  buy/build property     1\n",
              "21523         3            married     39054.888             buy car     1\n",
              "21524         2            married     13127.587             buy car     0\n",
              "\n",
              "[21454 rows x 5 columns]"
            ]
          },
          "execution_count": 133,
          "metadata": {},
          "output_type": "execute_result"
        }
      ],
      "source": [
        "# Tampilkan nilai data yang Anda pilih untuk pengkategorian\n",
        "\n",
        "df[['children', 'family_status', 'total_income', 'purpose', 'debt' ]]"
      ]
    },
    {
      "cell_type": "markdown",
      "metadata": {
        "id": "lS15EW2OAKHR"
      },
      "source": [
        "[Mari kita memeriksa nilai unik]"
      ]
    },
    {
      "cell_type": "code",
      "execution_count": null,
      "metadata": {
        "id": "bH3mFOOCAKHR",
        "outputId": "bcf0c9ea-c44c-46e3-df83-c4fa84d64c52"
      },
      "outputs": [
        {
          "data": {
            "text/plain": [
              "0    14091\n",
              "1     4855\n",
              "2     2128\n",
              "3      330\n",
              "4       41\n",
              "5        9\n",
              "Name: children, dtype: int64"
            ]
          },
          "execution_count": 134,
          "metadata": {},
          "output_type": "execute_result"
        }
      ],
      "source": [
        "# Periksa nilai unik\n",
        "# Pada kolom children\n",
        "\n",
        "df['children'].value_counts()"
      ]
    },
    {
      "cell_type": "code",
      "execution_count": null,
      "metadata": {
        "id": "b-DN3KajAKHR",
        "outputId": "6a67788d-0c64-462d-d678-bd25123a163a"
      },
      "outputs": [
        {
          "data": {
            "text/plain": [
              "22815.1035    1070\n",
              "27577.2720     502\n",
              "18962.3180     387\n",
              "24071.6695     145\n",
              "17312.7170       2\n",
              "              ... \n",
              "45484.1090       1\n",
              "27715.4580       1\n",
              "23834.5340       1\n",
              "26124.6130       1\n",
              "41428.9160       1\n",
              "Name: total_income, Length: 19350, dtype: int64"
            ]
          },
          "execution_count": 135,
          "metadata": {},
          "output_type": "execute_result"
        }
      ],
      "source": [
        "# Periksa nilai unik pada kolom total_income\n",
        "\n",
        "df['total_income'].value_counts()"
      ]
    },
    {
      "cell_type": "code",
      "execution_count": null,
      "metadata": {
        "scrolled": true,
        "id": "lELltQY8AKHR",
        "outputId": "af6596ef-bff7-424e-ec4f-e031dd46991b"
      },
      "outputs": [
        {
          "data": {
            "text/plain": [
              "362496.645"
            ]
          },
          "execution_count": 136,
          "metadata": {},
          "output_type": "execute_result"
        }
      ],
      "source": [
        "df['total_income'].max()"
      ]
    },
    {
      "cell_type": "code",
      "execution_count": null,
      "metadata": {
        "scrolled": true,
        "id": "9cpCvkPgAKHS",
        "outputId": "ad80a8f8-54c3-4f6d-f5ab-d391c81881be"
      },
      "outputs": [
        {
          "data": {
            "text/plain": [
              "3306.762"
            ]
          },
          "execution_count": 137,
          "metadata": {},
          "output_type": "execute_result"
        }
      ],
      "source": [
        "df['total_income'].min()"
      ]
    },
    {
      "cell_type": "code",
      "execution_count": null,
      "metadata": {
        "id": "XW6ZO2UmAKHS",
        "outputId": "abcc9266-1872-43e6-ef56-fe5c8c366365"
      },
      "outputs": [
        {
          "data": {
            "text/plain": [
              "real estate           4464\n",
              "buy car               4306\n",
              "education             4013\n",
              "buy/renov house       3809\n",
              "buy/build property    2538\n",
              "wedding               2324\n",
              "Name: purpose, dtype: int64"
            ]
          },
          "execution_count": 138,
          "metadata": {},
          "output_type": "execute_result"
        }
      ],
      "source": [
        "# Periksa nilai unik pada kolom purpose\n",
        "\n",
        "df['purpose'].value_counts()"
      ]
    },
    {
      "cell_type": "markdown",
      "metadata": {
        "id": "9NY9BdfNAKHS"
      },
      "source": [
        "\n",
        "\n",
        "Akan dilakuan pengelompokkan dari kolom 'purpose'\n",
        "1. Kebutuhan primer (education, buy/renov house, wedding)\n",
        "2. Kebutuhan sekunder (buy car)\n",
        "3. Kebutuhan tersier (real estate, buy/build property)\n",
        "\n",
        "\n"
      ]
    },
    {
      "cell_type": "code",
      "execution_count": null,
      "metadata": {
        "id": "uhCdsliqAKHS"
      },
      "outputs": [],
      "source": [
        "# Mari kita tulis sebuah fungsi untuk mengategorikan data berdasarkan topik umum\n",
        "\n",
        "def kategori_tujuan (kategori):\n",
        "    \n",
        "    #kategori = row['purpose']\n",
        "    \n",
        "    if kategori == 'real estate' or kategori == 'buy/build property':\n",
        "        return 'kebutuhan tersier'\n",
        "    elif kategori == 'education' or kategori == 'buy/renov house' or kategori == 'wedding':\n",
        "        return 'kebutuhan primer'\n",
        "    else:\n",
        "        return 'kebutuhan sekunder'\n",
        "    "
      ]
    },
    {
      "cell_type": "code",
      "execution_count": null,
      "metadata": {
        "scrolled": true,
        "id": "YsNXtTLOAKHT",
        "outputId": "4c40a3ea-88d8-45e5-ee34-3bc6213764c8"
      },
      "outputs": [
        {
          "data": {
            "text/html": [
              "<div>\n",
              "<style scoped>\n",
              "    .dataframe tbody tr th:only-of-type {\n",
              "        vertical-align: middle;\n",
              "    }\n",
              "\n",
              "    .dataframe tbody tr th {\n",
              "        vertical-align: top;\n",
              "    }\n",
              "\n",
              "    .dataframe thead th {\n",
              "        text-align: right;\n",
              "    }\n",
              "</style>\n",
              "<table border=\"1\" class=\"dataframe\">\n",
              "  <thead>\n",
              "    <tr style=\"text-align: right;\">\n",
              "      <th></th>\n",
              "      <th>children</th>\n",
              "      <th>days_employed</th>\n",
              "      <th>dob_years</th>\n",
              "      <th>education</th>\n",
              "      <th>education_id</th>\n",
              "      <th>family_status</th>\n",
              "      <th>family_status_id</th>\n",
              "      <th>gender</th>\n",
              "      <th>income_type</th>\n",
              "      <th>debt</th>\n",
              "      <th>total_income</th>\n",
              "      <th>purpose</th>\n",
              "      <th>age_category</th>\n",
              "      <th>purpose_category</th>\n",
              "    </tr>\n",
              "  </thead>\n",
              "  <tbody>\n",
              "    <tr>\n",
              "      <th>0</th>\n",
              "      <td>1</td>\n",
              "      <td>8437</td>\n",
              "      <td>42</td>\n",
              "      <td>bachelor's degree</td>\n",
              "      <td>0</td>\n",
              "      <td>married</td>\n",
              "      <td>0</td>\n",
              "      <td>F</td>\n",
              "      <td>employee</td>\n",
              "      <td>0</td>\n",
              "      <td>40620.102</td>\n",
              "      <td>buy/renov house</td>\n",
              "      <td>dewasa akhir</td>\n",
              "      <td>kebutuhan primer</td>\n",
              "    </tr>\n",
              "    <tr>\n",
              "      <th>1</th>\n",
              "      <td>1</td>\n",
              "      <td>4024</td>\n",
              "      <td>36</td>\n",
              "      <td>secondary education</td>\n",
              "      <td>1</td>\n",
              "      <td>married</td>\n",
              "      <td>0</td>\n",
              "      <td>F</td>\n",
              "      <td>employee</td>\n",
              "      <td>0</td>\n",
              "      <td>17932.802</td>\n",
              "      <td>buy car</td>\n",
              "      <td>dewasa akhir</td>\n",
              "      <td>kebutuhan sekunder</td>\n",
              "    </tr>\n",
              "    <tr>\n",
              "      <th>2</th>\n",
              "      <td>0</td>\n",
              "      <td>5623</td>\n",
              "      <td>33</td>\n",
              "      <td>secondary education</td>\n",
              "      <td>1</td>\n",
              "      <td>married</td>\n",
              "      <td>0</td>\n",
              "      <td>M</td>\n",
              "      <td>employee</td>\n",
              "      <td>0</td>\n",
              "      <td>23341.752</td>\n",
              "      <td>buy/renov house</td>\n",
              "      <td>dewasa awal</td>\n",
              "      <td>kebutuhan primer</td>\n",
              "    </tr>\n",
              "    <tr>\n",
              "      <th>3</th>\n",
              "      <td>3</td>\n",
              "      <td>4124</td>\n",
              "      <td>32</td>\n",
              "      <td>secondary education</td>\n",
              "      <td>1</td>\n",
              "      <td>married</td>\n",
              "      <td>0</td>\n",
              "      <td>M</td>\n",
              "      <td>employee</td>\n",
              "      <td>0</td>\n",
              "      <td>42820.568</td>\n",
              "      <td>education</td>\n",
              "      <td>dewasa awal</td>\n",
              "      <td>kebutuhan primer</td>\n",
              "    </tr>\n",
              "    <tr>\n",
              "      <th>4</th>\n",
              "      <td>0</td>\n",
              "      <td>2774</td>\n",
              "      <td>53</td>\n",
              "      <td>secondary education</td>\n",
              "      <td>1</td>\n",
              "      <td>civil partnership</td>\n",
              "      <td>1</td>\n",
              "      <td>F</td>\n",
              "      <td>retiree</td>\n",
              "      <td>0</td>\n",
              "      <td>25378.572</td>\n",
              "      <td>wedding</td>\n",
              "      <td>paruh baya</td>\n",
              "      <td>kebutuhan primer</td>\n",
              "    </tr>\n",
              "  </tbody>\n",
              "</table>\n",
              "</div>"
            ],
            "text/plain": [
              "   children  days_employed  dob_years            education  education_id  \\\n",
              "0         1           8437         42    bachelor's degree             0   \n",
              "1         1           4024         36  secondary education             1   \n",
              "2         0           5623         33  secondary education             1   \n",
              "3         3           4124         32  secondary education             1   \n",
              "4         0           2774         53  secondary education             1   \n",
              "\n",
              "       family_status  family_status_id gender income_type  debt  total_income  \\\n",
              "0            married                 0      F    employee     0     40620.102   \n",
              "1            married                 0      F    employee     0     17932.802   \n",
              "2            married                 0      M    employee     0     23341.752   \n",
              "3            married                 0      M    employee     0     42820.568   \n",
              "4  civil partnership                 1      F     retiree     0     25378.572   \n",
              "\n",
              "           purpose  age_category    purpose_category  \n",
              "0  buy/renov house  dewasa akhir    kebutuhan primer  \n",
              "1          buy car  dewasa akhir  kebutuhan sekunder  \n",
              "2  buy/renov house   dewasa awal    kebutuhan primer  \n",
              "3        education   dewasa awal    kebutuhan primer  \n",
              "4          wedding    paruh baya    kebutuhan primer  "
            ]
          },
          "execution_count": 140,
          "metadata": {},
          "output_type": "execute_result"
        }
      ],
      "source": [
        "# Buat kolom yang memuat kategori dan hitung nilainya\n",
        "df['purpose_category'] = df['purpose'].apply(kategori_tujuan)\n",
        "df.head()"
      ]
    },
    {
      "cell_type": "code",
      "execution_count": null,
      "metadata": {
        "scrolled": true,
        "id": "MlFFfWYcAKHT",
        "outputId": "0cf522e7-8dbd-41b5-ee60-9db971b713cf"
      },
      "outputs": [
        {
          "data": {
            "text/plain": [
              "0    14091\n",
              "1     4855\n",
              "2     2128\n",
              "3      330\n",
              "4       41\n",
              "5        9\n",
              "Name: children, dtype: int64"
            ]
          },
          "execution_count": 141,
          "metadata": {},
          "output_type": "execute_result"
        }
      ],
      "source": [
        "# Lihat semua data numerik di kolom yang Anda pilih untuk pengkategorian\n",
        "df['children'].value_counts()"
      ]
    },
    {
      "cell_type": "code",
      "execution_count": null,
      "metadata": {
        "scrolled": true,
        "id": "0sxRmDAlAKHU",
        "outputId": "5b12c71c-0949-4732-ca66-b8e45a5be535"
      },
      "outputs": [
        {
          "data": {
            "text/plain": [
              "0    0.656801\n",
              "1    0.226298\n",
              "2    0.099189\n",
              "3    0.015382\n",
              "4    0.001911\n",
              "5    0.000420\n",
              "Name: children, dtype: float64"
            ]
          },
          "execution_count": 142,
          "metadata": {},
          "output_type": "execute_result"
        }
      ],
      "source": [
        "# Dapatkan kesimpulan statistik untuk kolomnya\n",
        "\n",
        "df['children'].value_counts(normalize = True)"
      ]
    },
    {
      "cell_type": "markdown",
      "metadata": {
        "id": "ElDgv-OMAKHU"
      },
      "source": [
        "**Terdapat 65% (lebih dari 50% total nasabah) nasabah yang tidak mempunyai anak**"
      ]
    },
    {
      "cell_type": "markdown",
      "metadata": {
        "id": "-rClG3MkAKHU"
      },
      "source": [
        "\n",
        "\n",
        "1. 0 anak - kategori nasabah tidak mempunyai anak\n",
        "2. mempunyai anak (children >0)\n",
        "\n"
      ]
    },
    {
      "cell_type": "code",
      "execution_count": null,
      "metadata": {
        "id": "Db2FfGhMAKHU"
      },
      "outputs": [],
      "source": [
        "# Buat fungsi yang melakukan pengkategorian menjadi kelompok numerik yang berbeda berdasarkan rentang\n",
        "\n",
        "def kategori_anak (children):\n",
        "    \n",
        "    #children = row['children']\n",
        "    \n",
        "    if children == 0:\n",
        "        return 'childless'\n",
        "    else:\n",
        "        return 'mempunyai anak'"
      ]
    },
    {
      "cell_type": "code",
      "execution_count": null,
      "metadata": {
        "id": "TpS0O5-xAKHV",
        "outputId": "155c6e22-d8f4-4b5e-b91a-59afda06ae7b"
      },
      "outputs": [
        {
          "data": {
            "text/html": [
              "<div>\n",
              "<style scoped>\n",
              "    .dataframe tbody tr th:only-of-type {\n",
              "        vertical-align: middle;\n",
              "    }\n",
              "\n",
              "    .dataframe tbody tr th {\n",
              "        vertical-align: top;\n",
              "    }\n",
              "\n",
              "    .dataframe thead th {\n",
              "        text-align: right;\n",
              "    }\n",
              "</style>\n",
              "<table border=\"1\" class=\"dataframe\">\n",
              "  <thead>\n",
              "    <tr style=\"text-align: right;\">\n",
              "      <th></th>\n",
              "      <th>children</th>\n",
              "      <th>days_employed</th>\n",
              "      <th>dob_years</th>\n",
              "      <th>education</th>\n",
              "      <th>education_id</th>\n",
              "      <th>family_status</th>\n",
              "      <th>family_status_id</th>\n",
              "      <th>gender</th>\n",
              "      <th>income_type</th>\n",
              "      <th>debt</th>\n",
              "      <th>total_income</th>\n",
              "      <th>purpose</th>\n",
              "      <th>age_category</th>\n",
              "      <th>purpose_category</th>\n",
              "      <th>children_category</th>\n",
              "    </tr>\n",
              "  </thead>\n",
              "  <tbody>\n",
              "    <tr>\n",
              "      <th>0</th>\n",
              "      <td>1</td>\n",
              "      <td>8437</td>\n",
              "      <td>42</td>\n",
              "      <td>bachelor's degree</td>\n",
              "      <td>0</td>\n",
              "      <td>married</td>\n",
              "      <td>0</td>\n",
              "      <td>F</td>\n",
              "      <td>employee</td>\n",
              "      <td>0</td>\n",
              "      <td>40620.102</td>\n",
              "      <td>buy/renov house</td>\n",
              "      <td>dewasa akhir</td>\n",
              "      <td>kebutuhan primer</td>\n",
              "      <td>mempunyai anak</td>\n",
              "    </tr>\n",
              "    <tr>\n",
              "      <th>1</th>\n",
              "      <td>1</td>\n",
              "      <td>4024</td>\n",
              "      <td>36</td>\n",
              "      <td>secondary education</td>\n",
              "      <td>1</td>\n",
              "      <td>married</td>\n",
              "      <td>0</td>\n",
              "      <td>F</td>\n",
              "      <td>employee</td>\n",
              "      <td>0</td>\n",
              "      <td>17932.802</td>\n",
              "      <td>buy car</td>\n",
              "      <td>dewasa akhir</td>\n",
              "      <td>kebutuhan sekunder</td>\n",
              "      <td>mempunyai anak</td>\n",
              "    </tr>\n",
              "    <tr>\n",
              "      <th>2</th>\n",
              "      <td>0</td>\n",
              "      <td>5623</td>\n",
              "      <td>33</td>\n",
              "      <td>secondary education</td>\n",
              "      <td>1</td>\n",
              "      <td>married</td>\n",
              "      <td>0</td>\n",
              "      <td>M</td>\n",
              "      <td>employee</td>\n",
              "      <td>0</td>\n",
              "      <td>23341.752</td>\n",
              "      <td>buy/renov house</td>\n",
              "      <td>dewasa awal</td>\n",
              "      <td>kebutuhan primer</td>\n",
              "      <td>childless</td>\n",
              "    </tr>\n",
              "    <tr>\n",
              "      <th>3</th>\n",
              "      <td>3</td>\n",
              "      <td>4124</td>\n",
              "      <td>32</td>\n",
              "      <td>secondary education</td>\n",
              "      <td>1</td>\n",
              "      <td>married</td>\n",
              "      <td>0</td>\n",
              "      <td>M</td>\n",
              "      <td>employee</td>\n",
              "      <td>0</td>\n",
              "      <td>42820.568</td>\n",
              "      <td>education</td>\n",
              "      <td>dewasa awal</td>\n",
              "      <td>kebutuhan primer</td>\n",
              "      <td>mempunyai anak</td>\n",
              "    </tr>\n",
              "    <tr>\n",
              "      <th>4</th>\n",
              "      <td>0</td>\n",
              "      <td>2774</td>\n",
              "      <td>53</td>\n",
              "      <td>secondary education</td>\n",
              "      <td>1</td>\n",
              "      <td>civil partnership</td>\n",
              "      <td>1</td>\n",
              "      <td>F</td>\n",
              "      <td>retiree</td>\n",
              "      <td>0</td>\n",
              "      <td>25378.572</td>\n",
              "      <td>wedding</td>\n",
              "      <td>paruh baya</td>\n",
              "      <td>kebutuhan primer</td>\n",
              "      <td>childless</td>\n",
              "    </tr>\n",
              "  </tbody>\n",
              "</table>\n",
              "</div>"
            ],
            "text/plain": [
              "   children  days_employed  dob_years            education  education_id  \\\n",
              "0         1           8437         42    bachelor's degree             0   \n",
              "1         1           4024         36  secondary education             1   \n",
              "2         0           5623         33  secondary education             1   \n",
              "3         3           4124         32  secondary education             1   \n",
              "4         0           2774         53  secondary education             1   \n",
              "\n",
              "       family_status  family_status_id gender income_type  debt  total_income  \\\n",
              "0            married                 0      F    employee     0     40620.102   \n",
              "1            married                 0      F    employee     0     17932.802   \n",
              "2            married                 0      M    employee     0     23341.752   \n",
              "3            married                 0      M    employee     0     42820.568   \n",
              "4  civil partnership                 1      F     retiree     0     25378.572   \n",
              "\n",
              "           purpose  age_category    purpose_category children_category  \n",
              "0  buy/renov house  dewasa akhir    kebutuhan primer    mempunyai anak  \n",
              "1          buy car  dewasa akhir  kebutuhan sekunder    mempunyai anak  \n",
              "2  buy/renov house   dewasa awal    kebutuhan primer         childless  \n",
              "3        education   dewasa awal    kebutuhan primer    mempunyai anak  \n",
              "4          wedding    paruh baya    kebutuhan primer         childless  "
            ]
          },
          "execution_count": 144,
          "metadata": {},
          "output_type": "execute_result"
        }
      ],
      "source": [
        "# Buat kolom yang memuat kategori\n",
        "\n",
        "df['children_category'] = df['children'].apply(kategori_anak)\n",
        "\n",
        "df.head()"
      ]
    },
    {
      "cell_type": "code",
      "execution_count": null,
      "metadata": {
        "scrolled": true,
        "id": "8d3F0_swAKHV",
        "outputId": "c2391a11-1f7e-43af-cc13-c09f2e838fe1"
      },
      "outputs": [
        {
          "data": {
            "text/plain": [
              "childless         14091\n",
              "mempunyai anak     7363\n",
              "Name: children_category, dtype: int64"
            ]
          },
          "execution_count": 145,
          "metadata": {},
          "output_type": "execute_result"
        }
      ],
      "source": [
        "# Hitung setiap nilai kategori untuk melihat pendistribusiannya\n",
        "df['children_category'].value_counts()"
      ]
    },
    {
      "cell_type": "code",
      "execution_count": null,
      "metadata": {
        "id": "CirVD833AKHW",
        "outputId": "c021fd6c-1bfa-428f-8310-f752711957ce"
      },
      "outputs": [
        {
          "data": {
            "text/plain": [
              "childless         0.656801\n",
              "mempunyai anak    0.343199\n",
              "Name: children_category, dtype: float64"
            ]
          },
          "execution_count": 146,
          "metadata": {},
          "output_type": "execute_result"
        }
      ],
      "source": [
        "df['children_category'].value_counts(normalize = True)\n",
        "\n",
        "# Nasabah childless merupakan nasabah terbanyak (60%)"
      ]
    },
    {
      "cell_type": "markdown",
      "metadata": {
        "id": "cgrfNBL8AKHW"
      },
      "source": [
        "Membuat kategori berdasarkan total_income\n",
        "\n",
        "total_income dibagi menjadi 4 kategori\n",
        "1. kelas bawah dengan range 0 sampai 9999\n",
        "2. kelas menengah dengan range 10000 sampai 30000\n",
        "3. kelas atas dengan range diatas 30000\n",
        "\n"
      ]
    },
    {
      "cell_type": "code",
      "execution_count": null,
      "metadata": {
        "id": "YLE8hCe3AKHW"
      },
      "outputs": [],
      "source": [
        "# Membuat fungsi kategori dari total_income\n",
        "\n",
        "def kategori_income (total_income):\n",
        "    \n",
        "    #total_income = row['total_income']\n",
        "    \n",
        "    if total_income < 10000:\n",
        "        return 'kelas bawah'\n",
        "    elif total_income <= 30000:\n",
        "        return 'kelas menengah'\n",
        "    else:\n",
        "        return 'kelas atas'\n",
        "    "
      ]
    },
    {
      "cell_type": "code",
      "execution_count": null,
      "metadata": {
        "id": "3IL63CvKAKHW",
        "outputId": "9b5d5220-192d-4692-bcb1-9b39454a8c7f"
      },
      "outputs": [
        {
          "data": {
            "text/html": [
              "<div>\n",
              "<style scoped>\n",
              "    .dataframe tbody tr th:only-of-type {\n",
              "        vertical-align: middle;\n",
              "    }\n",
              "\n",
              "    .dataframe tbody tr th {\n",
              "        vertical-align: top;\n",
              "    }\n",
              "\n",
              "    .dataframe thead th {\n",
              "        text-align: right;\n",
              "    }\n",
              "</style>\n",
              "<table border=\"1\" class=\"dataframe\">\n",
              "  <thead>\n",
              "    <tr style=\"text-align: right;\">\n",
              "      <th></th>\n",
              "      <th>children</th>\n",
              "      <th>days_employed</th>\n",
              "      <th>dob_years</th>\n",
              "      <th>education</th>\n",
              "      <th>education_id</th>\n",
              "      <th>family_status</th>\n",
              "      <th>family_status_id</th>\n",
              "      <th>gender</th>\n",
              "      <th>income_type</th>\n",
              "      <th>debt</th>\n",
              "      <th>total_income</th>\n",
              "      <th>purpose</th>\n",
              "      <th>age_category</th>\n",
              "      <th>purpose_category</th>\n",
              "      <th>children_category</th>\n",
              "      <th>total_income_category</th>\n",
              "    </tr>\n",
              "  </thead>\n",
              "  <tbody>\n",
              "    <tr>\n",
              "      <th>0</th>\n",
              "      <td>1</td>\n",
              "      <td>8437</td>\n",
              "      <td>42</td>\n",
              "      <td>bachelor's degree</td>\n",
              "      <td>0</td>\n",
              "      <td>married</td>\n",
              "      <td>0</td>\n",
              "      <td>F</td>\n",
              "      <td>employee</td>\n",
              "      <td>0</td>\n",
              "      <td>40620.102</td>\n",
              "      <td>buy/renov house</td>\n",
              "      <td>dewasa akhir</td>\n",
              "      <td>kebutuhan primer</td>\n",
              "      <td>mempunyai anak</td>\n",
              "      <td>kelas atas</td>\n",
              "    </tr>\n",
              "    <tr>\n",
              "      <th>1</th>\n",
              "      <td>1</td>\n",
              "      <td>4024</td>\n",
              "      <td>36</td>\n",
              "      <td>secondary education</td>\n",
              "      <td>1</td>\n",
              "      <td>married</td>\n",
              "      <td>0</td>\n",
              "      <td>F</td>\n",
              "      <td>employee</td>\n",
              "      <td>0</td>\n",
              "      <td>17932.802</td>\n",
              "      <td>buy car</td>\n",
              "      <td>dewasa akhir</td>\n",
              "      <td>kebutuhan sekunder</td>\n",
              "      <td>mempunyai anak</td>\n",
              "      <td>kelas menengah</td>\n",
              "    </tr>\n",
              "    <tr>\n",
              "      <th>2</th>\n",
              "      <td>0</td>\n",
              "      <td>5623</td>\n",
              "      <td>33</td>\n",
              "      <td>secondary education</td>\n",
              "      <td>1</td>\n",
              "      <td>married</td>\n",
              "      <td>0</td>\n",
              "      <td>M</td>\n",
              "      <td>employee</td>\n",
              "      <td>0</td>\n",
              "      <td>23341.752</td>\n",
              "      <td>buy/renov house</td>\n",
              "      <td>dewasa awal</td>\n",
              "      <td>kebutuhan primer</td>\n",
              "      <td>childless</td>\n",
              "      <td>kelas menengah</td>\n",
              "    </tr>\n",
              "    <tr>\n",
              "      <th>3</th>\n",
              "      <td>3</td>\n",
              "      <td>4124</td>\n",
              "      <td>32</td>\n",
              "      <td>secondary education</td>\n",
              "      <td>1</td>\n",
              "      <td>married</td>\n",
              "      <td>0</td>\n",
              "      <td>M</td>\n",
              "      <td>employee</td>\n",
              "      <td>0</td>\n",
              "      <td>42820.568</td>\n",
              "      <td>education</td>\n",
              "      <td>dewasa awal</td>\n",
              "      <td>kebutuhan primer</td>\n",
              "      <td>mempunyai anak</td>\n",
              "      <td>kelas atas</td>\n",
              "    </tr>\n",
              "    <tr>\n",
              "      <th>4</th>\n",
              "      <td>0</td>\n",
              "      <td>2774</td>\n",
              "      <td>53</td>\n",
              "      <td>secondary education</td>\n",
              "      <td>1</td>\n",
              "      <td>civil partnership</td>\n",
              "      <td>1</td>\n",
              "      <td>F</td>\n",
              "      <td>retiree</td>\n",
              "      <td>0</td>\n",
              "      <td>25378.572</td>\n",
              "      <td>wedding</td>\n",
              "      <td>paruh baya</td>\n",
              "      <td>kebutuhan primer</td>\n",
              "      <td>childless</td>\n",
              "      <td>kelas menengah</td>\n",
              "    </tr>\n",
              "  </tbody>\n",
              "</table>\n",
              "</div>"
            ],
            "text/plain": [
              "   children  days_employed  dob_years            education  education_id  \\\n",
              "0         1           8437         42    bachelor's degree             0   \n",
              "1         1           4024         36  secondary education             1   \n",
              "2         0           5623         33  secondary education             1   \n",
              "3         3           4124         32  secondary education             1   \n",
              "4         0           2774         53  secondary education             1   \n",
              "\n",
              "       family_status  family_status_id gender income_type  debt  total_income  \\\n",
              "0            married                 0      F    employee     0     40620.102   \n",
              "1            married                 0      F    employee     0     17932.802   \n",
              "2            married                 0      M    employee     0     23341.752   \n",
              "3            married                 0      M    employee     0     42820.568   \n",
              "4  civil partnership                 1      F     retiree     0     25378.572   \n",
              "\n",
              "           purpose  age_category    purpose_category children_category  \\\n",
              "0  buy/renov house  dewasa akhir    kebutuhan primer    mempunyai anak   \n",
              "1          buy car  dewasa akhir  kebutuhan sekunder    mempunyai anak   \n",
              "2  buy/renov house   dewasa awal    kebutuhan primer         childless   \n",
              "3        education   dewasa awal    kebutuhan primer    mempunyai anak   \n",
              "4          wedding    paruh baya    kebutuhan primer         childless   \n",
              "\n",
              "  total_income_category  \n",
              "0            kelas atas  \n",
              "1        kelas menengah  \n",
              "2        kelas menengah  \n",
              "3            kelas atas  \n",
              "4        kelas menengah  "
            ]
          },
          "execution_count": 148,
          "metadata": {},
          "output_type": "execute_result"
        }
      ],
      "source": [
        "# Apply fungsi\n",
        "\n",
        "df['total_income_category'] = df['total_income'].apply(kategori_income)\n",
        "df.head()"
      ]
    },
    {
      "cell_type": "markdown",
      "metadata": {
        "id": "LfWB0XeCAKHX"
      },
      "source": [
        "--------------\n",
        "\n",
        "**Pengkategorian Data DONE**\n",
        "\n",
        "--------------"
      ]
    },
    {
      "cell_type": "markdown",
      "metadata": {
        "id": "F4GLSGpGAKHX"
      },
      "source": [
        "## Memeriksa hipotesis\n"
      ]
    },
    {
      "cell_type": "markdown",
      "metadata": {
        "id": "zBLL8XeIAKHX"
      },
      "source": [
        "**Apakah terdapat korelasi antara memiliki anak dengan melakukan pelunasan tepat waktu?**"
      ]
    },
    {
      "cell_type": "code",
      "execution_count": null,
      "metadata": {
        "id": "ByNOd1hlAKHX",
        "outputId": "d7bc486c-544d-4cff-cd28-ca513b2e2ee6"
      },
      "outputs": [
        {
          "data": {
            "text/html": [
              "<div>\n",
              "<style scoped>\n",
              "    .dataframe tbody tr th:only-of-type {\n",
              "        vertical-align: middle;\n",
              "    }\n",
              "\n",
              "    .dataframe tbody tr th {\n",
              "        vertical-align: top;\n",
              "    }\n",
              "\n",
              "    .dataframe thead th {\n",
              "        text-align: right;\n",
              "    }\n",
              "</style>\n",
              "<table border=\"1\" class=\"dataframe\">\n",
              "  <thead>\n",
              "    <tr style=\"text-align: right;\">\n",
              "      <th>debt</th>\n",
              "      <th>0</th>\n",
              "      <th>1</th>\n",
              "      <th>All</th>\n",
              "      <th>% berhasil</th>\n",
              "      <th>% gagal</th>\n",
              "      <th>% All</th>\n",
              "    </tr>\n",
              "    <tr>\n",
              "      <th>children</th>\n",
              "      <th></th>\n",
              "      <th></th>\n",
              "      <th></th>\n",
              "      <th></th>\n",
              "      <th></th>\n",
              "      <th></th>\n",
              "    </tr>\n",
              "  </thead>\n",
              "  <tbody>\n",
              "    <tr>\n",
              "      <th>0</th>\n",
              "      <td>13028.0</td>\n",
              "      <td>1063.0</td>\n",
              "      <td>14091</td>\n",
              "      <td>92.456178</td>\n",
              "      <td>7.543822</td>\n",
              "      <td>100.0</td>\n",
              "    </tr>\n",
              "    <tr>\n",
              "      <th>1</th>\n",
              "      <td>4410.0</td>\n",
              "      <td>445.0</td>\n",
              "      <td>4855</td>\n",
              "      <td>90.834192</td>\n",
              "      <td>9.165808</td>\n",
              "      <td>100.0</td>\n",
              "    </tr>\n",
              "    <tr>\n",
              "      <th>2</th>\n",
              "      <td>1926.0</td>\n",
              "      <td>202.0</td>\n",
              "      <td>2128</td>\n",
              "      <td>90.507519</td>\n",
              "      <td>9.492481</td>\n",
              "      <td>100.0</td>\n",
              "    </tr>\n",
              "    <tr>\n",
              "      <th>3</th>\n",
              "      <td>303.0</td>\n",
              "      <td>27.0</td>\n",
              "      <td>330</td>\n",
              "      <td>91.818182</td>\n",
              "      <td>8.181818</td>\n",
              "      <td>100.0</td>\n",
              "    </tr>\n",
              "    <tr>\n",
              "      <th>4</th>\n",
              "      <td>37.0</td>\n",
              "      <td>4.0</td>\n",
              "      <td>41</td>\n",
              "      <td>90.243902</td>\n",
              "      <td>9.756098</td>\n",
              "      <td>100.0</td>\n",
              "    </tr>\n",
              "    <tr>\n",
              "      <th>5</th>\n",
              "      <td>9.0</td>\n",
              "      <td>NaN</td>\n",
              "      <td>9</td>\n",
              "      <td>100.000000</td>\n",
              "      <td>NaN</td>\n",
              "      <td>NaN</td>\n",
              "    </tr>\n",
              "    <tr>\n",
              "      <th>All</th>\n",
              "      <td>19713.0</td>\n",
              "      <td>1741.0</td>\n",
              "      <td>21454</td>\n",
              "      <td>91.884963</td>\n",
              "      <td>8.115037</td>\n",
              "      <td>100.0</td>\n",
              "    </tr>\n",
              "  </tbody>\n",
              "</table>\n",
              "</div>"
            ],
            "text/plain": [
              "debt            0       1    All  % berhasil   % gagal  % All\n",
              "children                                                     \n",
              "0         13028.0  1063.0  14091   92.456178  7.543822  100.0\n",
              "1          4410.0   445.0   4855   90.834192  9.165808  100.0\n",
              "2          1926.0   202.0   2128   90.507519  9.492481  100.0\n",
              "3           303.0    27.0    330   91.818182  8.181818  100.0\n",
              "4            37.0     4.0     41   90.243902  9.756098  100.0\n",
              "5             9.0     NaN      9  100.000000       NaN    NaN\n",
              "All       19713.0  1741.0  21454   91.884963  8.115037  100.0"
            ]
          },
          "execution_count": 150,
          "metadata": {},
          "output_type": "execute_result"
        }
      ],
      "source": [
        "# Pivot table pada kolom children\n",
        "\n",
        "df_category_pivot_children = pd.pivot_table(df, index = 'children', columns = 'debt', \n",
        "                                            values = 'total_income', aggfunc = 'count', margins= True)\n",
        "\n",
        "df_category_pivot_children['% berhasil'] = df_category_pivot_children[0] / df_category_pivot_children['All']*100\n",
        "df_category_pivot_children['% gagal'] = df_category_pivot_children[1] / df_category_pivot_children['All']*100\n",
        "df_category_pivot_children['% All'] = df_category_pivot_children['% berhasil'] + df_category_pivot_children['% gagal']\n",
        "\n",
        "df_category_pivot_children"
      ]
    },
    {
      "cell_type": "code",
      "execution_count": null,
      "metadata": {
        "id": "EEYGgYYjAKHY",
        "outputId": "dcc1d66f-3e59-4337-9216-216194e27295"
      },
      "outputs": [
        {
          "data": {
            "text/html": [
              "<div>\n",
              "<style scoped>\n",
              "    .dataframe tbody tr th:only-of-type {\n",
              "        vertical-align: middle;\n",
              "    }\n",
              "\n",
              "    .dataframe tbody tr th {\n",
              "        vertical-align: top;\n",
              "    }\n",
              "\n",
              "    .dataframe thead th {\n",
              "        text-align: right;\n",
              "    }\n",
              "</style>\n",
              "<table border=\"1\" class=\"dataframe\">\n",
              "  <thead>\n",
              "    <tr style=\"text-align: right;\">\n",
              "      <th>debt</th>\n",
              "      <th>0</th>\n",
              "      <th>1</th>\n",
              "      <th>All</th>\n",
              "      <th>% berhasil</th>\n",
              "      <th>% gagal</th>\n",
              "      <th>% All</th>\n",
              "    </tr>\n",
              "    <tr>\n",
              "      <th>children_category</th>\n",
              "      <th></th>\n",
              "      <th></th>\n",
              "      <th></th>\n",
              "      <th></th>\n",
              "      <th></th>\n",
              "      <th></th>\n",
              "    </tr>\n",
              "  </thead>\n",
              "  <tbody>\n",
              "    <tr>\n",
              "      <th>childless</th>\n",
              "      <td>13028</td>\n",
              "      <td>1063</td>\n",
              "      <td>14091</td>\n",
              "      <td>92.456178</td>\n",
              "      <td>7.543822</td>\n",
              "      <td>100.0</td>\n",
              "    </tr>\n",
              "    <tr>\n",
              "      <th>mempunyai anak</th>\n",
              "      <td>6685</td>\n",
              "      <td>678</td>\n",
              "      <td>7363</td>\n",
              "      <td>90.791797</td>\n",
              "      <td>9.208203</td>\n",
              "      <td>100.0</td>\n",
              "    </tr>\n",
              "    <tr>\n",
              "      <th>All</th>\n",
              "      <td>19713</td>\n",
              "      <td>1741</td>\n",
              "      <td>21454</td>\n",
              "      <td>91.884963</td>\n",
              "      <td>8.115037</td>\n",
              "      <td>100.0</td>\n",
              "    </tr>\n",
              "  </tbody>\n",
              "</table>\n",
              "</div>"
            ],
            "text/plain": [
              "debt                   0     1    All  % berhasil   % gagal  % All\n",
              "children_category                                                 \n",
              "childless          13028  1063  14091   92.456178  7.543822  100.0\n",
              "mempunyai anak      6685   678   7363   90.791797  9.208203  100.0\n",
              "All                19713  1741  21454   91.884963  8.115037  100.0"
            ]
          },
          "execution_count": 151,
          "metadata": {},
          "output_type": "execute_result"
        }
      ],
      "source": [
        "# Pivot table pada kolom children_category\n",
        "\n",
        "df_category_pivot_children_category = pd.pivot_table(df, index = 'children_category', columns = 'debt', \n",
        "                                            values = 'total_income', aggfunc = 'count', margins= True)\n",
        "\n",
        "df_category_pivot_children_category['% berhasil'] = df_category_pivot_children_category[0] / df_category_pivot_children_category['All']*100\n",
        "df_category_pivot_children_category['% gagal'] = df_category_pivot_children_category[1] / df_category_pivot_children_category['All']*100\n",
        "df_category_pivot_children_category['% All'] = df_category_pivot_children_category['% berhasil'] + df_category_pivot_children_category['% gagal']\n",
        "\n",
        "df_category_pivot_children_category"
      ]
    },
    {
      "cell_type": "markdown",
      "metadata": {
        "id": "7MfUR8buAKHY"
      },
      "source": [
        "**Kesimpulan**\n",
        "\n",
        "\n",
        "\n",
        "Data children = 0 atau child_category = childless merupakan nasabah dengan tingkat keberhasilan pelunasan tertinggi\n",
        "\n",
        "\n",
        "\n",
        "**Jadi kesimpulan saya adalah nasabah yang tidak memiliki anak meningkatkan tingkat keberhasilannya membayar hutang sebesar 22% dibanding jika nasabah tersebut memiliki anak**\n",
        "\n",
        "\n",
        "**DONE**\n",
        "\n",
        "------\n"
      ]
    },
    {
      "cell_type": "markdown",
      "metadata": {
        "id": "Uy5d6pmRAKHY"
      },
      "source": [
        "**Apakah terdapat korelasi antara status keluarga dengan pelunasan tepat waktu?**"
      ]
    },
    {
      "cell_type": "code",
      "execution_count": null,
      "metadata": {
        "scrolled": true,
        "id": "gxFudSwIAKHY",
        "outputId": "84556acb-52b6-45bb-ce36-d7c28f95ee53"
      },
      "outputs": [
        {
          "data": {
            "text/plain": [
              "married              12339\n",
              "civil partnership     4151\n",
              "unmarried             2810\n",
              "divorced              1195\n",
              "widow / widower        959\n",
              "Name: family_status, dtype: int64"
            ]
          },
          "execution_count": 152,
          "metadata": {},
          "output_type": "execute_result"
        }
      ],
      "source": [
        "df['family_status'].value_counts()"
      ]
    },
    {
      "cell_type": "code",
      "execution_count": null,
      "metadata": {
        "id": "QoWc1LfFAKHZ",
        "outputId": "d4986d06-cdc9-437f-df66-c50c709393f7"
      },
      "outputs": [
        {
          "data": {
            "text/html": [
              "<div>\n",
              "<style scoped>\n",
              "    .dataframe tbody tr th:only-of-type {\n",
              "        vertical-align: middle;\n",
              "    }\n",
              "\n",
              "    .dataframe tbody tr th {\n",
              "        vertical-align: top;\n",
              "    }\n",
              "\n",
              "    .dataframe thead th {\n",
              "        text-align: right;\n",
              "    }\n",
              "</style>\n",
              "<table border=\"1\" class=\"dataframe\">\n",
              "  <thead>\n",
              "    <tr style=\"text-align: right;\">\n",
              "      <th>debt</th>\n",
              "      <th>0</th>\n",
              "      <th>1</th>\n",
              "      <th>All</th>\n",
              "      <th>% berhasil</th>\n",
              "      <th>% gagal</th>\n",
              "      <th>% All</th>\n",
              "    </tr>\n",
              "    <tr>\n",
              "      <th>family_status</th>\n",
              "      <th></th>\n",
              "      <th></th>\n",
              "      <th></th>\n",
              "      <th></th>\n",
              "      <th></th>\n",
              "      <th></th>\n",
              "    </tr>\n",
              "  </thead>\n",
              "  <tbody>\n",
              "    <tr>\n",
              "      <th>civil partnership</th>\n",
              "      <td>3763</td>\n",
              "      <td>388</td>\n",
              "      <td>4151</td>\n",
              "      <td>90.652855</td>\n",
              "      <td>9.347145</td>\n",
              "      <td>100.0</td>\n",
              "    </tr>\n",
              "    <tr>\n",
              "      <th>divorced</th>\n",
              "      <td>1110</td>\n",
              "      <td>85</td>\n",
              "      <td>1195</td>\n",
              "      <td>92.887029</td>\n",
              "      <td>7.112971</td>\n",
              "      <td>100.0</td>\n",
              "    </tr>\n",
              "    <tr>\n",
              "      <th>married</th>\n",
              "      <td>11408</td>\n",
              "      <td>931</td>\n",
              "      <td>12339</td>\n",
              "      <td>92.454818</td>\n",
              "      <td>7.545182</td>\n",
              "      <td>100.0</td>\n",
              "    </tr>\n",
              "    <tr>\n",
              "      <th>unmarried</th>\n",
              "      <td>2536</td>\n",
              "      <td>274</td>\n",
              "      <td>2810</td>\n",
              "      <td>90.249110</td>\n",
              "      <td>9.750890</td>\n",
              "      <td>100.0</td>\n",
              "    </tr>\n",
              "    <tr>\n",
              "      <th>widow / widower</th>\n",
              "      <td>896</td>\n",
              "      <td>63</td>\n",
              "      <td>959</td>\n",
              "      <td>93.430657</td>\n",
              "      <td>6.569343</td>\n",
              "      <td>100.0</td>\n",
              "    </tr>\n",
              "    <tr>\n",
              "      <th>All</th>\n",
              "      <td>19713</td>\n",
              "      <td>1741</td>\n",
              "      <td>21454</td>\n",
              "      <td>91.884963</td>\n",
              "      <td>8.115037</td>\n",
              "      <td>100.0</td>\n",
              "    </tr>\n",
              "  </tbody>\n",
              "</table>\n",
              "</div>"
            ],
            "text/plain": [
              "debt                   0     1    All  % berhasil   % gagal  % All\n",
              "family_status                                                     \n",
              "civil partnership   3763   388   4151   90.652855  9.347145  100.0\n",
              "divorced            1110    85   1195   92.887029  7.112971  100.0\n",
              "married            11408   931  12339   92.454818  7.545182  100.0\n",
              "unmarried           2536   274   2810   90.249110  9.750890  100.0\n",
              "widow / widower      896    63    959   93.430657  6.569343  100.0\n",
              "All                19713  1741  21454   91.884963  8.115037  100.0"
            ]
          },
          "execution_count": 155,
          "metadata": {},
          "output_type": "execute_result"
        }
      ],
      "source": [
        "# Membuat tabel pivot berdasarkan data berhasil dan gagal bayar dengan status keluarga\n",
        "\n",
        "df_category_pivot_family = pd.pivot_table(df, index = 'family_status', columns = 'debt', \n",
        "                                          values = 'total_income', aggfunc = 'count', margins= True)\n",
        "\n",
        "df_category_pivot_family['% berhasil'] = df_category_pivot_family[0] / df_category_pivot_family['All']*100\n",
        "df_category_pivot_family['% gagal'] = df_category_pivot_family[1] / df_category_pivot_family['All']*100\n",
        "df_category_pivot_family['% All'] = df_category_pivot_family['% berhasil'] + df_category_pivot_family['% gagal']\n",
        "\n",
        "# Show pivot\n",
        "df_category_pivot_family"
      ]
    },
    {
      "cell_type": "markdown",
      "metadata": {
        "id": "oPwiS0lyAKHZ"
      },
      "source": [
        "\n",
        "\n",
        "\n",
        "Terdapat 5 kategori pada pivot ini\n",
        "\n",
        "Persentase kegagalan tertinggi terdapat pada kategori unmarried sekitar 9.7%\n",
        "\n",
        "Nasabah yang belum menikah memiliki persentase terbesar dalam kegagalan membayar hutang dibandingkan dengan kategori lainnya\n",
        "\n",
        "\n",
        "Jika dilihat lebih dalam, saya dapat menyederhanakan kategori ini menjadi 2 kategori saja\n",
        "1. Pernah/masih menikah - married, divorced, widow/widower\n",
        "2. Belum menikah - unmarried, civil partnership (civil partnership ini masuk ke dalam kategori belum menikah karena secara tingkatan hukumnya civil partnership ini berada di bawah married dan ada banyak hak-hak yang tidak bisa didapatkan walaupun ini termasuk ke dalam hubungan yang diakui hukum)\n",
        "\n",
        "\n",
        "Setelah melihat ke dua kategori baru ini, kita dapat melihat bahwa persentase kategori 'belum menikah' merupakan kategori dengan tingkat kegagalan tertinggi yaitu 27.8%  lebih tinggi dari kategori 'pernah/masih menikah'\n",
        "\n",
        "\n",
        "\n",
        "**Kesimpulan saya adalah nasabah yang 'belum menikah' memiliki kecenderungan untuk gagal membayar hutang lebih tinggi daripada nasabah yang 'pernah/masih menikah'**\n",
        "\n",
        "\n",
        "**DONE**\n",
        "\n",
        "------"
      ]
    },
    {
      "cell_type": "markdown",
      "metadata": {
        "id": "nw9ZT1IHAKHZ"
      },
      "source": [
        "**Apakah terdapat korelasi antara tingkat pendapatan dengan membayar kembali tepat waktu?**"
      ]
    },
    {
      "cell_type": "code",
      "execution_count": null,
      "metadata": {
        "id": "NTE-2em2AKHa",
        "outputId": "5d4be8c1-fa6e-4fb5-c36e-7a280d8b7298"
      },
      "outputs": [
        {
          "data": {
            "text/html": [
              "<div>\n",
              "<style scoped>\n",
              "    .dataframe tbody tr th:only-of-type {\n",
              "        vertical-align: middle;\n",
              "    }\n",
              "\n",
              "    .dataframe tbody tr th {\n",
              "        vertical-align: top;\n",
              "    }\n",
              "\n",
              "    .dataframe thead th {\n",
              "        text-align: right;\n",
              "    }\n",
              "</style>\n",
              "<table border=\"1\" class=\"dataframe\">\n",
              "  <thead>\n",
              "    <tr style=\"text-align: right;\">\n",
              "      <th></th>\n",
              "      <th>children</th>\n",
              "      <th>days_employed</th>\n",
              "      <th>dob_years</th>\n",
              "      <th>education</th>\n",
              "      <th>education_id</th>\n",
              "      <th>family_status</th>\n",
              "      <th>family_status_id</th>\n",
              "      <th>gender</th>\n",
              "      <th>income_type</th>\n",
              "      <th>debt</th>\n",
              "      <th>total_income</th>\n",
              "      <th>purpose</th>\n",
              "      <th>age_category</th>\n",
              "      <th>purpose_category</th>\n",
              "      <th>children_category</th>\n",
              "      <th>total_income_category</th>\n",
              "    </tr>\n",
              "  </thead>\n",
              "  <tbody>\n",
              "    <tr>\n",
              "      <th>0</th>\n",
              "      <td>1</td>\n",
              "      <td>8437</td>\n",
              "      <td>42</td>\n",
              "      <td>bachelor's degree</td>\n",
              "      <td>0</td>\n",
              "      <td>married</td>\n",
              "      <td>0</td>\n",
              "      <td>F</td>\n",
              "      <td>employee</td>\n",
              "      <td>0</td>\n",
              "      <td>40620.102</td>\n",
              "      <td>buy/renov house</td>\n",
              "      <td>dewasa akhir</td>\n",
              "      <td>kebutuhan primer</td>\n",
              "      <td>mempunyai anak</td>\n",
              "      <td>kelas atas</td>\n",
              "    </tr>\n",
              "    <tr>\n",
              "      <th>1</th>\n",
              "      <td>1</td>\n",
              "      <td>4024</td>\n",
              "      <td>36</td>\n",
              "      <td>secondary education</td>\n",
              "      <td>1</td>\n",
              "      <td>married</td>\n",
              "      <td>0</td>\n",
              "      <td>F</td>\n",
              "      <td>employee</td>\n",
              "      <td>0</td>\n",
              "      <td>17932.802</td>\n",
              "      <td>buy car</td>\n",
              "      <td>dewasa akhir</td>\n",
              "      <td>kebutuhan sekunder</td>\n",
              "      <td>mempunyai anak</td>\n",
              "      <td>kelas menengah</td>\n",
              "    </tr>\n",
              "    <tr>\n",
              "      <th>2</th>\n",
              "      <td>0</td>\n",
              "      <td>5623</td>\n",
              "      <td>33</td>\n",
              "      <td>secondary education</td>\n",
              "      <td>1</td>\n",
              "      <td>married</td>\n",
              "      <td>0</td>\n",
              "      <td>M</td>\n",
              "      <td>employee</td>\n",
              "      <td>0</td>\n",
              "      <td>23341.752</td>\n",
              "      <td>buy/renov house</td>\n",
              "      <td>dewasa awal</td>\n",
              "      <td>kebutuhan primer</td>\n",
              "      <td>childless</td>\n",
              "      <td>kelas menengah</td>\n",
              "    </tr>\n",
              "    <tr>\n",
              "      <th>3</th>\n",
              "      <td>3</td>\n",
              "      <td>4124</td>\n",
              "      <td>32</td>\n",
              "      <td>secondary education</td>\n",
              "      <td>1</td>\n",
              "      <td>married</td>\n",
              "      <td>0</td>\n",
              "      <td>M</td>\n",
              "      <td>employee</td>\n",
              "      <td>0</td>\n",
              "      <td>42820.568</td>\n",
              "      <td>education</td>\n",
              "      <td>dewasa awal</td>\n",
              "      <td>kebutuhan primer</td>\n",
              "      <td>mempunyai anak</td>\n",
              "      <td>kelas atas</td>\n",
              "    </tr>\n",
              "    <tr>\n",
              "      <th>4</th>\n",
              "      <td>0</td>\n",
              "      <td>2774</td>\n",
              "      <td>53</td>\n",
              "      <td>secondary education</td>\n",
              "      <td>1</td>\n",
              "      <td>civil partnership</td>\n",
              "      <td>1</td>\n",
              "      <td>F</td>\n",
              "      <td>retiree</td>\n",
              "      <td>0</td>\n",
              "      <td>25378.572</td>\n",
              "      <td>wedding</td>\n",
              "      <td>paruh baya</td>\n",
              "      <td>kebutuhan primer</td>\n",
              "      <td>childless</td>\n",
              "      <td>kelas menengah</td>\n",
              "    </tr>\n",
              "  </tbody>\n",
              "</table>\n",
              "</div>"
            ],
            "text/plain": [
              "   children  days_employed  dob_years            education  education_id  \\\n",
              "0         1           8437         42    bachelor's degree             0   \n",
              "1         1           4024         36  secondary education             1   \n",
              "2         0           5623         33  secondary education             1   \n",
              "3         3           4124         32  secondary education             1   \n",
              "4         0           2774         53  secondary education             1   \n",
              "\n",
              "       family_status  family_status_id gender income_type  debt  total_income  \\\n",
              "0            married                 0      F    employee     0     40620.102   \n",
              "1            married                 0      F    employee     0     17932.802   \n",
              "2            married                 0      M    employee     0     23341.752   \n",
              "3            married                 0      M    employee     0     42820.568   \n",
              "4  civil partnership                 1      F     retiree     0     25378.572   \n",
              "\n",
              "           purpose  age_category    purpose_category children_category  \\\n",
              "0  buy/renov house  dewasa akhir    kebutuhan primer    mempunyai anak   \n",
              "1          buy car  dewasa akhir  kebutuhan sekunder    mempunyai anak   \n",
              "2  buy/renov house   dewasa awal    kebutuhan primer         childless   \n",
              "3        education   dewasa awal    kebutuhan primer    mempunyai anak   \n",
              "4          wedding    paruh baya    kebutuhan primer         childless   \n",
              "\n",
              "  total_income_category  \n",
              "0            kelas atas  \n",
              "1        kelas menengah  \n",
              "2        kelas menengah  \n",
              "3            kelas atas  \n",
              "4        kelas menengah  "
            ]
          },
          "execution_count": 156,
          "metadata": {},
          "output_type": "execute_result"
        }
      ],
      "source": [
        "df.head()"
      ]
    },
    {
      "cell_type": "code",
      "execution_count": null,
      "metadata": {
        "id": "SFP9ryXSAKHa",
        "outputId": "70eeabeb-73dc-4378-b529-0fffd95b2d03"
      },
      "outputs": [
        {
          "data": {
            "text/html": [
              "<div>\n",
              "<style scoped>\n",
              "    .dataframe tbody tr th:only-of-type {\n",
              "        vertical-align: middle;\n",
              "    }\n",
              "\n",
              "    .dataframe tbody tr th {\n",
              "        vertical-align: top;\n",
              "    }\n",
              "\n",
              "    .dataframe thead th {\n",
              "        text-align: right;\n",
              "    }\n",
              "</style>\n",
              "<table border=\"1\" class=\"dataframe\">\n",
              "  <thead>\n",
              "    <tr style=\"text-align: right;\">\n",
              "      <th>debt</th>\n",
              "      <th>0</th>\n",
              "      <th>1</th>\n",
              "      <th>All</th>\n",
              "      <th>% berhasil</th>\n",
              "      <th>% gagal</th>\n",
              "      <th>% All</th>\n",
              "    </tr>\n",
              "    <tr>\n",
              "      <th>total_income_category</th>\n",
              "      <th></th>\n",
              "      <th></th>\n",
              "      <th></th>\n",
              "      <th></th>\n",
              "      <th></th>\n",
              "      <th></th>\n",
              "    </tr>\n",
              "  </thead>\n",
              "  <tbody>\n",
              "    <tr>\n",
              "      <th>kelas atas</th>\n",
              "      <td>5484</td>\n",
              "      <td>436</td>\n",
              "      <td>5920</td>\n",
              "      <td>92.635135</td>\n",
              "      <td>7.364865</td>\n",
              "      <td>100.0</td>\n",
              "    </tr>\n",
              "    <tr>\n",
              "      <th>kelas bawah</th>\n",
              "      <td>868</td>\n",
              "      <td>58</td>\n",
              "      <td>926</td>\n",
              "      <td>93.736501</td>\n",
              "      <td>6.263499</td>\n",
              "      <td>100.0</td>\n",
              "    </tr>\n",
              "    <tr>\n",
              "      <th>kelas menengah</th>\n",
              "      <td>13361</td>\n",
              "      <td>1247</td>\n",
              "      <td>14608</td>\n",
              "      <td>91.463582</td>\n",
              "      <td>8.536418</td>\n",
              "      <td>100.0</td>\n",
              "    </tr>\n",
              "    <tr>\n",
              "      <th>All</th>\n",
              "      <td>19713</td>\n",
              "      <td>1741</td>\n",
              "      <td>21454</td>\n",
              "      <td>91.884963</td>\n",
              "      <td>8.115037</td>\n",
              "      <td>100.0</td>\n",
              "    </tr>\n",
              "  </tbody>\n",
              "</table>\n",
              "</div>"
            ],
            "text/plain": [
              "debt                       0     1    All  % berhasil   % gagal  % All\n",
              "total_income_category                                                 \n",
              "kelas atas              5484   436   5920   92.635135  7.364865  100.0\n",
              "kelas bawah              868    58    926   93.736501  6.263499  100.0\n",
              "kelas menengah         13361  1247  14608   91.463582  8.536418  100.0\n",
              "All                    19713  1741  21454   91.884963  8.115037  100.0"
            ]
          },
          "execution_count": 157,
          "metadata": {},
          "output_type": "execute_result"
        }
      ],
      "source": [
        "# Periksa data tingkat pendapatan dan pelunasan tepat waktu\n",
        "# Hitung gagal bayar berdasarkan tingkat pendapatan\n",
        "\n",
        "df_category_pivot_income = pd.pivot_table(df, index = 'total_income_category', columns = 'debt', \n",
        "                                          values = 'total_income', aggfunc = 'count', margins= True)\n",
        "\n",
        "df_category_pivot_income['% berhasil'] = df_category_pivot_income[0] / df_category_pivot_income['All']*100\n",
        "df_category_pivot_income['% gagal'] = df_category_pivot_income[1] / df_category_pivot_income['All']*100\n",
        "df_category_pivot_income['% All'] = df_category_pivot_income['% berhasil'] + df_category_pivot_income['% gagal']\n",
        "\n",
        "# Show pivot\n",
        "df_category_pivot_income"
      ]
    },
    {
      "cell_type": "markdown",
      "metadata": {
        "id": "H3ln9E4pAKHa"
      },
      "source": [
        "\n",
        "\n",
        "\n",
        "**Kesimpulan saya adalah nasabah dengan penghasilan kelas menengah dan kelas atas merupakan kategori terbanyak dalam gagal membayar hutang**\n",
        "\n",
        "**Dan kelas bawah merupakan nasabah dengan rate terendah dalam gagal membayar hutang yaitu sebanyak 6.2% dari total 926 nasabah kelas bawah**\n",
        "\n",
        "**DONE**\n",
        "\n",
        "------"
      ]
    },
    {
      "cell_type": "markdown",
      "metadata": {
        "id": "S6XlvFPNAKHa"
      },
      "source": [
        "**Bagaimana tujuan kredit memengaruhi tingkat gagal bayar?**"
      ]
    },
    {
      "cell_type": "code",
      "execution_count": null,
      "metadata": {
        "id": "iTKRBvJEAKHa",
        "outputId": "f33c090e-220d-4b1a-f663-ff2c299fc63b"
      },
      "outputs": [
        {
          "data": {
            "text/html": [
              "<div>\n",
              "<style scoped>\n",
              "    .dataframe tbody tr th:only-of-type {\n",
              "        vertical-align: middle;\n",
              "    }\n",
              "\n",
              "    .dataframe tbody tr th {\n",
              "        vertical-align: top;\n",
              "    }\n",
              "\n",
              "    .dataframe thead th {\n",
              "        text-align: right;\n",
              "    }\n",
              "</style>\n",
              "<table border=\"1\" class=\"dataframe\">\n",
              "  <thead>\n",
              "    <tr style=\"text-align: right;\">\n",
              "      <th>debt</th>\n",
              "      <th>0</th>\n",
              "      <th>1</th>\n",
              "      <th>All</th>\n",
              "      <th>% berhasil</th>\n",
              "      <th>% gagal</th>\n",
              "      <th>% All</th>\n",
              "    </tr>\n",
              "    <tr>\n",
              "      <th>purpose_category</th>\n",
              "      <th></th>\n",
              "      <th></th>\n",
              "      <th></th>\n",
              "      <th></th>\n",
              "      <th></th>\n",
              "      <th></th>\n",
              "    </tr>\n",
              "  </thead>\n",
              "  <tbody>\n",
              "    <tr>\n",
              "      <th>kebutuhan primer</th>\n",
              "      <td>9334</td>\n",
              "      <td>812</td>\n",
              "      <td>10146</td>\n",
              "      <td>91.996846</td>\n",
              "      <td>8.003154</td>\n",
              "      <td>100.0</td>\n",
              "    </tr>\n",
              "    <tr>\n",
              "      <th>kebutuhan sekunder</th>\n",
              "      <td>3903</td>\n",
              "      <td>403</td>\n",
              "      <td>4306</td>\n",
              "      <td>90.640966</td>\n",
              "      <td>9.359034</td>\n",
              "      <td>100.0</td>\n",
              "    </tr>\n",
              "    <tr>\n",
              "      <th>kebutuhan tersier</th>\n",
              "      <td>6476</td>\n",
              "      <td>526</td>\n",
              "      <td>7002</td>\n",
              "      <td>92.487861</td>\n",
              "      <td>7.512139</td>\n",
              "      <td>100.0</td>\n",
              "    </tr>\n",
              "    <tr>\n",
              "      <th>All</th>\n",
              "      <td>19713</td>\n",
              "      <td>1741</td>\n",
              "      <td>21454</td>\n",
              "      <td>91.884963</td>\n",
              "      <td>8.115037</td>\n",
              "      <td>100.0</td>\n",
              "    </tr>\n",
              "  </tbody>\n",
              "</table>\n",
              "</div>"
            ],
            "text/plain": [
              "debt                    0     1    All  % berhasil   % gagal  % All\n",
              "purpose_category                                                   \n",
              "kebutuhan primer     9334   812  10146   91.996846  8.003154  100.0\n",
              "kebutuhan sekunder   3903   403   4306   90.640966  9.359034  100.0\n",
              "kebutuhan tersier    6476   526   7002   92.487861  7.512139  100.0\n",
              "All                 19713  1741  21454   91.884963  8.115037  100.0"
            ]
          },
          "execution_count": 158,
          "metadata": {},
          "output_type": "execute_result"
        }
      ],
      "source": [
        "# Periksa persentase tingkat gagal bayar untuk setiap tujuan kredit dan lakukan penganalisisan\n",
        "\n",
        "df_category_pivot_purpose = pd.pivot_table(df, index = 'purpose_category', columns = 'debt', \n",
        "                                          values = 'total_income', aggfunc = 'count', margins= True)\n",
        "\n",
        "df_category_pivot_purpose['% berhasil'] = df_category_pivot_purpose[0] / df_category_pivot_purpose['All']*100\n",
        "df_category_pivot_purpose['% gagal'] = df_category_pivot_purpose[1] / df_category_pivot_purpose['All']*100\n",
        "df_category_pivot_purpose['% All'] = df_category_pivot_purpose['% berhasil'] + df_category_pivot_purpose['% gagal']\n",
        "\n",
        "# Show pivot\n",
        "df_category_pivot_purpose"
      ]
    },
    {
      "cell_type": "markdown",
      "metadata": {
        "id": "IuLsMqBIAKHb"
      },
      "source": [
        "\n",
        "\n",
        "\n",
        "**Jawaban ini bersifat sementara karena di cell selanjutnya saya akan melakukan modifikasi lagi pada kategori ini dan juga pada beberapa kategori lainnya**\n",
        "\n",
        "**Tujuan kredit dengan kebutuhan sekunder yaitu membeli mobil berada pada tingkat tertinggi dengan persentase kegagalan sebesar 9.3% dari total nasabah yang mengajukan kredit untuk kategori kebutuhan sekunder**\n",
        "\n",
        "------\n",
        "\n",
        "**DONE**"
      ]
    },
    {
      "cell_type": "markdown",
      "metadata": {
        "id": "MfGn65k3AKHb"
      },
      "source": [
        "# Modifikasi data lebih lanjut"
      ]
    },
    {
      "cell_type": "markdown",
      "metadata": {
        "id": "T14WGy-SAKHb"
      },
      "source": [
        "**Disini saya akan buat kategori lain atau pivot lain untuk mendapatkan insight baru**"
      ]
    },
    {
      "cell_type": "code",
      "execution_count": null,
      "metadata": {
        "id": "8ibl0cBoAKHb",
        "outputId": "231d3007-ecb0-4b17-ed55-f75e27a60d19"
      },
      "outputs": [
        {
          "data": {
            "text/html": [
              "<div>\n",
              "<style scoped>\n",
              "    .dataframe tbody tr th:only-of-type {\n",
              "        vertical-align: middle;\n",
              "    }\n",
              "\n",
              "    .dataframe tbody tr th {\n",
              "        vertical-align: top;\n",
              "    }\n",
              "\n",
              "    .dataframe thead th {\n",
              "        text-align: right;\n",
              "    }\n",
              "</style>\n",
              "<table border=\"1\" class=\"dataframe\">\n",
              "  <thead>\n",
              "    <tr style=\"text-align: right;\">\n",
              "      <th></th>\n",
              "      <th>children</th>\n",
              "      <th>days_employed</th>\n",
              "      <th>dob_years</th>\n",
              "      <th>education</th>\n",
              "      <th>education_id</th>\n",
              "      <th>family_status</th>\n",
              "      <th>family_status_id</th>\n",
              "      <th>gender</th>\n",
              "      <th>income_type</th>\n",
              "      <th>debt</th>\n",
              "      <th>total_income</th>\n",
              "      <th>purpose</th>\n",
              "      <th>age_category</th>\n",
              "      <th>purpose_category</th>\n",
              "      <th>children_category</th>\n",
              "      <th>total_income_category</th>\n",
              "    </tr>\n",
              "  </thead>\n",
              "  <tbody>\n",
              "    <tr>\n",
              "      <th>0</th>\n",
              "      <td>1</td>\n",
              "      <td>8437</td>\n",
              "      <td>42</td>\n",
              "      <td>bachelor's degree</td>\n",
              "      <td>0</td>\n",
              "      <td>married</td>\n",
              "      <td>0</td>\n",
              "      <td>F</td>\n",
              "      <td>employee</td>\n",
              "      <td>0</td>\n",
              "      <td>40620.102</td>\n",
              "      <td>buy/renov house</td>\n",
              "      <td>dewasa akhir</td>\n",
              "      <td>kebutuhan primer</td>\n",
              "      <td>mempunyai anak</td>\n",
              "      <td>kelas atas</td>\n",
              "    </tr>\n",
              "    <tr>\n",
              "      <th>1</th>\n",
              "      <td>1</td>\n",
              "      <td>4024</td>\n",
              "      <td>36</td>\n",
              "      <td>secondary education</td>\n",
              "      <td>1</td>\n",
              "      <td>married</td>\n",
              "      <td>0</td>\n",
              "      <td>F</td>\n",
              "      <td>employee</td>\n",
              "      <td>0</td>\n",
              "      <td>17932.802</td>\n",
              "      <td>buy car</td>\n",
              "      <td>dewasa akhir</td>\n",
              "      <td>kebutuhan sekunder</td>\n",
              "      <td>mempunyai anak</td>\n",
              "      <td>kelas menengah</td>\n",
              "    </tr>\n",
              "    <tr>\n",
              "      <th>2</th>\n",
              "      <td>0</td>\n",
              "      <td>5623</td>\n",
              "      <td>33</td>\n",
              "      <td>secondary education</td>\n",
              "      <td>1</td>\n",
              "      <td>married</td>\n",
              "      <td>0</td>\n",
              "      <td>M</td>\n",
              "      <td>employee</td>\n",
              "      <td>0</td>\n",
              "      <td>23341.752</td>\n",
              "      <td>buy/renov house</td>\n",
              "      <td>dewasa awal</td>\n",
              "      <td>kebutuhan primer</td>\n",
              "      <td>childless</td>\n",
              "      <td>kelas menengah</td>\n",
              "    </tr>\n",
              "    <tr>\n",
              "      <th>3</th>\n",
              "      <td>3</td>\n",
              "      <td>4124</td>\n",
              "      <td>32</td>\n",
              "      <td>secondary education</td>\n",
              "      <td>1</td>\n",
              "      <td>married</td>\n",
              "      <td>0</td>\n",
              "      <td>M</td>\n",
              "      <td>employee</td>\n",
              "      <td>0</td>\n",
              "      <td>42820.568</td>\n",
              "      <td>education</td>\n",
              "      <td>dewasa awal</td>\n",
              "      <td>kebutuhan primer</td>\n",
              "      <td>mempunyai anak</td>\n",
              "      <td>kelas atas</td>\n",
              "    </tr>\n",
              "    <tr>\n",
              "      <th>4</th>\n",
              "      <td>0</td>\n",
              "      <td>2774</td>\n",
              "      <td>53</td>\n",
              "      <td>secondary education</td>\n",
              "      <td>1</td>\n",
              "      <td>civil partnership</td>\n",
              "      <td>1</td>\n",
              "      <td>F</td>\n",
              "      <td>retiree</td>\n",
              "      <td>0</td>\n",
              "      <td>25378.572</td>\n",
              "      <td>wedding</td>\n",
              "      <td>paruh baya</td>\n",
              "      <td>kebutuhan primer</td>\n",
              "      <td>childless</td>\n",
              "      <td>kelas menengah</td>\n",
              "    </tr>\n",
              "  </tbody>\n",
              "</table>\n",
              "</div>"
            ],
            "text/plain": [
              "   children  days_employed  dob_years            education  education_id  \\\n",
              "0         1           8437         42    bachelor's degree             0   \n",
              "1         1           4024         36  secondary education             1   \n",
              "2         0           5623         33  secondary education             1   \n",
              "3         3           4124         32  secondary education             1   \n",
              "4         0           2774         53  secondary education             1   \n",
              "\n",
              "       family_status  family_status_id gender income_type  debt  total_income  \\\n",
              "0            married                 0      F    employee     0     40620.102   \n",
              "1            married                 0      F    employee     0     17932.802   \n",
              "2            married                 0      M    employee     0     23341.752   \n",
              "3            married                 0      M    employee     0     42820.568   \n",
              "4  civil partnership                 1      F     retiree     0     25378.572   \n",
              "\n",
              "           purpose  age_category    purpose_category children_category  \\\n",
              "0  buy/renov house  dewasa akhir    kebutuhan primer    mempunyai anak   \n",
              "1          buy car  dewasa akhir  kebutuhan sekunder    mempunyai anak   \n",
              "2  buy/renov house   dewasa awal    kebutuhan primer         childless   \n",
              "3        education   dewasa awal    kebutuhan primer    mempunyai anak   \n",
              "4          wedding    paruh baya    kebutuhan primer         childless   \n",
              "\n",
              "  total_income_category  \n",
              "0            kelas atas  \n",
              "1        kelas menengah  \n",
              "2        kelas menengah  \n",
              "3            kelas atas  \n",
              "4        kelas menengah  "
            ]
          },
          "execution_count": 159,
          "metadata": {},
          "output_type": "execute_result"
        }
      ],
      "source": [
        "df.head()"
      ]
    },
    {
      "cell_type": "code",
      "execution_count": null,
      "metadata": {
        "id": "VAkRQ_sjAKHb"
      },
      "outputs": [],
      "source": [
        "# Membuat family_status menjadi 2 kategori agar terlihat lebih simple dan dapat diperlihatkan pada pivot selanjutnya\n",
        "\n",
        "def kategori_family_status (row):\n",
        "    \n",
        "    family_status = row['family_status']\n",
        "    \n",
        "    if family_status == 'civil partnership':\n",
        "        return 'belum menikah'\n",
        "    elif family_status == 'divorced':\n",
        "        return 'pernah/sedang menikah'\n",
        "    elif family_status == 'married':\n",
        "        return 'pernah/sedang menikah'\n",
        "    elif family_status == 'unmarried':\n",
        "        return 'belum menikah'\n",
        "    else:\n",
        "        return 'pernah/sedang menikah'\n",
        "    "
      ]
    },
    {
      "cell_type": "code",
      "execution_count": null,
      "metadata": {
        "id": "qNL__MOjAKHb"
      },
      "outputs": [],
      "source": [
        "# Menyederhanakan purpose_category menjadi 2 kategori agar terlihat lebih simple dan dapat diperlihatkan pada pivot selanjutnya\n",
        "\n",
        "def kategori_baru_purpose (row):\n",
        "    \n",
        "    purpose_category = row['purpose_category']\n",
        "    \n",
        "    if purpose_category == 'kebutuhan tersier':\n",
        "        return 'kebutuhan sekunder'\n",
        "    else:\n",
        "        return purpose_category\n",
        "    "
      ]
    },
    {
      "cell_type": "code",
      "execution_count": null,
      "metadata": {
        "scrolled": true,
        "id": "ko8rm4HWAKHc"
      },
      "outputs": [],
      "source": [
        "# Apply fungsi kategori_baru_purpose\n",
        "\n",
        "df['purpose_new_category'] = df.apply(kategori_baru_purpose, axis = 1)"
      ]
    },
    {
      "cell_type": "code",
      "execution_count": null,
      "metadata": {
        "id": "CTrH-vXTAKHc"
      },
      "outputs": [],
      "source": [
        "# Apply fungsi kategori_family_status\n",
        "\n",
        "df['family_category'] = df.apply(kategori_family_status, axis = 1)"
      ]
    },
    {
      "cell_type": "code",
      "execution_count": null,
      "metadata": {
        "scrolled": false,
        "id": "YRGS_NzbAKHd",
        "outputId": "d46da031-a860-453c-e2a8-1a64d8359b92"
      },
      "outputs": [
        {
          "data": {
            "text/html": [
              "<div>\n",
              "<style scoped>\n",
              "    .dataframe tbody tr th:only-of-type {\n",
              "        vertical-align: middle;\n",
              "    }\n",
              "\n",
              "    .dataframe tbody tr th {\n",
              "        vertical-align: top;\n",
              "    }\n",
              "\n",
              "    .dataframe thead th {\n",
              "        text-align: right;\n",
              "    }\n",
              "</style>\n",
              "<table border=\"1\" class=\"dataframe\">\n",
              "  <thead>\n",
              "    <tr style=\"text-align: right;\">\n",
              "      <th></th>\n",
              "      <th>children</th>\n",
              "      <th>days_employed</th>\n",
              "      <th>dob_years</th>\n",
              "      <th>education</th>\n",
              "      <th>education_id</th>\n",
              "      <th>family_status</th>\n",
              "      <th>family_status_id</th>\n",
              "      <th>gender</th>\n",
              "      <th>income_type</th>\n",
              "      <th>debt</th>\n",
              "      <th>total_income</th>\n",
              "      <th>purpose</th>\n",
              "      <th>age_category</th>\n",
              "      <th>purpose_category</th>\n",
              "      <th>children_category</th>\n",
              "      <th>total_income_category</th>\n",
              "      <th>purpose_new_category</th>\n",
              "      <th>family_category</th>\n",
              "    </tr>\n",
              "  </thead>\n",
              "  <tbody>\n",
              "    <tr>\n",
              "      <th>0</th>\n",
              "      <td>1</td>\n",
              "      <td>8437</td>\n",
              "      <td>42</td>\n",
              "      <td>bachelor's degree</td>\n",
              "      <td>0</td>\n",
              "      <td>married</td>\n",
              "      <td>0</td>\n",
              "      <td>F</td>\n",
              "      <td>employee</td>\n",
              "      <td>0</td>\n",
              "      <td>40620.102</td>\n",
              "      <td>buy/renov house</td>\n",
              "      <td>dewasa akhir</td>\n",
              "      <td>kebutuhan primer</td>\n",
              "      <td>mempunyai anak</td>\n",
              "      <td>kelas atas</td>\n",
              "      <td>kebutuhan primer</td>\n",
              "      <td>pernah/sedang menikah</td>\n",
              "    </tr>\n",
              "    <tr>\n",
              "      <th>1</th>\n",
              "      <td>1</td>\n",
              "      <td>4024</td>\n",
              "      <td>36</td>\n",
              "      <td>secondary education</td>\n",
              "      <td>1</td>\n",
              "      <td>married</td>\n",
              "      <td>0</td>\n",
              "      <td>F</td>\n",
              "      <td>employee</td>\n",
              "      <td>0</td>\n",
              "      <td>17932.802</td>\n",
              "      <td>buy car</td>\n",
              "      <td>dewasa akhir</td>\n",
              "      <td>kebutuhan sekunder</td>\n",
              "      <td>mempunyai anak</td>\n",
              "      <td>kelas menengah</td>\n",
              "      <td>kebutuhan sekunder</td>\n",
              "      <td>pernah/sedang menikah</td>\n",
              "    </tr>\n",
              "    <tr>\n",
              "      <th>2</th>\n",
              "      <td>0</td>\n",
              "      <td>5623</td>\n",
              "      <td>33</td>\n",
              "      <td>secondary education</td>\n",
              "      <td>1</td>\n",
              "      <td>married</td>\n",
              "      <td>0</td>\n",
              "      <td>M</td>\n",
              "      <td>employee</td>\n",
              "      <td>0</td>\n",
              "      <td>23341.752</td>\n",
              "      <td>buy/renov house</td>\n",
              "      <td>dewasa awal</td>\n",
              "      <td>kebutuhan primer</td>\n",
              "      <td>childless</td>\n",
              "      <td>kelas menengah</td>\n",
              "      <td>kebutuhan primer</td>\n",
              "      <td>pernah/sedang menikah</td>\n",
              "    </tr>\n",
              "    <tr>\n",
              "      <th>3</th>\n",
              "      <td>3</td>\n",
              "      <td>4124</td>\n",
              "      <td>32</td>\n",
              "      <td>secondary education</td>\n",
              "      <td>1</td>\n",
              "      <td>married</td>\n",
              "      <td>0</td>\n",
              "      <td>M</td>\n",
              "      <td>employee</td>\n",
              "      <td>0</td>\n",
              "      <td>42820.568</td>\n",
              "      <td>education</td>\n",
              "      <td>dewasa awal</td>\n",
              "      <td>kebutuhan primer</td>\n",
              "      <td>mempunyai anak</td>\n",
              "      <td>kelas atas</td>\n",
              "      <td>kebutuhan primer</td>\n",
              "      <td>pernah/sedang menikah</td>\n",
              "    </tr>\n",
              "    <tr>\n",
              "      <th>4</th>\n",
              "      <td>0</td>\n",
              "      <td>2774</td>\n",
              "      <td>53</td>\n",
              "      <td>secondary education</td>\n",
              "      <td>1</td>\n",
              "      <td>civil partnership</td>\n",
              "      <td>1</td>\n",
              "      <td>F</td>\n",
              "      <td>retiree</td>\n",
              "      <td>0</td>\n",
              "      <td>25378.572</td>\n",
              "      <td>wedding</td>\n",
              "      <td>paruh baya</td>\n",
              "      <td>kebutuhan primer</td>\n",
              "      <td>childless</td>\n",
              "      <td>kelas menengah</td>\n",
              "      <td>kebutuhan primer</td>\n",
              "      <td>belum menikah</td>\n",
              "    </tr>\n",
              "  </tbody>\n",
              "</table>\n",
              "</div>"
            ],
            "text/plain": [
              "   children  days_employed  dob_years            education  education_id  \\\n",
              "0         1           8437         42    bachelor's degree             0   \n",
              "1         1           4024         36  secondary education             1   \n",
              "2         0           5623         33  secondary education             1   \n",
              "3         3           4124         32  secondary education             1   \n",
              "4         0           2774         53  secondary education             1   \n",
              "\n",
              "       family_status  family_status_id gender income_type  debt  total_income  \\\n",
              "0            married                 0      F    employee     0     40620.102   \n",
              "1            married                 0      F    employee     0     17932.802   \n",
              "2            married                 0      M    employee     0     23341.752   \n",
              "3            married                 0      M    employee     0     42820.568   \n",
              "4  civil partnership                 1      F     retiree     0     25378.572   \n",
              "\n",
              "           purpose  age_category    purpose_category children_category  \\\n",
              "0  buy/renov house  dewasa akhir    kebutuhan primer    mempunyai anak   \n",
              "1          buy car  dewasa akhir  kebutuhan sekunder    mempunyai anak   \n",
              "2  buy/renov house   dewasa awal    kebutuhan primer         childless   \n",
              "3        education   dewasa awal    kebutuhan primer    mempunyai anak   \n",
              "4          wedding    paruh baya    kebutuhan primer         childless   \n",
              "\n",
              "  total_income_category purpose_new_category        family_category  \n",
              "0            kelas atas     kebutuhan primer  pernah/sedang menikah  \n",
              "1        kelas menengah   kebutuhan sekunder  pernah/sedang menikah  \n",
              "2        kelas menengah     kebutuhan primer  pernah/sedang menikah  \n",
              "3            kelas atas     kebutuhan primer  pernah/sedang menikah  \n",
              "4        kelas menengah     kebutuhan primer          belum menikah  "
            ]
          },
          "execution_count": 164,
          "metadata": {},
          "output_type": "execute_result"
        }
      ],
      "source": [
        "df.head()"
      ]
    },
    {
      "cell_type": "markdown",
      "metadata": {
        "id": "AstLHynGAKHd"
      },
      "source": [
        "**Disini saya akan membuat pivot dengan semua pertanyaan dari tugas akhir sprint ini sebagai parameternya untuk melihat sebuah pola**"
      ]
    },
    {
      "cell_type": "code",
      "execution_count": null,
      "metadata": {
        "scrolled": false,
        "id": "aXZn99f4AKHd"
      },
      "outputs": [],
      "source": [
        "tabel_pivot_kompleks = pd.pivot_table(df, index = 'total_income_category', \n",
        "                        columns = ['family_category','children_category','purpose_new_category','debt'], \n",
        "                        values = 'total_income', aggfunc= 'count', margins = True)\n"
      ]
    },
    {
      "cell_type": "markdown",
      "metadata": {
        "id": "eKeHn3ezAKHd"
      },
      "source": [
        "**Alasan kenapa ada beberapa kategori yang disederhanakan adalah agar pivot tabel ini dapat ditampilkan secara baik karena apabila kolom dari dataframe melebihi threshold maka kolom dari dataframe tersebut akan ditampilkan sebagiannya saja (program akan menampilkan '...' jika kolom terlalu banyak)**"
      ]
    },
    {
      "cell_type": "code",
      "execution_count": null,
      "metadata": {
        "scrolled": true,
        "id": "IfJmRU2qAKHd",
        "outputId": "a61d4769-8bb3-45a6-a7d2-942fb2704249"
      },
      "outputs": [
        {
          "data": {
            "text/html": [
              "<div>\n",
              "<style scoped>\n",
              "    .dataframe tbody tr th:only-of-type {\n",
              "        vertical-align: middle;\n",
              "    }\n",
              "\n",
              "    .dataframe tbody tr th {\n",
              "        vertical-align: top;\n",
              "    }\n",
              "\n",
              "    .dataframe thead tr th {\n",
              "        text-align: left;\n",
              "    }\n",
              "\n",
              "    .dataframe thead tr:last-of-type th {\n",
              "        text-align: right;\n",
              "    }\n",
              "</style>\n",
              "<table border=\"1\" class=\"dataframe\">\n",
              "  <thead>\n",
              "    <tr>\n",
              "      <th>family_category</th>\n",
              "      <th colspan=\"8\" halign=\"left\">belum menikah</th>\n",
              "      <th colspan=\"8\" halign=\"left\">pernah/sedang menikah</th>\n",
              "      <th>All</th>\n",
              "    </tr>\n",
              "    <tr>\n",
              "      <th>children_category</th>\n",
              "      <th colspan=\"4\" halign=\"left\">childless</th>\n",
              "      <th colspan=\"4\" halign=\"left\">mempunyai anak</th>\n",
              "      <th colspan=\"4\" halign=\"left\">childless</th>\n",
              "      <th colspan=\"4\" halign=\"left\">mempunyai anak</th>\n",
              "      <th></th>\n",
              "    </tr>\n",
              "    <tr>\n",
              "      <th>purpose_new_category</th>\n",
              "      <th colspan=\"2\" halign=\"left\">kebutuhan primer</th>\n",
              "      <th colspan=\"2\" halign=\"left\">kebutuhan sekunder</th>\n",
              "      <th colspan=\"2\" halign=\"left\">kebutuhan primer</th>\n",
              "      <th colspan=\"2\" halign=\"left\">kebutuhan sekunder</th>\n",
              "      <th colspan=\"2\" halign=\"left\">kebutuhan primer</th>\n",
              "      <th colspan=\"2\" halign=\"left\">kebutuhan sekunder</th>\n",
              "      <th colspan=\"2\" halign=\"left\">kebutuhan primer</th>\n",
              "      <th colspan=\"2\" halign=\"left\">kebutuhan sekunder</th>\n",
              "      <th></th>\n",
              "    </tr>\n",
              "    <tr>\n",
              "      <th>debt</th>\n",
              "      <th>0</th>\n",
              "      <th>1</th>\n",
              "      <th>0</th>\n",
              "      <th>1</th>\n",
              "      <th>0</th>\n",
              "      <th>1</th>\n",
              "      <th>0</th>\n",
              "      <th>1</th>\n",
              "      <th>0</th>\n",
              "      <th>1</th>\n",
              "      <th>0</th>\n",
              "      <th>1</th>\n",
              "      <th>0</th>\n",
              "      <th>1</th>\n",
              "      <th>0</th>\n",
              "      <th>1</th>\n",
              "      <th></th>\n",
              "    </tr>\n",
              "    <tr>\n",
              "      <th>total_income_category</th>\n",
              "      <th></th>\n",
              "      <th></th>\n",
              "      <th></th>\n",
              "      <th></th>\n",
              "      <th></th>\n",
              "      <th></th>\n",
              "      <th></th>\n",
              "      <th></th>\n",
              "      <th></th>\n",
              "      <th></th>\n",
              "      <th></th>\n",
              "      <th></th>\n",
              "      <th></th>\n",
              "      <th></th>\n",
              "      <th></th>\n",
              "      <th></th>\n",
              "      <th></th>\n",
              "    </tr>\n",
              "  </thead>\n",
              "  <tbody>\n",
              "    <tr>\n",
              "      <th>kelas atas</th>\n",
              "      <td>750</td>\n",
              "      <td>60</td>\n",
              "      <td>519</td>\n",
              "      <td>51</td>\n",
              "      <td>320</td>\n",
              "      <td>22</td>\n",
              "      <td>174</td>\n",
              "      <td>26</td>\n",
              "      <td>932</td>\n",
              "      <td>56</td>\n",
              "      <td>1349</td>\n",
              "      <td>99</td>\n",
              "      <td>567</td>\n",
              "      <td>48</td>\n",
              "      <td>873</td>\n",
              "      <td>74</td>\n",
              "      <td>5920</td>\n",
              "    </tr>\n",
              "    <tr>\n",
              "      <th>kelas bawah</th>\n",
              "      <td>105</td>\n",
              "      <td>5</td>\n",
              "      <td>73</td>\n",
              "      <td>4</td>\n",
              "      <td>40</td>\n",
              "      <td>2</td>\n",
              "      <td>15</td>\n",
              "      <td>2</td>\n",
              "      <td>188</td>\n",
              "      <td>8</td>\n",
              "      <td>264</td>\n",
              "      <td>20</td>\n",
              "      <td>74</td>\n",
              "      <td>3</td>\n",
              "      <td>109</td>\n",
              "      <td>14</td>\n",
              "      <td>926</td>\n",
              "    </tr>\n",
              "    <tr>\n",
              "      <th>kelas menengah</th>\n",
              "      <td>1829</td>\n",
              "      <td>187</td>\n",
              "      <td>1277</td>\n",
              "      <td>132</td>\n",
              "      <td>786</td>\n",
              "      <td>103</td>\n",
              "      <td>411</td>\n",
              "      <td>68</td>\n",
              "      <td>2355</td>\n",
              "      <td>189</td>\n",
              "      <td>3387</td>\n",
              "      <td>252</td>\n",
              "      <td>1388</td>\n",
              "      <td>129</td>\n",
              "      <td>1928</td>\n",
              "      <td>187</td>\n",
              "      <td>14608</td>\n",
              "    </tr>\n",
              "    <tr>\n",
              "      <th>All</th>\n",
              "      <td>2684</td>\n",
              "      <td>252</td>\n",
              "      <td>1869</td>\n",
              "      <td>187</td>\n",
              "      <td>1146</td>\n",
              "      <td>127</td>\n",
              "      <td>600</td>\n",
              "      <td>96</td>\n",
              "      <td>3475</td>\n",
              "      <td>253</td>\n",
              "      <td>5000</td>\n",
              "      <td>371</td>\n",
              "      <td>2029</td>\n",
              "      <td>180</td>\n",
              "      <td>2910</td>\n",
              "      <td>275</td>\n",
              "      <td>21454</td>\n",
              "    </tr>\n",
              "  </tbody>\n",
              "</table>\n",
              "</div>"
            ],
            "text/plain": [
              "family_category          belum menikah                               \\\n",
              "children_category            childless                                \n",
              "purpose_new_category  kebutuhan primer      kebutuhan sekunder        \n",
              "debt                                 0    1                  0    1   \n",
              "total_income_category                                                 \n",
              "kelas atas                         750   60                519   51   \n",
              "kelas bawah                        105    5                 73    4   \n",
              "kelas menengah                    1829  187               1277  132   \n",
              "All                               2684  252               1869  187   \n",
              "\n",
              "family_category                                                     \\\n",
              "children_category       mempunyai anak                               \n",
              "purpose_new_category  kebutuhan primer      kebutuhan sekunder       \n",
              "debt                                 0    1                  0   1   \n",
              "total_income_category                                                \n",
              "kelas atas                         320   22                174  26   \n",
              "kelas bawah                         40    2                 15   2   \n",
              "kelas menengah                     786  103                411  68   \n",
              "All                               1146  127                600  96   \n",
              "\n",
              "family_category       pernah/sedang menikah                               \\\n",
              "children_category                 childless                                \n",
              "purpose_new_category       kebutuhan primer      kebutuhan sekunder        \n",
              "debt                                      0    1                  0    1   \n",
              "total_income_category                                                      \n",
              "kelas atas                              932   56               1349   99   \n",
              "kelas bawah                             188    8                264   20   \n",
              "kelas menengah                         2355  189               3387  252   \n",
              "All                                    3475  253               5000  371   \n",
              "\n",
              "family_category                                                        All  \n",
              "children_category       mempunyai anak                                      \n",
              "purpose_new_category  kebutuhan primer      kebutuhan sekunder              \n",
              "debt                                 0    1                  0    1         \n",
              "total_income_category                                                       \n",
              "kelas atas                         567   48                873   74   5920  \n",
              "kelas bawah                         74    3                109   14    926  \n",
              "kelas menengah                    1388  129               1928  187  14608  \n",
              "All                               2029  180               2910  275  21454  "
            ]
          },
          "execution_count": 166,
          "metadata": {},
          "output_type": "execute_result"
        }
      ],
      "source": [
        "# Show pivot\n",
        "\n",
        "tabel_pivot_kompleks"
      ]
    },
    {
      "cell_type": "code",
      "execution_count": null,
      "metadata": {
        "id": "ZTNvOKF6AKHe",
        "outputId": "ac60c345-2f95-4bbd-c395-d9a05bc76734"
      },
      "outputs": [
        {
          "name": "stdout",
          "output_type": "stream",
          "text": [
            "<class 'pandas.core.frame.DataFrame'>\n",
            "Int64Index: 21454 entries, 0 to 21524\n",
            "Data columns (total 18 columns):\n",
            " #   Column                 Non-Null Count  Dtype  \n",
            "---  ------                 --------------  -----  \n",
            " 0   children               21454 non-null  int64  \n",
            " 1   days_employed          21454 non-null  int64  \n",
            " 2   dob_years              21454 non-null  int64  \n",
            " 3   education              21454 non-null  object \n",
            " 4   education_id           21454 non-null  int64  \n",
            " 5   family_status          21454 non-null  object \n",
            " 6   family_status_id       21454 non-null  int64  \n",
            " 7   gender                 21454 non-null  object \n",
            " 8   income_type            21454 non-null  object \n",
            " 9   debt                   21454 non-null  int64  \n",
            " 10  total_income           21454 non-null  float64\n",
            " 11  purpose                21454 non-null  object \n",
            " 12  age_category           21454 non-null  object \n",
            " 13  purpose_category       21454 non-null  object \n",
            " 14  children_category      21454 non-null  object \n",
            " 15  total_income_category  21454 non-null  object \n",
            " 16  purpose_new_category   21454 non-null  object \n",
            " 17  family_category        21454 non-null  object \n",
            "dtypes: float64(1), int64(6), object(11)\n",
            "memory usage: 3.1+ MB\n"
          ]
        }
      ],
      "source": [
        "df.info()"
      ]
    },
    {
      "cell_type": "markdown",
      "metadata": {
        "id": "vzl3GFt9AKHe"
      },
      "source": [
        "lihat kolom all (600 96)\n",
        "\n",
        "Persentase gagal pelunasan terbesar terdapat pada nasabah dengan kriteria sebagai berikut:\n",
        "\n",
        "**family_category = belum menikah**\n",
        "\n",
        "**children_category = mempunyai anak**\n",
        "\n",
        "**purpose_category = kebutuhan sekunder**\n",
        "\n",
        "hal ini terjadi di semua variable total_income_category"
      ]
    },
    {
      "cell_type": "markdown",
      "metadata": {
        "id": "ph9r9J3dAKHe"
      },
      "source": [
        "# Kesimpulan umum \n",
        "\n"
      ]
    },
    {
      "cell_type": "markdown",
      "metadata": {
        "id": "HOnrMTM7AKHe"
      },
      "source": [
        "---------------------------\n",
        "\n",
        "Setelah beberapa penelusuran pada awal pengolahan data dari tugas akhir ini,\n",
        "daya menyimpulkan bahwa nilai yang hilang adalah secara random\n",
        "dan nantinya akan diisi dengan nilai mean/median dari data yang tersedia\n",
        "\n",
        "**TRANSFORMASI DATA**\n",
        "\n",
        "**Pada kolom education**\n",
        "1. membuat semua isi dari kolom education menjadi lowercase\n",
        "Hal ini dilakukan karena ada beberapa variable yang sama tetapi capital sensitive\n",
        "maka dari ini semua isi kolom ini dibuat lowercase\n",
        "\n",
        "**Pada kolom children**\n",
        "1. mengisi nilai 20 pada kolom anak dengan nilai 20\n",
        "2. mengisi nilai -1 pada kolom anak dengan mean dari seluruh children\n",
        "Hal ini dilakukan karena menurut pengamatan saya bahwa angka ini merupakan kesalahan input\n",
        "\n",
        "**Pada kolom days_employed**\n",
        "1. Menyimpulkan bahwa nilai <0 adalah nilai yang benar lalu dilakukan abs pada nilai <0\n",
        "2. Menyimpulkan bahwa nilai >= 0 semuanya adalah nilai yang tidak wajar karena nilai ini dimulai pada angka 300000\n",
        "3. Membuat semua nilai yang diatas >300000 tadi menjadi 0 Lalu nanti nilainya akan diganti sekalian dengan nilai null\n",
        "4. Kolom days_employed yang berisi 0 dan null di replace dengan mean days_employed dengan kolom 'age_category' sebagai acuan\n",
        "\n",
        "**Pada kolom dob_years**\n",
        "1. Mengganti nilai 0 menjadi nilai median dari dob_years tetapi dengan parameter income_type sebagai acuan dalam mendapatkan angka median ini agar data yang diperoleh tidak liar\n",
        "\n",
        "\n",
        "**Pada kolom gender**\n",
        "1. Terdapat 1 nilai XNA lalu nilai ini dirubah menjadi F\n",
        "Nilai ini dirubah menjadi F karena setelah dilakukan pengamatan lebih lanjut dengan kasus serupa, dapat simpulkan bahwa karakteristik dari baris XNA ini adalah F\n",
        "\n",
        "\n",
        "**Pada baris duplicated**\n",
        "1. Dilakukan proses drop_duplicates\n",
        "\n",
        "**Pada kolom total_income**\n",
        "1.Mengganti semua nilai null dengan kolom dob_years & kolom income_type sebagai acuan agar total_income lebih akurat\n",
        "\n",
        "\n",
        "**Pada kolom purpose**\n",
        "1. Dilakukan penyederhanaan agar menjadi lebih mudah di proses\n",
        "\n",
        "------------------------------"
      ]
    },
    {
      "cell_type": "markdown",
      "metadata": {
        "id": "7m72793TAKHf"
      },
      "source": [
        "------------------------------------\n",
        "\n",
        "**PENGOLAHAN DATA**\n",
        "\n",
        "Dilakukan pengkategorian data sebagai berikut:\n",
        "\n",
        "**Pengkategorian kolom purpose**\n",
        "\n",
        "**Pengkategorian kolom children**\n",
        "\n",
        "**Pengkategorian kolom total_income**\n",
        "\n",
        "\n",
        "**Apakah ada hubungannya antara memiliki anak dan ketepatan waktu dalam melunasi pinjaman?**\n",
        "\n",
        "Jawab : nasabah yang tidak memiliki anak meningkatkan tingkat keberhasilannya membayar hutang sebesar 22% \n",
        "dibanding jika nasabah tersebut memiliki anak\n",
        "\n",
        "**Apakah ada hubungannya antara status perkawinan dan ketepatan waktu dalam melunasi pinjaman?**\n",
        "\n",
        "Jawab: Kesimpulan saya adalah nasabah yang 'belum menikah' memiliki kecenderungan untuk gagal membayar hutang lebih tinggi \n",
        "daripada nasabah yang 'pernah/masih menikah'\n",
        "\n",
        "**Apakah ada hubungannya antara tingkat pendapatan dan ketepatan waktu dalam melunasi pinjaman?**\n",
        "\n",
        "Jawab: nasabah dengan penghasilan kelas menengah dan kelas atas merupakan kategori terbanyak dalam gagal membayar hutang\n",
        "Dan kelas bawah merupakan nasabah dengan rate terendah dalam gagal membayar hutang yaitu sebanyak 6.2% dari total 926 nasabah kelas bawah\n",
        "\n",
        "**Bagaimana perbedaan tujuan pinjaman memengaruhi ketepatan waktu dalam melunasi pinjaman?**\n",
        "\n",
        "Jawab: Jawaban ini bersifat sementara karena di cell selanjutnya saya akan melakukan modifikasi lagi pada kategori ini dan juga pada beberapa kategori lainnya\n",
        "Tujuan kredit dengan kebutuhan sekunder yaitu membeli mobil berada pada tingkat tertinggi dengan persentase kegagalan sebesar 9.3% dari total nasabah yang mengajukan kredit untuk kategori kebutuhan sekunder\n",
        "\n",
        "\n",
        "**MODIFIKASI DATA LEBIH LANJUT**\n",
        "\n",
        "Saya akan membuat pivot dengan semua pertanyaan dari tugas akhir sprint ini sebagai parameternya untuk melihat sebuah pola\n",
        "Alasan kenapa ada beberapa kategori yang disederhanakan adalah agar pivot tabel ini dapat ditampilkan secara baik karena apabila kolom dari dataframe melebihi threshold maka kolom dari dataframe tersebut akan ditampilkan sebagiannya saja (program akan menampilkan '...' jika kolom terlalu banyak)\n",
        "\n",
        "**Pada pivot baru ini saya melihat persentase gagal pelunasan yang tinggi pada:**\n",
        "**family_category = belum menikah**\n",
        "**children_category = mempunyai anak**\n",
        "**purpose_category = kebutuhan sekunder**\n",
        "\n",
        "Kategori ini lebih menonjol dengan persentase kegagalan membayarnya diatas rata-rata persentase gagal membayar pada umumnya\n",
        "\n",
        "**Jadi untuk menjawab pertanyaan keseluruhan:**\n",
        "\n",
        "Nasabah yang mempunyai anak, belum menikah dan bertujuan untuk kredit pada kebutuhan sekunder cenderung gagal membayar kredit ketimbang kategori lainnya.\n",
        "Hal ini berlaku pada semua category_total_income. Maka itu kesimpulan saya total_income ini bukan sebuah faktor apakah nasabah akan gagal membayar kredit atau tidak\n",
        "\n",
        "-----------------------"
      ]
    },
    {
      "cell_type": "markdown",
      "metadata": {
        "id": "1hAiuYfSAKHf"
      },
      "source": [
        "\n",
        "**Nov 5th 2022**\n",
        "\n",
        "**Project akhir v.2 DONE**\n"
      ]
    },
    {
      "cell_type": "code",
      "execution_count": null,
      "metadata": {
        "id": "TNaKA2KgAKHg"
      },
      "outputs": [],
      "source": []
    }
  ],
  "metadata": {
    "ExecuteTimeLog": [
      {
        "duration": 2741,
        "start_time": "2021-10-21T01:08:49.480Z"
      },
      {
        "duration": 52,
        "start_time": "2021-10-21T01:08:53.315Z"
      },
      {
        "duration": 49,
        "start_time": "2021-10-21T01:08:57.432Z"
      },
      {
        "duration": 70,
        "start_time": "2021-10-21T01:09:07.706Z"
      }
    ],
    "kernelspec": {
      "display_name": "Python 3 (ipykernel)",
      "language": "python",
      "name": "python3"
    },
    "language_info": {
      "codemirror_mode": {
        "name": "ipython",
        "version": 3
      },
      "file_extension": ".py",
      "mimetype": "text/x-python",
      "name": "python",
      "nbconvert_exporter": "python",
      "pygments_lexer": "ipython3",
      "version": "3.9.5"
    },
    "toc": {
      "base_numbering": 1,
      "nav_menu": {},
      "number_sections": true,
      "sideBar": true,
      "skip_h1_title": true,
      "title_cell": "Table of Contents",
      "title_sidebar": "Contents",
      "toc_cell": false,
      "toc_position": {},
      "toc_section_display": true,
      "toc_window_display": false
    },
    "vscode": {
      "interpreter": {
        "hash": "ef1728426330606e01c1da091626d7dbd7604032247e9790b44969d857c4f729"
      }
    },
    "colab": {
      "provenance": [],
      "collapsed_sections": []
    }
  },
  "nbformat": 4,
  "nbformat_minor": 0
}